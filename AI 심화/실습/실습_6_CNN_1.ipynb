{
  "nbformat": 4,
  "nbformat_minor": 0,
  "metadata": {
    "colab": {
      "name": "실습_6_CNN_1.ipynb",
      "provenance": [],
      "collapsed_sections": [],
      "toc_visible": true
    },
    "kernelspec": {
      "name": "python3",
      "display_name": "Python 3"
    }
  },
  "cells": [
    {
      "cell_type": "markdown",
      "metadata": {
        "id": "1ZbgG9yBMziQ",
        "colab_type": "text"
      },
      "source": [
        "#CNN #1"
      ]
    },
    {
      "cell_type": "code",
      "metadata": {
        "id": "VHSOO82gLgzc",
        "colab_type": "code",
        "colab": {}
      },
      "source": [
        "try:\n",
        "  %tensorflow_version 2.x\n",
        "except Exception:\n",
        "  pass\n",
        "\n",
        "import tensorflow as tf\n",
        "import numpy as np\n",
        "\n",
        "from tensorflow.keras.layers import Dense, Flatten, Dropout, Conv1D, Conv2D, BatchNormalization, Activation, MaxPooling2D, AveragePooling2D\n",
        "from tensorflow.keras import Model\n",
        "from tensorflow.keras.models import Sequential"
      ],
      "execution_count": 0,
      "outputs": []
    },
    {
      "cell_type": "markdown",
      "metadata": {
        "id": "qMd5owMuM6J7",
        "colab_type": "text"
      },
      "source": [
        "## ConvNet"
      ]
    },
    {
      "cell_type": "markdown",
      "metadata": {
        "id": "DI5X46jeLX64",
        "colab_type": "text"
      },
      "source": [
        "> Convolutional Layer의 작동 방식을 알아보자!"
      ]
    },
    {
      "cell_type": "markdown",
      "metadata": {
        "id": "VPXmg1VGUbVz",
        "colab_type": "text"
      },
      "source": [
        "### Conv1D"
      ]
    },
    {
      "cell_type": "code",
      "metadata": {
        "id": "dF1ByqYqmZP1",
        "colab_type": "code",
        "colab": {}
      },
      "source": [
        "# 6 timestep을 가진 128 길이의 벡터\n",
        "# model_conv1.input_shape == (None, 6, 128)\n",
        "\n",
        "input_ = tf.random.uniform((1, 6, 128))\n",
        "conv1d = Conv1D(filters=32, kernel_size=3)"
      ],
      "execution_count": 0,
      "outputs": []
    },
    {
      "cell_type": "code",
      "metadata": {
        "id": "ZpqxHafWm4ws",
        "colab_type": "code",
        "colab": {}
      },
      "source": [
        "print(input_.shape)\n",
        "print(conv1d(input_).shape)"
      ],
      "execution_count": 0,
      "outputs": []
    },
    {
      "cell_type": "code",
      "metadata": {
        "id": "bR5J-ySORr-D",
        "colab_type": "code",
        "colab": {}
      },
      "source": [
        "# 6 timestep을 가진 128 길이의 벡터\n",
        "# model_conv1.input_shape == (None, 6, 128)\n",
        "\n",
        "model_conv1 = Sequential()\n",
        "model_conv1.add(Conv1D(32, 3, input_shape=(6, 128)))"
      ],
      "execution_count": 0,
      "outputs": []
    },
    {
      "cell_type": "code",
      "metadata": {
        "id": "hT-FdvNtSHlq",
        "colab_type": "code",
        "colab": {}
      },
      "source": [
        "print(model_conv1.input_shape)"
      ],
      "execution_count": 0,
      "outputs": []
    },
    {
      "cell_type": "code",
      "metadata": {
        "id": "3bqB7U6mY7qz",
        "colab_type": "code",
        "colab": {}
      },
      "source": [
        "model_conv1.get_config()"
      ],
      "execution_count": 0,
      "outputs": []
    },
    {
      "cell_type": "markdown",
      "metadata": {
        "id": "WfxKUpwZdO11",
        "colab_type": "text"
      },
      "source": [
        "###<font color='red'>잠깐 !</font>\n",
        "> Output shape 계산식 : [(input_size-Kernel_size + padding*2)/stride] + 1 = output_size\n"
      ]
    },
    {
      "cell_type": "code",
      "metadata": {
        "id": "TR8ohydKNscM",
        "colab_type": "code",
        "colab": {}
      },
      "source": [
        "print(model_conv1.get_weights()) # same as model_conv1.variables\n",
        "print(model_conv1.get_weights()[0].shape) # Weights\n",
        "print(model_conv1.get_weights()[1].shape) # Bias"
      ],
      "execution_count": 0,
      "outputs": []
    },
    {
      "cell_type": "code",
      "metadata": {
        "id": "TvKDl23eZixA",
        "colab_type": "code",
        "colab": {}
      },
      "source": [
        "model_conv1.summary()"
      ],
      "execution_count": 0,
      "outputs": []
    },
    {
      "cell_type": "code",
      "metadata": {
        "id": "n15BgmZaZZ29",
        "colab_type": "code",
        "colab": {}
      },
      "source": [
        "tf.keras.utils.plot_model(model_conv1, show_shapes=True)"
      ],
      "execution_count": 0,
      "outputs": []
    },
    {
      "cell_type": "code",
      "metadata": {
        "id": "qAYmQpjslq_4",
        "colab_type": "code",
        "colab": {}
      },
      "source": [
        "conv1 = Conv1D(32, 3,input_shape=(6, 128))"
      ],
      "execution_count": 0,
      "outputs": []
    },
    {
      "cell_type": "code",
      "metadata": {
        "id": "GNMxyPGHlvdT",
        "colab_type": "code",
        "colab": {}
      },
      "source": [
        "input_ = tf.random.uniform((1, 6, 128))   # data 1건\n",
        "input_100 = tf.random.uniform((100, 6, 128))   # data 100건\n"
      ],
      "execution_count": 0,
      "outputs": []
    },
    {
      "cell_type": "code",
      "metadata": {
        "id": "qSAzDBKWmL7V",
        "colab_type": "code",
        "colab": {}
      },
      "source": [
        "print(input_.shape)\n",
        "print(conv1(input_).shape)\n",
        "\n",
        "# batch size가 달라져도 가능\n",
        "print(input_100.shape)\n",
        "print(conv1(input_100).shape)"
      ],
      "execution_count": 0,
      "outputs": []
    },
    {
      "cell_type": "markdown",
      "metadata": {
        "id": "hGSoUF1AUfdO",
        "colab_type": "text"
      },
      "source": [
        "###Conv2D"
      ]
    },
    {
      "cell_type": "code",
      "metadata": {
        "id": "L6KRsAT7VpDe",
        "colab_type": "code",
        "colab": {}
      },
      "source": [
        "model_conv2 = Sequential()\n",
        "model_conv2.add(Conv2D(10, kernel_size=3, input_shape=(28, 28, 1)))    # MNIST data : 가로세로 28픽셀, 회색조 이미지"
      ],
      "execution_count": 0,
      "outputs": []
    },
    {
      "cell_type": "code",
      "metadata": {
        "id": "g9KbEo_vVpJS",
        "colab_type": "code",
        "colab": {}
      },
      "source": [
        "print(model_conv2.input_shape)\n",
        "print(model_conv2.get_weights()[0].shape)\n",
        "print(model_conv2.get_weights()[1].shape)"
      ],
      "execution_count": 0,
      "outputs": []
    },
    {
      "cell_type": "markdown",
      "metadata": {
        "id": "1TzZDnsUWXKE",
        "colab_type": "text"
      },
      "source": [
        "###<font color='red'>잠깐 !</font>\n",
        "Output shape은 뭐가 될까?\n",
        "> Output shape 계산식 : [(input_size-Kernel_size + padding*2)/stride] + 1 = output_size\n"
      ]
    },
    {
      "cell_type": "code",
      "metadata": {
        "id": "JYMIUwmid0MF",
        "colab_type": "code",
        "colab": {}
      },
      "source": [
        "model_conv2.summary()"
      ],
      "execution_count": 0,
      "outputs": []
    },
    {
      "cell_type": "code",
      "metadata": {
        "id": "QuF5SfuAd2Km",
        "colab_type": "code",
        "colab": {}
      },
      "source": [
        "tf.keras.utils.plot_model(model_conv2, show_shapes=True)"
      ],
      "execution_count": 0,
      "outputs": []
    },
    {
      "cell_type": "markdown",
      "metadata": {
        "id": "0wkXt1VPWdBr",
        "colab_type": "text"
      },
      "source": [
        "\n",
        "### <font color='red'>MISSION 1</font>\n",
        "> input의 shape가 \"[None, 32, 32, 1]\"일 때\n",
        "> output의 shape가 '[None, 15, 15, 10]'가 되도록 Conv Layer를 만들어보자.\n",
        "> 이 때 사용해야 할 kernel size는 3 이다."
      ]
    },
    {
      "cell_type": "markdown",
      "metadata": {
        "id": "BkfDiQhHZBCT",
        "colab_type": "text"
      },
      "source": [
        "### <font color='red'>ANSWER 1</font>"
      ]
    },
    {
      "cell_type": "code",
      "metadata": {
        "id": "2XFOLfXrWhxD",
        "colab_type": "code",
        "colab": {}
      },
      "source": [
        "model_mission1 = Sequential()\n",
        "#### ANSWER #### \n",
        "\n",
        "#################\n",
        "print(model_mission1.output_shape)"
      ],
      "execution_count": 0,
      "outputs": []
    },
    {
      "cell_type": "markdown",
      "metadata": {
        "id": "RgrSEACoM-UD",
        "colab_type": "text"
      },
      "source": [
        "##MaxPool"
      ]
    },
    {
      "cell_type": "markdown",
      "metadata": {
        "id": "0Hemoa_heZ9_",
        "colab_type": "text"
      },
      "source": [
        "> Maxpool의 활용을 이해해봅시다!"
      ]
    },
    {
      "cell_type": "code",
      "metadata": {
        "id": "qbUnSfi4blYm",
        "colab_type": "code",
        "colab": {}
      },
      "source": [
        "model_mp1 = Sequential()\n",
        "model_mp1.add(MaxPooling2D(pool_size=(3, 3), input_shape=(15, 15, 3)))"
      ],
      "execution_count": 0,
      "outputs": []
    },
    {
      "cell_type": "code",
      "metadata": {
        "id": "nMCHG4DMfIdZ",
        "colab_type": "code",
        "colab": {}
      },
      "source": [
        "print(model_mp1.input_shape)\n",
        "print(model_mp1.output_shape)"
      ],
      "execution_count": 0,
      "outputs": []
    },
    {
      "cell_type": "code",
      "metadata": {
        "id": "zsC3q3rNf_Pc",
        "colab_type": "code",
        "colab": {}
      },
      "source": [
        "model_mp1 = Sequential()\n",
        "model_mp1.add(MaxPooling2D(pool_size=(3, 3), input_shape=(30, 30, 3)))"
      ],
      "execution_count": 0,
      "outputs": []
    },
    {
      "cell_type": "code",
      "metadata": {
        "id": "yTGEKZg9iDoV",
        "colab_type": "code",
        "colab": {}
      },
      "source": [
        "print(model_mp1.input_shape)\n",
        "print(model_mp1.output_shape)"
      ],
      "execution_count": 0,
      "outputs": []
    },
    {
      "cell_type": "code",
      "metadata": {
        "id": "5Qu2nC_0fvew",
        "colab_type": "code",
        "colab": {}
      },
      "source": [
        "model_mp2 = Sequential()\n",
        "model_mp2.add(MaxPooling2D(pool_size=(3, 3), strides=2, input_shape=(30, 30, 3)))"
      ],
      "execution_count": 0,
      "outputs": []
    },
    {
      "cell_type": "code",
      "metadata": {
        "id": "TMcrUMFrf4l3",
        "colab_type": "code",
        "colab": {}
      },
      "source": [
        "print(model_mp2.input_shape)\n",
        "print(model_mp2.output_shape)"
      ],
      "execution_count": 0,
      "outputs": []
    },
    {
      "cell_type": "markdown",
      "metadata": {
        "id": "2Z050czrNDHL",
        "colab_type": "text"
      },
      "source": [
        "##BatchNorm 2d"
      ]
    },
    {
      "cell_type": "code",
      "metadata": {
        "id": "JPv9I5zOtldt",
        "colab_type": "code",
        "colab": {}
      },
      "source": [
        "model_bn = Sequential()\n",
        "model_bn.add(BatchNormalization(input_shape=(40, 40, 100)))"
      ],
      "execution_count": 0,
      "outputs": []
    },
    {
      "cell_type": "markdown",
      "metadata": {
        "id": "VKSHQL-mNZq0",
        "colab_type": "text"
      },
      "source": [
        "##Build Network"
      ]
    },
    {
      "cell_type": "markdown",
      "metadata": {
        "id": "UNqY8gAiUy67",
        "colab_type": "text"
      },
      "source": [
        "# 실습 MISSION #9\n",
        "### CIFAR10 데이터가 입력된다고 가정하고 네트워크를 구성해보자\n",
        "\n",
        "CIFAR10 : 32 x 32 픽셀, RGB 컬러 이미지\n",
        "\n",
        "* 3x3 필터를 64장 적용하는 convolution layer 1 층\n",
        "* 2x2 pooling을 적용하는 MaxPool layer 1층\n",
        "* 3x3 필터를 128장 적용하는 convolution layer 1 층 (단 입력과 동일한 size가 되도록 padding을 하자)\n",
        "* 3x3 pooling을 적용하는 MaxPool layer 1층\n",
        "* 4x4 필터를 100장 적용하는 convolution layer 1 층 \n",
        "* 2x2 pooling을 적용하는 MaxPool layer 1층\n",
        "\n",
        "* 모든 conv layer의 activation function으로 ReLU를 활용할 것\n",
        "\n",
        "> output shape : (1, 1, 100)"
      ]
    },
    {
      "cell_type": "code",
      "metadata": {
        "id": "NRwMgDW750mI",
        "colab_type": "code",
        "colab": {}
      },
      "source": [
        "\n",
        "final_model1 = Sequential()\n",
        "\n",
        "# 여기에 mission 코드를 작성하세요\n",
        "\n",
        "final_model1.summary()"
      ],
      "execution_count": 0,
      "outputs": []
    },
    {
      "cell_type": "markdown",
      "metadata": {
        "id": "GTEhFEF27RKw",
        "colab_type": "text"
      },
      "source": [
        "# 실습 MISSION #10\n",
        "### 위 네트워크의 모든 Conv에 BatchNormalization 적용하기\n",
        "\n",
        "* 적용 순서는 CBAM (Conv-BatchNorm-Activation-MaxPool)\n",
        "* activation function으로는 ReLU를 이용한다\n",
        "\n",
        "> output shape : (1, 1, 100)"
      ]
    },
    {
      "cell_type": "code",
      "metadata": {
        "id": "lwqRMn9tnMPO",
        "colab_type": "code",
        "colab": {}
      },
      "source": [
        "# CIFAR10 : 32 x 32 픽셀, RGB 컬러 이미지\n",
        "\n",
        "final_model1 = Sequential()\n",
        "\n",
        "# 여기에 mission 코드를 작성하세요\n",
        "\n",
        "\n",
        "final_model1.summary()"
      ],
      "execution_count": 0,
      "outputs": []
    }
  ]
}