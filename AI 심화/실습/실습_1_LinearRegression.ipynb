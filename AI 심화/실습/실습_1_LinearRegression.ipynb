{
  "nbformat": 4,
  "nbformat_minor": 0,
  "metadata": {
    "colab": {
      "name": "실습_1_LinearRegression",
      "provenance": [],
      "private_outputs": true,
      "collapsed_sections": [],
      "toc_visible": true
    },
    "kernelspec": {
      "display_name": "Python 3",
      "language": "python",
      "name": "python3"
    }
  },
  "cells": [
    {
      "cell_type": "markdown",
      "metadata": {
        "id": "f_YzfZSPpth-",
        "colab_type": "text"
      },
      "source": [
        "이 문서는 [구글 코랩](https://colab.research.google.com/notebooks/welcome.ipynb)(Colaboratory) 노트북 파일입니다. 파이썬 프로그램을 브라우저에서 직접 실행할 수 있기 때문에 텐서플로를 배우고 사용하기 좋은 도구입니다:\n",
        "\n",
        "1. 파이썬 런타임(runtime)에 연결하세요: 메뉴 막대의 오른쪽 상단에서 *연결*을 선택하세요.\n",
        "2. 노트북의 모든 코드 셀(cell)을 실행하세요: *런타임* > *모두 실행*을 선택하세요."
      ]
    },
    {
      "cell_type": "markdown",
      "metadata": {
        "id": "kZVSNF-rkXqB",
        "colab_type": "text"
      },
      "source": [
        "# TensorFlow 이용하여 선형회귀모형 만들기"
      ]
    },
    {
      "cell_type": "code",
      "metadata": {
        "id": "r1Zo5fvzPiB0",
        "colab_type": "code",
        "colab": {}
      },
      "source": [
        "import tensorflow as tf\n",
        "import matplotlib.pyplot as plt"
      ],
      "execution_count": 0,
      "outputs": []
    },
    {
      "cell_type": "markdown",
      "metadata": {
        "id": "sCMSWV4lnpQV",
        "colab_type": "text"
      },
      "source": [
        "### 데이터 불러오기"
      ]
    },
    {
      "cell_type": "code",
      "metadata": {
        "id": "0528a5VDZA6F",
        "colab_type": "code",
        "colab": {}
      },
      "source": [
        "data = [[10, 75],[14, 77],[17, 86],[20, 84],[22, 92],[25, 90]]"
      ],
      "execution_count": 0,
      "outputs": []
    },
    {
      "cell_type": "code",
      "metadata": {
        "id": "BpYAS3pccSlc",
        "colab_type": "code",
        "colab": {}
      },
      "source": [
        "x_data = [lines[0] for lines in data]\n",
        "y_data = [lines[1] for lines in data] \n",
        "\n"
      ],
      "execution_count": 0,
      "outputs": []
    },
    {
      "cell_type": "code",
      "metadata": {
        "id": "apTlOSg_7vIp",
        "colab_type": "code",
        "colab": {}
      },
      "source": [
        "plt.scatter(x_data, y_data)\n",
        "plt.xlabel('study')\n",
        "plt.ylabel('score')  \n",
        "plt.show()"
      ],
      "execution_count": 0,
      "outputs": []
    },
    {
      "cell_type": "markdown",
      "metadata": {
        "id": "L86Zqrl6nwJH",
        "colab_type": "text"
      },
      "source": [
        "### tensorflow 활용하여 단순 선형회귀모델 구조 만들기\n"
      ]
    },
    {
      "cell_type": "code",
      "metadata": {
        "id": "_bqi-L4OPiH8",
        "colab_type": "code",
        "colab": {}
      },
      "source": [
        "model = tf.keras.Sequential([\n",
        "  tf.keras.layers.Dense(1, input_shape=[1]),\n",
        "])\n",
        "\n",
        "model.summary()"
      ],
      "execution_count": 0,
      "outputs": []
    },
    {
      "cell_type": "markdown",
      "metadata": {
        "id": "GTuCb3u_n6vc",
        "colab_type": "text"
      },
      "source": [
        "### weight / bias 초기화\n"
      ]
    },
    {
      "cell_type": "code",
      "metadata": {
        "id": "8t5CeKrI8Cd0",
        "colab_type": "code",
        "colab": {}
      },
      "source": [
        "model.weights"
      ],
      "execution_count": 0,
      "outputs": []
    },
    {
      "cell_type": "markdown",
      "metadata": {
        "id": "0xFVEtb7n_7M",
        "colab_type": "text"
      },
      "source": [
        "### 학습 이전의 모델 추론 결과 확인하기"
      ]
    },
    {
      "cell_type": "code",
      "metadata": {
        "id": "EelHNOu1PiNX",
        "colab_type": "code",
        "colab": {}
      },
      "source": [
        "example_result = model.predict(x_data)\n",
        "example_result"
      ],
      "execution_count": 0,
      "outputs": []
    },
    {
      "cell_type": "markdown",
      "metadata": {
        "id": "SpONUManoEGI",
        "colab_type": "text"
      },
      "source": [
        "### 모델 빌드 및 학습"
      ]
    },
    {
      "cell_type": "code",
      "metadata": {
        "id": "lWiDbKaUPiFv",
        "colab_type": "code",
        "colab": {}
      },
      "source": [
        "optimizer = tf.keras.optimizers.SGD(learning_rate=0.001, momentum=0.9)\n",
        "\n",
        "model.compile(loss='mse', optimizer=optimizer, metrics='mse')\n",
        "\n",
        "EPOCHS = 2000\n",
        "\n",
        "history = model.fit(x_data, y_data, epochs=EPOCHS, verbose=0)"
      ],
      "execution_count": 0,
      "outputs": []
    },
    {
      "cell_type": "markdown",
      "metadata": {
        "id": "kPwIMkUZoGR7",
        "colab_type": "text"
      },
      "source": [
        "### 학습 이후의 모델 추론 결과"
      ]
    },
    {
      "cell_type": "code",
      "metadata": {
        "id": "5deXP0TwSRjx",
        "colab_type": "code",
        "colab": {}
      },
      "source": [
        "y_predict = model.predict(x_data)\n",
        "y_predict"
      ],
      "execution_count": 0,
      "outputs": []
    },
    {
      "cell_type": "markdown",
      "metadata": {
        "id": "ufHOr2YMoL2r",
        "colab_type": "text"
      },
      "source": [
        "### 학습 경과 살피기"
      ]
    },
    {
      "cell_type": "code",
      "metadata": {
        "id": "eM7gARf2SRe8",
        "colab_type": "code",
        "colab": {}
      },
      "source": [
        "\n",
        "def plot_history(history):\n",
        " \n",
        "  plt.xlabel('Epoch')\n",
        "  plt.ylabel('Mean Square Error')\n",
        "  plt.plot(history.epoch, history.history['mse'], label='Train Error')  \n",
        "  plt.legend()\n",
        "  plt.show()\n",
        "\n",
        "plot_history(history)\n",
        " "
      ],
      "execution_count": 0,
      "outputs": []
    },
    {
      "cell_type": "markdown",
      "metadata": {
        "id": "HbhzmOtloOot",
        "colab_type": "text"
      },
      "source": [
        "### 학습된 weight/bias 파라미터 확인"
      ]
    },
    {
      "cell_type": "code",
      "metadata": {
        "id": "cvVcGz3bbyjO",
        "colab_type": "code",
        "colab": {}
      },
      "source": [
        "model.weights"
      ],
      "execution_count": 0,
      "outputs": []
    },
    {
      "cell_type": "markdown",
      "metadata": {
        "id": "sRkz3PBGoVG2",
        "colab_type": "text"
      },
      "source": [
        "### 학습된 선형회귀모델 확인"
      ]
    },
    {
      "cell_type": "code",
      "metadata": {
        "id": "1q5FWL_4dJz0",
        "colab_type": "code",
        "colab": {}
      },
      "source": [
        "plt.scatter(x_data, y_data)\n",
        "plt.xlabel('study')\n",
        "plt.ylabel('score')  \n",
        "plt.plot(x_data, y_predict, 'r--')\n",
        "plt.show()"
      ],
      "execution_count": 0,
      "outputs": []
    },
    {
      "cell_type": "code",
      "metadata": {
        "id": "nbuSitIJkjaF",
        "colab_type": "code",
        "colab": {}
      },
      "source": [
        ""
      ],
      "execution_count": 0,
      "outputs": []
    }
  ]
}