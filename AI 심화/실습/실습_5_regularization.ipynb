{
  "nbformat": 4,
  "nbformat_minor": 0,
  "metadata": {
    "colab": {
      "name": "실습_5_regularization",
      "provenance": [],
      "collapsed_sections": [],
      "toc_visible": true
    },
    "kernelspec": {
      "name": "python3",
      "display_name": "Python 3"
    },
    "accelerator": "GPU"
  },
  "cells": [
    {
      "cell_type": "code",
      "metadata": {
        "id": "VHSOO82gLgzc",
        "colab_type": "code",
        "colab": {}
      },
      "source": [
        "try:\n",
        "  %tensorflow_version 2.x\n",
        "except Exception:\n",
        "  pass\n",
        "\n",
        "import tensorflow as tf\n",
        "import numpy as np\n",
        "\n",
        "from tensorflow.keras.layers import Dense, Flatten, Activation\n",
        "from tensorflow.keras import Model\n",
        "from tensorflow.keras.models import Sequential"
      ],
      "execution_count": 0,
      "outputs": []
    },
    {
      "cell_type": "code",
      "metadata": {
        "id": "EfXpR2kdtPkO",
        "colab_type": "code",
        "colab": {}
      },
      "source": [
        "import matplotlib.pyplot as plt\n",
        "\n",
        "def plot_history(histories):\n",
        "  plt.figure(figsize=(9,6))\n",
        "\n",
        "  for history in histories:\n",
        "    plt.plot(history.epoch, history.history['accuracy'], label='training')\n",
        "    plt.plot(history.epoch, history.history['val_accuracy'], label='validation')\n",
        "\n",
        "  plt.xlabel('Epochs')\n",
        "  plt.ylabel('ACC')\n",
        "  plt.legend()\n",
        "\n",
        "  plt.xlim([0,max(history.epoch)])"
      ],
      "execution_count": 0,
      "outputs": []
    },
    {
      "cell_type": "markdown",
      "metadata": {
        "id": "3CpPRzPKCYh6",
        "colab_type": "text"
      },
      "source": [
        "MNIST 데이터 로드\n"
      ]
    },
    {
      "cell_type": "code",
      "metadata": {
        "id": "USG4Wm4lCPzE",
        "colab_type": "code",
        "outputId": "3a98d8bb-cc5f-47da-f4aa-50503dcba9c1",
        "colab": {
          "base_uri": "https://localhost:8080/",
          "height": 53
        }
      },
      "source": [
        "mnist = tf.keras.datasets.mnist\n",
        "\n",
        "(x_train, y_train), (x_test, y_test) = mnist.load_data()\n",
        "x_train, x_test = x_train / 255.0, x_test / 255.0\n",
        "\n",
        "y_train = tf.one_hot(y_train, depth=10)\n",
        "y_test = tf.one_hot(y_test, depth=10)\n",
        "\n",
        "# validation set 별도 구분\n",
        "x_train, x_val = x_train[:50000], x_train[50000:]\n",
        "y_train, y_val = y_train[:50000], y_train[50000:]\n"
      ],
      "execution_count": 3,
      "outputs": [
        {
          "output_type": "stream",
          "text": [
            "Downloading data from https://storage.googleapis.com/tensorflow/tf-keras-datasets/mnist.npz\n",
            "11493376/11490434 [==============================] - 0s 0us/step\n"
          ],
          "name": "stdout"
        }
      ]
    },
    {
      "cell_type": "markdown",
      "metadata": {
        "id": "XsFWfCqKCbdc",
        "colab_type": "text"
      },
      "source": [
        "TF Sequential 활용하여 모델 간편하게 구현하기"
      ]
    },
    {
      "cell_type": "markdown",
      "metadata": {
        "id": "TEOFq6uym13R",
        "colab_type": "text"
      },
      "source": [
        "# 실습 MISSION #8\n",
        "### 기준모델 만들고 regularization 적용하기\n",
        "\n",
        "* hidden size 1024짜리 5 층 히든레이어 쌓기\n",
        "* Activation으로 ReLU 이용\n",
        "* 출력레이어에서 softmax 활용하여 10개  숫자 분류\n"
      ]
    },
    {
      "cell_type": "code",
      "metadata": {
        "id": "rMqQHhsECPrb",
        "colab_type": "code",
        "colab": {}
      },
      "source": [
        "model = tf.keras.models.Sequential([ \n",
        "\n",
        "# 미션을 작성하세요!\n",
        "\n",
        "])\n",
        "\n",
        "model.compile(optimizer='adam',loss='categorical_crossentropy',metrics=['accuracy'])\n",
        "\n",
        "history = model.fit(x_train, y_train, batch_size=256, epochs=25, validation_data=(x_val, y_val), verbose=0)\n",
        "result = model.evaluate(x_test,  y_test, verbose=2)\n",
        "\n",
        "plot_history([history])"
      ],
      "execution_count": 0,
      "outputs": []
    },
    {
      "cell_type": "markdown",
      "metadata": {
        "id": "Pyazx80kptNs",
        "colab_type": "text"
      },
      "source": [
        "### Early stopping 구현하기\n",
        "\n",
        "위 작성한 모델을 복사해오기, 50 epoch동안 학습하도록 수정\n",
        "\n",
        "매 epoch마다 validation accuracy의 개선이 없으면 학습을 거기서 중단하도록 하자!\n",
        "\n",
        "* 한번이라도 정확도가 감소하면 바로 stop!\n",
        "* 두번은 봐주자! 연속 두번 감소하면 그때 stop!\n",
        "\n",
        "tf.keras.callbacks.EarlyStopping 기능 활용,\n",
        "매 epoch마다 지정한 metric을 기준으로 early stopping을 선정 가능"
      ]
    },
    {
      "cell_type": "code",
      "metadata": {
        "id": "25GDS7YQWEV2",
        "colab_type": "code",
        "colab": {}
      },
      "source": [
        "model = tf.keras.models.Sequential([\n",
        "\n",
        "# 미션을 작성하세요!\n",
        "\n",
        "])\n",
        "\n",
        "model.compile(optimizer='adam',loss='categorical_crossentropy',metrics=['accuracy'])\n",
        "\n",
        "early_stop = tf.keras.callbacks.EarlyStopping(monitor='val_accuracy', patience=2)\n",
        "\n",
        "history = model.fit(x_train, y_train, batch_size=256, epochs=50, validation_data=(x_val, y_val), callbacks=[early_stop], verbose=0)\n",
        "result = model.evaluate(x_test,  y_test, verbose=2)\n",
        "plot_history([history])"
      ],
      "execution_count": 0,
      "outputs": []
    },
    {
      "cell_type": "markdown",
      "metadata": {
        "id": "ATFvlt9VsCjS",
        "colab_type": "text"
      },
      "source": [
        "### Capacity 조정 및 Dropout 구현하기\n",
        "\n",
        "기준 모델을 복사해오기\n",
        "\n",
        "hidden 2층과 output layer만 남기기\n",
        "\n",
        "Dropout layer 활용, 레이어 사이마다 50% dropout 적용하기"
      ]
    },
    {
      "cell_type": "code",
      "metadata": {
        "id": "AmkQ6brGrLuX",
        "colab_type": "code",
        "colab": {}
      },
      "source": [
        "model = tf.keras.models.Sequential([\n",
        "\n",
        "# 미션을 작성하세요!\n",
        "\n",
        "])\n",
        "\n",
        "model.compile(optimizer='adam',loss='categorical_crossentropy',metrics=['accuracy']) \n",
        "\n",
        "history = model.fit(x_train, y_train, batch_size=256, epochs=50, validation_data=(x_val, y_val), verbose=0)\n",
        "result = model.evaluate(x_test,  y_test, verbose=2)\n",
        "plot_history([history])"
      ],
      "execution_count": 0,
      "outputs": []
    },
    {
      "cell_type": "markdown",
      "metadata": {
        "id": "05uEm84PvKyw",
        "colab_type": "text"
      },
      "source": [
        "### L2 Regularizer 구현하기\n",
        "\n",
        "기준 모델을 복사해오기\n",
        "\n",
        "hidden 2층과 output layer만 남기기\n",
        "\n",
        "tf.keras.regularizers.l2 사용하여 dense 레이어마다 l2 norm 0.01 적용하기"
      ]
    },
    {
      "cell_type": "code",
      "metadata": {
        "id": "sf2PfWcxsea0",
        "colab_type": "code",
        "colab": {}
      },
      "source": [
        "model = tf.keras.models.Sequential([\n",
        "\n",
        "# 미션을 작성하세요!\n",
        "\n",
        "])\n",
        "\n",
        "model.compile(optimizer='adam',loss='categorical_crossentropy',metrics=['accuracy']) \n",
        "\n",
        "history = model.fit(x_train, y_train, batch_size=256, epochs=50, validation_data=(x_val, y_val), verbose=0)\n",
        "result = model.evaluate(x_test,  y_test, verbose=2)\n",
        "plot_history([history])"
      ],
      "execution_count": 0,
      "outputs": []
    },
    {
      "cell_type": "code",
      "metadata": {
        "id": "PgCNcqbXvvAG",
        "colab_type": "code",
        "colab": {}
      },
      "source": [
        ""
      ],
      "execution_count": 0,
      "outputs": []
    }
  ]
}