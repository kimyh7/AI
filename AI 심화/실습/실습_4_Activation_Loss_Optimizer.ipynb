{
  "nbformat": 4,
  "nbformat_minor": 0,
  "metadata": {
    "colab": {
      "name": "실습_4_Activation_Loss_Optimizer",
      "provenance": [],
      "collapsed_sections": [],
      "toc_visible": true
    },
    "kernelspec": {
      "name": "python3",
      "display_name": "Python 3"
    },
    "accelerator": "GPU"
  },
  "cells": [
    {
      "cell_type": "markdown",
      "metadata": {
        "id": "2v7Ohf_TBgGH",
        "colab_type": "text"
      },
      "source": [
        "#Activation / Loss / Optimizer"
      ]
    },
    {
      "cell_type": "code",
      "metadata": {
        "id": "VHSOO82gLgzc",
        "colab_type": "code",
        "colab": {}
      },
      "source": [
        "try:\n",
        "  %tensorflow_version 2.x\n",
        "except Exception:\n",
        "  pass\n",
        "\n",
        "import tensorflow as tf\n",
        "import numpy as np\n",
        "\n",
        "from tensorflow.keras.layers import Dense, Flatten, Activation\n",
        "from tensorflow.keras import Model\n",
        "from tensorflow.keras.models import Sequential"
      ],
      "execution_count": 0,
      "outputs": []
    },
    {
      "cell_type": "markdown",
      "metadata": {
        "colab_type": "text",
        "id": "HX3lnG55CJWF"
      },
      "source": [
        "##Activations"
      ]
    },
    {
      "cell_type": "code",
      "metadata": {
        "colab_type": "code",
        "id": "qCJBguk7CJWR",
        "colab": {}
      },
      "source": [
        "%matplotlib inline\n",
        "import matplotlib.pyplot as plt"
      ],
      "execution_count": 0,
      "outputs": []
    },
    {
      "cell_type": "code",
      "metadata": {
        "colab_type": "code",
        "id": "AZhvl_dmCJWW",
        "colab": {}
      },
      "source": [
        "def plotting(title, in_data, out_data):\n",
        "    plt.plot(np.sort(in_data), np.sort(out_data))\n",
        "    plt.xlabel('indata')\n",
        "    plt.ylabel('outdata')\n",
        "    plt.title(title)"
      ],
      "execution_count": 0,
      "outputs": []
    },
    {
      "cell_type": "markdown",
      "metadata": {
        "id": "0UHaxv_FEx04",
        "colab_type": "text"
      },
      "source": [
        "-5 ~ +5 에 해당하는 데이터 1000건을 생성한다"
      ]
    },
    {
      "cell_type": "code",
      "metadata": {
        "colab_type": "code",
        "id": "hwWblUBqCJWh",
        "colab": {}
      },
      "source": [
        "data = (np.random.random((1000)).astype('float32')-.5)*10        "
      ],
      "execution_count": 0,
      "outputs": []
    },
    {
      "cell_type": "code",
      "metadata": {
        "colab_type": "code",
        "outputId": "39e0b76c-ccc3-43de-9700-6eecdda94c2c",
        "id": "uMH426rsCJWk",
        "colab": {
          "base_uri": "https://localhost:8080/",
          "height": 71
        }
      },
      "source": [
        "data[:10]"
      ],
      "execution_count": 0,
      "outputs": [
        {
          "output_type": "execute_result",
          "data": {
            "text/plain": [
              "array([-0.39601356, -4.618235  ,  4.2335596 , -3.8432856 ,  3.9996707 ,\n",
              "        4.887706  , -3.792435  ,  3.0869484 ,  2.753251  ,  4.432641  ],\n",
              "      dtype=float32)"
            ]
          },
          "metadata": {
            "tags": []
          },
          "execution_count": 17
        }
      ]
    },
    {
      "cell_type": "markdown",
      "metadata": {
        "id": "Jst6KB0jE_H3",
        "colab_type": "text"
      },
      "source": [
        "### Activation들의 형태 확인하기\n",
        "\n",
        "위에서 생성한 data를 넣었을 때 activation function들의 결과를 확인하자"
      ]
    },
    {
      "cell_type": "markdown",
      "metadata": {
        "id": "yRs95NGTRDso",
        "colab_type": "text"
      },
      "source": [
        "#### Linear"
      ]
    },
    {
      "cell_type": "code",
      "metadata": {
        "id": "iPqfsbA3Fa00",
        "colab_type": "code",
        "outputId": "1551319f-c48b-4abc-e440-95d99d1e83a0",
        "colab": {
          "base_uri": "https://localhost:8080/",
          "height": 295
        }
      },
      "source": [
        "plotting('linear', data, tf.keras.activations.linear(data))"
      ],
      "execution_count": 0,
      "outputs": [
        {
          "output_type": "display_data",
          "data": {
            "image/png": "[encoded data removed]",
            "text/plain": [
              "<Figure size 432x288 with 1 Axes>"
            ]
          },
          "metadata": {
            "tags": [],
            "needs_background": "light"
          }
        }
      ]
    },
    {
      "cell_type": "markdown",
      "metadata": {
        "id": "wpoP-f0RRGf_",
        "colab_type": "text"
      },
      "source": [
        "#### Sigmoid"
      ]
    },
    {
      "cell_type": "code",
      "metadata": {
        "id": "y-8QhrEwD8QM",
        "colab_type": "code",
        "outputId": "efb97abc-dd50-4156-e3e5-ea55fd1297b3",
        "colab": {
          "base_uri": "https://localhost:8080/",
          "height": 295
        }
      },
      "source": [
        "plotting('sigmoid', data, tf.keras.activations.sigmoid(data))"
      ],
      "execution_count": 0,
      "outputs": [
        {
          "output_type": "display_data",
          "data": {
            "image/png": "[encoded data removed]",
            "text/plain": [
              "<Figure size 432x288 with 1 Axes>"
            ]
          },
          "metadata": {
            "tags": [],
            "needs_background": "light"
          }
        }
      ]
    },
    {
      "cell_type": "markdown",
      "metadata": {
        "id": "63-cRu1uRLCi",
        "colab_type": "text"
      },
      "source": [
        "#### ReLU"
      ]
    },
    {
      "cell_type": "code",
      "metadata": {
        "colab_type": "code",
        "outputId": "81994415-f0cf-4c51-9203-835ff9c4815e",
        "id": "FalSdqAvCJWw",
        "colab": {
          "base_uri": "https://localhost:8080/",
          "height": 295
        }
      },
      "source": [
        "plotting('relu', data, tf.keras.activations.relu(data))"
      ],
      "execution_count": 0,
      "outputs": [
        {
          "output_type": "display_data",
          "data": {
            "image/png": "[encoded data removed]",
            "text/plain": [
              "<Figure size 432x288 with 1 Axes>"
            ]
          },
          "metadata": {
            "tags": [],
            "needs_background": "light"
          }
        }
      ]
    },
    {
      "cell_type": "markdown",
      "metadata": {
        "id": "noDlf9vlRMqC",
        "colab_type": "text"
      },
      "source": [
        "#### Tanh\n"
      ]
    },
    {
      "cell_type": "code",
      "metadata": {
        "colab_type": "code",
        "outputId": "8f0eab3f-2c48-4700-9735-258ae1bc5f65",
        "id": "pgjdiSMjCJW1",
        "colab": {
          "base_uri": "https://localhost:8080/",
          "height": 295
        }
      },
      "source": [
        "plotting('leaky_relu', data, tf.keras.activations.tanh(data))"
      ],
      "execution_count": 0,
      "outputs": [
        {
          "output_type": "display_data",
          "data": {
            "image/png": "[encoded data removed]",
            "text/plain": [
              "<Figure size 432x288 with 1 Axes>"
            ]
          },
          "metadata": {
            "tags": [],
            "needs_background": "light"
          }
        }
      ]
    },
    {
      "cell_type": "markdown",
      "metadata": {
        "id": "qTNTKdgCRsKz",
        "colab_type": "text"
      },
      "source": [
        "## Optimizer"
      ]
    },
    {
      "cell_type": "markdown",
      "metadata": {
        "id": "uqiuIEVsCVng",
        "colab_type": "text"
      },
      "source": [
        "# MNIST data에 activation function 바꿔 적용해보기\n",
        "\n",
        "[tf.keras.activations docs](https://www.tensorflow.org/api_docs/python/tf/keras/activations)\n",
        "\n",
        "[tf.keras.losses docs](https://www.tensorflow.org/api_docs/python/tf/keras/losses)\n",
        "\n",
        "[tf.keras.optimizer docs](https://www.tensorflow.org/api_docs/python/tf/keras/optimizers)"
      ]
    },
    {
      "cell_type": "markdown",
      "metadata": {
        "id": "3CpPRzPKCYh6",
        "colab_type": "text"
      },
      "source": [
        "MNIST 데이터 로드\n"
      ]
    },
    {
      "cell_type": "code",
      "metadata": {
        "id": "USG4Wm4lCPzE",
        "colab_type": "code",
        "colab": {}
      },
      "source": [
        "mnist = tf.keras.datasets.mnist\n",
        "\n",
        "(x_train, y_train), (x_test, y_test) = mnist.load_data()\n",
        "x_train, x_test = x_train / 255.0, x_test / 255.0\n",
        "\n",
        "y_train = tf.one_hot(y_train, depth=10)\n",
        "y_test = tf.one_hot(y_test, depth=10)\n",
        "\n",
        "# validation set 별도 구분\n",
        "x_train, x_val = x_train[:50000], x_train[50000:]\n",
        "y_train, y_val = y_train[:50000], y_train[50000:]\n"
      ],
      "execution_count": 0,
      "outputs": []
    },
    {
      "cell_type": "markdown",
      "metadata": {
        "id": "XsFWfCqKCbdc",
        "colab_type": "text"
      },
      "source": [
        "TF Sequential 활용하여 모델 간편하게 구현하기"
      ]
    },
    {
      "cell_type": "code",
      "metadata": {
        "id": "rMqQHhsECPrb",
        "colab_type": "code",
        "colab": {}
      },
      "source": [
        "model = tf.keras.models.Sequential([\n",
        "  tf.keras.layers.Flatten(input_shape=(28, 28)),\n",
        "  tf.keras.layers.Dense(50, activation='sigmoid'),\n",
        "  tf.keras.layers.Dense(10, activation='softmax')\n",
        "])\n",
        "\n",
        "# sgd_optimizer = tf.keras.optimizers.SGD(learning_rate=1.0) \n",
        "# model.compile(optimizer=sgd_optimizer, loss='mean_squared_error',metrics=['accuracy'])  \n",
        "model.compile(optimizer='sgd',loss='mean_squared_error',metrics=['accuracy'])\n",
        "\n",
        "history = model.fit(x_train, y_train, epochs=10, validation_data=(x_val, y_val), verbose=2)\n",
        "result = model.evaluate(x_test,  y_test, verbose=2)"
      ],
      "execution_count": 0,
      "outputs": []
    },
    {
      "cell_type": "markdown",
      "metadata": {
        "id": "dI-GrVm-F09C",
        "colab_type": "text"
      },
      "source": [
        "# 실습 MISSION #5\n",
        "위에서 작성했던 코드를 조건에 맞게 변경해보자!\n",
        "\n",
        "* model을 model_5로 변경\n",
        "* activation을 relu로 변경\n",
        "* loss를 cross-entropy로 변경\n",
        "* optimizer를 adam으로 변경"
      ]
    },
    {
      "cell_type": "code",
      "metadata": {
        "id": "4J9nrHuQIaE5",
        "colab_type": "code",
        "colab": {}
      },
      "source": [
        "# MISSION을 작성하세요\n",
        "\n",
        "\n"
      ],
      "execution_count": 0,
      "outputs": []
    },
    {
      "cell_type": "markdown",
      "metadata": {
        "id": "K2x4v59QIZoo",
        "colab_type": "text"
      },
      "source": [
        "# 실습 MISSION #6\n",
        "다양한 optimizer를 테스트하고 수렴 속도를 확인하자\n",
        "\n",
        "MISSION #5에서 작성했던 모델을 활용, \n",
        "네 개의 서로다른 모델을 만들어 아래 네 optimizer를 각각 적용하고 빌드하여 history를 다른이름으로 저장한 뒤 그래프로 나타내시오\n",
        "\n",
        "* SGD\n",
        "* SGD with learning rate 0.1, momentum 0.1\n",
        "* RMSProp\n",
        "* Adam\n"
      ]
    },
    {
      "cell_type": "code",
      "metadata": {
        "id": "46XePxpmCPhr",
        "colab_type": "code",
        "colab": {}
      },
      "source": [
        "def plot_history(histories):\n",
        "  plt.figure(figsize=(16,10))\n",
        "\n",
        "  for name, history in histories:\n",
        "    plt.plot(history.epoch, history.history['val_loss'], label=name.title())\n",
        "    # plt.plot(history.epoch, history.history['val_accuracy'], label=name.title())\n",
        "\n",
        "\n",
        "  plt.xlabel('Epochs')\n",
        "  plt.ylabel('Loss')\n",
        "  plt.legend()\n",
        "\n",
        "  plt.xlim([0,max(history.epoch)])"
      ],
      "execution_count": 0,
      "outputs": []
    },
    {
      "cell_type": "code",
      "metadata": {
        "id": "zL4CMeKPKA7K",
        "colab_type": "code",
        "colab": {}
      },
      "source": [
        "# MISSION을 작성하세요\n",
        " "
      ],
      "execution_count": 0,
      "outputs": []
    },
    {
      "cell_type": "code",
      "metadata": {
        "id": "elK3MZxTCPVp",
        "colab_type": "code",
        "colab": {}
      },
      "source": [
        "plot_history([('SGD', history_sgd),\n",
        "              ('SGD w/momentum', history_sgdm),\n",
        "              ('RMSProp', history_rmsprop),\n",
        "              ('Adam', history_adam)])"
      ],
      "execution_count": 0,
      "outputs": []
    },
    {
      "cell_type": "code",
      "metadata": {
        "id": "25GDS7YQWEV2",
        "colab_type": "code",
        "colab": {}
      },
      "source": [
        ""
      ],
      "execution_count": 0,
      "outputs": []
    }
  ]
}