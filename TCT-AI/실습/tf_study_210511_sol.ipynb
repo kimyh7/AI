{
  "nbformat": 4,
  "nbformat_minor": 0,
  "metadata": {
    "colab": {
      "name": "tf_study_210511.ipynb",
      "provenance": [],
      "collapsed_sections": []
    },
    "kernelspec": {
      "name": "python3",
      "display_name": "Python 3"
    },
    "language_info": {
      "name": "python"
    },
    "accelerator": "GPU"
  },
  "cells": [
    {
      "cell_type": "code",
      "metadata": {
        "colab": {
          "base_uri": "https://localhost:8080/"
        },
        "id": "vnArnIFST3GF",
        "outputId": "8847c077-77d2-4de7-e0d8-ea330ecf61dc"
      },
      "source": [
        "!nvidia-smi"
      ],
      "execution_count": 1,
      "outputs": [
        {
          "output_type": "stream",
          "text": [
            "Tue May 11 09:42:17 2021       \n",
            "+-----------------------------------------------------------------------------+\n",
            "| NVIDIA-SMI 465.19.01    Driver Version: 460.32.03    CUDA Version: 11.2     |\n",
            "|-------------------------------+----------------------+----------------------+\n",
            "| GPU  Name        Persistence-M| Bus-Id        Disp.A | Volatile Uncorr. ECC |\n",
            "| Fan  Temp  Perf  Pwr:Usage/Cap|         Memory-Usage | GPU-Util  Compute M. |\n",
            "|                               |                      |               MIG M. |\n",
            "|===============================+======================+======================|\n",
            "|   0  Tesla K80           Off  | 00000000:00:04.0 Off |                    0 |\n",
            "| N/A   37C    P8    26W / 149W |      0MiB / 11441MiB |      0%      Default |\n",
            "|                               |                      |                  N/A |\n",
            "+-------------------------------+----------------------+----------------------+\n",
            "                                                                               \n",
            "+-----------------------------------------------------------------------------+\n",
            "| Processes:                                                                  |\n",
            "|  GPU   GI   CI        PID   Type   Process name                  GPU Memory |\n",
            "|        ID   ID                                                   Usage      |\n",
            "|=============================================================================|\n",
            "|  No running processes found                                                 |\n",
            "+-----------------------------------------------------------------------------+\n"
          ],
          "name": "stdout"
        }
      ]
    },
    {
      "cell_type": "code",
      "metadata": {
        "colab": {
          "base_uri": "https://localhost:8080/"
        },
        "id": "c9aL9PsWUdcZ",
        "outputId": "983005de-1ef8-447d-cedd-24f35521cf6b"
      },
      "source": [
        "import tensorflow as tf\n",
        "from tensorflow import keras\n",
        "\n",
        "import numpy as np\n",
        "import matplotlib.pyplot as plt\n",
        "\n",
        "print(tf.__version__)"
      ],
      "execution_count": 3,
      "outputs": [
        {
          "output_type": "stream",
          "text": [
            "2.4.1\n"
          ],
          "name": "stdout"
        }
      ]
    },
    {
      "cell_type": "code",
      "metadata": {
        "colab": {
          "base_uri": "https://localhost:8080/"
        },
        "id": "DTpWnoDnX_fQ",
        "outputId": "6f386a60-6bf0-4ac7-f09c-e69ab9609d0f"
      },
      "source": [
        "fashion_mnist = keras.datasets.fashion_mnist\n",
        "(train_images, train_labels), (test_images, test_labels) = fashion_mnist.load_data()"
      ],
      "execution_count": 4,
      "outputs": [
        {
          "output_type": "stream",
          "text": [
            "Downloading data from https://storage.googleapis.com/tensorflow/tf-keras-datasets/train-labels-idx1-ubyte.gz\n",
            "32768/29515 [=================================] - 0s 0us/step\n",
            "Downloading data from https://storage.googleapis.com/tensorflow/tf-keras-datasets/train-images-idx3-ubyte.gz\n",
            "26427392/26421880 [==============================] - 0s 0us/step\n",
            "Downloading data from https://storage.googleapis.com/tensorflow/tf-keras-datasets/t10k-labels-idx1-ubyte.gz\n",
            "8192/5148 [===============================================] - 0s 0us/step\n",
            "Downloading data from https://storage.googleapis.com/tensorflow/tf-keras-datasets/t10k-images-idx3-ubyte.gz\n",
            "4423680/4422102 [==============================] - 0s 0us/step\n"
          ],
          "name": "stdout"
        }
      ]
    },
    {
      "cell_type": "code",
      "metadata": {
        "colab": {
          "base_uri": "https://localhost:8080/"
        },
        "id": "LrL5UV8zY4H-",
        "outputId": "2eb75e3b-92e4-4b83-fad1-106c1ebe0eb3"
      },
      "source": [
        "train_images.shape, test_images.shape"
      ],
      "execution_count": 5,
      "outputs": [
        {
          "output_type": "execute_result",
          "data": {
            "text/plain": [
              "((60000, 28, 28), (10000, 28, 28))"
            ]
          },
          "metadata": {
            "tags": []
          },
          "execution_count": 5
        }
      ]
    },
    {
      "cell_type": "code",
      "metadata": {
        "id": "OxwyK17CYy33"
      },
      "source": [
        "train_images = train_images.reshape(60000, 28, 28, 1)\n",
        "test_images = test_images.reshape(10000, 28, 28, 1)"
      ],
      "execution_count": 6,
      "outputs": []
    },
    {
      "cell_type": "code",
      "metadata": {
        "colab": {
          "base_uri": "https://localhost:8080/"
        },
        "id": "Gf9iM21oYKXJ",
        "outputId": "9481cb78-81c2-47d8-fa43-51aa1cdc031a"
      },
      "source": [
        "from tensorflow.keras.layers import MaxPool2D, Conv2D, Flatten, Dense, Dropout\n",
        "from tensorflow.keras.models import Sequential\n",
        "\n",
        "model1 = Sequential([\n",
        "##### 여기에 코드를 작성하세요 #####\n",
        "Conv2D(10, 5, input_shape=(28, 28, 1), activation='relu', padding='same'),\n",
        "MaxPool2D(),\n",
        "Conv2D(20, 5, activation='relu', padding='same'),\n",
        "MaxPool2D(),\n",
        "Flatten(),\n",
        "Dense(100, activation='relu'),\n",
        "Dense(10, activation='softmax')\n",
        "#####################################\n",
        "])\n",
        "model1.summary()"
      ],
      "execution_count": 7,
      "outputs": [
        {
          "output_type": "stream",
          "text": [
            "Model: \"sequential\"\n",
            "_________________________________________________________________\n",
            "Layer (type)                 Output Shape              Param #   \n",
            "=================================================================\n",
            "conv2d (Conv2D)              (None, 28, 28, 10)        260       \n",
            "_________________________________________________________________\n",
            "max_pooling2d (MaxPooling2D) (None, 14, 14, 10)        0         \n",
            "_________________________________________________________________\n",
            "conv2d_1 (Conv2D)            (None, 14, 14, 20)        5020      \n",
            "_________________________________________________________________\n",
            "max_pooling2d_1 (MaxPooling2 (None, 7, 7, 20)          0         \n",
            "_________________________________________________________________\n",
            "flatten (Flatten)            (None, 980)               0         \n",
            "_________________________________________________________________\n",
            "dense (Dense)                (None, 100)               98100     \n",
            "_________________________________________________________________\n",
            "dense_1 (Dense)              (None, 10)                1010      \n",
            "=================================================================\n",
            "Total params: 104,390\n",
            "Trainable params: 104,390\n",
            "Non-trainable params: 0\n",
            "_________________________________________________________________\n"
          ],
          "name": "stdout"
        }
      ]
    },
    {
      "cell_type": "code",
      "metadata": {
        "id": "pwzsqKy9YbIE"
      },
      "source": [
        "model1.compile(optimizer='adam',\n",
        "              loss='sparse_categorical_crossentropy',\n",
        "              metrics=['accuracy'])\n",
        "EPOCHS = 5"
      ],
      "execution_count": 8,
      "outputs": []
    },
    {
      "cell_type": "code",
      "metadata": {
        "colab": {
          "base_uri": "https://localhost:8080/"
        },
        "id": "aZoFc-_rYs2q",
        "outputId": "687130e2-c4a1-4f00-9dd8-4136c9b135f0"
      },
      "source": [
        "hist1 = model1.fit(train_images, train_labels, epochs=EPOCHS)"
      ],
      "execution_count": 9,
      "outputs": [
        {
          "output_type": "stream",
          "text": [
            "Epoch 1/5\n",
            "1875/1875 [==============================] - 37s 4ms/step - loss: 1.3175 - accuracy: 0.7785\n",
            "Epoch 2/5\n",
            "1875/1875 [==============================] - 8s 4ms/step - loss: 0.3235 - accuracy: 0.8810\n",
            "Epoch 3/5\n",
            "1875/1875 [==============================] - 8s 4ms/step - loss: 0.2779 - accuracy: 0.8981\n",
            "Epoch 4/5\n",
            "1875/1875 [==============================] - 8s 4ms/step - loss: 0.2553 - accuracy: 0.9053\n",
            "Epoch 5/5\n",
            "1875/1875 [==============================] - 8s 4ms/step - loss: 0.2327 - accuracy: 0.9126\n"
          ],
          "name": "stdout"
        }
      ]
    },
    {
      "cell_type": "code",
      "metadata": {
        "colab": {
          "base_uri": "https://localhost:8080/"
        },
        "id": "h_oY5D30YvBO",
        "outputId": "f47e4329-012e-4b58-c5dd-3d3d774774eb"
      },
      "source": [
        "test_loss, test_acc = model1.evaluate(test_images,  test_labels, verbose=2)\n",
        "\n",
        "print('\\n테스트 정확도:', test_acc)"
      ],
      "execution_count": 10,
      "outputs": [
        {
          "output_type": "stream",
          "text": [
            "313/313 - 1s - loss: 0.2980 - accuracy: 0.8933\n",
            "\n",
            "테스트 정확도: 0.8932999968528748\n"
          ],
          "name": "stdout"
        }
      ]
    },
    {
      "cell_type": "code",
      "metadata": {
        "colab": {
          "base_uri": "https://localhost:8080/"
        },
        "id": "Fxy_0qLRhtJW",
        "outputId": "dc367680-b7e1-4c8e-cb70-05cb611dafb4"
      },
      "source": [
        "import tensorflow as tf\n",
        "from tensorflow.keras.datasets import mnist\n",
        "from tensorflow.keras.utils import to_categorical\n",
        "from tensorflow.keras.models import Sequential\n",
        "from tensorflow.keras.layers import Conv2D\n",
        "from tensorflow.keras.layers import MaxPooling2D\n",
        "from tensorflow.keras.layers import Dense\n",
        "from tensorflow.keras.layers import Flatten \n",
        "\n",
        "tf.random.set_seed(100)\n",
        " \n",
        "(train_x, train_y), (test_x, test_y) = mnist.load_data()\n",
        "train_x = train_x[:10000]\n",
        "test_x = test_x[:10000]\n",
        "train_y = train_y[:10000]\n",
        "test_y = test_y[:10000]\n",
        "\n",
        "############################# 이 영역의 코드를 수정하세요 ##################################\n",
        "\n",
        "train_x = train_x.reshape((train_x.shape[0], 28, 28, 1))\n",
        "test_x = test_x.reshape((test_x.shape[0], 28, 28, 1))\n",
        "\n",
        "# one hot encoding of labels\n",
        "train_y = to_categorical(train_y)\n",
        "test_y = to_categorical(test_y)\n",
        "\n",
        "train_norm = train_x / 255.0\n",
        "test_norm = test_x / 255.0\n",
        "\n",
        "model2 = Sequential()\n",
        "model2.add(Conv2D(16, (3, 3), activation='relu', kernel_initializer='glorot_normal', input_shape=(28, 28, 1)))\n",
        "model2.add(MaxPooling2D((2, 2)))\n",
        "model2.add(Flatten())\n",
        "model2.add(Dense(15, activation='relu', kernel_initializer='glorot_normal'))\n",
        "model2.add(Dense(10, activation='softmax'))\n",
        "\n",
        "opt = tf.keras.optimizers.SGD(lr=0.01, momentum=0.9)\n",
        "model2.compile(optimizer=opt, loss='categorical_crossentropy', metrics=['accuracy'])\n",
        "###############################################################################################\n",
        "\n",
        "\n",
        "model2.fit(train_norm, train_y, epochs=5, batch_size=32, verbose=1)\n",
        "print('\\n=== Result for the test dataset is as follows ===')\n",
        "model2.evaluate(test_norm, test_y, verbose=1) "
      ],
      "execution_count": 14,
      "outputs": [
        {
          "output_type": "stream",
          "text": [
            "Epoch 1/5\n",
            "313/313 [==============================] - 2s 4ms/step - loss: 1.0505 - accuracy: 0.6514\n",
            "Epoch 2/5\n",
            "313/313 [==============================] - 1s 4ms/step - loss: 0.3581 - accuracy: 0.8974\n",
            "Epoch 3/5\n",
            "313/313 [==============================] - 1s 4ms/step - loss: 0.2589 - accuracy: 0.9223\n",
            "Epoch 4/5\n",
            "313/313 [==============================] - 1s 4ms/step - loss: 0.2120 - accuracy: 0.9392\n",
            "Epoch 5/5\n",
            "313/313 [==============================] - 1s 4ms/step - loss: 0.1614 - accuracy: 0.9523\n",
            "\n",
            "=== Result for the test dataset is as follows ===\n",
            "313/313 [==============================] - 1s 3ms/step - loss: 0.1718 - accuracy: 0.9478\n"
          ],
          "name": "stdout"
        },
        {
          "output_type": "execute_result",
          "data": {
            "text/plain": [
              "[0.17183850705623627, 0.9477999806404114]"
            ]
          },
          "metadata": {
            "tags": []
          },
          "execution_count": 14
        }
      ]
    },
    {
      "cell_type": "code",
      "metadata": {
        "id": "mTC1al6Yhsou"
      },
      "source": [
        ""
      ],
      "execution_count": null,
      "outputs": []
    }
  ]
}