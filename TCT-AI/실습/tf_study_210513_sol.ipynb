{
  "nbformat": 4,
  "nbformat_minor": 0,
  "metadata": {
    "colab": {
      "name": "tf_study_210513_sol.ipynb",
      "provenance": [],
      "collapsed_sections": []
    },
    "kernelspec": {
      "name": "python3",
      "display_name": "Python 3"
    },
    "language_info": {
      "name": "python"
    },
    "accelerator": "GPU"
  },
  "cells": [
    {
      "cell_type": "code",
      "metadata": {
        "colab": {
          "base_uri": "https://localhost:8080/"
        },
        "id": "g8V1toNcKu_e",
        "outputId": "61c0d5f8-d9b8-4a95-ee31-8b8e76ef6386"
      },
      "source": [
        "from tensorflow.keras.layers import MaxPool2D, Conv2D, Flatten, Dense, Dropout\n",
        "from tensorflow.keras.models import Sequential\n",
        "\n",
        "model1 = Sequential([\n",
        "Conv2D(10, 5, input_shape=(28, 28, 1), activation='relu', padding='same'), # 5*5*10*1+10\n",
        "MaxPool2D(),\n",
        "Conv2D(20, 5, activation='relu', padding='same'), # 10*5*5*20 + 20\n",
        "MaxPool2D(),\n",
        "Flatten(),\n",
        "Dense(100, activation='relu'), # 980*100 + 100\n",
        "Dense(10, activation='softmax') # 100*10 + 10\n",
        "])\n",
        "model1.summary()"
      ],
      "execution_count": null,
      "outputs": [
        {
          "output_type": "stream",
          "text": [
            "Model: \"sequential_4\"\n",
            "_________________________________________________________________\n",
            "Layer (type)                 Output Shape              Param #   \n",
            "=================================================================\n",
            "conv2d_8 (Conv2D)            (None, 28, 28, 10)        260       \n",
            "_________________________________________________________________\n",
            "max_pooling2d_8 (MaxPooling2 (None, 14, 14, 10)        0         \n",
            "_________________________________________________________________\n",
            "conv2d_9 (Conv2D)            (None, 14, 14, 20)        5020      \n",
            "_________________________________________________________________\n",
            "max_pooling2d_9 (MaxPooling2 (None, 7, 7, 20)          0         \n",
            "_________________________________________________________________\n",
            "flatten_4 (Flatten)          (None, 980)               0         \n",
            "_________________________________________________________________\n",
            "dense_8 (Dense)              (None, 100)               98100     \n",
            "_________________________________________________________________\n",
            "dense_9 (Dense)              (None, 10)                1010      \n",
            "=================================================================\n",
            "Total params: 104,390\n",
            "Trainable params: 104,390\n",
            "Non-trainable params: 0\n",
            "_________________________________________________________________\n"
          ],
          "name": "stdout"
        }
      ]
    },
    {
      "cell_type": "markdown",
      "metadata": {
        "id": "MYSKBcbRNscG"
      },
      "source": [
        "## **텍스트 분류**"
      ]
    },
    {
      "cell_type": "code",
      "metadata": {
        "id": "PubdmlXYK4No"
      },
      "source": [
        "import tensorflow as tf\n",
        "from tensorflow import keras\n",
        "\n",
        "import numpy as np"
      ],
      "execution_count": null,
      "outputs": []
    },
    {
      "cell_type": "code",
      "metadata": {
        "colab": {
          "base_uri": "https://localhost:8080/"
        },
        "id": "vlS3FYITODxt",
        "outputId": "ae50ff5b-2610-45ad-dae3-a45df177a534"
      },
      "source": [
        "imdb = keras.datasets.imdb\n",
        "\n",
        "(train_data, train_labels), (test_data, test_labels) = imdb.load_data(num_words=10000)"
      ],
      "execution_count": null,
      "outputs": [
        {
          "output_type": "stream",
          "text": [
            "Downloading data from https://storage.googleapis.com/tensorflow/tf-keras-datasets/imdb.npz\n",
            "17465344/17464789 [==============================] - 0s 0us/step\n"
          ],
          "name": "stdout"
        },
        {
          "output_type": "stream",
          "text": [
            "<string>:6: VisibleDeprecationWarning: Creating an ndarray from ragged nested sequences (which is a list-or-tuple of lists-or-tuples-or ndarrays with different lengths or shapes) is deprecated. If you meant to do this, you must specify 'dtype=object' when creating the ndarray\n",
            "/usr/local/lib/python3.7/dist-packages/tensorflow/python/keras/datasets/imdb.py:159: VisibleDeprecationWarning: Creating an ndarray from ragged nested sequences (which is a list-or-tuple of lists-or-tuples-or ndarrays with different lengths or shapes) is deprecated. If you meant to do this, you must specify 'dtype=object' when creating the ndarray\n",
            "  x_train, y_train = np.array(xs[:idx]), np.array(labels[:idx])\n",
            "/usr/local/lib/python3.7/dist-packages/tensorflow/python/keras/datasets/imdb.py:160: VisibleDeprecationWarning: Creating an ndarray from ragged nested sequences (which is a list-or-tuple of lists-or-tuples-or ndarrays with different lengths or shapes) is deprecated. If you meant to do this, you must specify 'dtype=object' when creating the ndarray\n",
            "  x_test, y_test = np.array(xs[idx:]), np.array(labels[idx:])\n"
          ],
          "name": "stderr"
        }
      ]
    },
    {
      "cell_type": "code",
      "metadata": {
        "colab": {
          "base_uri": "https://localhost:8080/"
        },
        "id": "FUJeoCmMOGxo",
        "outputId": "26aadea9-d12a-4e8f-cc6b-c1c0b6e93149"
      },
      "source": [
        "train_data.shape, train_labels.shape, test_data.shape, test_labels.shape"
      ],
      "execution_count": null,
      "outputs": [
        {
          "output_type": "execute_result",
          "data": {
            "text/plain": [
              "((25000,), (25000,), (25000,), (25000,))"
            ]
          },
          "metadata": {
            "tags": []
          },
          "execution_count": 12
        }
      ]
    },
    {
      "cell_type": "code",
      "metadata": {
        "colab": {
          "base_uri": "https://localhost:8080/"
        },
        "id": "Hh-vn8vRXIqy",
        "outputId": "c10488c6-2ed8-47ed-b611-0b7c4c2e61e6"
      },
      "source": [
        "train_data[0][:10]"
      ],
      "execution_count": null,
      "outputs": [
        {
          "output_type": "execute_result",
          "data": {
            "text/plain": [
              "[1, 14, 22, 16, 43, 530, 973, 1622, 1385, 65]"
            ]
          },
          "metadata": {
            "tags": []
          },
          "execution_count": 19
        }
      ]
    },
    {
      "cell_type": "code",
      "metadata": {
        "colab": {
          "base_uri": "https://localhost:8080/"
        },
        "id": "FLIClk8hO4Rp",
        "outputId": "90e70c25-4b49-47f5-8c6e-4572e3cba863"
      },
      "source": [
        "# 단어와 정수 인덱스를 매핑한 딕셔너리\n",
        "word_index = imdb.get_word_index()"
      ],
      "execution_count": null,
      "outputs": [
        {
          "output_type": "stream",
          "text": [
            "Downloading data from https://storage.googleapis.com/tensorflow/tf-keras-datasets/imdb_word_index.json\n",
            "1646592/1641221 [==============================] - 0s 0us/step\n"
          ],
          "name": "stdout"
        }
      ]
    },
    {
      "cell_type": "code",
      "metadata": {
        "id": "zTfeCjzvOPD3"
      },
      "source": [
        "# 처음 몇 개 인덱스는 사전에 정의되어 있습니다\n",
        "word_index = {k:(v+3) for k,v in word_index.items()}\n",
        "word_index[\"<PAD>\"] = 0\n",
        "word_index[\"<START>\"] = 1\n",
        "word_index[\"<UNK>\"] = 2  # unknown\n",
        "word_index[\"<UNUSED>\"] = 3\n",
        "\n",
        "reverse_word_index = dict([(value, key) for (key, value) in word_index.items()])\n",
        "\n",
        "def decode_review(text):\n",
        "    return ' '.join([reverse_word_index.get(i, '?') for i in text])"
      ],
      "execution_count": null,
      "outputs": []
    },
    {
      "cell_type": "code",
      "metadata": {
        "colab": {
          "base_uri": "https://localhost:8080/"
        },
        "id": "MKSo-fBYXQ6C",
        "outputId": "55fe2d11-223f-49a5-9cd9-3f22fd29bcab"
      },
      "source": [
        "train_data[10][:10]"
      ],
      "execution_count": null,
      "outputs": [
        {
          "output_type": "execute_result",
          "data": {
            "text/plain": [
              "[1, 785, 189, 438, 47, 110, 142, 7, 6, 7475]"
            ]
          },
          "metadata": {
            "tags": []
          },
          "execution_count": 16
        }
      ]
    },
    {
      "cell_type": "code",
      "metadata": {
        "colab": {
          "base_uri": "https://localhost:8080/"
        },
        "id": "vnXezFN4arVS",
        "outputId": "9d94bf7d-21c7-4ce4-a23b-0e546374028e"
      },
      "source": [
        "len(train_data[0])"
      ],
      "execution_count": null,
      "outputs": [
        {
          "output_type": "execute_result",
          "data": {
            "text/plain": [
              "218"
            ]
          },
          "metadata": {
            "tags": []
          },
          "execution_count": 18
        }
      ]
    },
    {
      "cell_type": "code",
      "metadata": {
        "colab": {
          "base_uri": "https://localhost:8080/",
          "height": 89
        },
        "id": "V9xnOMx5Pk4K",
        "outputId": "1d442d05-e169-4717-e66d-4de4538b8207"
      },
      "source": [
        "decode_review(train_data[0])"
      ],
      "execution_count": null,
      "outputs": [
        {
          "output_type": "execute_result",
          "data": {
            "application/vnd.google.colaboratory.intrinsic+json": {
              "type": "string"
            },
            "text/plain": [
              "\"<START> this film was just brilliant casting location scenery story direction everyone's really suited the part they played and you could just imagine being there robert <UNK> is an amazing actor and now the same being director <UNK> father came from the same scottish island as myself so i loved the fact there was a real connection with this film the witty remarks throughout the film were great it was just brilliant so much that i bought the film as soon as it was released for <UNK> and would recommend it to everyone to watch and the fly fishing was amazing really cried at the end it was so sad and you know what they say if you cry at a film it must have been good and this definitely was also <UNK> to the two little boy's that played the <UNK> of norman and paul they were just brilliant children are often left out of the <UNK> list i think because the stars that play them all grown up are such a big profile for the whole film but these children are amazing and should be praised for what they have done don't you think the whole story was so lovely because it was true and was someone's life after all that was shared with us all\""
            ]
          },
          "metadata": {
            "tags": []
          },
          "execution_count": 21
        }
      ]
    },
    {
      "cell_type": "code",
      "metadata": {
        "id": "AUKzLLa_PvBm"
      },
      "source": [
        "train_data = keras.preprocessing.sequence.pad_sequences(train_data,\n",
        "                                                        value=word_index[\"<PAD>\"],\n",
        "                                                        padding='post',\n",
        "                                                        maxlen=256)\n",
        "\n",
        "test_data = keras.preprocessing.sequence.pad_sequences(test_data,\n",
        "                                                       value=word_index[\"<PAD>\"],\n",
        "                                                       padding='post',\n",
        "                                                       maxlen=256)"
      ],
      "execution_count": null,
      "outputs": []
    },
    {
      "cell_type": "code",
      "metadata": {
        "id": "YCX16i4ke9gi"
      },
      "source": [
        "x_val = train_data[:10000]\n",
        "partial_x_train = train_data[10000:]\n",
        "\n",
        "y_val = train_labels[:10000]\n",
        "partial_y_train = train_labels[10000:]"
      ],
      "execution_count": null,
      "outputs": []
    },
    {
      "cell_type": "code",
      "metadata": {
        "colab": {
          "base_uri": "https://localhost:8080/"
        },
        "id": "Qt9vzZoHcILJ",
        "outputId": "049222f4-e6c8-4887-c1b4-38dcd1ed33bf"
      },
      "source": [
        "vocab_size = 10000\n",
        "\n",
        "model2 = keras.Sequential()\n",
        "model2.add(keras.layers.Embedding(vocab_size, 16))\n",
        "model2.add(keras.layers.GlobalAveragePooling1D())\n",
        "model2.add(keras.layers.Dense(16, activation='relu'))\n",
        "model2.add(keras.layers.Dense(1, activation='sigmoid'))\n",
        "\n",
        "model2.summary()"
      ],
      "execution_count": null,
      "outputs": [
        {
          "output_type": "stream",
          "text": [
            "Model: \"sequential_5\"\n",
            "_________________________________________________________________\n",
            "Layer (type)                 Output Shape              Param #   \n",
            "=================================================================\n",
            "embedding (Embedding)        (None, None, 16)          160000    \n",
            "_________________________________________________________________\n",
            "global_average_pooling1d (Gl (None, 16)                0         \n",
            "_________________________________________________________________\n",
            "dense_10 (Dense)             (None, 16)                272       \n",
            "_________________________________________________________________\n",
            "dense_11 (Dense)             (None, 1)                 17        \n",
            "=================================================================\n",
            "Total params: 160,289\n",
            "Trainable params: 160,289\n",
            "Non-trainable params: 0\n",
            "_________________________________________________________________\n"
          ],
          "name": "stdout"
        }
      ]
    },
    {
      "cell_type": "code",
      "metadata": {
        "colab": {
          "base_uri": "https://localhost:8080/"
        },
        "id": "scmOsgrNby-C",
        "outputId": "d25d80c9-a527-426d-cc6d-b13a93b9d3dc"
      },
      "source": [
        "train_data[0], train_data[1]"
      ],
      "execution_count": null,
      "outputs": [
        {
          "output_type": "execute_result",
          "data": {
            "text/plain": [
              "(array([   1,   14,   22,   16,   43,  530,  973, 1622, 1385,   65,  458,\n",
              "        4468,   66, 3941,    4,  173,   36,  256,    5,   25,  100,   43,\n",
              "         838,  112,   50,  670,    2,    9,   35,  480,  284,    5,  150,\n",
              "           4,  172,  112,  167,    2,  336,  385,   39,    4,  172, 4536,\n",
              "        1111,   17,  546,   38,   13,  447,    4,  192,   50,   16,    6,\n",
              "         147, 2025,   19,   14,   22,    4, 1920, 4613,  469,    4,   22,\n",
              "          71,   87,   12,   16,   43,  530,   38,   76,   15,   13, 1247,\n",
              "           4,   22,   17,  515,   17,   12,   16,  626,   18,    2,    5,\n",
              "          62,  386,   12,    8,  316,    8,  106,    5,    4, 2223, 5244,\n",
              "          16,  480,   66, 3785,   33,    4,  130,   12,   16,   38,  619,\n",
              "           5,   25,  124,   51,   36,  135,   48,   25, 1415,   33,    6,\n",
              "          22,   12,  215,   28,   77,   52,    5,   14,  407,   16,   82,\n",
              "           2,    8,    4,  107,  117, 5952,   15,  256,    4,    2,    7,\n",
              "        3766,    5,  723,   36,   71,   43,  530,  476,   26,  400,  317,\n",
              "          46,    7,    4,    2, 1029,   13,  104,   88,    4,  381,   15,\n",
              "         297,   98,   32, 2071,   56,   26,  141,    6,  194, 7486,   18,\n",
              "           4,  226,   22,   21,  134,  476,   26,  480,    5,  144,   30,\n",
              "        5535,   18,   51,   36,   28,  224,   92,   25,  104,    4,  226,\n",
              "          65,   16,   38, 1334,   88,   12,   16,  283,    5,   16, 4472,\n",
              "         113,  103,   32,   15,   16, 5345,   19,  178,   32,    0,    0,\n",
              "           0,    0,    0,    0,    0,    0,    0,    0,    0,    0,    0,\n",
              "           0,    0,    0,    0,    0,    0,    0,    0,    0,    0,    0,\n",
              "           0,    0,    0,    0,    0,    0,    0,    0,    0,    0,    0,\n",
              "           0,    0,    0], dtype=int32),\n",
              " array([   1,  194, 1153,  194, 8255,   78,  228,    5,    6, 1463, 4369,\n",
              "        5012,  134,   26,    4,  715,    8,  118, 1634,   14,  394,   20,\n",
              "          13,  119,  954,  189,  102,    5,  207,  110, 3103,   21,   14,\n",
              "          69,  188,    8,   30,   23,    7,    4,  249,  126,   93,    4,\n",
              "         114,    9, 2300, 1523,    5,  647,    4,  116,    9,   35, 8163,\n",
              "           4,  229,    9,  340, 1322,    4,  118,    9,    4,  130, 4901,\n",
              "          19,    4, 1002,    5,   89,   29,  952,   46,   37,    4,  455,\n",
              "           9,   45,   43,   38, 1543, 1905,  398,    4, 1649,   26, 6853,\n",
              "           5,  163,   11, 3215,    2,    4, 1153,    9,  194,  775,    7,\n",
              "        8255,    2,  349, 2637,  148,  605,    2, 8003,   15,  123,  125,\n",
              "          68,    2, 6853,   15,  349,  165, 4362,   98,    5,    4,  228,\n",
              "           9,   43,    2, 1157,   15,  299,  120,    5,  120,  174,   11,\n",
              "         220,  175,  136,   50,    9, 4373,  228, 8255,    5,    2,  656,\n",
              "         245, 2350,    5,    4, 9837,  131,  152,  491,   18,    2,   32,\n",
              "        7464, 1212,   14,    9,    6,  371,   78,   22,  625,   64, 1382,\n",
              "           9,    8,  168,  145,   23,    4, 1690,   15,   16,    4, 1355,\n",
              "           5,   28,    6,   52,  154,  462,   33,   89,   78,  285,   16,\n",
              "         145,   95,    0,    0,    0,    0,    0,    0,    0,    0,    0,\n",
              "           0,    0,    0,    0,    0,    0,    0,    0,    0,    0,    0,\n",
              "           0,    0,    0,    0,    0,    0,    0,    0,    0,    0,    0,\n",
              "           0,    0,    0,    0,    0,    0,    0,    0,    0,    0,    0,\n",
              "           0,    0,    0,    0,    0,    0,    0,    0,    0,    0,    0,\n",
              "           0,    0,    0,    0,    0,    0,    0,    0,    0,    0,    0,\n",
              "           0,    0,    0], dtype=int32))"
            ]
          },
          "metadata": {
            "tags": []
          },
          "execution_count": 38
        }
      ]
    },
    {
      "cell_type": "code",
      "metadata": {
        "id": "TBVxgHhGblKT"
      },
      "source": [
        "layer1 = tf.keras.layers.Embedding(vocab_size, 16)"
      ],
      "execution_count": null,
      "outputs": []
    },
    {
      "cell_type": "code",
      "metadata": {
        "id": "i54l6T7Peu8X"
      },
      "source": [
        "x1 = layer1(np.array([train_data[0]]))\n",
        "x2 = layer1(np.array([train_data[1]]))"
      ],
      "execution_count": null,
      "outputs": []
    },
    {
      "cell_type": "code",
      "metadata": {
        "colab": {
          "base_uri": "https://localhost:8080/"
        },
        "id": "h0BLYJHLfKOk",
        "outputId": "1d6e46b2-bb37-46b0-b7bc-e76524ccef7b"
      },
      "source": [
        "x1[0][0]==x2[0][0]"
      ],
      "execution_count": null,
      "outputs": [
        {
          "output_type": "execute_result",
          "data": {
            "text/plain": [
              "<tf.Tensor: shape=(16,), dtype=bool, numpy=\n",
              "array([ True,  True,  True,  True,  True,  True,  True,  True,  True,\n",
              "        True,  True,  True,  True,  True,  True,  True])>"
            ]
          },
          "metadata": {
            "tags": []
          },
          "execution_count": 42
        }
      ]
    },
    {
      "cell_type": "code",
      "metadata": {
        "colab": {
          "base_uri": "https://localhost:8080/"
        },
        "id": "yWJjYWqjb5_d",
        "outputId": "96d4b3f6-eee2-44b6-d79c-09ddbc885ba7"
      },
      "source": [
        "x1[0][1]==x2[0][32]"
      ],
      "execution_count": null,
      "outputs": [
        {
          "output_type": "execute_result",
          "data": {
            "text/plain": [
              "<tf.Tensor: shape=(16,), dtype=bool, numpy=\n",
              "array([ True,  True,  True,  True,  True,  True,  True,  True,  True,\n",
              "        True,  True,  True,  True,  True,  True,  True])>"
            ]
          },
          "metadata": {
            "tags": []
          },
          "execution_count": 43
        }
      ]
    },
    {
      "cell_type": "code",
      "metadata": {
        "id": "By984edjet8W"
      },
      "source": [
        "model2.compile(optimizer='adam',\n",
        "              loss='binary_crossentropy',\n",
        "              metrics=['accuracy'])"
      ],
      "execution_count": null,
      "outputs": []
    },
    {
      "cell_type": "code",
      "metadata": {
        "colab": {
          "base_uri": "https://localhost:8080/"
        },
        "id": "JB4GEmyafFdX",
        "outputId": "60a1babb-91fb-46af-8273-9bfd8483c925"
      },
      "source": [
        "history = model2.fit(partial_x_train,\n",
        "                    partial_y_train,\n",
        "                    epochs=40,\n",
        "                    batch_size=512,\n",
        "                    validation_data=(x_val, y_val),\n",
        "                    verbose=1)"
      ],
      "execution_count": null,
      "outputs": [
        {
          "output_type": "stream",
          "text": [
            "Epoch 1/40\n",
            "30/30 [==============================] - 0s 15ms/step - loss: 0.3693 - accuracy: 0.8794 - val_loss: 0.3894 - val_accuracy: 0.8559\n",
            "Epoch 2/40\n",
            "30/30 [==============================] - 0s 14ms/step - loss: 0.3411 - accuracy: 0.8867 - val_loss: 0.3692 - val_accuracy: 0.8606\n",
            "Epoch 3/40\n",
            "30/30 [==============================] - 0s 14ms/step - loss: 0.3175 - accuracy: 0.8924 - val_loss: 0.3520 - val_accuracy: 0.8676\n",
            "Epoch 4/40\n",
            "30/30 [==============================] - 0s 14ms/step - loss: 0.2969 - accuracy: 0.8996 - val_loss: 0.3389 - val_accuracy: 0.8706\n",
            "Epoch 5/40\n",
            "30/30 [==============================] - 0s 14ms/step - loss: 0.2795 - accuracy: 0.9042 - val_loss: 0.3281 - val_accuracy: 0.8732\n",
            "Epoch 6/40\n",
            "30/30 [==============================] - 0s 14ms/step - loss: 0.2641 - accuracy: 0.9092 - val_loss: 0.3193 - val_accuracy: 0.8753\n",
            "Epoch 7/40\n",
            "30/30 [==============================] - 0s 14ms/step - loss: 0.2501 - accuracy: 0.9137 - val_loss: 0.3123 - val_accuracy: 0.8775\n",
            "Epoch 8/40\n",
            "30/30 [==============================] - 0s 14ms/step - loss: 0.2375 - accuracy: 0.9171 - val_loss: 0.3060 - val_accuracy: 0.8806\n",
            "Epoch 9/40\n",
            "30/30 [==============================] - 0s 14ms/step - loss: 0.2259 - accuracy: 0.9227 - val_loss: 0.3009 - val_accuracy: 0.8793\n",
            "Epoch 10/40\n",
            "30/30 [==============================] - 0s 15ms/step - loss: 0.2156 - accuracy: 0.9259 - val_loss: 0.2966 - val_accuracy: 0.8827\n",
            "Epoch 11/40\n",
            "30/30 [==============================] - 0s 15ms/step - loss: 0.2055 - accuracy: 0.9297 - val_loss: 0.2950 - val_accuracy: 0.8820\n",
            "Epoch 12/40\n",
            "30/30 [==============================] - 0s 15ms/step - loss: 0.1973 - accuracy: 0.9322 - val_loss: 0.2924 - val_accuracy: 0.8834\n",
            "Epoch 13/40\n",
            "30/30 [==============================] - 0s 14ms/step - loss: 0.1889 - accuracy: 0.9365 - val_loss: 0.2886 - val_accuracy: 0.8847\n",
            "Epoch 14/40\n",
            "30/30 [==============================] - 0s 14ms/step - loss: 0.1805 - accuracy: 0.9403 - val_loss: 0.2877 - val_accuracy: 0.8847\n",
            "Epoch 15/40\n",
            "30/30 [==============================] - 0s 14ms/step - loss: 0.1728 - accuracy: 0.9449 - val_loss: 0.2864 - val_accuracy: 0.8849\n",
            "Epoch 16/40\n",
            "30/30 [==============================] - 0s 14ms/step - loss: 0.1656 - accuracy: 0.9467 - val_loss: 0.2861 - val_accuracy: 0.8851\n",
            "Epoch 17/40\n",
            "30/30 [==============================] - 0s 14ms/step - loss: 0.1593 - accuracy: 0.9492 - val_loss: 0.2854 - val_accuracy: 0.8856\n",
            "Epoch 18/40\n",
            "30/30 [==============================] - 0s 14ms/step - loss: 0.1527 - accuracy: 0.9531 - val_loss: 0.2860 - val_accuracy: 0.8862\n",
            "Epoch 19/40\n",
            "30/30 [==============================] - 0s 15ms/step - loss: 0.1468 - accuracy: 0.9549 - val_loss: 0.2863 - val_accuracy: 0.8866\n",
            "Epoch 20/40\n",
            "30/30 [==============================] - 0s 14ms/step - loss: 0.1408 - accuracy: 0.9577 - val_loss: 0.2871 - val_accuracy: 0.8863\n",
            "Epoch 21/40\n",
            "30/30 [==============================] - 0s 14ms/step - loss: 0.1354 - accuracy: 0.9597 - val_loss: 0.2890 - val_accuracy: 0.8849\n",
            "Epoch 22/40\n",
            "30/30 [==============================] - 0s 14ms/step - loss: 0.1310 - accuracy: 0.9610 - val_loss: 0.2894 - val_accuracy: 0.8857\n",
            "Epoch 23/40\n",
            "30/30 [==============================] - 0s 14ms/step - loss: 0.1257 - accuracy: 0.9635 - val_loss: 0.2916 - val_accuracy: 0.8856\n",
            "Epoch 24/40\n",
            "30/30 [==============================] - 0s 15ms/step - loss: 0.1208 - accuracy: 0.9659 - val_loss: 0.2937 - val_accuracy: 0.8851\n",
            "Epoch 25/40\n",
            "30/30 [==============================] - 0s 14ms/step - loss: 0.1161 - accuracy: 0.9674 - val_loss: 0.2951 - val_accuracy: 0.8863\n",
            "Epoch 26/40\n",
            "30/30 [==============================] - 0s 14ms/step - loss: 0.1123 - accuracy: 0.9687 - val_loss: 0.2976 - val_accuracy: 0.8848\n",
            "Epoch 27/40\n",
            "30/30 [==============================] - 0s 14ms/step - loss: 0.1085 - accuracy: 0.9688 - val_loss: 0.2996 - val_accuracy: 0.8851\n",
            "Epoch 28/40\n",
            "30/30 [==============================] - 0s 14ms/step - loss: 0.1039 - accuracy: 0.9704 - val_loss: 0.3030 - val_accuracy: 0.8827\n",
            "Epoch 29/40\n",
            "30/30 [==============================] - 0s 15ms/step - loss: 0.0998 - accuracy: 0.9737 - val_loss: 0.3065 - val_accuracy: 0.8833\n",
            "Epoch 30/40\n",
            "30/30 [==============================] - 0s 14ms/step - loss: 0.0965 - accuracy: 0.9740 - val_loss: 0.3081 - val_accuracy: 0.8827\n",
            "Epoch 31/40\n",
            "30/30 [==============================] - 0s 14ms/step - loss: 0.0923 - accuracy: 0.9761 - val_loss: 0.3113 - val_accuracy: 0.8829\n",
            "Epoch 32/40\n",
            "30/30 [==============================] - 0s 15ms/step - loss: 0.0890 - accuracy: 0.9767 - val_loss: 0.3151 - val_accuracy: 0.8823\n",
            "Epoch 33/40\n",
            "30/30 [==============================] - 0s 15ms/step - loss: 0.0856 - accuracy: 0.9788 - val_loss: 0.3186 - val_accuracy: 0.8815\n",
            "Epoch 34/40\n",
            "30/30 [==============================] - 0s 14ms/step - loss: 0.0823 - accuracy: 0.9795 - val_loss: 0.3237 - val_accuracy: 0.8800\n",
            "Epoch 35/40\n",
            "30/30 [==============================] - 0s 14ms/step - loss: 0.0798 - accuracy: 0.9811 - val_loss: 0.3282 - val_accuracy: 0.8793\n",
            "Epoch 36/40\n",
            "30/30 [==============================] - 0s 15ms/step - loss: 0.0764 - accuracy: 0.9821 - val_loss: 0.3300 - val_accuracy: 0.8790\n",
            "Epoch 37/40\n",
            "30/30 [==============================] - 0s 14ms/step - loss: 0.0734 - accuracy: 0.9833 - val_loss: 0.3338 - val_accuracy: 0.8811\n",
            "Epoch 38/40\n",
            "30/30 [==============================] - 0s 15ms/step - loss: 0.0706 - accuracy: 0.9839 - val_loss: 0.3377 - val_accuracy: 0.8795\n",
            "Epoch 39/40\n",
            "30/30 [==============================] - 0s 14ms/step - loss: 0.0679 - accuracy: 0.9852 - val_loss: 0.3418 - val_accuracy: 0.8798\n",
            "Epoch 40/40\n",
            "30/30 [==============================] - 0s 15ms/step - loss: 0.0654 - accuracy: 0.9861 - val_loss: 0.3469 - val_accuracy: 0.8782\n"
          ],
          "name": "stdout"
        }
      ]
    },
    {
      "cell_type": "code",
      "metadata": {
        "colab": {
          "base_uri": "https://localhost:8080/"
        },
        "id": "-f1RlHWsfK2U",
        "outputId": "634609d0-ab16-4536-f9fd-b5d71f7d5fb5"
      },
      "source": [
        "results = model2.evaluate(test_data,  test_labels, verbose=2)\n",
        "\n",
        "print(results)"
      ],
      "execution_count": null,
      "outputs": [
        {
          "output_type": "stream",
          "text": [
            "782/782 - 1s - loss: 0.4243 - accuracy: 0.8413\n",
            "[0.42430222034454346, 0.8412799835205078]\n"
          ],
          "name": "stdout"
        }
      ]
    },
    {
      "cell_type": "code",
      "metadata": {
        "colab": {
          "base_uri": "https://localhost:8080/"
        },
        "id": "Nx0NHSlIfcIA",
        "outputId": "56e13c44-9783-40af-ab9c-8493a2e66792"
      },
      "source": [
        "history_dict = history.history\n",
        "history_dict.keys()"
      ],
      "execution_count": null,
      "outputs": [
        {
          "output_type": "execute_result",
          "data": {
            "text/plain": [
              "dict_keys(['loss', 'accuracy', 'val_loss', 'val_accuracy'])"
            ]
          },
          "metadata": {
            "tags": []
          },
          "execution_count": 34
        }
      ]
    },
    {
      "cell_type": "code",
      "metadata": {
        "colab": {
          "base_uri": "https://localhost:8080/",
          "height": 295
        },
        "id": "6OUNSHmEf3vl",
        "outputId": "cfeec5ff-a172-4d80-f345-8a63f5e895fc"
      },
      "source": [
        "import matplotlib.pyplot as plt\n",
        "\n",
        "acc = history_dict['accuracy']\n",
        "val_acc = history_dict['val_accuracy']\n",
        "loss = history_dict['loss']\n",
        "val_loss = history_dict['val_loss']\n",
        "\n",
        "epochs = range(1, len(acc) + 1)\n",
        "\n",
        "# \"bo\"는 \"파란색 점\"입니다\n",
        "plt.plot(epochs, loss, 'bo', label='Training loss')\n",
        "# b는 \"파란 실선\"입니다\n",
        "plt.plot(epochs, val_loss, 'b', label='Validation loss')\n",
        "plt.title('Training and validation loss')\n",
        "plt.xlabel('Epochs')\n",
        "plt.ylabel('Loss')\n",
        "plt.legend()\n",
        "\n",
        "plt.show()"
      ],
      "execution_count": null,
      "outputs": [
        {
          "output_type": "display_data",
          "data": {
            "image/png": "[encoded data removed]",
            "text/plain": [
              "<Figure size 432x288 with 1 Axes>"
            ]
          },
          "metadata": {
            "tags": [],
            "needs_background": "light"
          }
        }
      ]
    },
    {
      "cell_type": "code",
      "metadata": {
        "colab": {
          "base_uri": "https://localhost:8080/",
          "height": 295
        },
        "id": "d5VUThchgPYw",
        "outputId": "6f8dd137-0f21-4180-a89b-d889cc80c323"
      },
      "source": [
        "plt.clf()   # 그림을 초기화합니다\n",
        "\n",
        "plt.plot(epochs, acc, 'bo', label='Training acc')\n",
        "plt.plot(epochs, val_acc, 'b', label='Validation acc')\n",
        "plt.title('Training and validation accuracy')\n",
        "plt.xlabel('Epochs')\n",
        "plt.ylabel('Accuracy')\n",
        "plt.legend()\n",
        "\n",
        "plt.show()"
      ],
      "execution_count": null,
      "outputs": [
        {
          "output_type": "display_data",
          "data": {
            "image/png": "[encoded data removed]",
            "text/plain": [
              "<Figure size 432x288 with 1 Axes>"
            ]
          },
          "metadata": {
            "tags": [],
            "needs_background": "light"
          }
        }
      ]
    },
    {
      "cell_type": "markdown",
      "metadata": {
        "id": "e8DqahBYMVek"
      },
      "source": [
        "## **RNN, LSTM**"
      ]
    },
    {
      "cell_type": "markdown",
      "metadata": {
        "id": "0vBeJJ2Alns-"
      },
      "source": [
        "**tanh**\n",
        "\n",
        "![tanh.PNG](data:image/png;base64,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)"
      ]
    },
    {
      "cell_type": "code",
      "metadata": {
        "colab": {
          "base_uri": "https://localhost:8080/"
        },
        "id": "4wZ177WoEn8x",
        "outputId": "83af0296-8116-497c-b3f4-cf123c9eef6d"
      },
      "source": [
        "model3 = tf.keras.Sequential([\n",
        "    tf.keras.layers.Embedding(vocab_size, 16), # 10000*16\n",
        "    tf.keras.layers.LSTM(32), # 4 * ((32+16) * 32 +32) \n",
        "    tf.keras.layers.Dense(16, activation='relu'), \n",
        "    tf.keras.layers.Dense(1, activation='sigmoid')\n",
        "])\n",
        "model3.summary()"
      ],
      "execution_count": null,
      "outputs": [
        {
          "output_type": "stream",
          "text": [
            "Model: \"sequential_6\"\n",
            "_________________________________________________________________\n",
            "Layer (type)                 Output Shape              Param #   \n",
            "=================================================================\n",
            "embedding_1 (Embedding)      (None, None, 16)          160000    \n",
            "_________________________________________________________________\n",
            "lstm (LSTM)                  (None, 32)                6272      \n",
            "_________________________________________________________________\n",
            "dense_12 (Dense)             (None, 16)                528       \n",
            "_________________________________________________________________\n",
            "dense_13 (Dense)             (None, 1)                 17        \n",
            "=================================================================\n",
            "Total params: 166,817\n",
            "Trainable params: 166,817\n",
            "Non-trainable params: 0\n",
            "_________________________________________________________________\n"
          ],
          "name": "stdout"
        }
      ]
    },
    {
      "cell_type": "code",
      "metadata": {
        "id": "HLVWuh_CNsrU"
      },
      "source": [
        "model3.compile(optimizer='adam',\n",
        "              loss='binary_crossentropy',\n",
        "              metrics=['accuracy'])"
      ],
      "execution_count": null,
      "outputs": []
    },
    {
      "cell_type": "code",
      "metadata": {
        "colab": {
          "base_uri": "https://localhost:8080/"
        },
        "id": "qXcZVnm7NuBq",
        "outputId": "29a91f02-d3fb-433d-f0a3-04577b8c161f"
      },
      "source": [
        "model3.fit(partial_x_train,\n",
        "                    partial_y_train,\n",
        "                    epochs=10,\n",
        "                    batch_size=512,\n",
        "                    validation_data=(x_val, y_val),\n",
        "                    verbose=1)"
      ],
      "execution_count": null,
      "outputs": [
        {
          "output_type": "stream",
          "text": [
            "Epoch 1/10\n",
            "30/30 [==============================] - 31s 46ms/step - loss: 0.6930 - accuracy: 0.5102 - val_loss: 0.6922 - val_accuracy: 0.5147\n",
            "Epoch 2/10\n",
            "30/30 [==============================] - 1s 29ms/step - loss: 0.6899 - accuracy: 0.5380 - val_loss: 0.6682 - val_accuracy: 0.5914\n",
            "Epoch 3/10\n",
            "30/30 [==============================] - 1s 29ms/step - loss: 0.6669 - accuracy: 0.6066 - val_loss: 0.5453 - val_accuracy: 0.7623\n",
            "Epoch 4/10\n",
            "30/30 [==============================] - 1s 29ms/step - loss: 0.5857 - accuracy: 0.6846 - val_loss: 0.5817 - val_accuracy: 0.7756\n",
            "Epoch 5/10\n",
            "30/30 [==============================] - 1s 29ms/step - loss: 0.4916 - accuracy: 0.8066 - val_loss: 0.4299 - val_accuracy: 0.8313\n",
            "Epoch 6/10\n",
            "30/30 [==============================] - 1s 29ms/step - loss: 0.3734 - accuracy: 0.8694 - val_loss: 0.3775 - val_accuracy: 0.8564\n",
            "Epoch 7/10\n",
            "30/30 [==============================] - 1s 34ms/step - loss: 0.2970 - accuracy: 0.9026 - val_loss: 0.3421 - val_accuracy: 0.8668\n",
            "Epoch 8/10\n",
            "30/30 [==============================] - 1s 29ms/step - loss: 0.2432 - accuracy: 0.9206 - val_loss: 0.3333 - val_accuracy: 0.8720\n",
            "Epoch 9/10\n",
            "30/30 [==============================] - 1s 29ms/step - loss: 0.2069 - accuracy: 0.9336 - val_loss: 0.3161 - val_accuracy: 0.8752\n",
            "Epoch 10/10\n",
            "30/30 [==============================] - 1s 29ms/step - loss: 0.1701 - accuracy: 0.9500 - val_loss: 0.3482 - val_accuracy: 0.8730\n"
          ],
          "name": "stdout"
        },
        {
          "output_type": "execute_result",
          "data": {
            "text/plain": [
              "<tensorflow.python.keras.callbacks.History at 0x7ffaa7d75550>"
            ]
          },
          "metadata": {
            "tags": []
          },
          "execution_count": 45
        }
      ]
    },
    {
      "cell_type": "code",
      "metadata": {
        "colab": {
          "base_uri": "https://localhost:8080/"
        },
        "id": "43X3YfH2OjOx",
        "outputId": "6356a562-2ba7-405b-87ea-0e99caad2d8b"
      },
      "source": [
        "results = model3.evaluate(test_data,  test_labels, verbose=2)\n",
        "print(results)"
      ],
      "execution_count": null,
      "outputs": [
        {
          "output_type": "stream",
          "text": [
            "782/782 - 3s - loss: 0.3751 - accuracy: 0.8643\n",
            "[0.3750993311405182, 0.8643199801445007]\n"
          ],
          "name": "stdout"
        }
      ]
    },
    {
      "cell_type": "markdown",
      "metadata": {
        "id": "wNFK-5Q6BxFn"
      },
      "source": [
        "## **실기 6번**"
      ]
    },
    {
      "cell_type": "markdown",
      "metadata": {
        "id": "jF3RiVjkCzSW"
      },
      "source": [
        "1. 100만개의 단어를 대상으로 함\n",
        "2. padding을 위한 '[PAD]'와 vocabulary 외의 단어를 처리하는 '[OOV]'를 포함하여 vovabulary 구성\n",
        "3. vocabulary의 각 단어는 길이 32인 벡터로 임베딩하여 사용\n",
        "4. 임베딩 이후 layer는 unit size=50인 LSTM과 output을 위한 dense layer로 구성(6개 class, softmax 사용)"
      ]
    },
    {
      "cell_type": "code",
      "metadata": {
        "colab": {
          "base_uri": "https://localhost:8080/"
        },
        "id": "5d_VqdiHBo4_",
        "outputId": "3ce3cfdc-c80d-41be-f090-c49b80d3efc2"
      },
      "source": [
        "import tensorflow as tf\n",
        "\n",
        "model_rnn_1 = tf.keras.Sequential([\n",
        "    ##### 이 부분에 코드를 작성하시오 #####           \n",
        "    tf.keras.layers.Embedding(1000002, 32),\n",
        "    tf.keras.layers.LSTM(50), \n",
        "    tf.keras.layers.Dense(6, activation='softmax')\n",
        "    #######################################\n",
        "])  \n",
        "model_rnn_1.summary()"
      ],
      "execution_count": null,
      "outputs": [
        {
          "output_type": "stream",
          "text": [
            "Model: \"sequential_7\"\n",
            "_________________________________________________________________\n",
            "Layer (type)                 Output Shape              Param #   \n",
            "=================================================================\n",
            "embedding_3 (Embedding)      (None, None, 32)          32000064  \n",
            "_________________________________________________________________\n",
            "lstm_1 (LSTM)                (None, 50)                16600     \n",
            "_________________________________________________________________\n",
            "dense_14 (Dense)             (None, 6)                 306       \n",
            "=================================================================\n",
            "Total params: 32,016,970\n",
            "Trainable params: 32,016,970\n",
            "Non-trainable params: 0\n",
            "_________________________________________________________________\n"
          ],
          "name": "stdout"
        }
      ]
    },
    {
      "cell_type": "markdown",
      "metadata": {
        "id": "2L5LKLwFD3_l"
      },
      "source": [
        "1. LSTM layer 하나 추가(unit size=50)\n",
        "2. 최대 문장의 길이 25로 제한\n",
        "3. 문장 길이가 25 이상일 경우 뒷부분 삭제"
      ]
    },
    {
      "cell_type": "code",
      "metadata": {
        "id": "KCu4xzYEgUxg",
        "colab": {
          "base_uri": "https://localhost:8080/"
        },
        "outputId": "704c9b7f-b057-46d4-bc50-d93c252eb940"
      },
      "source": [
        "import tensorflow as tf\n",
        "from tensorflow.keras.preprocessing.sequence import pad_sequences\n",
        "\n",
        "''' 모델 개선하기 '''\n",
        "model_rnn_2 = tf.keras.Sequential([\n",
        "    ##### 이 부분에 코드를 작성하시오 #####           \n",
        "    tf.keras.layers.Embedding(1000002, 32),\n",
        "    tf.keras.layers.LSTM(50, return_sequences=True),\n",
        "    tf.keras.layers.LSTM(50),\n",
        "    tf.keras.layers.Dense(6, activation='softmax')\n",
        "    #######################################\n",
        "])  \n",
        "\n",
        "model_rnn_2.summary()\n",
        "\n",
        "''' \n",
        "민원 문장 자르기 처리하기\n",
        "'''\n",
        "minwon_ids = [[123, 124, 346, 76, 66, 1221, 8762, 4574, 66, 1, 7, 999, 2, 4, 98685, 52, 10, 40, 124, 127, 789654, 27, 122, 9, 1991, 4, 8, 15, 16, 23, 42]] \n",
        "\n",
        "minwon_ids_result = pad_sequences(minwon_ids, maxlen=25, truncating='post')    # 빈칸에 들어갈 코드를 작성하세요\n",
        "\n",
        "print(minwon_ids_result)"
      ],
      "execution_count": null,
      "outputs": [
        {
          "output_type": "stream",
          "text": [
            "Model: \"sequential\"\n",
            "_________________________________________________________________\n",
            "Layer (type)                 Output Shape              Param #   \n",
            "=================================================================\n",
            "embedding (Embedding)        (None, None, 32)          32000064  \n",
            "_________________________________________________________________\n",
            "lstm (LSTM)                  (None, None, 50)          16600     \n",
            "_________________________________________________________________\n",
            "lstm_1 (LSTM)                (None, 50)                20200     \n",
            "_________________________________________________________________\n",
            "dense (Dense)                (None, 6)                 306       \n",
            "=================================================================\n",
            "Total params: 32,037,170\n",
            "Trainable params: 32,037,170\n",
            "Non-trainable params: 0\n",
            "_________________________________________________________________\n",
            "[[   123    124    346     76     66   1221   8762   4574     66      1\n",
            "       7    999      2      4  98685     52     10     40    124    127\n",
            "  789654     27    122      9   1991]]\n"
          ],
          "name": "stdout"
        }
      ]
    },
    {
      "cell_type": "code",
      "metadata": {
        "id": "k1FdHjULrt8j"
      },
      "source": [
        ""
      ],
      "execution_count": null,
      "outputs": []
    }
  ]
}