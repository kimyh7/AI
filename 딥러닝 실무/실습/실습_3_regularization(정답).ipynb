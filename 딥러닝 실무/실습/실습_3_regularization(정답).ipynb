{
  "nbformat": 4,
  "nbformat_minor": 0,
  "metadata": {
    "colab": {
      "name": "실습_3_regularization(정답).ipynb",
      "provenance": [],
      "collapsed_sections": [],
      "toc_visible": true
    },
    "kernelspec": {
      "name": "python3",
      "display_name": "Python 3"
    },
    "accelerator": "GPU"
  },
  "cells": [
    {
      "cell_type": "markdown",
      "metadata": {
        "id": "5_taevr_MPdB"
      },
      "source": [
        "# Regularization"
      ]
    },
    {
      "cell_type": "markdown",
      "metadata": {
        "id": "EyfyJZoiUH5P"
      },
      "source": [
        "필요한 라이브러리들을 import해줍니다.\n",
        "이제 아래 Dense, Flatten같은 용어들이 익숙해지셨으리라고 생각합니다 🙂"
      ]
    },
    {
      "cell_type": "code",
      "metadata": {
        "id": "VHSOO82gLgzc"
      },
      "source": [
        "import tensorflow as tf \n",
        "from tensorflow.keras.layers import Dense, Flatten \n",
        "from tensorflow.keras.models import Sequential"
      ],
      "execution_count": null,
      "outputs": []
    },
    {
      "cell_type": "markdown",
      "metadata": {
        "id": "7zqoIK4yMBz7"
      },
      "source": [
        "아래 코드는 학습 경과를 나타내는 Learning curve를 그리는 기능을 수행합니다\n",
        "\n",
        "python에서 플롯을 그리기 쉽게 도와주는 matplotlib을 활용하였습니다.\n",
        "\n",
        "아래 코드는 단순한 개발영역이므로... 이 코드를 찬찬히 뜯어보실 필요는 없습니다.\n",
        "\n",
        "나중에 학습이 끝나고 그려진 learning curve를 해석하실 수만 있다면 됩니다."
      ]
    },
    {
      "cell_type": "code",
      "metadata": {
        "id": "EfXpR2kdtPkO"
      },
      "source": [
        "import matplotlib.pyplot as plt\n",
        "\n",
        "def plot_history(histories):\n",
        "  plt.figure(figsize=(9,6))\n",
        "\n",
        "  for history in histories:\n",
        "    plt.plot(history.epoch, history.history['accuracy'], label='training')\n",
        "    plt.plot(history.epoch, history.history['val_accuracy'], label='validation')\n",
        "\n",
        "  plt.xlabel('Epochs')\n",
        "  plt.ylabel('ACC')\n",
        "  plt.legend()\n",
        "\n",
        "  plt.xlim([0,max(history.epoch)])"
      ],
      "execution_count": null,
      "outputs": []
    },
    {
      "cell_type": "markdown",
      "metadata": {
        "id": "3CpPRzPKCYh6"
      },
      "source": [
        "MNIST 데이터를 로드해줍니다. \n",
        "\n",
        "7만장의 데이터를 학습(training), 검증(validation), 테스트(test) 셋으로 나누어줍니다."
      ]
    },
    {
      "cell_type": "code",
      "metadata": {
        "id": "USG4Wm4lCPzE"
      },
      "source": [
        "# data load\n",
        "mnist = tf.keras.datasets.mnist\n",
        "(x_train, y_train), (x_test, y_test) = mnist.load_data()\n",
        "\n",
        "# 0~255의 픽셀 값을 0~1로 조정\n",
        "x_train, x_test = x_train / 255.0, x_test / 255.0\n",
        "\n",
        "# shape 조정\n",
        "x_train = x_train.reshape(60000,28,28,1)\n",
        "x_test = x_test.reshape(10000,28,28,1)\n",
        "\n",
        "# 정답 label을 길이10 벡터화\n",
        "y_train = tf.one_hot(y_train, depth=10)\n",
        "y_test = tf.one_hot(y_test, depth=10)\n",
        "\n",
        "# validation set 별도 구분\n",
        "x_train, x_val = x_train[:50000], x_train[50000:]\n",
        "y_train, y_val = y_train[:50000], y_train[50000:]"
      ],
      "execution_count": null,
      "outputs": []
    },
    {
      "cell_type": "markdown",
      "metadata": {
        "id": "TEOFq6uym13R"
      },
      "source": [
        "바로 실습미션부터 수행해보겠습니다.\n",
        "\n",
        "새로운 내용이 아니라, 앞의 두 실습에서 수행했던 모델 아키텍처 구성이므로 익숙하게 하실 수 있을겁니다\n",
        "\n",
        "# MISSION #1 : 베이스 모델 만들고 학습하기\n",
        "\n",
        "* 1024짜리 노드를 가진 Dense레이어 5층 쌓기\n",
        "* 위에서 구성한 레이어 각각 Activation으로 ReLU 이용\n",
        "* 출력 레이어로는 Dense레이어 구성, softmax 활용하여 10개 숫자 분류\n",
        "\n",
        "(힌트 : 위 내용으로만 구성하면 학습이 제대로 이뤄지지 않습니다. FNN을 적용할 땐 맨 앞에서 고차원 이미지를 1차원으로 납작하게 누르는 레이어가 들어가야 합니다)"
      ]
    },
    {
      "cell_type": "code",
      "metadata": {
        "id": "rMqQHhsECPrb",
        "colab": {
          "base_uri": "https://localhost:8080/",
          "height": 1000
        },
        "outputId": "6126cadf-cc30-44d4-f563-c2e1f6d715d0"
      },
      "source": [
        "model = tf.keras.models.Sequential([ \n",
        "\n",
        "# 이 부분에 미션 코드를 작성하세요!  \n",
        "Flatten(),\n",
        "Dense(1024, activation='relu'),\n",
        "Dense(1024, activation='relu'),\n",
        "Dense(1024, activation='relu'),\n",
        "Dense(1024, activation='relu'),\n",
        "Dense(1024, activation='relu'),\n",
        "Dense(10, activation='softmax'),\n",
        "])\n",
        "\n",
        "model.compile(optimizer='adam',loss='categorical_crossentropy',metrics=['accuracy'])\n",
        "\n",
        "history = model.fit(x_train, y_train, batch_size=256, epochs=25, validation_data=(x_val, y_val), verbose=1)\n",
        "result = model.evaluate(x_test,  y_test, verbose=2)\n",
        "\n",
        "plot_history([history])"
      ],
      "execution_count": 5,
      "outputs": [
        {
          "output_type": "stream",
          "text": [
            "Epoch 1/25\n",
            "196/196 [==============================] - 6s 14ms/step - loss: 0.5568 - accuracy: 0.8243 - val_loss: 0.1331 - val_accuracy: 0.9621\n",
            "Epoch 2/25\n",
            "196/196 [==============================] - 2s 11ms/step - loss: 0.0959 - accuracy: 0.9711 - val_loss: 0.1057 - val_accuracy: 0.9681\n",
            "Epoch 3/25\n",
            "196/196 [==============================] - 2s 11ms/step - loss: 0.0609 - accuracy: 0.9821 - val_loss: 0.0994 - val_accuracy: 0.9707\n",
            "Epoch 4/25\n",
            "196/196 [==============================] - 2s 11ms/step - loss: 0.0476 - accuracy: 0.9854 - val_loss: 0.1020 - val_accuracy: 0.9722\n",
            "Epoch 5/25\n",
            "196/196 [==============================] - 2s 10ms/step - loss: 0.0422 - accuracy: 0.9864 - val_loss: 0.0910 - val_accuracy: 0.9776\n",
            "Epoch 6/25\n",
            "196/196 [==============================] - 2s 11ms/step - loss: 0.0310 - accuracy: 0.9910 - val_loss: 0.1026 - val_accuracy: 0.9759\n",
            "Epoch 7/25\n",
            "196/196 [==============================] - 2s 11ms/step - loss: 0.0286 - accuracy: 0.9916 - val_loss: 0.0935 - val_accuracy: 0.9777\n",
            "Epoch 8/25\n",
            "196/196 [==============================] - 2s 11ms/step - loss: 0.0237 - accuracy: 0.9932 - val_loss: 0.1145 - val_accuracy: 0.9766\n",
            "Epoch 9/25\n",
            "196/196 [==============================] - 2s 11ms/step - loss: 0.0215 - accuracy: 0.9939 - val_loss: 0.0997 - val_accuracy: 0.9792\n",
            "Epoch 10/25\n",
            "196/196 [==============================] - 2s 11ms/step - loss: 0.0188 - accuracy: 0.9948 - val_loss: 0.1168 - val_accuracy: 0.9733\n",
            "Epoch 11/25\n",
            "196/196 [==============================] - 2s 11ms/step - loss: 0.0248 - accuracy: 0.9927 - val_loss: 0.1072 - val_accuracy: 0.9794\n",
            "Epoch 12/25\n",
            "196/196 [==============================] - 2s 11ms/step - loss: 0.0158 - accuracy: 0.9955 - val_loss: 0.0891 - val_accuracy: 0.9795\n",
            "Epoch 13/25\n",
            "196/196 [==============================] - 2s 11ms/step - loss: 0.0154 - accuracy: 0.9951 - val_loss: 0.1226 - val_accuracy: 0.9754\n",
            "Epoch 14/25\n",
            "196/196 [==============================] - 2s 11ms/step - loss: 0.0179 - accuracy: 0.9949 - val_loss: 0.1066 - val_accuracy: 0.9795\n",
            "Epoch 15/25\n",
            "196/196 [==============================] - 2s 11ms/step - loss: 0.0131 - accuracy: 0.9965 - val_loss: 0.1083 - val_accuracy: 0.9796\n",
            "Epoch 16/25\n",
            "196/196 [==============================] - 2s 11ms/step - loss: 0.0131 - accuracy: 0.9966 - val_loss: 0.1282 - val_accuracy: 0.9767\n",
            "Epoch 17/25\n",
            "196/196 [==============================] - 2s 11ms/step - loss: 0.0123 - accuracy: 0.9963 - val_loss: 0.1151 - val_accuracy: 0.9798\n",
            "Epoch 18/25\n",
            "196/196 [==============================] - 2s 10ms/step - loss: 0.0132 - accuracy: 0.9963 - val_loss: 0.1179 - val_accuracy: 0.9778\n",
            "Epoch 19/25\n",
            "196/196 [==============================] - 2s 11ms/step - loss: 0.0148 - accuracy: 0.9960 - val_loss: 0.1396 - val_accuracy: 0.9768\n",
            "Epoch 20/25\n",
            "196/196 [==============================] - 2s 11ms/step - loss: 0.0171 - accuracy: 0.9955 - val_loss: 0.1085 - val_accuracy: 0.9799\n",
            "Epoch 21/25\n",
            "196/196 [==============================] - 2s 11ms/step - loss: 0.0121 - accuracy: 0.9969 - val_loss: 0.1360 - val_accuracy: 0.9772\n",
            "Epoch 22/25\n",
            "196/196 [==============================] - 2s 11ms/step - loss: 0.0205 - accuracy: 0.9950 - val_loss: 0.1252 - val_accuracy: 0.9805\n",
            "Epoch 23/25\n",
            "196/196 [==============================] - 2s 11ms/step - loss: 0.0105 - accuracy: 0.9977 - val_loss: 0.1191 - val_accuracy: 0.9826\n",
            "Epoch 24/25\n",
            "196/196 [==============================] - 2s 11ms/step - loss: 0.0106 - accuracy: 0.9973 - val_loss: 0.1448 - val_accuracy: 0.9801\n",
            "Epoch 25/25\n",
            "196/196 [==============================] - 2s 11ms/step - loss: 0.0128 - accuracy: 0.9974 - val_loss: 0.1253 - val_accuracy: 0.9788\n",
            "313/313 - 1s - loss: 0.1128 - accuracy: 0.9810\n"
          ],
          "name": "stdout"
        },
        {
          "output_type": "display_data",
          "data": {
            "image/png": "[encoded data removed]",
            "text/plain": [
              "<Figure size 648x432 with 1 Axes>"
            ]
          },
          "metadata": {
            "tags": [],
            "needs_background": "light"
          }
        }
      ]
    },
    {
      "cell_type": "markdown",
      "metadata": {
        "id": "Pyazx80kptNs"
      },
      "source": [
        "# MISSION #2 : Early stopping 구현하기\n",
        "\n",
        "tf.keras.callbacks.EarlyStopping 기능을 활용하면\n",
        "\n",
        "매 epoch마다 지정한 metric을 기준으로 early stopping을 수행할 수 있습니다.\n",
        "\n",
        "* 위 MISSION에서 작성한 모델을 복사해오기, 50 epoch동안 학습\n",
        "\n",
        "* 매 epoch마다 validation accuracy를 체크해서, 최고기록을 갱신하지 못하는 경우가 3번 연속 지속된다면 학습을 거기서 중단하도록 하자!\n",
        "\n"
      ]
    },
    {
      "cell_type": "markdown",
      "metadata": {
        "id": "lkueZpdaWVTt"
      },
      "source": [
        "힌트 : Early stopping 콜백 기능에서, patience 옵션을 통해 조절할 수 있습니다.\n",
        "\n",
        "* 한번이라도 정확도가 감소하면 바로 stop하고 싶다 --> patience=1\n",
        "* 두번은 봐주자! 연속 두번 감소하면 그때 학습을 stop하자 --> patience=2\n",
        "* ..."
      ]
    },
    {
      "cell_type": "code",
      "metadata": {
        "id": "25GDS7YQWEV2",
        "colab": {
          "base_uri": "https://localhost:8080/",
          "height": 982
        },
        "outputId": "39c6a3c2-4de4-43f2-c567-80e4b733b1c5"
      },
      "source": [
        "model = tf.keras.models.Sequential([\n",
        "\n",
        "# MISSION#1에서 작성했던 기준 모델을 복사해와서 활용하세요!  \n",
        "Flatten(),\n",
        "Dense(1024, activation='relu'),\n",
        "Dense(1024, activation='relu'),\n",
        "Dense(1024, activation='relu'),\n",
        "Dense(1024, activation='relu'),\n",
        "Dense(1024, activation='relu'),\n",
        "Dense(10, activation='softmax'),\n",
        "])\n",
        "\n",
        "model.compile(optimizer='adam',loss='categorical_crossentropy',metrics=['accuracy'])\n",
        "\n",
        "early_stop = tf.keras.callbacks.EarlyStopping(monitor='val_accuracy', patience=3)  # 빈칸을 채워봅시다!\n",
        "\n",
        "history = model.fit(x_train, y_train, batch_size=256, epochs=50, validation_data=(x_val, y_val), callbacks=[early_stop], verbose=1)\n",
        "result = model.evaluate(x_test,  y_test, verbose=2)\n",
        "plot_history([history])"
      ],
      "execution_count": 6,
      "outputs": [
        {
          "output_type": "stream",
          "text": [
            "Epoch 1/50\n",
            "196/196 [==============================] - 3s 12ms/step - loss: 0.5278 - accuracy: 0.8299 - val_loss: 0.1331 - val_accuracy: 0.9584\n",
            "Epoch 2/50\n",
            "196/196 [==============================] - 2s 11ms/step - loss: 0.0936 - accuracy: 0.9720 - val_loss: 0.1131 - val_accuracy: 0.9657\n",
            "Epoch 3/50\n",
            "196/196 [==============================] - 2s 11ms/step - loss: 0.0708 - accuracy: 0.9789 - val_loss: 0.1111 - val_accuracy: 0.9698\n",
            "Epoch 4/50\n",
            "196/196 [==============================] - 2s 11ms/step - loss: 0.0573 - accuracy: 0.9826 - val_loss: 0.1053 - val_accuracy: 0.9716\n",
            "Epoch 5/50\n",
            "196/196 [==============================] - 2s 11ms/step - loss: 0.0449 - accuracy: 0.9860 - val_loss: 0.0892 - val_accuracy: 0.9768\n",
            "Epoch 6/50\n",
            "196/196 [==============================] - 2s 11ms/step - loss: 0.0382 - accuracy: 0.9890 - val_loss: 0.1039 - val_accuracy: 0.9762\n",
            "Epoch 7/50\n",
            "196/196 [==============================] - 2s 11ms/step - loss: 0.0297 - accuracy: 0.9912 - val_loss: 0.0950 - val_accuracy: 0.9795\n",
            "Epoch 8/50\n",
            "196/196 [==============================] - 2s 11ms/step - loss: 0.0228 - accuracy: 0.9934 - val_loss: 0.1008 - val_accuracy: 0.9773\n",
            "Epoch 9/50\n",
            "196/196 [==============================] - 2s 11ms/step - loss: 0.0235 - accuracy: 0.9931 - val_loss: 0.0904 - val_accuracy: 0.9800\n",
            "Epoch 10/50\n",
            "196/196 [==============================] - 2s 11ms/step - loss: 0.0171 - accuracy: 0.9951 - val_loss: 0.1008 - val_accuracy: 0.9799\n",
            "Epoch 11/50\n",
            "196/196 [==============================] - 2s 11ms/step - loss: 0.0176 - accuracy: 0.9948 - val_loss: 0.0944 - val_accuracy: 0.9795\n",
            "Epoch 12/50\n",
            "196/196 [==============================] - 2s 11ms/step - loss: 0.0176 - accuracy: 0.9952 - val_loss: 0.1002 - val_accuracy: 0.9802\n",
            "Epoch 13/50\n",
            "196/196 [==============================] - 2s 11ms/step - loss: 0.0137 - accuracy: 0.9958 - val_loss: 0.1162 - val_accuracy: 0.9803\n",
            "Epoch 14/50\n",
            "196/196 [==============================] - 2s 11ms/step - loss: 0.0159 - accuracy: 0.9950 - val_loss: 0.1032 - val_accuracy: 0.9790\n",
            "Epoch 15/50\n",
            "196/196 [==============================] - 2s 11ms/step - loss: 0.0163 - accuracy: 0.9958 - val_loss: 0.1306 - val_accuracy: 0.9761\n",
            "Epoch 16/50\n",
            "196/196 [==============================] - 2s 11ms/step - loss: 0.0212 - accuracy: 0.9948 - val_loss: 0.1023 - val_accuracy: 0.9794\n",
            "313/313 - 1s - loss: 0.1141 - accuracy: 0.9762\n"
          ],
          "name": "stdout"
        },
        {
          "output_type": "display_data",
          "data": {
            "image/png": "[encoded data removed]",
            "text/plain": [
              "<Figure size 648x432 with 1 Axes>"
            ]
          },
          "metadata": {
            "tags": [],
            "needs_background": "light"
          }
        }
      ]
    },
    {
      "cell_type": "markdown",
      "metadata": {
        "id": "aAFFYrXpWgXF"
      },
      "source": [
        "50 epoch을 수행도록 설정했지만 전부 수행되지 않고, 도중에 early stopping조건을 만족하여 학습이 중단되는 것을 확인하실 수 있습니다."
      ]
    },
    {
      "cell_type": "markdown",
      "metadata": {
        "id": "ATFvlt9VsCjS"
      },
      "source": [
        "# MISSION #3 : Capacity 조정 및 Dropout 구현하기\n",
        "\n",
        "* MISSION #1에서 작성한 기준 모델을 복사해와서,\n",
        "* flatten layer와, hidden dense layer 2층, output dense layer만 남기기\n",
        "* Dropout layer 활용, 레이어 사이마다 50% dropout 적용하기\n",
        "\n",
        "(힌트 : Dropout 기능도 마치 레이어처럼 추가할 수 있습니다. 옵션으로는 dropout할 비율을 0~1사이의 실수값으로 설정하면 됩니다)"
      ]
    },
    {
      "cell_type": "code",
      "metadata": {
        "id": "V8pg6owfagNc"
      },
      "source": [
        "# 필요한 기능을 import하기위한 코드입니다. 실행해주세요~\n",
        "from tensorflow.keras.layers import Dropout"
      ],
      "execution_count": null,
      "outputs": []
    },
    {
      "cell_type": "code",
      "metadata": {
        "id": "AmkQ6brGrLuX",
        "colab": {
          "base_uri": "https://localhost:8080/",
          "height": 1000
        },
        "outputId": "6b0377d5-b9ed-471f-e4b6-457928760f22"
      },
      "source": [
        "model = tf.keras.models.Sequential([\n",
        "\n",
        "# MISSION#1에서 작성했던 기준 모델을 복사해와서 활용하세요!  \n",
        "Flatten(),\n",
        "Dropout(0.5),\n",
        "Dense(1024, activation='relu'),\n",
        "Dropout(0.5),\n",
        "Dense(1024, activation='relu'), \n",
        "Dropout(0.5),\n",
        "Dense(10, activation='softmax'),\n",
        "])\n",
        "\n",
        "model.compile(optimizer='adam',loss='categorical_crossentropy',metrics=['accuracy']) \n",
        "\n",
        "history = model.fit(x_train, y_train, batch_size=256, epochs=25, validation_data=(x_val, y_val), verbose=1)\n",
        "result = model.evaluate(x_test,  y_test, verbose=2)\n",
        "plot_history([history])"
      ],
      "execution_count": 7,
      "outputs": [
        {
          "output_type": "stream",
          "text": [
            "Epoch 1/25\n",
            "196/196 [==============================] - 2s 7ms/step - loss: 0.8757 - accuracy: 0.7093 - val_loss: 0.1724 - val_accuracy: 0.9513\n",
            "Epoch 2/25\n",
            "196/196 [==============================] - 1s 7ms/step - loss: 0.3271 - accuracy: 0.8947 - val_loss: 0.1282 - val_accuracy: 0.9627\n",
            "Epoch 3/25\n",
            "196/196 [==============================] - 1s 6ms/step - loss: 0.2544 - accuracy: 0.9186 - val_loss: 0.1201 - val_accuracy: 0.9640\n",
            "Epoch 4/25\n",
            "196/196 [==============================] - 1s 6ms/step - loss: 0.2216 - accuracy: 0.9303 - val_loss: 0.0961 - val_accuracy: 0.9720\n",
            "Epoch 5/25\n",
            "196/196 [==============================] - 1s 6ms/step - loss: 0.2012 - accuracy: 0.9367 - val_loss: 0.0928 - val_accuracy: 0.9736\n",
            "Epoch 6/25\n",
            "196/196 [==============================] - 1s 6ms/step - loss: 0.1875 - accuracy: 0.9403 - val_loss: 0.0867 - val_accuracy: 0.9731\n",
            "Epoch 7/25\n",
            "196/196 [==============================] - 1s 7ms/step - loss: 0.1703 - accuracy: 0.9466 - val_loss: 0.0784 - val_accuracy: 0.9772\n",
            "Epoch 8/25\n",
            "196/196 [==============================] - 1s 7ms/step - loss: 0.1603 - accuracy: 0.9498 - val_loss: 0.0799 - val_accuracy: 0.9750\n",
            "Epoch 9/25\n",
            "196/196 [==============================] - 1s 7ms/step - loss: 0.1636 - accuracy: 0.9474 - val_loss: 0.0771 - val_accuracy: 0.9759\n",
            "Epoch 10/25\n",
            "196/196 [==============================] - 1s 7ms/step - loss: 0.1527 - accuracy: 0.9516 - val_loss: 0.0772 - val_accuracy: 0.9766\n",
            "Epoch 11/25\n",
            "196/196 [==============================] - 1s 7ms/step - loss: 0.1465 - accuracy: 0.9528 - val_loss: 0.0735 - val_accuracy: 0.9779\n",
            "Epoch 12/25\n",
            "196/196 [==============================] - 1s 7ms/step - loss: 0.1391 - accuracy: 0.9530 - val_loss: 0.0743 - val_accuracy: 0.9774\n",
            "Epoch 13/25\n",
            "196/196 [==============================] - 1s 7ms/step - loss: 0.1338 - accuracy: 0.9551 - val_loss: 0.0707 - val_accuracy: 0.9790\n",
            "Epoch 14/25\n",
            "196/196 [==============================] - 1s 7ms/step - loss: 0.1326 - accuracy: 0.9572 - val_loss: 0.0738 - val_accuracy: 0.9767\n",
            "Epoch 15/25\n",
            "196/196 [==============================] - 1s 7ms/step - loss: 0.1298 - accuracy: 0.9579 - val_loss: 0.0693 - val_accuracy: 0.9798\n",
            "Epoch 16/25\n",
            "196/196 [==============================] - 1s 7ms/step - loss: 0.1273 - accuracy: 0.9586 - val_loss: 0.0706 - val_accuracy: 0.9792\n",
            "Epoch 17/25\n",
            "196/196 [==============================] - 1s 7ms/step - loss: 0.1210 - accuracy: 0.9605 - val_loss: 0.0669 - val_accuracy: 0.9808\n",
            "Epoch 18/25\n",
            "196/196 [==============================] - 1s 7ms/step - loss: 0.1202 - accuracy: 0.9609 - val_loss: 0.0682 - val_accuracy: 0.9792\n",
            "Epoch 19/25\n",
            "196/196 [==============================] - 1s 7ms/step - loss: 0.1157 - accuracy: 0.9623 - val_loss: 0.0652 - val_accuracy: 0.9819\n",
            "Epoch 20/25\n",
            "196/196 [==============================] - 1s 7ms/step - loss: 0.1185 - accuracy: 0.9603 - val_loss: 0.0625 - val_accuracy: 0.9806\n",
            "Epoch 21/25\n",
            "196/196 [==============================] - 1s 7ms/step - loss: 0.1169 - accuracy: 0.9610 - val_loss: 0.0624 - val_accuracy: 0.9820\n",
            "Epoch 22/25\n",
            "196/196 [==============================] - 1s 7ms/step - loss: 0.1134 - accuracy: 0.9635 - val_loss: 0.0586 - val_accuracy: 0.9829\n",
            "Epoch 23/25\n",
            "196/196 [==============================] - 1s 7ms/step - loss: 0.1086 - accuracy: 0.9642 - val_loss: 0.0601 - val_accuracy: 0.9817\n",
            "Epoch 24/25\n",
            "196/196 [==============================] - 1s 7ms/step - loss: 0.1097 - accuracy: 0.9654 - val_loss: 0.0598 - val_accuracy: 0.9816\n",
            "Epoch 25/25\n",
            "196/196 [==============================] - 1s 7ms/step - loss: 0.1069 - accuracy: 0.9649 - val_loss: 0.0628 - val_accuracy: 0.9813\n",
            "313/313 - 1s - loss: 0.0564 - accuracy: 0.9822\n"
          ],
          "name": "stdout"
        },
        {
          "output_type": "display_data",
          "data": {
            "image/png": "[encoded data removed]",
            "text/plain": [
              "<Figure size 648x432 with 1 Axes>"
            ]
          },
          "metadata": {
            "tags": [],
            "needs_background": "light"
          }
        }
      ]
    },
    {
      "cell_type": "code",
      "metadata": {
        "id": "z6r3geRANxNF"
      },
      "source": [
        ""
      ],
      "execution_count": null,
      "outputs": []
    }
  ]
}