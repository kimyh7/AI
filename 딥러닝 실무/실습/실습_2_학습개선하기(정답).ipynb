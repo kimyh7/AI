{
  "nbformat": 4,
  "nbformat_minor": 0,
  "metadata": {
    "colab": {
      "name": "실습_2_학습개선하기(정답).ipynb",
      "provenance": [],
      "collapsed_sections": [],
      "toc_visible": true
    },
    "kernelspec": {
      "name": "python3",
      "display_name": "Python 3"
    },
    "accelerator": "GPU"
  },
  "cells": [
    {
      "cell_type": "markdown",
      "metadata": {
        "id": "2v7Ohf_TBgGH"
      },
      "source": [
        "#Activation / Loss / Optimizer"
      ]
    },
    {
      "cell_type": "markdown",
      "metadata": {
        "id": "JtDbxOlwXNj_"
      },
      "source": [
        "필요한 라이브러리를 Import해줍니다.\n",
        "\n",
        "Tensorflow를 tf라는 이름으로 불러오고,\n",
        "\n",
        "모델 아키텍쳐를 묶어서 구성할 수 있게 하는 Sequential,\n",
        "\n",
        "FNN의 기본 레이어인 Dense와 이미지를 1차원 벡터로 납작하게 눌러주는 Flatten을 불러옵니다."
      ]
    },
    {
      "cell_type": "code",
      "metadata": {
        "id": "VHSOO82gLgzc"
      },
      "source": [
        "import tensorflow as tf \n",
        "from tensorflow.keras.models import Sequential\n",
        "from tensorflow.keras.layers import Dense, Flatten "
      ],
      "execution_count": 1,
      "outputs": []
    },
    {
      "cell_type": "markdown",
      "metadata": {
        "id": "uqiuIEVsCVng"
      },
      "source": [
        "# 기존 신경망 아키텍처에 조건 바꿔 적용해보기\n"
      ]
    },
    {
      "cell_type": "markdown",
      "metadata": {
        "id": "fugW_rlGXg1Z"
      },
      "source": [
        "MNIST 데이터를 불러옵니다. \n",
        "\n",
        "데이터를 불러오는 문구는 1번 실습 파일과 동일합니다. \n",
        "\n",
        "MNIST 데이터는 학습용 5만 장, 검증용 1만 장, 테스트용 1만 장, 총 7만 장의 손글씨 숫자 이미지가 있고,\n",
        "\n",
        "각각의 이미지에 대한 정답 라벨이 길이 10짜리의 벡터로 구성되어있습니다."
      ]
    },
    {
      "cell_type": "code",
      "metadata": {
        "id": "USG4Wm4lCPzE",
        "colab": {
          "base_uri": "https://localhost:8080/"
        },
        "outputId": "49acc06d-2a1c-4dc5-be23-5c7a8bf2012f"
      },
      "source": [
        "# data load\n",
        "mnist = tf.keras.datasets.mnist\n",
        "(x_train, y_train), (x_test, y_test) = mnist.load_data()\n",
        "\n",
        "# 0~255의 픽셀 값을 0~1로 조정\n",
        "x_train, x_test = x_train / 255.0, x_test / 255.0\n",
        "\n",
        "# shape 조정\n",
        "x_train = x_train.reshape(60000,28,28,1)\n",
        "x_test = x_test.reshape(10000,28,28,1)\n",
        "\n",
        "# 정답 label을 길이10 벡터화\n",
        "y_train = tf.one_hot(y_train, depth=10)\n",
        "y_test = tf.one_hot(y_test, depth=10)\n",
        "\n",
        "# validation set 별도 구분\n",
        "x_train, x_val = x_train[:50000], x_train[50000:]\n",
        "y_train, y_val = y_train[:50000], y_train[50000:]"
      ],
      "execution_count": 2,
      "outputs": [
        {
          "output_type": "stream",
          "text": [
            "Downloading data from https://storage.googleapis.com/tensorflow/tf-keras-datasets/mnist.npz\n",
            "11493376/11490434 [==============================] - 0s 0us/step\n"
          ],
          "name": "stdout"
        }
      ]
    },
    {
      "cell_type": "markdown",
      "metadata": {
        "id": "XsFWfCqKCbdc"
      },
      "source": [
        "# 아키텍쳐 구현 및 학습\n",
        "\n",
        "모델 아키텍처를 구현합니다.\n",
        "\n",
        "2차원의 이미지를 납작하게 누르고 Dense layer를 두 층 연결하되,\n",
        "\n",
        "첫 번째 Dense 의 노드 수는 50으로 설정하였습니다.\n",
        "\n",
        "나머지 설정은 앞서 실습했던 파일과 다르지 않습니다.\n",
        "\n",
        "10epoch동안 학습합니다."
      ]
    },
    {
      "cell_type": "code",
      "metadata": {
        "id": "rMqQHhsECPrb",
        "colab": {
          "base_uri": "https://localhost:8080/"
        },
        "outputId": "3eaf5c6b-ff60-4326-e2aa-c00ced944be3"
      },
      "source": [
        "model = tf.keras.models.Sequential([\n",
        "  tf.keras.layers.Flatten(input_shape=(28, 28, 1)),\n",
        "  tf.keras.layers.Dense(50, activation='sigmoid'),\n",
        "  tf.keras.layers.Dense(10, activation='softmax')\n",
        "])\n",
        "\n",
        "# 커스터마이징을 위해선 기존 방식 이용, 기본 기능 활용하려면 string으로 이름을 입력\n",
        "\n",
        "# 커스터마이징\n",
        "# sgd_optimizer = tf.keras.optimizers.SGD(learning_rate=1.0) \n",
        "# mse_loss = tf.keras.losses.MeanSquaredError()\n",
        "# model.compile(optimizer=sgd_optimizer, loss=mse_loss, metrics=['accuracy'])  \n",
        "\n",
        "# 기본 기능 활용\n",
        "model.compile(optimizer='sgd',loss='mean_squared_error',metrics=['accuracy'])\n",
        "\n",
        "history = model.fit(x_train, y_train, epochs=10, validation_data=(x_val, y_val), verbose=2)\n",
        "result = model.evaluate(x_test,  y_test, verbose=2)"
      ],
      "execution_count": 3,
      "outputs": [
        {
          "output_type": "stream",
          "text": [
            "Epoch 1/10\n",
            "1563/1563 - 7s - loss: 0.0925 - accuracy: 0.1288 - val_loss: 0.0913 - val_accuracy: 0.1571\n",
            "Epoch 2/10\n",
            "1563/1563 - 4s - loss: 0.0906 - accuracy: 0.1828 - val_loss: 0.0899 - val_accuracy: 0.2211\n",
            "Epoch 3/10\n",
            "1563/1563 - 4s - loss: 0.0894 - accuracy: 0.2461 - val_loss: 0.0887 - val_accuracy: 0.2896\n",
            "Epoch 4/10\n",
            "1563/1563 - 3s - loss: 0.0883 - accuracy: 0.3062 - val_loss: 0.0875 - val_accuracy: 0.3467\n",
            "Epoch 5/10\n",
            "1563/1563 - 4s - loss: 0.0872 - accuracy: 0.3535 - val_loss: 0.0864 - val_accuracy: 0.3891\n",
            "Epoch 6/10\n",
            "1563/1563 - 4s - loss: 0.0860 - accuracy: 0.3847 - val_loss: 0.0851 - val_accuracy: 0.4142\n",
            "Epoch 7/10\n",
            "1563/1563 - 4s - loss: 0.0848 - accuracy: 0.4065 - val_loss: 0.0839 - val_accuracy: 0.4379\n",
            "Epoch 8/10\n",
            "1563/1563 - 4s - loss: 0.0836 - accuracy: 0.4256 - val_loss: 0.0826 - val_accuracy: 0.4537\n",
            "Epoch 9/10\n",
            "1563/1563 - 4s - loss: 0.0823 - accuracy: 0.4427 - val_loss: 0.0812 - val_accuracy: 0.4660\n",
            "Epoch 10/10\n",
            "1563/1563 - 3s - loss: 0.0810 - accuracy: 0.4498 - val_loss: 0.0798 - val_accuracy: 0.4768\n",
            "313/313 - 1s - loss: 0.0801 - accuracy: 0.4589\n"
          ],
          "name": "stdout"
        }
      ]
    },
    {
      "cell_type": "markdown",
      "metadata": {
        "id": "O0FfVOYhZGVk"
      },
      "source": [
        "10 epoch을 학습하고 나니 테스트셋에 대한 분류정확도(accuracy)가 약 40%정도 나오는군요\n",
        "\n",
        "아래 미션을 수행하고 결과를 비교해봅시다."
      ]
    },
    {
      "cell_type": "markdown",
      "metadata": {
        "id": "dI-GrVm-F09C"
      },
      "source": [
        "# 실습 MISSION #1\n",
        "위에서 작성했던 코드를 조건에 맞게 변경해보자!\n",
        "\n",
        "* activation을 relu로 변경\n",
        "* loss를 cross-entropy로 변경 ('categorical_crossentropy', 하기 링크 참고)\n",
        "* optimizer를 adam으로 변경\n",
        "\n",
        "(힌트 : MNIST 숫자를 분류하는 과제이므로 output layer의 activation은 'softmax'여야 합니다. hidden layer에 한해서만 activation 설정을 변경해보세요)"
      ]
    },
    {
      "cell_type": "markdown",
      "metadata": {
        "id": "hGNJ8cawX8oz"
      },
      "source": [
        "**참고 링크**\n",
        "\n",
        "* [tf.keras.activations docs](https://www.tensorflow.org/api_docs/python/tf/keras/activations)\n",
        "\n",
        "* [tf.keras.losses docs](https://www.tensorflow.org/api_docs/python/tf/keras/losses)\n",
        "\n",
        "* [tf.keras.optimizer docs](https://www.tensorflow.org/api_docs/python/tf/keras/optimizers)"
      ]
    },
    {
      "cell_type": "code",
      "metadata": {
        "id": "4J9nrHuQIaE5",
        "colab": {
          "base_uri": "https://localhost:8080/"
        },
        "outputId": "ff9197d4-d9c4-41db-a54e-06355dc8979b"
      },
      "source": [
        "# 아래 코드에서 MISSION 내용을 반영하여 학습하세요\n",
        "\n",
        "model_m1 = tf.keras.models.Sequential([\n",
        "  tf.keras.layers.Flatten(input_shape=(28, 28, 1)),\n",
        "  tf.keras.layers.Dense(50, activation='relu'),\n",
        "  tf.keras.layers.Dense(10, activation='softmax')\n",
        "])\n",
        " \n",
        "model_m1.compile(optimizer='adam',loss='categorical_crossentropy',metrics=['accuracy'])\n",
        "\n",
        "history_m1 = model_m1.fit(x_train, y_train, epochs=10, validation_data=(x_val, y_val), verbose=2)\n",
        "result_m1 = model_m1.evaluate(x_test,  y_test, verbose=2)"
      ],
      "execution_count": 5,
      "outputs": [
        {
          "output_type": "stream",
          "text": [
            "Epoch 1/10\n",
            "1563/1563 - 5s - loss: 0.3488 - accuracy: 0.9016 - val_loss: 0.1990 - val_accuracy: 0.9449\n",
            "Epoch 2/10\n",
            "1563/1563 - 4s - loss: 0.1729 - accuracy: 0.9498 - val_loss: 0.1366 - val_accuracy: 0.9612\n",
            "Epoch 3/10\n",
            "1563/1563 - 4s - loss: 0.1283 - accuracy: 0.9627 - val_loss: 0.1248 - val_accuracy: 0.9646\n",
            "Epoch 4/10\n",
            "1563/1563 - 4s - loss: 0.1029 - accuracy: 0.9700 - val_loss: 0.1159 - val_accuracy: 0.9668\n",
            "Epoch 5/10\n",
            "1563/1563 - 4s - loss: 0.0856 - accuracy: 0.9749 - val_loss: 0.1059 - val_accuracy: 0.9684\n",
            "Epoch 6/10\n",
            "1563/1563 - 4s - loss: 0.0737 - accuracy: 0.9781 - val_loss: 0.1042 - val_accuracy: 0.9704\n",
            "Epoch 7/10\n",
            "1563/1563 - 4s - loss: 0.0640 - accuracy: 0.9806 - val_loss: 0.0971 - val_accuracy: 0.9721\n",
            "Epoch 8/10\n",
            "1563/1563 - 4s - loss: 0.0570 - accuracy: 0.9825 - val_loss: 0.0985 - val_accuracy: 0.9724\n",
            "Epoch 9/10\n",
            "1563/1563 - 4s - loss: 0.0477 - accuracy: 0.9858 - val_loss: 0.0981 - val_accuracy: 0.9736\n",
            "Epoch 10/10\n",
            "1563/1563 - 4s - loss: 0.0433 - accuracy: 0.9869 - val_loss: 0.1033 - val_accuracy: 0.9723\n",
            "313/313 - 1s - loss: 0.0888 - accuracy: 0.9734\n"
          ],
          "name": "stdout"
        }
      ]
    },
    {
      "cell_type": "markdown",
      "metadata": {
        "id": "-kX7zzWLZd-S"
      },
      "source": [
        "위 MISSION은 모델의 아키텍쳐 구조는 그대로 두고, 구조 外 설정들만 2챕터에서 배운 내용으로 변경하였습니다\n",
        "\n",
        "이런 설정 변경만으로 테스트셋에 대한 성능 결과가 어떻게 달라졌나요?"
      ]
    },
    {
      "cell_type": "markdown",
      "metadata": {
        "id": "K2x4v59QIZoo"
      },
      "source": [
        "# 실습 MISSION #2\n",
        "다양한 optimizer를 테스트하고 수렴 속도를 확인하자\n",
        "\n",
        "위 MISSION에서 작성한 모델을 활용, \n",
        "두 개의 서로다른 모델(model_sgd, model_sgdm)을 만들어 아래 두 optimizer를 각각 적용하고 빌드하여 history를 다른이름으로 저장(history_sgd, history_sgdm)한 뒤 그래프로 나타내시오\n",
        "\n",
        "* SGD (기본설정)\n",
        "* SGD with learning rate 0.1, momentum 0.1\n",
        "\n",
        "(힌트, learning rate를 수정해보았던 것처럼 momentum 값도 커스터마이징할 수 있습니다!)"
      ]
    },
    {
      "cell_type": "code",
      "metadata": {
        "id": "zL4CMeKPKA7K",
        "colab": {
          "base_uri": "https://localhost:8080/"
        },
        "outputId": "0ab9146d-45d8-4416-b6c4-7bb7184af0e4"
      },
      "source": [
        "# 아래 코드에서 MISSION 내용을 반영하여 학습하세요\n",
        "\n",
        "\n",
        "model_sgd = tf.keras.models.Sequential([\n",
        "  tf.keras.layers.Flatten(input_shape=(28, 28, 1)),\n",
        "  tf.keras.layers.Dense(50, activation='relu'),\n",
        "  tf.keras.layers.Dense(10, activation='softmax')\n",
        "])\n",
        "\n",
        "model_sgd.compile(optimizer='sgd',loss='categorical_crossentropy',metrics=['accuracy'])   ##### SGD를 적용하도록 바꿔보세요\n",
        "history_sgd = model_sgd.fit(x_train, y_train, epochs=10, validation_data=(x_val, y_val), verbose=2)\n",
        "result_sgd = model_sgd.evaluate(x_test,  y_test, verbose=2)\n",
        "\n",
        "################################################################\n",
        "\n",
        "model_sgdm = tf.keras.models.Sequential([\n",
        "  tf.keras.layers.Flatten(input_shape=(28, 28, 1)),\n",
        "  tf.keras.layers.Dense(50, activation='relu'),\n",
        "  tf.keras.layers.Dense(10, activation='softmax')\n",
        "]) \n",
        "\n",
        "sgdm = tf.keras.optimizers.SGD(learning_rate=0.1, momentum=0.1)  ##### 빈칸을 작성해보세요\n",
        "\n",
        "model_sgdm.compile(optimizer=sgdm,loss='categorical_crossentropy',metrics=['accuracy'])\n",
        "history_sgdm = model_sgdm.fit(x_train, y_train, epochs=10, validation_data=(x_val, y_val), verbose=2)\n",
        "result_sgdm = model_sgdm.evaluate(x_test,  y_test, verbose=2)"
      ],
      "execution_count": 8,
      "outputs": [
        {
          "output_type": "stream",
          "text": [
            "Epoch 1/10\n",
            "1563/1563 - 4s - loss: 0.7428 - accuracy: 0.8076 - val_loss: 0.3747 - val_accuracy: 0.9015\n",
            "Epoch 2/10\n",
            "1563/1563 - 4s - loss: 0.3691 - accuracy: 0.8975 - val_loss: 0.3074 - val_accuracy: 0.9136\n",
            "Epoch 3/10\n",
            "1563/1563 - 4s - loss: 0.3181 - accuracy: 0.9099 - val_loss: 0.2777 - val_accuracy: 0.9227\n",
            "Epoch 4/10\n",
            "1563/1563 - 4s - loss: 0.2887 - accuracy: 0.9185 - val_loss: 0.2546 - val_accuracy: 0.9290\n",
            "Epoch 5/10\n",
            "1563/1563 - 4s - loss: 0.2670 - accuracy: 0.9247 - val_loss: 0.2374 - val_accuracy: 0.9341\n",
            "Epoch 6/10\n",
            "1563/1563 - 4s - loss: 0.2493 - accuracy: 0.9297 - val_loss: 0.2263 - val_accuracy: 0.9360\n",
            "Epoch 7/10\n",
            "1563/1563 - 4s - loss: 0.2343 - accuracy: 0.9341 - val_loss: 0.2164 - val_accuracy: 0.9403\n",
            "Epoch 8/10\n",
            "1563/1563 - 4s - loss: 0.2220 - accuracy: 0.9374 - val_loss: 0.2036 - val_accuracy: 0.9450\n",
            "Epoch 9/10\n",
            "1563/1563 - 4s - loss: 0.2105 - accuracy: 0.9407 - val_loss: 0.1939 - val_accuracy: 0.9466\n",
            "Epoch 10/10\n",
            "1563/1563 - 4s - loss: 0.2006 - accuracy: 0.9433 - val_loss: 0.1867 - val_accuracy: 0.9481\n",
            "313/313 - 1s - loss: 0.1942 - accuracy: 0.9441\n",
            "Epoch 1/10\n",
            "1563/1563 - 5s - loss: 0.3435 - accuracy: 0.9012 - val_loss: 0.2116 - val_accuracy: 0.9401\n",
            "Epoch 2/10\n",
            "1563/1563 - 4s - loss: 0.1892 - accuracy: 0.9448 - val_loss: 0.1596 - val_accuracy: 0.9526\n",
            "Epoch 3/10\n",
            "1563/1563 - 4s - loss: 0.1434 - accuracy: 0.9573 - val_loss: 0.1213 - val_accuracy: 0.9652\n",
            "Epoch 4/10\n",
            "1563/1563 - 4s - loss: 0.1171 - accuracy: 0.9655 - val_loss: 0.1176 - val_accuracy: 0.9675\n",
            "Epoch 5/10\n",
            "1563/1563 - 4s - loss: 0.0979 - accuracy: 0.9704 - val_loss: 0.1153 - val_accuracy: 0.9685\n",
            "Epoch 6/10\n",
            "1563/1563 - 4s - loss: 0.0855 - accuracy: 0.9736 - val_loss: 0.1083 - val_accuracy: 0.9685\n",
            "Epoch 7/10\n",
            "1563/1563 - 4s - loss: 0.0749 - accuracy: 0.9775 - val_loss: 0.1031 - val_accuracy: 0.9716\n",
            "Epoch 8/10\n",
            "1563/1563 - 4s - loss: 0.0667 - accuracy: 0.9802 - val_loss: 0.1059 - val_accuracy: 0.9679\n",
            "Epoch 9/10\n",
            "1563/1563 - 4s - loss: 0.0601 - accuracy: 0.9818 - val_loss: 0.0984 - val_accuracy: 0.9698\n",
            "Epoch 10/10\n",
            "1563/1563 - 4s - loss: 0.0539 - accuracy: 0.9833 - val_loss: 0.1093 - val_accuracy: 0.9682\n",
            "313/313 - 1s - loss: 0.1045 - accuracy: 0.9668\n"
          ],
          "name": "stdout"
        }
      ]
    },
    {
      "cell_type": "code",
      "metadata": {
        "id": "elK3MZxTCPVp",
        "colab": {
          "base_uri": "https://localhost:8080/",
          "height": 606
        },
        "outputId": "bbd7613a-0d81-46cb-ad7a-38260242a859"
      },
      "source": [
        "import matplotlib.pyplot as plt\n",
        "\n",
        "def plot_history(histories):\n",
        "  plt.figure(figsize=(16,10))\n",
        "\n",
        "  for name, history in histories:\n",
        "    plt.plot(history.epoch, history.history['val_loss'], label=name.title()) \n",
        "\n",
        "  plt.xlabel('Epochs')\n",
        "  plt.ylabel('Loss')\n",
        "  plt.legend()\n",
        "\n",
        "  plt.xlim([0,max(history.epoch)])\n",
        "  \n",
        "plot_history([('SGD', history_sgd),\n",
        "              ('SGD w/momentum', history_sgdm)])"
      ],
      "execution_count": 9,
      "outputs": [
        {
          "output_type": "display_data",
          "data": {
            "image/png": "[encoded data removed]",
            "text/plain": [
              "<Figure size 1152x720 with 1 Axes>"
            ]
          },
          "metadata": {
            "tags": [],
            "needs_background": "light"
          }
        }
      ]
    },
    {
      "cell_type": "markdown",
      "metadata": {
        "id": "T5sr9gwNgAol"
      },
      "source": [
        "일반 SGD를 적용할 때보다 momentum 설정을 두어 가속도를 적용하니 모델 수렴속도가 훨씬 빨라진 것을 볼 수 있습니다."
      ]
    }
  ]
}