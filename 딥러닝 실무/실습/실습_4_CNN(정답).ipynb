{
  "nbformat": 4,
  "nbformat_minor": 0,
  "metadata": {
    "colab": {
      "name": "실습_4_CNN(정답)",
      "provenance": [],
      "collapsed_sections": [],
      "toc_visible": true
    },
    "kernelspec": {
      "name": "python3",
      "display_name": "Python 3"
    }
  },
  "cells": [
    {
      "cell_type": "markdown",
      "metadata": {
        "id": "3-VYWTbvUmDt"
      },
      "source": [
        "필요한 라이브러리를 import합니다.\n",
        "\n",
        "오늘새로 배운 Conv 연산과 Pooling 연산이 추가되었습니다."
      ]
    },
    {
      "cell_type": "code",
      "metadata": {
        "id": "VHSOO82gLgzc"
      },
      "source": [
        "import tensorflow as tf \n",
        "\n",
        "from tensorflow.keras.layers import Dense, Flatten, Conv2D, MaxPool2D\n",
        "from tensorflow.keras.models import Sequential"
      ],
      "execution_count": null,
      "outputs": []
    },
    {
      "cell_type": "markdown",
      "metadata": {
        "id": "hGSoUF1AUfdO"
      },
      "source": [
        "Conv2D의 활용을 이해해봅시다!\n",
        "\n",
        "Conv2D 레이어의 첫 번째 옵션은 추출한 feature map의 수 입니다. 현재 설정된 10은 서로다른 conv filter 10개를 활용해서 feature 10개를 뽑아보겠다는 의미입니다.\n",
        "\n",
        "kearnel_size는 conv filter의 가로, 세로 사이즈를 의미합니다. 현재 옵션은 3x3짜리 filter를 적용하겠다는 뜻입니다. 자동으로 정방형 적용됩니다."
      ]
    },
    {
      "cell_type": "code",
      "metadata": {
        "id": "L6KRsAT7VpDe"
      },
      "source": [
        "model_conv = Sequential([\n",
        "                          Conv2D(10, kernel_size=3, activation='relu', input_shape=(28, 28, 1)) # MNIST data : 가로세로 28픽셀, 회색조 이미지\n",
        "                          ]) "
      ],
      "execution_count": null,
      "outputs": []
    },
    {
      "cell_type": "code",
      "metadata": {
        "id": "JYMIUwmid0MF",
        "colab": {
          "base_uri": "https://localhost:8080/"
        },
        "outputId": "2d625964-ad8b-4716-e313-a4038f13d666"
      },
      "source": [
        "model_conv.summary()"
      ],
      "execution_count": null,
      "outputs": [
        {
          "output_type": "stream",
          "text": [
            "Model: \"sequential_5\"\n",
            "_________________________________________________________________\n",
            "Layer (type)                 Output Shape              Param #   \n",
            "=================================================================\n",
            "conv2d_1 (Conv2D)            (None, 26, 26, 10)        100       \n",
            "=================================================================\n",
            "Total params: 100\n",
            "Trainable params: 100\n",
            "Non-trainable params: 0\n",
            "_________________________________________________________________\n"
          ],
          "name": "stdout"
        }
      ]
    },
    {
      "cell_type": "markdown",
      "metadata": {
        "id": "LnVzFYkEWZAh"
      },
      "source": [
        "(28,28,1) 이미지에 (3,3) conv filter를 10장 적용하면 output이 (26,26,10)이 됩니다.\n",
        "\n",
        "이해하셨나요? 머릿속이나 그림판으로 천천히 그려보면 이해하실 수 있을 겁니다."
      ]
    },
    {
      "cell_type": "markdown",
      "metadata": {
        "id": "0wkXt1VPWdBr"
      },
      "source": [
        "\n",
        "# MISSION #1\n",
        "> input의 shape가 \"[None, 100, 100, 1]\"일 때\n",
        "> output의 shape가 '[None, 91, 91, 30]'이 되도록 Conv Layer를 한 층 쌓아보자.\n",
        "\n",
        "위 코드를 참고하여 작성해봅시다 😊"
      ]
    },
    {
      "cell_type": "code",
      "metadata": {
        "id": "2XFOLfXrWhxD",
        "colab": {
          "base_uri": "https://localhost:8080/"
        },
        "outputId": "44a11676-aad4-41cc-e00e-6263945e933c"
      },
      "source": [
        "model_mission1 = Sequential([\n",
        "                             #### ANSWER #### \n",
        "                          Conv2D(30, kernel_size=10, activation='relu', input_shape=(100,100, 1)) # MNIST data : 가로세로 28픽셀, 회색조 이미지  \n",
        "                             ################\n",
        "                             ])\n",
        "model_mission1.summary()"
      ],
      "execution_count": null,
      "outputs": [
        {
          "output_type": "stream",
          "text": [
            "Model: \"sequential_7\"\n",
            "_________________________________________________________________\n",
            "Layer (type)                 Output Shape              Param #   \n",
            "=================================================================\n",
            "conv2d_3 (Conv2D)            (None, 91, 91, 30)        3030      \n",
            "=================================================================\n",
            "Total params: 3,030\n",
            "Trainable params: 3,030\n",
            "Non-trainable params: 0\n",
            "_________________________________________________________________\n"
          ],
          "name": "stdout"
        }
      ]
    },
    {
      "cell_type": "markdown",
      "metadata": {
        "id": "0Hemoa_heZ9_"
      },
      "source": [
        "> Maxpool의 활용을 이해해봅시다!"
      ]
    },
    {
      "cell_type": "code",
      "metadata": {
        "id": "qbUnSfi4blYm"
      },
      "source": [
        "model_mp1 = Sequential([\n",
        "                        MaxPool2D(pool_size=(3, 3), input_shape=(15, 15, 3))\n",
        "])\n",
        "\n",
        "print(model_mp1.input_shape)\n",
        "print(model_mp1.output_shape)"
      ],
      "execution_count": null,
      "outputs": []
    },
    {
      "cell_type": "markdown",
      "metadata": {
        "id": "1tBsEoI_XD7K"
      },
      "source": [
        "Pooling 연산은 텐서의 depth(마지막 차원)에는 영향을 미치지 않는 것을 볼 수 있습니다.\n",
        "\n",
        "Pooling은 데이터의 가로,세로로만 적용됩니다."
      ]
    },
    {
      "cell_type": "code",
      "metadata": {
        "id": "zsC3q3rNf_Pc"
      },
      "source": [
        "model_mp2 = Sequential([\n",
        "                        MaxPool2D(pool_size=(3, 3), input_shape=(30, 30, 3))\n",
        "])\n",
        "\n",
        "# 코드를 실행하기 전에 정답을 예상해봅시다~!\n",
        "\n",
        "print(model_mp2.input_shape)\n",
        "print(model_mp2.output_shape)"
      ],
      "execution_count": null,
      "outputs": []
    },
    {
      "cell_type": "markdown",
      "metadata": {
        "id": "UNqY8gAiUy67"
      },
      "source": [
        "# MISSION #2\n",
        "\n",
        "CIFAR10 데이터가 입력된다고 가정하고 네트워크를 구성해봅시다\n",
        "\n",
        "Conv와 Pooling을 순서대로 쌓으면 됩니다.\n",
        "\n",
        "* 입력 데이터(CIFAR10) : 32 x 32 픽셀, RGB 컬러 이미지\n",
        "* 3x3 필터를 64장 적용하는 convolution layer 1 층\n",
        "* 2x2 pooling을 적용하는 MaxPool layer 1층\n",
        "* 4x4 필터를 128장 적용하는 convolution layer 1 층\n",
        "* 3x3 pooling을 적용하는 MaxPool layer 1층\n",
        "* 3x3 필터를 100장 적용하는 convolution layer 1 층 \n",
        "* 2x2 pooling을 적용하는 MaxPool layer 1층\n",
        "\n",
        "* 모든 conv layer의 activation function으로 ReLU를 활용할 것\n",
        "\n",
        "> 힌트 1: 제대로 위 내용을 구현하였다면 output shape이 (1, 1, 100)이 되어야 합니다.\n",
        "\n",
        "> 힌트 2: 첫 번째 layer에서 input_shape을 지정해줘야 오류가 나지 않습니다. "
      ]
    },
    {
      "cell_type": "code",
      "metadata": {
        "id": "NRwMgDW750mI",
        "colab": {
          "base_uri": "https://localhost:8080/"
        },
        "outputId": "8d4e8653-dde9-4556-ea88-0516669fc294"
      },
      "source": [
        "final_model1 = Sequential([\n",
        "                           # 여기에 mission 코드를 작성하세요 \n",
        "                           Conv2D(64, 3, activation='relu', input_shape=(32,32,3)),\n",
        "                           MaxPool2D(2),\n",
        "                           Conv2D(128, 4, activation='relu'),\n",
        "                           MaxPool2D(3),\n",
        "                           Conv2D(100, 3, activation='relu'),\n",
        "                           MaxPool2D(2)\n",
        "])\n",
        "\n",
        "final_model1.summary()"
      ],
      "execution_count": null,
      "outputs": [
        {
          "output_type": "stream",
          "text": [
            "Model: \"sequential_9\"\n",
            "_________________________________________________________________\n",
            "Layer (type)                 Output Shape              Param #   \n",
            "=================================================================\n",
            "conv2d_7 (Conv2D)            (None, 30, 30, 64)        1792      \n",
            "_________________________________________________________________\n",
            "max_pooling2d_6 (MaxPooling2 (None, 15, 15, 64)        0         \n",
            "_________________________________________________________________\n",
            "conv2d_8 (Conv2D)            (None, 12, 12, 128)       131200    \n",
            "_________________________________________________________________\n",
            "max_pooling2d_7 (MaxPooling2 (None, 4, 4, 128)         0         \n",
            "_________________________________________________________________\n",
            "conv2d_9 (Conv2D)            (None, 2, 2, 100)         115300    \n",
            "_________________________________________________________________\n",
            "max_pooling2d_8 (MaxPooling2 (None, 1, 1, 100)         0         \n",
            "=================================================================\n",
            "Total params: 248,292\n",
            "Trainable params: 248,292\n",
            "Non-trainable params: 0\n",
            "_________________________________________________________________\n"
          ],
          "name": "stdout"
        }
      ]
    },
    {
      "cell_type": "code",
      "metadata": {
        "id": "o0HWPaUJxWwP"
      },
      "source": [
        ""
      ],
      "execution_count": null,
      "outputs": []
    }
  ]
}