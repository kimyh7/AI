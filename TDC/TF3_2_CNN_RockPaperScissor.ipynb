{
  "nbformat": 4,
  "nbformat_minor": 0,
  "metadata": {
    "colab": {
      "name": "TF3_2_CNN_RockPaperScissor.ipynb",
      "provenance": [],
      "collapsed_sections": []
    },
    "kernelspec": {
      "name": "python3",
      "display_name": "Python 3"
    },
    "language_info": {
      "name": "python"
    },
    "accelerator": "TPU"
  },
  "cells": [
    {
      "cell_type": "code",
      "metadata": {
        "id": "kj7iG71cVG0b"
      },
      "source": [
        "# Build a classifier for Rock-Paper-Scissors based on the rock_paper_scissors TensorFlow dataset.\n",
        "# IMPORTANT: Your final layer should be as shown. \n",
        "# Do not change the provided code, or the tests may fail\n",
        "# IMPORTANT: Images will be tested as 150x150 with 3 bytes of color depth\n",
        "# So ensure that your input layer is designed accordingly, or the tests may fail. \n",
        "# NOTE THAT THIS IS UNLABELLED DATA. \n",
        "# You can use the ImageDataGenerator to automatically label it\n",
        "# and we have provided some starter code"
      ],
      "execution_count": null,
      "outputs": []
    },
    {
      "cell_type": "code",
      "metadata": {
        "id": "S5QB8FfPdZ29"
      },
      "source": [
        "import urllib.request\n",
        "import zipfile\n",
        "import tensorflow as tf\n",
        "from keras_preprocessing.image import ImageDataGenerator"
      ],
      "execution_count": null,
      "outputs": []
    },
    {
      "cell_type": "code",
      "metadata": {
        "id": "pzJlGAilVfIg"
      },
      "source": [
        "def solution_model_without_validation():\n",
        "    url = 'https://storage.googleapis.com/download.tensorflow.org/data/rps.zip'\n",
        "    urllib.request.urlretrieve(url, 'rps.zip')\n",
        "    local_zip = 'rps.zip'\n",
        "    zip_ref = zipfile.ZipFile(local_zip, 'r')\n",
        "    zip_ref.extractall('tmp/')\n",
        "    zip_ref.close()\n",
        "    \n",
        "    TRAINING_DIR = \"tmp/rps/\"\n",
        "    # YOUR CODE HERE)\n",
        "    training_datagen = ImageDataGenerator(\n",
        "                    rescale=1. / 255,\n",
        "                    rotation_range=40,\n",
        "                    width_shift_range=0.2,\n",
        "                    height_shift_range=0.2,\n",
        "                    shear_range=0.2,\n",
        "                    zoom_range=0.2,\n",
        "                    horizontal_flip=True,\n",
        "                    fill_mode='nearest')\n",
        "    \n",
        "    \n",
        "    # YOUR CODE HERE\n",
        "    train_generator = training_datagen.flow_from_directory(\n",
        "                            TRAINING_DIR,\n",
        "                            target_size=(150, 150),\n",
        "                            class_mode='categorical',\n",
        "                            batch_size=128\n",
        "                    )\n",
        "    \n",
        "    # YOUR CODE HERE, BUT END WITH A 3 Neuron Dense, activated by softmax\n",
        "    model = tf.keras.models.Sequential([\n",
        "                tf.keras.layers.Conv2D(64, (3, 3), activation='relu', input_shape=(150, 150, 3)),\n",
        "                tf.keras.layers.MaxPooling2D(2, 2),\n",
        "                tf.keras.layers.Conv2D(64, (3, 3), activation='relu'),\n",
        "                tf.keras.layers.MaxPooling2D(2, 2),\n",
        "                tf.keras.layers.Conv2D(128, (3, 3), activation='relu'),\n",
        "                tf.keras.layers.MaxPooling2D(2, 2),\n",
        "                tf.keras.layers.Conv2D(128, (3, 3), activation='relu'),\n",
        "                tf.keras.layers.MaxPooling2D(2, 2),\n",
        "                tf.keras.layers.Flatten(),\n",
        "                tf.keras.layers.Dropout(0.5),\n",
        "                tf.keras.layers.Dense(512, activation='relu'),\n",
        "                tf.keras.layers.Dense(3, activation='softmax')\n",
        "    ])\n",
        "\n",
        "    model.compile(loss='categorical_crossentropy',\n",
        "                    optimizer='rmsprop',\n",
        "                    metrics=['accuracy'])\n",
        "\n",
        "    model.fit(train_generator,\n",
        "                epochs=25,\n",
        "                steps_per_epoch=20,\n",
        "                verbose=1\n",
        "                )\n",
        "\n",
        "    return model \n",
        "\n",
        "\n"
      ],
      "execution_count": null,
      "outputs": []
    },
    {
      "cell_type": "code",
      "metadata": {
        "id": "OLMFRHymddz-"
      },
      "source": [
        "def solution_model_with_validation():\n",
        "    url = 'https://storage.googleapis.com/download.tensorflow.org/data/rps.zip'\n",
        "    urllib.request.urlretrieve(url, 'rps.zip')\n",
        "    \n",
        "    local_zip = 'rps.zip'\n",
        "    zip_ref = zipfile.ZipFile(local_zip, 'r')\n",
        "    zip_ref.extractall('tmp/')\n",
        "    zip_ref.close()\n",
        "\n",
        "    url = 'https://storage.googleapis.com/laurencemoroney-blog.appspot.com/rps-test-set.zip'\n",
        "    urllib.request.urlretrieve(url, 'rps-test-set.zip')\n",
        "    \n",
        "    local_zip = 'rps-test-set.zip'\n",
        "    zip_ref = zipfile.ZipFile(local_zip, 'r')\n",
        "    zip_ref.extractall('/tmp/')\n",
        "    zip_ref.close()\n",
        "    \n",
        "    TRAINING_DIR = \"tmp/rps/\"\n",
        "    # YOUR CODE HERE)\n",
        "    training_datagen = ImageDataGenerator(\n",
        "                    rescale=1. / 255,\n",
        "                    rotation_range=40,\n",
        "                    width_shift_range=0.2,\n",
        "                    height_shift_range=0.2,\n",
        "                    shear_range=0.2,\n",
        "                    zoom_range=0.2,\n",
        "                    horizontal_flip=True,\n",
        "                    fill_mode='nearest')\n",
        "    \n",
        "    \n",
        "    VALIDATION_DIR = \"/tmp/rps-test-set/\"\n",
        "    validation_datagen = ImageDataGenerator(rescale = 1./255)\n",
        " \n",
        "    # YOUR CODE HERE\n",
        "    train_generator = training_datagen.flow_from_directory(\n",
        "                            TRAINING_DIR,\n",
        "                            target_size=(150, 150),\n",
        "                            class_mode='categorical',\n",
        "                            batch_size=126\n",
        "                    )\n",
        "\n",
        "    validation_generator = validation_datagen.flow_from_directory(\n",
        "\t                        VALIDATION_DIR,\n",
        "\t                        target_size=(150,150),\n",
        "\t                        class_mode='categorical',\n",
        "                            batch_size=126\n",
        "    )\n",
        "    \n",
        "    # YOUR CODE HERE, BUT END WITH A 3 Neuron Dense, activated by softmax\n",
        "    model = tf.keras.models.Sequential([\n",
        "                tf.keras.layers.Conv2D(64, (3, 3), activation='relu', input_shape=(150, 150, 3)),\n",
        "                tf.keras.layers.MaxPooling2D(2, 2),\n",
        "                tf.keras.layers.Conv2D(64, (3, 3), activation='relu'),\n",
        "                tf.keras.layers.MaxPooling2D(2, 2),\n",
        "                tf.keras.layers.Conv2D(128, (3, 3), activation='relu'),\n",
        "                tf.keras.layers.MaxPooling2D(2, 2),\n",
        "                tf.keras.layers.Conv2D(128, (3, 3), activation='relu'),\n",
        "                tf.keras.layers.MaxPooling2D(2, 2),\n",
        "                tf.keras.layers.Flatten(),\n",
        "                tf.keras.layers.Dropout(0.5),\n",
        "                tf.keras.layers.Dense(512, activation='relu'),\n",
        "                tf.keras.layers.Dense(3, activation='softmax')\n",
        "    ])\n",
        "\n",
        "    model.compile(loss='categorical_crossentropy',\n",
        "                    optimizer='rmsprop',\n",
        "                    metrics=['accuracy'])\n",
        "\n",
        "    model.fit(train_generator,\n",
        "                epochs=25,\n",
        "                steps_per_epoch=20,\n",
        "                validation_data = validation_generator,\n",
        "                validation_steps=3,\n",
        "                verbose=1\n",
        "                )\n",
        "\n",
        "    return model "
      ],
      "execution_count": null,
      "outputs": []
    },
    {
      "cell_type": "code",
      "metadata": {
        "id": "mdCJZ_w9XPWH"
      },
      "source": [
        "# Note that you'll need to save your model as a .h5 like this.\n",
        "# When you press the Submit and Test button, your saved .h5 model will\n",
        "# be sent to the testing infrastructure for scoring\n",
        "# and the score will be returned to you.\n",
        "if __name__ == '__main__':\n",
        "    model = solution_model_without_validation()\n",
        "    model.save(\"mymodel.h5\")"
      ],
      "execution_count": null,
      "outputs": []
    },
    {
      "cell_type": "code",
      "metadata": {
        "id": "sFON2NzceTOf",
        "colab": {
          "base_uri": "https://localhost:8080/"
        },
        "outputId": "a4527da3-8b9d-425a-e18f-cecb276e8d9d"
      },
      "source": [
        "if __name__ == '__main__':\n",
        "    model = solution_model_with_validation()\n",
        "    model.save(\"mymodel2.h5\")"
      ],
      "execution_count": null,
      "outputs": [
        {
          "output_type": "stream",
          "text": [
            "Found 2520 images belonging to 3 classes.\n",
            "Found 372 images belonging to 3 classes.\n",
            "Epoch 1/25\n",
            "20/20 [==============================] - 183s 9s/step - loss: 1.2829 - accuracy: 0.3417 - val_loss: 1.0874 - val_accuracy: 0.3333\n",
            "Epoch 2/25\n",
            "20/20 [==============================] - 179s 9s/step - loss: 1.1060 - accuracy: 0.4000 - val_loss: 1.0907 - val_accuracy: 0.3978\n",
            "Epoch 3/25\n",
            "20/20 [==============================] - 185s 9s/step - loss: 1.0757 - accuracy: 0.4306 - val_loss: 0.9625 - val_accuracy: 0.6371\n",
            "Epoch 4/25\n",
            "20/20 [==============================] - 179s 9s/step - loss: 1.2054 - accuracy: 0.5167 - val_loss: 0.5505 - val_accuracy: 0.8495\n",
            "Epoch 5/25\n",
            "20/20 [==============================] - 178s 9s/step - loss: 0.8311 - accuracy: 0.6313 - val_loss: 0.5830 - val_accuracy: 0.6237\n",
            "Epoch 6/25\n",
            "20/20 [==============================] - 181s 9s/step - loss: 0.7386 - accuracy: 0.6675 - val_loss: 0.2231 - val_accuracy: 0.9946\n",
            "Epoch 7/25\n",
            "20/20 [==============================] - 183s 9s/step - loss: 0.6812 - accuracy: 0.7060 - val_loss: 0.1857 - val_accuracy: 0.9812\n",
            "Epoch 8/25\n",
            "20/20 [==============================] - 184s 9s/step - loss: 0.6329 - accuracy: 0.7603 - val_loss: 1.2466 - val_accuracy: 0.5349\n",
            "Epoch 9/25\n",
            "20/20 [==============================] - 178s 9s/step - loss: 0.4849 - accuracy: 0.8079 - val_loss: 0.0701 - val_accuracy: 0.9839\n",
            "Epoch 10/25\n",
            "20/20 [==============================] - 183s 9s/step - loss: 0.4154 - accuracy: 0.8417 - val_loss: 0.3509 - val_accuracy: 0.8495\n",
            "Epoch 11/25\n",
            "20/20 [==============================] - 178s 9s/step - loss: 0.2903 - accuracy: 0.8817 - val_loss: 0.0704 - val_accuracy: 0.9731\n",
            "Epoch 12/25\n",
            "20/20 [==============================] - 181s 9s/step - loss: 0.2625 - accuracy: 0.8940 - val_loss: 0.0875 - val_accuracy: 0.9597\n",
            "Epoch 13/25\n",
            "20/20 [==============================] - 183s 9s/step - loss: 0.1852 - accuracy: 0.9349 - val_loss: 0.2307 - val_accuracy: 0.9274\n",
            "Epoch 14/25\n",
            "20/20 [==============================] - 182s 9s/step - loss: 0.2385 - accuracy: 0.9099 - val_loss: 0.0273 - val_accuracy: 1.0000\n",
            "Epoch 15/25\n",
            "20/20 [==============================] - 182s 9s/step - loss: 0.1875 - accuracy: 0.9290 - val_loss: 0.0298 - val_accuracy: 1.0000\n",
            "Epoch 16/25\n",
            "18/20 [==========================>...] - ETA: 17s - loss: 0.1429 - accuracy: 0.9444"
          ],
          "name": "stdout"
        }
      ]
    }
  ]
}