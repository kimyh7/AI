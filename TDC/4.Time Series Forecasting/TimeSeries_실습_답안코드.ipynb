{
  "nbformat": 4,
  "nbformat_minor": 0,
  "metadata": {
    "colab": {
      "name": "TimeSeries_실습_답안코드.ipynb",
      "provenance": [],
      "collapsed_sections": []
    },
    "kernelspec": {
      "name": "python3",
      "display_name": "Python 3"
    },
    "language_info": {
      "name": "python"
    },
    "accelerator": "GPU"
  },
  "cells": [
    {
      "cell_type": "markdown",
      "metadata": {
        "id": "v9JDfOjgjXOi"
      },
      "source": [
        "# TimeSeries 실습\n",
        "\n",
        "앞서 살펴본 예제를 바탕으로, 실제로 코드를 작성하는 실습을 진행합니다."
      ]
    },
    {
      "cell_type": "code",
      "metadata": {
        "id": "KticUNEmQCir"
      },
      "source": [
        "import csv\n",
        "import tensorflow as tf\n",
        "import numpy as np\n",
        "import urllib"
      ],
      "execution_count": null,
      "outputs": []
    },
    {
      "cell_type": "markdown",
      "metadata": {
        "id": "gXe76aUDuGID"
      },
      "source": [
        "## sunspots 데이터셋 로드\n",
        "\n",
        "Sunspots 데이터셋을 로드합니다.\n",
        "\n",
        "다른 데이터셋과는 다르게 csv 데이터를 로드한 다음 필요한 데이터 만을 추출해야합니다."
      ]
    },
    {
      "cell_type": "code",
      "metadata": {
        "id": "s_I2pJLrqtaA"
      },
      "source": [
        "url = 'https://storage.googleapis.com/download.tensorflow.org/data/Sunspots.csv'\n",
        "urllib.request.urlretrieve(url, 'sunspots.csv')"
      ],
      "execution_count": null,
      "outputs": []
    },
    {
      "cell_type": "markdown",
      "metadata": {
        "id": "Mke4hFnhvu6S"
      },
      "source": [
        "## 로드한 데이터 확인\n",
        "\n",
        "csv 데이터이기에 실제 csv 파일을 열어서 확인해보니 아래 그림과 같은 것을 확인하였습니다.\n",
        "\n",
        "![sunspots.PNG](data:image/png;base64,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)\n",
        "\n",
        "column은 총 3개로 구성되어 있으며, 각각\n",
        "\n",
        "[index, Date, # of Sunspots] 으로 구성되어 있습니다."
      ]
    },
    {
      "cell_type": "markdown",
      "metadata": {
        "id": "U_gxPrVawCRA"
      },
      "source": [
        "## **MISSION: 데이터 전처리**\n",
        "\n",
        "##**예시 답안**\n",
        "\n",
        "sunspots.csv 파일을 보면서 데이터 타입 및 column에 맞게 sunspots과 time_step을 추출하면 됩니다.\n",
        "\n",
        "series의 경우 밑에 time을 추출한 것과 같이 코드를 구현하면 됩니다.\n",
        "\n",
        "split의 경우 기준이 되는 3000이 split_time으로 주어지기에 해당 변수를 활용하면 됩니다.\n"
      ]
    },
    {
      "cell_type": "code",
      "metadata": {
        "id": "frQkvGl1iblF"
      },
      "source": [
        "time_step = []\n",
        "sunspots = []\n",
        "\n",
        "with open('sunspots.csv') as csvfile:\n",
        "  reader = csv.reader(csvfile, delimiter=',')\n",
        "  next(reader)\n",
        "\n",
        "  for row in reader:\n",
        "    ## sunspots과 time_step 추출\n",
        "    sunspots.append(float(row[2]))\n",
        "    time_step.append(int(row[0]))\n",
        "\n",
        "## 데이터 추출\n",
        "series = np.array(sunspots)\n",
        "min = np.min(series)\n",
        "max = np.max(series)\n",
        "series -= min\n",
        "series /= max\n",
        "\n",
        "time = np.array(time_step)\n",
        "\n",
        "split_time = 3000\n",
        "\n",
        "# 데이터 Train / Validation Split\n",
        "time_train = time[:split_time]\n",
        "x_train = series[:split_time]\n",
        "time_valid = time[split_time:]\n",
        "x_valid = series[split_time:]"
      ],
      "execution_count": null,
      "outputs": []
    },
    {
      "cell_type": "markdown",
      "metadata": {
        "id": "sJ176aPPGejC"
      },
      "source": [
        "학습 데이터 구성을 위해 Sliding Window 기법을 사용하겠습니다.\n",
        "\n",
        "window 사이즈를 30, batch 사이즈를 32로 구성하여 학습 데이터를 구성하였습니다.\n"
      ]
    },
    {
      "cell_type": "code",
      "metadata": {
        "id": "GFK8Y1bQJGU4"
      },
      "source": [
        "def windowed_dataset(series, window_size, batch_size, shuffle_buffer):\n",
        "    series = tf.expand_dims(series, axis=-1)\n",
        "    ds = tf.data.Dataset.from_tensor_slices(series)\n",
        "    ds = ds.window(window_size + 1, shift=1, drop_remainder=True)\n",
        "    ds = ds.flat_map(lambda w: w.batch(window_size + 1))\n",
        "    ds = ds.shuffle(shuffle_buffer)\n",
        "    ds = ds.map(lambda w: (w[:-1], w[1:]))\n",
        "    return ds.batch(batch_size).prefetch(1)\n",
        "\n",
        "window_size = 30\n",
        "batch_size = 32\n",
        "shuffle_buffer_size = 1000\n",
        "\n",
        "train_set = windowed_dataset(x_train, window_size=window_size, batch_size=batch_size, shuffle_buffer=shuffle_buffer_size)\n"
      ],
      "execution_count": null,
      "outputs": []
    },
    {
      "cell_type": "markdown",
      "metadata": {
        "id": "NLJE8vOeWB2V"
      },
      "source": [
        "## **MISSION: 네트워크 정의**\n",
        "\n",
        "##**예시 답안**\n",
        "\n",
        "Conv1D 레이어를 추가하여 Input shape를 지정해줍니다.\n",
        "\n",
        "이후 LSTM 레이어를 추가합니다.\n",
        "\n",
        "여러개의 LSTM 레이어를 쌓기 위해서는 reutrn_sequences=True 옵션을 추가합니다.\n",
        "\n",
        "LSTM 레이어와 Output 레이어 사이에 적당한 크기의 Dense 레이어를 추가합니다.\n",
        "\n",
        "예시와는 다르게 LSTM 레이어와 Dense 레이어만을 활용하여 구현해도 성능만 나온다면 문제 없습니다."
      ]
    },
    {
      "cell_type": "code",
      "metadata": {
        "id": "tL4TX2RGJYgH"
      },
      "source": [
        "model = tf.keras.models.Sequential([\n",
        "        tf.keras.layers.Conv1D(filters=60, kernel_size=10,\n",
        "                             strides=1, padding=\"causal\",\n",
        "                             activation=\"relu\", input_shape=[None, 1]),\n",
        "        tf.keras.layers.LSTM(60, return_sequences=True),\n",
        "        tf.keras.layers.LSTM(60, return_sequences=True),\n",
        "        tf.keras.layers.Dense(30, activation=\"relu\"),\n",
        "        tf.keras.layers.Dense(30, activation=\"relu\"),\n",
        "        tf.keras.layers.Dense(1)\n",
        "    ])"
      ],
      "execution_count": null,
      "outputs": []
    },
    {
      "cell_type": "markdown",
      "metadata": {
        "id": "dWqKerypvb-a"
      },
      "source": [
        "## **MISSION: 네트워크 학습**\n",
        "\n",
        "##**예시 답안**\n",
        "\n",
        "Loss는 Huber, Optimizer는 SGD, Metrics은 mae를 사용하여 compile하였습니다.\n",
        "\n",
        "Loss는 mae, mse를 사용하여도 되며, Optimizer도 adam 등을 사용해도 됩니다.\n",
        "\n",
        "<br>\n",
        "\n",
        "학습은 적당히 50 Epoch을 실시하였고, 더 줄이거나 늘려도 문제 없습니다."
      ]
    },
    {
      "cell_type": "code",
      "metadata": {
        "id": "kYHMEZwAJadP"
      },
      "source": [
        "# Compile and Training\n",
        "\n",
        "model.compile(loss=tf.keras.losses.Huber(), optimizer=tf.keras.optimizers.SGD(lr=1e-5, momentum=0.9), metrics=['mae'])\n",
        "model.fit(train_set, epochs=50)"
      ],
      "execution_count": null,
      "outputs": []
    },
    {
      "cell_type": "markdown",
      "metadata": {
        "id": "AgjAPhrJxMTz"
      },
      "source": [
        "## Validation 평가\n",
        "\n",
        "아까 데이터 구성에서 빼둔 236건의 Validation 데이터가 있습니다.\n",
        "\n",
        "이 데이터를 활용하여 학습 된 모델의 성능을 평가합니다.\n",
        "\n",
        "<br>\n",
        "\n",
        "해당 MAE가 0.12 이하로 떨어진다면 모델 설계 및 학습을 잘 실시한 것 입니다.\n"
      ]
    },
    {
      "cell_type": "code",
      "metadata": {
        "id": "5THQePEsWez-"
      },
      "source": [
        "import math\n",
        "\n",
        "def model_forecast(model, series, window_size):\n",
        "   ds = tf.data.Dataset.from_tensor_slices(series)\n",
        "   ds = ds.window(window_size, shift=1, drop_remainder=True)\n",
        "   ds = ds.flat_map(lambda w: w.batch(window_size))\n",
        "   ds = ds.batch(32).prefetch(1)\n",
        "   forecast = model.predict(ds)\n",
        "   return forecast\n",
        "\n",
        "\n",
        "window_size = 30\n",
        "rnn_forecast = model_forecast(model, series[..., np.newaxis], window_size)\n",
        "rnn_forecast = rnn_forecast[split_time - window_size:-1, -1, 0]\n",
        "\n",
        "result = tf.keras.metrics.mean_absolute_error(x_valid, rnn_forecast).numpy()\n",
        "\n",
        "print(result)\n"
      ],
      "execution_count": null,
      "outputs": []
    }
  ]
}