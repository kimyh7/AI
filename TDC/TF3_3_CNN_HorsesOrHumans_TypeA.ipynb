{
  "nbformat": 4,
  "nbformat_minor": 0,
  "metadata": {
    "colab": {
      "name": "TF3_3_CNN_HorsesOrHumans_TypeA.ipynb",
      "provenance": [],
      "collapsed_sections": []
    },
    "kernelspec": {
      "name": "python3",
      "display_name": "Python 3"
    },
    "accelerator": "GPU"
  },
  "cells": [
    {
      "cell_type": "code",
      "metadata": {
        "id": "mu7pxlNfX5PZ"
      },
      "source": [
        "# ======================================================================\n",
        "# There are 5 questions in this test with increasing difficulty from 1-5\n",
        "# Please note that the weight of the grade for the question is relative\n",
        "# to its difficulty. So your Category 1 question will score much less\n",
        "# than your Category 5 question.\n",
        "# ======================================================================\n",
        "#\n",
        "# Computer Vision with CNNs\n",
        "#\n",
        "# This task requires you to create a classifier for horses or humans using\n",
        "# the provided dataset. \n",
        "#\n",
        "# Please make sure your final layer has 2 neurons, activated by softmax \n",
        "# as shown. Do not change the provided output layer, or tests may fail.\n",
        "#\n",
        "# IMPORTANT: Please note that the test uses images that are 300x300 with \n",
        "# 3 bytes color depth so be sure to design your input layer to accept\n",
        "# these, or the tests will fail.\n",
        "#\n",
        "\n",
        "# =========== 합격 기준 가이드라인 공유 ============= #\n",
        "# val_loss 기준에 맞춰 주시는 것이 훨씬 더 중요 #\n",
        "# val_loss 보다 조금 높아도 상관없음. (언저리까지 OK) #\n",
        "# =================================================== #\n",
        "# 문제명: Category 3 - Horses Or Humans type A\n",
        "# val_loss: 0.028\n",
        "# val_acc: 0.98\n",
        "# =================================================== #\n",
        "# =================================================== #\n",
        "\n",
        "import tensorflow_datasets as tfds\n",
        "import tensorflow as tf\n",
        "\n",
        "dataset_name = 'horses_or_humans'\n",
        "dataset, info = tfds.load(name=dataset_name, split=tfds.Split.TRAIN, with_info=True)\n",
        "\n",
        "\n"
      ],
      "execution_count": 13,
      "outputs": []
    },
    {
      "cell_type": "code",
      "metadata": {
        "id": "ex0K-v-HX4r-"
      },
      "source": [
        "##  이미지 확인하는 방법\n",
        "import matplotlib.pyplot as plt\n",
        "import numpy as np\n",
        "\n",
        "for data in dataset.take(1):\n",
        "    image, label = data['image'], data['label']\n",
        "    print(image.shape)\n",
        "    plt.imshow(image.numpy()[:, :, 0].astype(np.float32), cmap=plt.get_cmap(\"gray\"))\n",
        "    plt.axis('off')\n",
        "    print(\"Label: %d\" % label.numpy())\n"
      ],
      "execution_count": null,
      "outputs": []
    },
    {
      "cell_type": "code",
      "metadata": {
        "id": "qzJPIKqhVTAm"
      },
      "source": [
        "def preprocess(data):\n",
        "    # YOUR CODE HERE\n",
        "    x = data['image']\n",
        "    y = data['label']\n",
        "    x = tf.image.resize(x, [224,224])\n",
        "    x = tf.cast(x, tf.float32)\n",
        "    x = x/255.0\n",
        "    return x, y\n",
        "\n",
        "\n",
        "def solution_model():\n",
        "    train_dataset = dataset.map(preprocess).batch(128)\n",
        "\n",
        "    model = tf.keras.models.Sequential([\n",
        "            tf.keras.layers.Conv2D(16, (3,3), activation='relu', input_shape=(224,224,3)),\n",
        "            tf.keras.layers.MaxPooling2D(2, 2),    \n",
        "            tf.keras.layers.Conv2D(32, (3, 3), activation='relu'),\n",
        "            tf.keras.layers.MaxPooling2D(2, 2),\n",
        "            tf.keras.layers.Conv2D(64, (3, 3), activation='relu'),\n",
        "            tf.keras.layers.MaxPooling2D(2, 2),\n",
        "            tf.keras.layers.Flatten(),\n",
        "            tf.keras.layers.Dense(64, activation='relu'),\n",
        "            # YOUR CODE HERE, BUT MAKE SURE YOUR LAST LAYER HAS 2 NEURONS ACTIVATED BY SOFTMAX\n",
        "            tf.keras.layers.Dense(2, activation='softmax')\n",
        "    ])\n",
        "\n",
        "    model.compile(optimizer='adam', loss='sparse_categorical_crossentropy', metrics=['accuracy'])\n",
        "    model.fit(train_dataset, epochs=5)\n",
        "\n",
        "    return model\n",
        "\n",
        "\n",
        "# Note that you'll need to save your model as a .h5 like this\n",
        "# This .h5 will be uploaded to the testing infrastructure\n",
        "# and a score will be returned to you\n",
        "if __name__ == '__main__':\n",
        "    model = solution_model()\n",
        "    model.save(\"TF3-horses-or-humans-type-A.h5\")\n"
      ],
      "execution_count": null,
      "outputs": []
    }
  ]
}