{
  "nbformat": 4,
  "nbformat_minor": 0,
  "metadata": {
    "colab": {
      "name": "TF3-1.CNN_CatsVsDogs.ipynb",
      "provenance": [],
      "collapsed_sections": []
    },
    "kernelspec": {
      "name": "python3",
      "display_name": "Python 3"
    },
    "language_info": {
      "name": "python"
    },
    "accelerator": "GPU"
  },
  "cells": [
    {
      "cell_type": "code",
      "metadata": {
        "id": "B7eUbayu8bO5"
      },
      "source": [
        "# For this exercise, build and train a cats v dogs classifier \n",
        "# using the Cats v Dogs dataset from TFDS. \n",
        "# Be sure to use the final layer as shown \n",
        "# (Dense, 2 neurons, softmax activation) \n",
        "# \n",
        "# The testing infrastructure will resize all images to 224x224 \n",
        "# with 3 bytes of color depth. Make sure your input layer trains \n",
        "# images to that specification, or the tests will fail. \n",
        "# \n",
        "# Make sure your output layer is exactly as specified here, or the \n",
        "# tests will fail. "
      ],
      "execution_count": null,
      "outputs": []
    },
    {
      "cell_type": "code",
      "metadata": {
        "id": "re5QHjUYA1Ho"
      },
      "source": [
        "import tensorflow_datasets as tfds \n",
        "import tensorflow as tf \n",
        "\n",
        "dataset_name = 'cats_vs_dogs' \n",
        "dataset, info = tfds.load(name=dataset_name, split=tfds.Split.TRAIN, with_info=True) "
      ],
      "execution_count": null,
      "outputs": []
    },
    {
      "cell_type": "code",
      "metadata": {
        "id": "CwrAFiq2A39Q"
      },
      "source": [
        "def preprocess(features): \n",
        "    # YOUR CODE HERE \n",
        "    i = features['image'] \n",
        "    l = features['label'] \n",
        "    i = tf.image.resize(i, [224, 224]) \n",
        "    i = tf.cast(i, tf.float32) \n",
        "    i = i / 255.0 \n",
        "    return i, l \n",
        "\n",
        "def solution_model(): \n",
        "    train_dataset = dataset.map(preprocess).batch(64) \n",
        "    model = tf.keras.models.Sequential([\n",
        "                                        # YOUR CODE HERE, BUT MAKE SURE YOUR LAST LAYER HAS 2 NEURONS ACTIVATED BY SOFTMAX \n",
        "                                        tf.keras.layers.Conv2D(16, (3, 3), activation='relu', input_shape=(224, 224, 3)), \n",
        "                                        tf.keras.layers.MaxPool2D(2, 2), \n",
        "                                        tf.keras.layers.Conv2D(32, (3, 3), activation='relu'), \n",
        "                                        tf.keras.layers.MaxPool2D(2, 2), \n",
        "                                        tf.keras.layers.Conv2D(64, (3, 3), activation='relu'), \n",
        "                                        tf.keras.layers.MaxPool2D(2, 2), \n",
        "                                        tf.keras.layers.Flatten(), \n",
        "                                        tf.keras.layers.Dense(128, activation='relu'), \n",
        "                                        tf.keras.layers.Dense(2, activation='softmax') \n",
        "                                        ]) \n",
        "    model.compile(optimizer='RMSprop', \n",
        "                  loss=tf.keras.losses.SparseCategoricalCrossentropy(), \n",
        "                  metrics=['accuracy']) \n",
        "    model.fit(train_dataset, epochs=5) \n",
        "    return model \n",
        "\n",
        "# Note that you'll need to save your model as a .h5 like this. \n",
        "# When you press the Submit and Test button, your saved .h5 model will \n",
        "# be sent to the testing infrastructure for scoring \n",
        "# and the score will be returned to you. \n",
        "if __name__ == '__main__': \n",
        "    model = solution_model() \n",
        "    model.save(\"mymodel.h5\") "
      ],
      "execution_count": null,
      "outputs": []
    }
  ]
}