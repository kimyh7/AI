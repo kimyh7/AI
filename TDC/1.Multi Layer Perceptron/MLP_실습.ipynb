{
  "nbformat": 4,
  "nbformat_minor": 0,
  "metadata": {
    "colab": {
      "name": "MLP_실습.ipynb",
      "provenance": [],
      "collapsed_sections": []
    },
    "kernelspec": {
      "name": "python3",
      "display_name": "Python 3"
    },
    "accelerator": "GPU"
  },
  "cells": [
    {
      "cell_type": "markdown",
      "metadata": {
        "id": "pgSX3nyA2M4D"
      },
      "source": [
        "# Multi Layer Perceptron 실습\r\n",
        "\r\n",
        "앞서 살펴본 예제를 바탕으로, 실제로 코드를 작성하는 실습을 진행합니다."
      ]
    },
    {
      "cell_type": "markdown",
      "metadata": {
        "id": "e_n7CHEf11A8"
      },
      "source": [
        "## 데이터 준비\r\n",
        "\r\n",
        "MNIST 데이터셋을 로드합니다.\r\n",
        "\r\n",
        "MNIST 데이터셋은 0 ~ 9의 손글씨 숫자를 모은 데이터셋으로, 28x28 크기의 이미지들로 구성되어 있습니다.\r\n",
        "\r\n",
        "데이터는 내부적으로 train과 test로 각각 나뉘어 있습니다.\r\n",
        "\r\n",
        "데이터를 로드한 후, 0 ~ 255로 된 int 값에서 0 ~ 1의 float 값으로 각 샘플들의 범위를 조정합니다."
      ]
    },
    {
      "cell_type": "code",
      "metadata": {
        "id": "jn_VU22_1yZF"
      },
      "source": [
        "import tensorflow as tf\r\n",
        "\r\n",
        "mnist = tf.keras.datasets.mnist\r\n",
        "\r\n",
        "(x_train, y_train), (x_test, y_test) = mnist.load_data()\r\n",
        "x_train, x_test = x_train / 255.0, x_test / 255.0"
      ],
      "execution_count": null,
      "outputs": []
    },
    {
      "cell_type": "markdown",
      "metadata": {
        "id": "78oPLiSFLl9y"
      },
      "source": [
        "## 로드한 데이터 확인\r\n",
        "\r\n",
        "로드한 데이터의 형태를 확인해봅니다.\r\n",
        "\r\n",
        "x_train은 (60000, 28, 28)의 shape를 가지는 numpy array입니다.\r\n",
        "\r\n",
        "즉, 28 x 28 크기의 이미지 6만장입니다.\r\n",
        "\r\n",
        "y_train은 (60000,)의 shape를 가지는 numpy array입니다.\r\n",
        "\r\n",
        "실제 값을 보면, 0 ~ 9 의 label을 나타냄을 알 수 있습니다."
      ]
    },
    {
      "cell_type": "code",
      "metadata": {
        "id": "-qZqnO3XLeNU"
      },
      "source": [
        "print(type(x_train))\r\n",
        "print(x_train.shape)\r\n",
        "print(type(y_train))\r\n",
        "print(y_train.shape)\r\n",
        "print(y_train[:20])"
      ],
      "execution_count": null,
      "outputs": []
    },
    {
      "cell_type": "markdown",
      "metadata": {
        "id": "gIr1rXZp2ymI"
      },
      "source": [
        "## **MISSION: 네트워크 정의 및 학습**\r\n",
        "\r\n",
        "##**※ 실제 시험 문제가 이와 같은 형태로 출제됩니다.**\r\n",
        "\r\n",
        "아래 빈 칸을 채워서 네트워크를 정의해봅시다.\r\n",
        "\r\n",
        "<br>\r\n",
        "\r\n",
        "MNIST 데이터의 경우 28 x 28의 형태를 가지는 2차원 배열입니다.\r\n",
        "\r\n",
        "이를 Multi Layer Perceptron에 입력으로 전달하기 위해서는 1차원 배열으로 변환할 필요가 있습니다.\r\n",
        "\r\n",
        "이러한 작업을 해주는 layer가 Flatten입니다.\r\n",
        "\r\n",
        "이름 그대로 데이터를 1차원으로 펼쳐주는 역할을 합니다.\r\n",
        "\r\n",
        "이 Flatten layer가 tf.keras.models.Sequential의 첫 번째 layer이므로 앞의 iris 실습과 마찬가지로 input_shape를 지정해주어야 합니다.\r\n",
        "\r\n",
        "<br>\r\n",
        "\r\n",
        "##**작성할 코드**\r\n",
        "\r\n",
        "Flatten layer 이후에 layer를 추가해서 네트워크를 완성시키고,\r\n",
        "\r\n",
        "학습 설정 및 학습 진행 부분을 작성해봅시다.\r\n",
        "\r\n",
        "학습은 위에서 정의한 x_train, y_train 으로 진행합니다."
      ]
    },
    {
      "cell_type": "code",
      "metadata": {
        "id": "VImHxICX2jHD"
      },
      "source": [
        "model = tf.keras.models.Sequential([\r\n",
        "  tf.keras.layers.Flatten(input_shape=(28, 28)),\r\n",
        "  ### TODO: Add Layers ###\r\n",
        "])\r\n",
        "\r\n",
        "### TODO: Train Model ###"
      ],
      "execution_count": null,
      "outputs": []
    },
    {
      "cell_type": "markdown",
      "metadata": {
        "id": "nlesfCRINh9A"
      },
      "source": [
        "## 모델 평가\r\n",
        "\r\n",
        "evaluate 함수에 평가용 데이터와 label을 전달하여 평가를 진행합니다.\r\n",
        "\r\n",
        "Loss와 accuracy가 표시됩니다.\r\n",
        "\r\n",
        "위 실습을 정상적으로 완성했다면, 90% 이상의 정확도를 보일 것입니다."
      ]
    },
    {
      "cell_type": "code",
      "metadata": {
        "id": "OjPom7Y1KTV5"
      },
      "source": [
        "model.evaluate(x_test,  y_test)"
      ],
      "execution_count": null,
      "outputs": []
    }
  ]
}