{
  "nbformat": 4,
  "nbformat_minor": 0,
  "metadata": {
    "colab": {
      "name": "실습_3_2_RNN_감성분석_기본모델링_정답.ipynb",
      "provenance": [],
      "collapsed_sections": [],
      "machine_shape": "hm"
    },
    "kernelspec": {
      "name": "python3",
      "display_name": "Python 3"
    },
    "accelerator": "GPU"
  },
  "cells": [
    {
      "cell_type": "markdown",
      "metadata": {
        "id": "5F0ln_J9xeHb"
      },
      "source": [
        "(🎧) 표시가 되어 있는 부분은 Wire 페이지에서 오디오 코드 해설을 제공하고 있습니다."
      ]
    },
    {
      "cell_type": "markdown",
      "metadata": {
        "id": "EnxXpzPgxhHy"
      },
      "source": [
        "---"
      ]
    },
    {
      "cell_type": "markdown",
      "metadata": {
        "id": "RQuwLrfneJGq"
      },
      "source": [
        "# 실습 3. RNN을 이용한 😀감정분석😑 모델 학습하기\n",
        "\n",
        "\n",
        "\n",
        "<b>학습 목표:    \n",
        "- TensorFlow를 사용해 RNN을 활용한 텍스트분류 모델을 만들 수 있다.   \n",
        "- 기 확보된 워드벡터를 사용해 임베딩을 초기화할 수 있다. \n",
        "</b>\n",
        "\n",
        "\n",
        "\n",
        "\n",
        "\n",
        "\n"
      ]
    },
    {
      "cell_type": "markdown",
      "metadata": {
        "id": "XI5VEKjCVzQz"
      },
      "source": [
        "## #0. 실습 준비하기\n",
        "먼저 구글 드라이브를 마운트하고, 드라이브에 저장해두었던 데이터를 로딩하겠습니다."
      ]
    },
    {
      "cell_type": "code",
      "metadata": {
        "id": "5Cg9V5xCV-YJ",
        "outputId": "3dc4acec-90cb-4435-bd54-fc88ecd99732",
        "colab": {
          "base_uri": "https://localhost:8080/",
          "height": 35
        }
      },
      "source": [
        "from google.colab import drive\n",
        "drive.mount('/content/gdrive')"
      ],
      "execution_count": null,
      "outputs": [
        {
          "output_type": "stream",
          "text": [
            "Mounted at /content/gdrive\n"
          ],
          "name": "stdout"
        }
      ]
    },
    {
      "cell_type": "code",
      "metadata": {
        "id": "_j2Asqi6varT",
        "outputId": "40b03d94-97f4-4ceb-bb1c-676f0c4de956",
        "colab": {
          "base_uri": "https://localhost:8080/",
          "height": 35
        }
      },
      "source": [
        "## train, validation, test 데이터 로딩\n",
        "!cp \"/content/gdrive/My Drive/NLP/utils.py\" \"/content\"\n",
        "\n",
        "import pickle\n",
        "import numpy as np\n",
        "with open(\"/content/gdrive/My Drive/NLP/Sentiment_prepro_data.pkl\", \"rb\") as f:\n",
        "  prepro_data = pickle.load(f)\n",
        "train_ids = prepro_data[\"train_ids\"]\n",
        "train_labels = prepro_data[\"train_labels\"]\n",
        "val_ids = prepro_data[\"val_ids\"]\n",
        "val_labels = prepro_data[\"val_labels\"]\n",
        "test_ids = prepro_data[\"test_ids\"]\n",
        "test_labels = prepro_data[\"test_labels\"]\n",
        "label_map = prepro_data[\"label_map\"]\n",
        "print(len(train_ids), len(train_labels), len(val_ids), len(val_labels), len(test_ids), len(test_labels))"
      ],
      "execution_count": null,
      "outputs": [
        {
          "output_type": "stream",
          "text": [
            "49999 49999 9999 9999 10000 10000\n"
          ],
          "name": "stdout"
        }
      ]
    },
    {
      "cell_type": "code",
      "metadata": {
        "id": "qZ695haKKAwv",
        "outputId": "329cf592-727b-4744-b27f-838c5882492f",
        "colab": {
          "base_uri": "https://localhost:8080/",
          "height": 35
        }
      },
      "source": [
        "\"\"\" 한국어 형태소 분석 라이브러리 \"\"\"\n",
        "!pip install konlpy\n",
        "from konlpy.tag import Komoran\n",
        " \n",
        "komoran = Komoran()\n",
        " \n",
        "def tokenize(sentence):\n",
        "  return komoran.morphs(sentence)\n",
        " \n",
        "tokenize(\"미션 완료!!\")"
      ],
      "execution_count": null,
      "outputs": [
        {
          "output_type": "execute_result",
          "data": {
            "text/plain": [
              "['미션', '완료', '!!']"
            ]
          },
          "metadata": {
            "tags": []
          },
          "execution_count": 6
        }
      ]
    },
    {
      "cell_type": "code",
      "metadata": {
        "id": "vxq4ytVlwG6W"
      },
      "source": [
        "## 단어사전 & text_encoder 로딩\n",
        "from utils import TextEncoder\n",
        "import json\n",
        "with open(\"/content/gdrive/My Drive/NLP/Sentiment_vocab.json\", \"r\") as f:\n",
        "  new_vocab_list = json.loads(f.read())\n",
        "\n",
        "text_encoder = TextEncoder(new_vocab_list)"
      ],
      "execution_count": null,
      "outputs": []
    },
    {
      "cell_type": "code",
      "metadata": {
        "id": "hKW_G39ZyJhN"
      },
      "source": [
        "\"\"\" CBOW 워드벡터 로딩 \"\"\"\n",
        "\n",
        "## final_embeddings: 70002개 토큰에 대한 워드 벡터 매트릭스 shape=(70002, 128)\n",
        "\n",
        "with open(\"/content/gdrive/My Drive/NLP/vecs.tsv\") as f:\n",
        "  vecs = [v.strip() for v in f.readlines()]\n",
        "  final_embeddings = [v.split(\"\\t\") for v in vecs]\n",
        "  final_embeddings = np.array(final_embeddings, dtype=\"float32\")"
      ],
      "execution_count": null,
      "outputs": []
    },
    {
      "cell_type": "markdown",
      "metadata": {
        "id": "LhcHsul1IHxj"
      },
      "source": [
        "## #1. 모델 만들기\n",
        "<img src = \"https://github.com/seungyounglim/temporary/blob/master/fig_step3+4.PNG?raw=true\">"
      ]
    },
    {
      "cell_type": "markdown",
      "metadata": {
        "id": "FuckiGpMwsS6"
      },
      "source": [
        "#### Step 1. 모델 구조 만들기\n",
        "이제 실습 소개에서 보았던 모델 아키텍처를 tensorflow를 사용해 만들어보겠습니다.   \n",
        "아래의 Summary를 보고 직접 모델을 한 번 만들어보세요."
      ]
    },
    {
      "cell_type": "markdown",
      "metadata": {
        "id": "39iPCdwGTjzk"
      },
      "source": [
        "<font color=\"red\">MISSION : model의 summary를 확인하고 tf.keras.Sequential을 이용해 이와 동일한 모델을 만들어 보세요.   \n",
        "```\n",
        "_________________________________________________________________\n",
        "Layer (type)                 Output Shape              Param #   \n",
        "=================================================================\n",
        "embedding (Embedding)        (None, None, 128)         10993664  \n",
        "_________________________________________________________________\n",
        "simple_rnn (SimpleRNN)       (None, 50)                8950      \n",
        "_________________________________________________________________\n",
        "dense (Dense)                (None, 50)                2550      \n",
        "_________________________________________________________________\n",
        "dense_1 (Dense)              (None, 2)                 102       \n",
        "=================================================================\n",
        "Total params: 11,005,266\n",
        "Trainable params: 11,005,266\n",
        "Non-trainable params: 0\n",
        "_________________________________________________________________\n",
        "```\n",
        "</font>\n"
      ]
    },
    {
      "cell_type": "code",
      "metadata": {
        "id": "u21E5JCF75xX"
      },
      "source": [
        "## 쌓여있는 불필요한 것들을 삭제\n",
        "import tensorflow as tf\n",
        "tf.keras.backend.clear_session()"
      ],
      "execution_count": null,
      "outputs": []
    },
    {
      "cell_type": "markdown",
      "metadata": {
        "id": "JBL2kf43xCCW"
      },
      "source": [
        "<조건(🎧)>   \n",
        "1. Embedding: vocab_size -> embedding_dim으로 임베딩, Padding된 부분은 마스킹할 것 (mask_zero 옵션)\n",
        "2. SimpleRNN의 유닛(hidden_size)은 50차원이 되게 할 것\n",
        "3. 첫 번째 Dense layer에서는 relu activation을 사용할 것, hidden 차원은 50차원\n",
        "4. 두 번째 Dense layer에서는 결과가 [긍정, 부정] 카테고리에 대한 확률값과 같이 나오도록 할 것"
      ]
    },
    {
      "cell_type": "code",
      "metadata": {
        "id": "vcDr8GlZTqqV"
      },
      "source": [
        "from tensorflow.keras import Sequential\n",
        "from tensorflow.keras.layers import Embedding, SimpleRNN, Dense\n",
        "\n",
        "vocab_size = text_encoder.vocab_size # 단어사전 개수\n",
        "embedding_dim = final_embeddings.shape[1] # 임베딩 차원\n",
        "rnn_hidden_dim = 50 # RNN hidden_size\n",
        "final_dim = len(label_map)\n",
        "\n",
        "\"\"\" YOUR CODE HERE \"\"\"\n",
        "\n",
        "model = Sequential()\n",
        "## 1. Embedding layer 추가 ... (주의) padding된 부분은 마스킹 필요 -> mask_zero 옵션 참고\n",
        "model.add(Embedding(input_dim = vocab_size, output_dim = embedding_dim, mask_zero = True)) ## [★CODE 1★]\n",
        "\n",
        "## 2. SimpleRNN 레이어 추가\n",
        "model.add(SimpleRNN(rnn_hidden_dim))  ## [★CODE 2★]\n",
        "\n",
        "## 3. Fully Connected Layer 추가 (RNN 아웃풋에 대한 정보 가공)\n",
        "model.add(Dense(rnn_hidden_dim, activation='relu'))  ## [★CODE 3★]\n",
        "\n",
        "## 4. Fully Connected Layer 추가 (최종 태스크 수행을 위한 레이어)\n",
        "model.add(Dense(final_dim, activation= 'softmax'))  ## [★CODE 4★]"
      ],
      "execution_count": null,
      "outputs": []
    },
    {
      "cell_type": "code",
      "metadata": {
        "id": "qlpgWelVIMXu",
        "outputId": "edf6472b-9c69-4cfa-a9b1-6db2aa5ffa57",
        "colab": {
          "base_uri": "https://localhost:8080/",
          "height": 305
        }
      },
      "source": [
        "model.summary()"
      ],
      "execution_count": null,
      "outputs": [
        {
          "output_type": "stream",
          "text": [
            "Model: \"sequential\"\n",
            "_________________________________________________________________\n",
            "Layer (type)                 Output Shape              Param #   \n",
            "=================================================================\n",
            "embedding (Embedding)        (None, None, 128)         10998912  \n",
            "_________________________________________________________________\n",
            "simple_rnn (SimpleRNN)       (None, 50)                8950      \n",
            "_________________________________________________________________\n",
            "dense (Dense)                (None, 50)                2550      \n",
            "_________________________________________________________________\n",
            "dense_1 (Dense)              (None, 2)                 102       \n",
            "=================================================================\n",
            "Total params: 11,010,514\n",
            "Trainable params: 11,010,514\n",
            "Non-trainable params: 0\n",
            "_________________________________________________________________\n"
          ],
          "name": "stdout"
        }
      ]
    },
    {
      "cell_type": "markdown",
      "metadata": {
        "id": "-WQSqxZOy4mW"
      },
      "source": [
        "#### Step 2. CBOW로 학습된 워드 임베딩으로 모델 임베딩 Initialize 하기"
      ]
    },
    {
      "cell_type": "code",
      "metadata": {
        "id": "hF_nehjv7ejN",
        "outputId": "55f95da6-49e9-4036-a122-2627c776cf83",
        "colab": {
          "base_uri": "https://localhost:8080/",
          "height": 89
        }
      },
      "source": [
        "## 단어사전 개수 체크\n",
        "org_vocab_size = final_embeddings.shape[0]\n",
        "new_vocab_size = len(new_vocab_list)\n",
        "\n",
        "print(\"CBOW initialize될 토큰 개수:\", org_vocab_size)\n",
        "print(\"새로운 임베딩의 one-hot-vector:\", new_vocab_size, \"\\n\")\n",
        "print(\"-> 랜덤 초기화해야 할 벡터 차원: {} x {}\".format(new_vocab_size-org_vocab_size, embedding_dim))\n"
      ],
      "execution_count": null,
      "outputs": [
        {
          "output_type": "stream",
          "text": [
            "CBOW initialize될 토큰 개수: 70002\n",
            "새로운 임베딩의 one-hot-vector: 85929 \n",
            "\n",
            "-> 랜덤 초기화해야 할 벡터 차원: 15927 x 128\n"
          ],
          "name": "stdout"
        }
      ]
    },
    {
      "cell_type": "markdown",
      "metadata": {
        "id": "DXHH4WYPzbIc"
      },
      "source": [
        "👉이번 모델의 임베딩에서 기존 CBOW로 학습된 워드벡터로 초기화할 부분을 제외한 나머지는 랜덤하게 초기화야 합니다.   \n",
        "👉즉, <랜덤 초기화해야 할 벡터 차원>에 있는 만큼의 매트릭스를 랜덤 initialize해야 하지요.\n",
        "\n",
        "numpy를 사용해 Uniform~[-1, 1]으로부터 랜덤 초기화된 워드벡터를 생성하겠습니다."
      ]
    },
    {
      "cell_type": "code",
      "metadata": {
        "id": "8nJZ8o6v7kih",
        "outputId": "1a534129-ec26-4214-8a61-571db827bd82",
        "colab": {
          "base_uri": "https://localhost:8080/",
          "height": 35
        }
      },
      "source": [
        "rand_initial = np.random.uniform(-1,1,size=[vocab_size-org_vocab_size,embedding_dim])\n",
        "rand_initial.shape"
      ],
      "execution_count": null,
      "outputs": [
        {
          "output_type": "execute_result",
          "data": {
            "text/plain": [
              "(15927, 128)"
            ]
          },
          "metadata": {
            "tags": []
          },
          "execution_count": 49
        }
      ]
    },
    {
      "cell_type": "markdown",
      "metadata": {
        "id": "NCci7Tksz-a1"
      },
      "source": [
        "그리고, CBOW로 학습된 final_embeddings 뒤에    \n",
        "방금 초기화한 rand_initial 매트릭스를 이어붙여 임베딩 매트릭스를 만들겠습니다. \n",
        "\n",
        "numpy 패키지의 append 기능을 사용하면 됩니다."
      ]
    },
    {
      "cell_type": "code",
      "metadata": {
        "id": "CeS8C3bx7yqC",
        "outputId": "9d61865e-6529-4ea0-d8b7-463a2a270c74",
        "colab": {
          "base_uri": "https://localhost:8080/",
          "height": 35
        }
      },
      "source": [
        "initial_weight = np.append(final_embeddings, rand_initial, axis = 0)\n",
        "initial_weight.shape"
      ],
      "execution_count": null,
      "outputs": [
        {
          "output_type": "execute_result",
          "data": {
            "text/plain": [
              "(85929, 128)"
            ]
          },
          "metadata": {
            "tags": []
          },
          "execution_count": 50
        }
      ]
    },
    {
      "cell_type": "markdown",
      "metadata": {
        "id": "zERPVBGl0PUE"
      },
      "source": [
        "👉initial_weight는 이번 모델의 임베딩 매트릭스 차원과 같은 것을 확인할 수 있습니다.   \n",
        "\n",
        "(🎧)이제 model의 weight에 우리가 만든 initial_weight를 할당하도록 하겠습니다. \n",
        "\n",
        "model.weight에 assign 함수를 사용하면 이 작업을 쉽게 할 수 있습니다.   \n"
      ]
    },
    {
      "cell_type": "code",
      "metadata": {
        "id": "Bw-yYwUi0a6k",
        "outputId": "64f40328-12bc-4f2a-f221-1594058c1b42",
        "colab": {
          "base_uri": "https://localhost:8080/",
          "height": 251
        }
      },
      "source": [
        "model.weights[0].assign(initial_weight) # model.weights[0] -> 임베딩 레이어에 해당\n",
        "model.get_weights()[0]"
      ],
      "execution_count": null,
      "outputs": [
        {
          "output_type": "execute_result",
          "data": {
            "text/plain": [
              "array([[-1.2835134e-02,  3.8169596e-02,  1.2824427e-02, ...,\n",
              "        -4.1749455e-02, -6.7193434e-04, -2.5152588e-02],\n",
              "       [-4.3288276e-02, -2.2840855e-01, -3.3235773e-01, ...,\n",
              "        -6.2215126e-01, -2.1829844e-01,  5.5536860e-01],\n",
              "       [ 1.4566300e+00, -6.7591065e-01,  2.8122848e-01, ...,\n",
              "         5.9197694e-01, -2.6638773e-01, -5.2011847e-01],\n",
              "       ...,\n",
              "       [-7.3815566e-01,  5.1732779e-01,  2.7656373e-01, ...,\n",
              "        -6.5677695e-02,  3.1037965e-01, -2.4843073e-01],\n",
              "       [ 3.2668927e-01,  5.8948708e-01,  9.5651501e-01, ...,\n",
              "        -8.0872372e-02,  8.7534869e-01, -9.6380734e-01],\n",
              "       [ 1.4385018e-01,  9.5871794e-01,  4.5636600e-01, ...,\n",
              "         3.0956781e-01, -6.5908116e-01,  3.5696793e-02]], dtype=float32)"
            ]
          },
          "metadata": {
            "tags": []
          },
          "execution_count": 51
        }
      ]
    },
    {
      "cell_type": "code",
      "metadata": {
        "id": "N6Z2MNRoT_1a",
        "outputId": "81921224-6b2b-4a3e-e19f-5b134c41985f",
        "colab": {
          "base_uri": "https://localhost:8080/",
          "height": 251
        }
      },
      "source": [
        "final_embeddings"
      ],
      "execution_count": null,
      "outputs": [
        {
          "output_type": "execute_result",
          "data": {
            "text/plain": [
              "array([[-1.2835134e-02,  3.8169596e-02,  1.2824427e-02, ...,\n",
              "        -4.1749455e-02, -6.7193434e-04, -2.5152588e-02],\n",
              "       [-4.3288276e-02, -2.2840855e-01, -3.3235773e-01, ...,\n",
              "        -6.2215126e-01, -2.1829844e-01,  5.5536860e-01],\n",
              "       [ 1.4566300e+00, -6.7591065e-01,  2.8122848e-01, ...,\n",
              "         5.9197694e-01, -2.6638773e-01, -5.2011847e-01],\n",
              "       ...,\n",
              "       [ 1.1194041e-01,  1.6964216e-02,  4.3202369e-03, ...,\n",
              "         1.5999827e-01, -5.6099083e-02, -1.0200769e-01],\n",
              "       [ 2.2103237e-01, -1.4989263e-01, -3.2039825e-02, ...,\n",
              "        -2.3967037e-01, -9.9567167e-02, -5.5237666e-02],\n",
              "       [-6.5146297e-02, -1.4270051e-01, -7.0369817e-02, ...,\n",
              "         4.5767263e-02,  2.2352290e-01, -1.0648971e-01]], dtype=float32)"
            ]
          },
          "metadata": {
            "tags": []
          },
          "execution_count": 52
        }
      ]
    },
    {
      "cell_type": "markdown",
      "metadata": {
        "id": "IPp_wZ2ddaMG"
      },
      "source": [
        "#### Step 3. 모델 컴파일하기"
      ]
    },
    {
      "cell_type": "markdown",
      "metadata": {
        "id": "FV84N0EKw66U"
      },
      "source": [
        "<font color=\"red\">MISSION : 적절한 Loss 함수와 Optimizer을 선택하고, \"accuracy\" 매트릭을 트래킹하도록 컴파일해주세요\n",
        "</font>"
      ]
    },
    {
      "cell_type": "code",
      "metadata": {
        "id": "V3nPJiGW1q92"
      },
      "source": [
        "\"\"\" Your Code Here \"\"\"\n",
        "model.compile(loss = \"sparse_categorical_crossentropy\", \n",
        "              optimizer = \"adam\", metrics = \"accuracy\")"
      ],
      "execution_count": null,
      "outputs": []
    },
    {
      "cell_type": "markdown",
      "metadata": {
        "id": "9wQWmz8Xdi89"
      },
      "source": [
        "#### Step 4. 모델 학습하기 (🎧)\n",
        "모델 구조 선언과 컴파일이 완료되었습니다!    \n",
        "이제 model.fit()을 통해 학습을 진행하겠습니다.    \n",
        "이때 validation data의 loss를 트래킹하며 loss가 증가할 시 EarlyStopping을 하는 콜백을 사용하겠습니다."
      ]
    },
    {
      "cell_type": "code",
      "metadata": {
        "id": "v9vODjnL8KuZ"
      },
      "source": [
        "## early stopping callback 정의\n",
        "callback = tf.keras.callbacks.EarlyStopping(monitor='val_loss',  patience=1)"
      ],
      "execution_count": null,
      "outputs": []
    },
    {
      "cell_type": "code",
      "metadata": {
        "id": "R6jyqi5cdjJB",
        "outputId": "01363c60-7e7d-4df0-9dfb-f12122525d7b",
        "colab": {
          "base_uri": "https://localhost:8080/",
          "height": 145
        }
      },
      "source": [
        "num_epochs = 5\n",
        "history = model.fit(train_ids, train_labels, epochs=num_epochs, batch_size=200,\n",
        "                    validation_data=(val_ids, val_labels), callbacks=[callback])"
      ],
      "execution_count": null,
      "outputs": [
        {
          "output_type": "stream",
          "text": [
            "Epoch 1/5\n",
            "250/250 [==============================] - 24s 97ms/step - loss: 0.5615 - accuracy: 0.6988 - val_loss: 0.4585 - val_accuracy: 0.7910\n",
            "Epoch 2/5\n",
            "250/250 [==============================] - 25s 98ms/step - loss: 0.3783 - accuracy: 0.8377 - val_loss: 0.4344 - val_accuracy: 0.8062\n",
            "Epoch 3/5\n",
            "250/250 [==============================] - 24s 98ms/step - loss: 0.3052 - accuracy: 0.8759 - val_loss: 0.4352 - val_accuracy: 0.8096\n"
          ],
          "name": "stdout"
        }
      ]
    },
    {
      "cell_type": "markdown",
      "metadata": {
        "id": "42MnPFs9O3Fr"
      },
      "source": [
        "#### Step 5. 훈련 결과 진단하기"
      ]
    },
    {
      "cell_type": "code",
      "metadata": {
        "id": "rtaGxpJa4SmM",
        "outputId": "cf27d630-9fc1-41db-a8db-27c0db67e7ec",
        "colab": {
          "base_uri": "https://localhost:8080/",
          "height": 541
        }
      },
      "source": [
        "import matplotlib.pyplot as plt\n",
        "\n",
        "def plot_graphs(history, string):\n",
        "  plt.plot(history.history[string])\n",
        "  plt.plot(history.history['val_'+string])\n",
        "  plt.xlabel(\"Epochs\")\n",
        "  plt.ylabel(string)\n",
        "  plt.legend([string, 'val_'+string])\n",
        "  plt.show()\n",
        "  \n",
        "plot_graphs(history, \"accuracy\")\n",
        "plot_graphs(history, \"loss\")"
      ],
      "execution_count": null,
      "outputs": [
        {
          "output_type": "display_data",
          "data": {
            "image/png": "[encoded data removed]",
            "text/plain": [
              "<Figure size 432x288 with 1 Axes>"
            ]
          },
          "metadata": {
            "tags": [],
            "needs_background": "light"
          }
        },
        {
          "output_type": "display_data",
          "data": {
            "image/png": "[encoded data removed]",
            "text/plain": [
              "<Figure size 432x288 with 1 Axes>"
            ]
          },
          "metadata": {
            "tags": [],
            "needs_background": "light"
          }
        }
      ]
    },
    {
      "cell_type": "code",
      "metadata": {
        "id": "6q0dKaP01X_E",
        "outputId": "b90b4c9d-f499-40ae-de21-e5204d0a1d6c",
        "colab": {
          "base_uri": "https://localhost:8080/",
          "height": 53
        }
      },
      "source": [
        "## Test Set에서의 accuracy 측정\n",
        "model.evaluate(test_ids, test_labels)"
      ],
      "execution_count": null,
      "outputs": [
        {
          "output_type": "stream",
          "text": [
            "313/313 [==============================] - 2s 6ms/step - loss: 0.4506 - accuracy: 0.8039\n"
          ],
          "name": "stdout"
        },
        {
          "output_type": "execute_result",
          "data": {
            "text/plain": [
              "[0.4505869746208191, 0.8039000034332275]"
            ]
          },
          "metadata": {
            "tags": []
          },
          "execution_count": 63
        }
      ]
    },
    {
      "cell_type": "markdown",
      "metadata": {
        "id": "13AeKZe8JdIn"
      },
      "source": [
        "## #2. Inference 실행하기\n",
        "이제 학습이 완료된 모델로 새로운 문장에 대해 추론을 해보겠습니다."
      ]
    },
    {
      "cell_type": "code",
      "metadata": {
        "id": "SxopYLQtIkw1"
      },
      "source": [
        "\"\"\" 훈련된 모델로 다시 예측해보기 \"\"\"\n",
        "\n",
        "def inference(mymodel, sentence):\n",
        "  # 1. tokenizer로 문장 파싱\n",
        "  parsed_sent = tokenize(sentence)\n",
        "\n",
        "  # 2. vocab_dict를 이용해 인덱스로 변환\n",
        "  input_id1 = text_encoder.convert_tokens_to_ids(parsed_sent)\n",
        "  \n",
        "  # 단일 문장 추론이기 때문에 패딩할 필요가 없음\n",
        "  input_id = np.array([input_id1])\n",
        "  score = mymodel.predict(input_id)  #[1, 2]\n",
        "\n",
        "  print(\"** INPUT:\", sentence)\n",
        "  print(\"   -> 긍정: {:.2f} / 부정: {:.2f}\".format(score[0][0],score[0][1]))"
      ],
      "execution_count": null,
      "outputs": []
    },
    {
      "cell_type": "code",
      "metadata": {
        "id": "kvmzn7Ec9Vn3",
        "outputId": "7f3f1c4e-0184-4ca9-80f1-5816c177615d",
        "colab": {
          "base_uri": "https://localhost:8080/",
          "height": 53
        }
      },
      "source": [
        "inference(model, \"올해의 영화!!! 최고!!!\")"
      ],
      "execution_count": null,
      "outputs": [
        {
          "output_type": "stream",
          "text": [
            "** INPUT: 올해의 영화!!! 최고!!!\n",
            "   -> 긍정: 0.99 / 부정: 0.01\n"
          ],
          "name": "stdout"
        }
      ]
    },
    {
      "cell_type": "code",
      "metadata": {
        "id": "ikMK6a_s9aT6",
        "outputId": "305253d8-42c7-4d64-851e-2d5c75211e9a",
        "colab": {
          "base_uri": "https://localhost:8080/",
          "height": 53
        }
      },
      "source": [
        "inference(model, \"내가 감독해도 이거보단 낫겠네\")"
      ],
      "execution_count": null,
      "outputs": [
        {
          "output_type": "stream",
          "text": [
            "** INPUT: 내가 감독해도 이거보단 낫겠네\n",
            "   -> 긍정: 0.10 / 부정: 0.90\n"
          ],
          "name": "stdout"
        }
      ]
    },
    {
      "cell_type": "markdown",
      "metadata": {
        "id": "0C9eLc1iYwML"
      },
      "source": [
        "<font color=\"blue\">🙋‍♀️최근에 본 영화를 떠올리며 감상평을 써보세요! 모델이 잘 분류하는지 테스트해봅시다\n",
        "</font>"
      ]
    },
    {
      "cell_type": "code",
      "metadata": {
        "id": "mi_fIiVC4k8g",
        "outputId": "680487d4-db20-4232-b027-caefc8727034",
        "colab": {
          "base_uri": "https://localhost:8080/",
          "height": 53
        }
      },
      "source": [
        "inference(model, \"2회차 관람 예약이용 ㅠ\")"
      ],
      "execution_count": null,
      "outputs": [
        {
          "output_type": "stream",
          "text": [
            "** INPUT: 2회차 관람 예약이용 ㅠ\n",
            "   -> 긍정: 0.68 / 부정: 0.32\n"
          ],
          "name": "stdout"
        }
      ]
    }
  ]
}