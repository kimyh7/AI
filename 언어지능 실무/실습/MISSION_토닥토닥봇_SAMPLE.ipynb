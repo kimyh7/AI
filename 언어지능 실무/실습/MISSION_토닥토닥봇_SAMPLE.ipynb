{
  "nbformat": 4,
  "nbformat_minor": 0,
  "metadata": {
    "colab": {
      "name": "MISSION_토닥토닥봇_SAMPLE.ipynb",
      "provenance": [],
      "collapsed_sections": [],
      "toc_visible": true,
      "machine_shape": "hm"
    },
    "kernelspec": {
      "name": "python3",
      "display_name": "Python 3"
    },
    "accelerator": "GPU"
  },
  "cells": [
    {
      "cell_type": "markdown",
      "metadata": {
        "id": "RQuwLrfneJGq"
      },
      "source": [
        "# MISSION : 토닥토닥봇 만들기💚\n",
        "\n",
        "\n",
        "\n",
        "\n",
        "\n",
        "\n",
        "\n"
      ]
    },
    {
      "cell_type": "markdown",
      "metadata": {
        "id": "XI5VEKjCVzQz"
      },
      "source": [
        "## #0. 실습 준비하기\n",
        "\n",
        "먼저 구글 드라이브를 마운트하고, 1일차에서 코딩했던 전처리 코드가 들어있는 utils.py를 불러오겠습니다."
      ]
    },
    {
      "cell_type": "code",
      "metadata": {
        "id": "5Cg9V5xCV-YJ",
        "outputId": "beacf4e7-6a68-4074-9a06-80755547792b",
        "colab": {
          "base_uri": "https://localhost:8080/",
          "height": 35
        }
      },
      "source": [
        "from google.colab import drive\n",
        "drive.mount('/content/gdrive')\n",
        "\n",
        "!cp \"/content/gdrive/My Drive/NLP/utils.py\" \"/content\""
      ],
      "execution_count": 1,
      "outputs": [
        {
          "output_type": "stream",
          "text": [
            "Mounted at /content/gdrive\n"
          ],
          "name": "stdout"
        }
      ]
    },
    {
      "cell_type": "markdown",
      "metadata": {
        "id": "t8-GmfaxHF-I"
      },
      "source": [
        "필요하실 수 있는 라이브러리들도 로딩했어요."
      ]
    },
    {
      "cell_type": "code",
      "metadata": {
        "id": "qZ695haKKAwv",
        "outputId": "58ece2f4-b265-4415-9086-135008fb1570",
        "colab": {
          "base_uri": "https://localhost:8080/",
          "height": 611
        }
      },
      "source": [
        "!pip install konlpy\n",
        "\n",
        "import numpy as np\n",
        "import tensorflow as tf"
      ],
      "execution_count": 2,
      "outputs": [
        {
          "output_type": "stream",
          "text": [
            "Collecting konlpy\n",
            "\u001b[?25l  Downloading https://files.pythonhosted.org/packages/85/0e/f385566fec837c0b83f216b2da65db9997b35dd675e107752005b7d392b1/konlpy-0.5.2-py2.py3-none-any.whl (19.4MB)\n",
            "\u001b[K     |████████████████████████████████| 19.4MB 1.3MB/s \n",
            "\u001b[?25hRequirement already satisfied: numpy>=1.6 in /usr/local/lib/python3.6/dist-packages (from konlpy) (1.18.5)\n",
            "Requirement already satisfied: lxml>=4.1.0 in /usr/local/lib/python3.6/dist-packages (from konlpy) (4.2.6)\n",
            "Collecting JPype1>=0.7.0\n",
            "\u001b[?25l  Downloading https://files.pythonhosted.org/packages/8b/f7/a368401e630f0e390dd0e62c39fb928e5b23741b53c2360ee7d376660927/JPype1-1.0.2-cp36-cp36m-manylinux2010_x86_64.whl (3.8MB)\n",
            "\u001b[K     |████████████████████████████████| 3.8MB 57.8MB/s \n",
            "\u001b[?25hCollecting colorama\n",
            "  Downloading https://files.pythonhosted.org/packages/44/98/5b86278fbbf250d239ae0ecb724f8572af1c91f4a11edf4d36a206189440/colorama-0.4.4-py2.py3-none-any.whl\n",
            "Collecting tweepy>=3.7.0\n",
            "  Downloading https://files.pythonhosted.org/packages/bb/7c/99d51f80f3b77b107ebae2634108717362c059a41384a1810d13e2429a81/tweepy-3.9.0-py2.py3-none-any.whl\n",
            "Collecting beautifulsoup4==4.6.0\n",
            "\u001b[?25l  Downloading https://files.pythonhosted.org/packages/9e/d4/10f46e5cfac773e22707237bfcd51bbffeaf0a576b0a847ec7ab15bd7ace/beautifulsoup4-4.6.0-py3-none-any.whl (86kB)\n",
            "\u001b[K     |████████████████████████████████| 92kB 11.2MB/s \n",
            "\u001b[?25hRequirement already satisfied: typing-extensions; python_version < \"3.8\" in /usr/local/lib/python3.6/dist-packages (from JPype1>=0.7.0->konlpy) (3.7.4.3)\n",
            "Requirement already satisfied: requests-oauthlib>=0.7.0 in /usr/local/lib/python3.6/dist-packages (from tweepy>=3.7.0->konlpy) (1.3.0)\n",
            "Requirement already satisfied: six>=1.10.0 in /usr/local/lib/python3.6/dist-packages (from tweepy>=3.7.0->konlpy) (1.15.0)\n",
            "Requirement already satisfied: requests[socks]>=2.11.1 in /usr/local/lib/python3.6/dist-packages (from tweepy>=3.7.0->konlpy) (2.23.0)\n",
            "Requirement already satisfied: oauthlib>=3.0.0 in /usr/local/lib/python3.6/dist-packages (from requests-oauthlib>=0.7.0->tweepy>=3.7.0->konlpy) (3.1.0)\n",
            "Requirement already satisfied: idna<3,>=2.5 in /usr/local/lib/python3.6/dist-packages (from requests[socks]>=2.11.1->tweepy>=3.7.0->konlpy) (2.10)\n",
            "Requirement already satisfied: urllib3!=1.25.0,!=1.25.1,<1.26,>=1.21.1 in /usr/local/lib/python3.6/dist-packages (from requests[socks]>=2.11.1->tweepy>=3.7.0->konlpy) (1.24.3)\n",
            "Requirement already satisfied: chardet<4,>=3.0.2 in /usr/local/lib/python3.6/dist-packages (from requests[socks]>=2.11.1->tweepy>=3.7.0->konlpy) (3.0.4)\n",
            "Requirement already satisfied: certifi>=2017.4.17 in /usr/local/lib/python3.6/dist-packages (from requests[socks]>=2.11.1->tweepy>=3.7.0->konlpy) (2020.6.20)\n",
            "Requirement already satisfied: PySocks!=1.5.7,>=1.5.6; extra == \"socks\" in /usr/local/lib/python3.6/dist-packages (from requests[socks]>=2.11.1->tweepy>=3.7.0->konlpy) (1.7.1)\n",
            "Installing collected packages: JPype1, colorama, tweepy, beautifulsoup4, konlpy\n",
            "  Found existing installation: tweepy 3.6.0\n",
            "    Uninstalling tweepy-3.6.0:\n",
            "      Successfully uninstalled tweepy-3.6.0\n",
            "  Found existing installation: beautifulsoup4 4.6.3\n",
            "    Uninstalling beautifulsoup4-4.6.3:\n",
            "      Successfully uninstalled beautifulsoup4-4.6.3\n",
            "Successfully installed JPype1-1.0.2 beautifulsoup4-4.6.0 colorama-0.4.4 konlpy-0.5.2 tweepy-3.9.0\n"
          ],
          "name": "stdout"
        }
      ]
    },
    {
      "cell_type": "markdown",
      "metadata": {
        "id": "XQxrMxDHXEqF"
      },
      "source": [
        "## #1. 데이터셋 불러오기\n"
      ]
    },
    {
      "cell_type": "code",
      "metadata": {
        "id": "Je2SyOfhV9Hh",
        "outputId": "3bbb0ec4-51c8-4e7b-a13f-fae04d7b55fd",
        "colab": {
          "base_uri": "https://localhost:8080/",
          "height": 35
        }
      },
      "source": [
        "import json\n",
        "filename = \"/content/gdrive/My Drive/NLP/Wellness_data_train.json\"\n",
        "\n",
        "with open(filename) as f:\n",
        "  train = json.loads(f.read())\n",
        "print(\"# of Train =\", len(train))"
      ],
      "execution_count": 3,
      "outputs": [
        {
          "output_type": "stream",
          "text": [
            "# of Train = 4651\n"
          ],
          "name": "stdout"
        }
      ]
    },
    {
      "cell_type": "markdown",
      "metadata": {
        "id": "fGOvmqvmIiZv"
      },
      "source": [
        "👉 총 4,651건의 (인풋 - 라벨) 쌍의 학습용 데이터가 있습니다."
      ]
    },
    {
      "cell_type": "code",
      "metadata": {
        "id": "YpdITXN1Ig4h",
        "outputId": "b6fce192-d0e1-46b3-eb62-e2ffb4b1d707",
        "colab": {
          "base_uri": "https://localhost:8080/",
          "height": 125
        }
      },
      "source": [
        "print(\"Data Example\")\n",
        "for i in range(5):\n",
        "  print(train[i])"
      ],
      "execution_count": 4,
      "outputs": [
        {
          "output_type": "stream",
          "text": [
            "Data Example\n",
            "['Sent_4393', '뭔가 하루종일 이렇게 들뜬 기분이다 보니까 잠도 잘 안 와.', '증상/불면', '증상/불면']\n",
            "['Sent_603', '아무한테나 화내고 그러지는 않아.', '감정/분노', '감정/분노']\n",
            "['Sent_4224', '잠자리에 누워도 맨날 뒤척이고... 잠을 제대로 잘 수 있을 리가 없지.', '증상/불면', '증상/불면']\n",
            "['Sent_3849', '5일 전에는 새벽에 일어나서 화장실을 가다가 순간적으로 정신을 잃었어.', '증상/기절', '증상/기절']\n",
            "['Sent_666', '그냥 감정이입이 심하게 되고 불안감도 잘 느끼는 것 같아요.', '감정/불안감', '감정/불안감']\n"
          ],
          "name": "stdout"
        }
      ]
    },
    {
      "cell_type": "markdown",
      "metadata": {
        "id": "8pxPsdtnIv-H"
      },
      "source": [
        "👉 학습 데이터의 첫 번째 다섯 개의 example들을 프린트해보았습니다.   \n",
        "👉 리스트의 0번째에 문장_id, 1번째에 인풋 텍스트, 2번째에 정답 라벨이 있는 것을 확인할 수 있습니다.   \n",
        "👉 3번째에 있는 것은 2번째에 있는 카테고리보다 세분화된 라벨로, 이번 태스크에서는 무시하셔도 좋습니다."
      ]
    },
    {
      "cell_type": "code",
      "metadata": {
        "id": "hpDVypJrIg1Z",
        "outputId": "9893ca4c-6d89-4748-cf28-02d6f016530b",
        "colab": {
          "base_uri": "https://localhost:8080/",
          "height": 1000
        }
      },
      "source": [
        "import collections\n",
        "train_counter = collections.Counter()\n",
        "for dat in train:\n",
        "  train_counter[dat[2]] += 1\n",
        "print(\"라벨 개수:\", len(train_counter), \"\\n\")\n",
        "print(\"*** LABEL 분포 ***\")\n",
        "\n",
        "for cnt in train_counter.most_common():\n",
        "  print(\"{} : {} ({:.2f}%)\".format(cnt[0], cnt[1], 100*cnt[1]/len(train)))"
      ],
      "execution_count": 5,
      "outputs": [
        {
          "output_type": "stream",
          "text": [
            "라벨 개수: 176 \n",
            "\n",
            "*** LABEL 분포 ***\n",
            "증상/불면 : 236 (5.07%)\n",
            "배경/직장 : 152 (3.27%)\n",
            "배경/남편 : 142 (3.05%)\n",
            "감정/걱정 : 134 (2.88%)\n",
            "배경/부모 : 125 (2.69%)\n",
            "감정/힘듦 : 111 (2.39%)\n",
            "배경/생활 : 107 (2.30%)\n",
            "배경/성격 : 94 (2.02%)\n",
            "감정/불안감 : 91 (1.96%)\n",
            "감정/우울감 : 87 (1.87%)\n",
            "감정/자살충동 : 87 (1.87%)\n",
            "증상/무기력 : 87 (1.87%)\n",
            "감정/부정적사고 : 86 (1.85%)\n",
            "증상/피해망상 : 82 (1.76%)\n",
            "증상/식욕저하 : 67 (1.44%)\n",
            "배경/건강문제 : 65 (1.40%)\n",
            "배경/남자친구 : 60 (1.29%)\n",
            "증상/반복행동 : 59 (1.27%)\n",
            "배경/학교 : 56 (1.20%)\n",
            "배경/문제 : 55 (1.18%)\n",
            "배경/음주 : 53 (1.14%)\n",
            "감정/답답 : 51 (1.10%)\n",
            "배경/대학 : 48 (1.03%)\n",
            "배경/연애 : 47 (1.01%)\n",
            "감정/짜증 : 46 (0.99%)\n",
            "배경/경제적문제 : 46 (0.99%)\n",
            "배경/사업 : 45 (0.97%)\n",
            "증상/기억력저하 : 45 (0.97%)\n",
            "증상/호흡곤란 : 44 (0.95%)\n",
            "배경/여자친구 : 41 (0.88%)\n",
            "치료이력/병원내원 : 40 (0.86%)\n",
            "증상/두통 : 39 (0.84%)\n",
            "증상/두근거림 : 37 (0.80%)\n",
            "배경/친구 : 37 (0.80%)\n",
            "배경/어린시절 : 35 (0.75%)\n",
            "감정/화 : 35 (0.75%)\n",
            "증상/환청 : 34 (0.73%)\n",
            "배경/대인관계 : 33 (0.71%)\n",
            "부가설명 : 33 (0.71%)\n",
            "증상/은둔 : 32 (0.69%)\n",
            "감정/심란 : 31 (0.67%)\n",
            "증상/통증 : 31 (0.67%)\n",
            "배경/취업 : 30 (0.65%)\n",
            "배경/결혼 : 30 (0.65%)\n",
            "배경/가족 : 30 (0.65%)\n",
            "감정/후회 : 30 (0.65%)\n",
            "감정/눈물 : 29 (0.62%)\n",
            "배경/시댁 : 29 (0.62%)\n",
            "배경/자녀 : 29 (0.62%)\n",
            "자가치료/심리조절 : 29 (0.62%)\n",
            "감정/괴로움 : 28 (0.60%)\n",
            "증상/폭식 : 28 (0.60%)\n",
            "감정/생각 : 28 (0.60%)\n",
            "감정/분노 : 27 (0.58%)\n",
            "증상/죽음공포 : 27 (0.58%)\n",
            "배경/학업 : 26 (0.56%)\n",
            "감정/자괴감 : 25 (0.54%)\n",
            "증상/체중감소 : 25 (0.54%)\n",
            "배경/사고 : 24 (0.52%)\n",
            "증상/어지러움 : 22 (0.47%)\n",
            "감정/무서움 : 22 (0.47%)\n",
            "증상/피로 : 22 (0.47%)\n",
            "증상/대인기피 : 22 (0.47%)\n",
            "감정/외로움 : 21 (0.45%)\n",
            "감정/자존감저하 : 21 (0.45%)\n",
            "치료이력/검사 : 21 (0.45%)\n",
            "증상/집중력저하 : 21 (0.45%)\n",
            "감정/의욕상실 : 21 (0.45%)\n",
            "감정/불만 : 21 (0.45%)\n",
            "일반대화 : 19 (0.41%)\n",
            "감정/감정조절이상 : 19 (0.41%)\n",
            "증상/반복사고 : 19 (0.41%)\n",
            "감정/억울함 : 19 (0.41%)\n",
            "증상/공황발작 : 18 (0.39%)\n",
            "감정/서운함 : 18 (0.39%)\n",
            "감정/충격 : 18 (0.39%)\n",
            "증상/자해 : 18 (0.39%)\n",
            "감정/모호함 : 18 (0.39%)\n",
            "감정/두려움 : 17 (0.37%)\n",
            "감정/불쾌감 : 17 (0.37%)\n",
            "감정/절망감 : 17 (0.37%)\n",
            "감정/슬픔 : 17 (0.37%)\n",
            "증상/가슴답답 : 17 (0.37%)\n",
            "상태/증상지속 : 16 (0.34%)\n",
            "감정/신경쓰임 : 16 (0.34%)\n",
            "배경/애완동물 : 16 (0.34%)\n",
            "배경/임신 : 16 (0.34%)\n",
            "증상/이명 : 15 (0.32%)\n",
            "감정/자신감저하 : 15 (0.32%)\n",
            "감정/기분저하 : 15 (0.32%)\n",
            "감정/공포 : 15 (0.32%)\n",
            "증상/악몽 : 15 (0.32%)\n",
            "증상/자살시도 : 14 (0.30%)\n",
            "증상/기억상실 : 14 (0.30%)\n",
            "감정/속상함 : 14 (0.30%)\n",
            "상태/양호 : 14 (0.30%)\n",
            "감정/긴장 : 14 (0.30%)\n",
            "내원이유/상담 : 14 (0.30%)\n",
            "감정/비관적 : 14 (0.30%)\n",
            "배경/자각 : 13 (0.28%)\n",
            "증상/기절예기 : 13 (0.28%)\n",
            "증상/체중증가 : 13 (0.28%)\n",
            "배경/진로 : 13 (0.28%)\n",
            "증상/기절 : 12 (0.26%)\n",
            "감정/살인욕구 : 12 (0.26%)\n",
            "배경/공부 : 12 (0.26%)\n",
            "증상/가슴떨림 : 12 (0.26%)\n",
            "감정/허무함 : 12 (0.26%)\n",
            "감정/멍함 : 12 (0.26%)\n",
            "감정/즐거움 : 11 (0.24%)\n",
            "치료이력/응급실 : 11 (0.24%)\n",
            "증상/힘빠짐 : 11 (0.24%)\n",
            "감정/의기소침 : 11 (0.24%)\n",
            "감정/고독감 : 11 (0.24%)\n",
            "증상/과수면 : 10 (0.22%)\n",
            "배경/이혼 : 10 (0.22%)\n",
            "현재상태/증상악화 : 10 (0.22%)\n",
            "감정/무미건조 : 10 (0.22%)\n",
            "증상/알코올의존 : 10 (0.22%)\n",
            "감정/통제력상실 : 9 (0.19%)\n",
            "증상/환각 : 9 (0.19%)\n",
            "배경/이사 : 9 (0.19%)\n",
            "배경/아르바이트 : 9 (0.19%)\n",
            "증상/건강염려 : 9 (0.19%)\n",
            "증상/소화불량 : 9 (0.19%)\n",
            "감정/불편감 : 8 (0.17%)\n",
            "감정/좌절 : 8 (0.17%)\n",
            "감정/공허감 : 8 (0.17%)\n",
            "감정/당황 : 8 (0.17%)\n",
            "증상/이인감 : 8 (0.17%)\n",
            "감정/불신 : 8 (0.17%)\n",
            "증상/컨디션저조 : 8 (0.17%)\n",
            "감정/미움 : 8 (0.17%)\n",
            "증상/만성피로 : 8 (0.17%)\n",
            "감정/미안함 : 8 (0.17%)\n",
            "배경/유학 : 8 (0.17%)\n",
            "감정/무력감 : 7 (0.15%)\n",
            "증상/생리불순 : 7 (0.15%)\n",
            "배경/타인 : 7 (0.15%)\n",
            "내원이유/치료 : 7 (0.15%)\n",
            "증상/과대망상 : 7 (0.15%)\n",
            "감정/예민함 : 7 (0.15%)\n",
            "배경/육아 : 7 (0.15%)\n",
            "증상/메스꺼움 : 7 (0.15%)\n",
            "내원이유/의사소견 : 7 (0.15%)\n",
            "증상/편두통 : 7 (0.15%)\n",
            "배경/전연인 : 6 (0.13%)\n",
            "배경/종교 : 6 (0.13%)\n",
            "감정/배신감 : 6 (0.13%)\n",
            "배경/귀국 : 6 (0.13%)\n",
            "증상/대화기피 : 6 (0.13%)\n",
            "현재상태/증상지속 : 6 (0.13%)\n",
            "증상/성욕상승 : 6 (0.13%)\n",
            "증상/가슴통증 : 6 (0.13%)\n",
            "증상/신체이상 : 6 (0.13%)\n",
            "현재상태/증상감소 : 6 (0.13%)\n",
            "감정/과민반응 : 6 (0.13%)\n",
            "감정/죄책감 : 6 (0.13%)\n",
            "증상/발작 : 6 (0.13%)\n",
            "증상/인지기능저하 : 6 (0.13%)\n",
            "상태/증상감소 : 6 (0.13%)\n",
            "감정/창피함 : 6 (0.13%)\n",
            "증상/속쓰림 : 6 (0.13%)\n",
            "감정/초조함 : 6 (0.13%)\n",
            "배경/군대 : 5 (0.11%)\n",
            "증상/체력저하 : 5 (0.11%)\n",
            "증상/공격적성향 : 5 (0.11%)\n",
            "증상/시력저하 : 5 (0.11%)\n",
            "감정/기시감 : 5 (0.11%)\n",
            "자가치료/운동 : 5 (0.11%)\n",
            "자가치료/충분한휴식 : 5 (0.11%)\n",
            "증상/저림현상 : 5 (0.11%)\n",
            "증상/성격변화 : 5 (0.11%)\n",
            "증상/떨림 : 5 (0.11%)\n",
            "감정/곤혹감 : 5 (0.11%)\n",
            "원인/없음 : 5 (0.11%)\n"
          ],
          "name": "stdout"
        }
      ]
    },
    {
      "cell_type": "markdown",
      "metadata": {
        "id": "rf-dBsR-ItOe"
      },
      "source": [
        "👉 우리가 만들 NLU 텍스트 분류 모델이 어떤 카테고리를 예측해야 하는지 프린트해보았습니다.   \n",
        "👉 각각의 라벨 이름과 그에 해당하는 데이터 개수와 그 비율이 나와 있습니다.   \n",
        "👉 증상/불면과 같은 카테고리는 239개나 되는 예시 문장이 있지만, 원인/없음과 같은 카테고리는 5개밖에 문장이 없는 것을 볼 수 있습니다."
      ]
    },
    {
      "cell_type": "markdown",
      "metadata": {
        "id": "3QrI3-snJllf"
      },
      "source": [
        "## #2. NLU 모델링\n",
        "\n",
        "그럼, train 데이터셋을 사용해 176가지 감정 카테고리 분류 모델 학습을 시작해보세요!   \n",
        "\n",
        "NLU 모델링을 위한 4가지 프로세스:   \n",
        "토크나이징 - 인코딩 - 토큰 임베딩 -모델링\n",
        "\n",
        "기억하고 계시지요:)?"
      ]
    },
    {
      "cell_type": "markdown",
      "metadata": {
        "id": "SPJLVhraJ9cq"
      },
      "source": [
        "참고로 각각의 스텝에서 결정하고, 코딩해야 할 것들은 다음과 같습니다. \n",
        "1. 토크나이징   \n",
        "a. 어떤 단위의 토큰을 사용할 것인가? (형태소/ 글자)   \n",
        "b. tokenize(sentence) 함수 정의하기   \n",
        "c. 학습 데이터에 있는 문장 토크나이즈하기\n",
        "\n",
        "2. 인코딩   \n",
        "a. 단어사전 만들기   \n",
        "  - 형태소 단위라면 -> CBOW 워드벡터 사용할지/ 처음부터 만들지 결정\n",
        "  - 글자 단위라면 -> 학습 데이터에 등장한 글자들로 구성된 단어사전 만들기   \n",
        "\n",
        "  b. text_encoder 만들기(TextEncoder 사용)   \n",
        "  c. 토크나이징된 문장을 text_encoder를 사용해 인덱스로 변환하고, 모델 학습에 필요한 train_ids, train_labels 만들기 (create_cls_feature 함수 활용)   \n",
        "\n",
        "--- 여기부터 모델링 ---\n",
        "3. 임베딩   \n",
        "4. 모델링   \n",
        "a. 아키텍처 결정하기 (RNN? CNN? 하이퍼파라미터?)   \n",
        "b. CBOW 워드 벡터를 사용하기로 했다면, Embedding Weight 초기화하기   \n",
        "c. 모델 컴파일 (loss, optimizer, metrics)    \n",
        "d. 모델 학습 (epoch 수 조절, EarlyStopping 등)\n",
        "\n"
      ]
    },
    {
      "cell_type": "markdown",
      "metadata": {
        "id": "tYKD4u1zJgzp"
      },
      "source": [
        "<font size=20> YOUR CODE HERE </font>"
      ]
    },
    {
      "cell_type": "code",
      "metadata": {
        "id": "hDWkwmP6IgyT"
      },
      "source": [
        "from konlpy.tag import Komoran, Hannanum, Kkma, Okt"
      ],
      "execution_count": 6,
      "outputs": []
    },
    {
      "cell_type": "code",
      "metadata": {
        "id": "sPEKo3rIOH2t"
      },
      "source": [
        "from utils import TextEncoder, create_cls_feature"
      ],
      "execution_count": 7,
      "outputs": []
    },
    {
      "cell_type": "markdown",
      "metadata": {
        "id": "8_VkVnlsWGGJ"
      },
      "source": [
        "#### Step 1. 토크나이징\n",
        "CBOW 워드벡터를 활용하기 위해 Komoran 형태소분석기를 사용하겠습니다.\n"
      ]
    },
    {
      "cell_type": "code",
      "metadata": {
        "id": "3_6zkRsMOLvB"
      },
      "source": [
        "komoran = Komoran()\n",
        "def tokenize(sentence):\n",
        "  return komoran.morphs(sentence)"
      ],
      "execution_count": 8,
      "outputs": []
    },
    {
      "cell_type": "markdown",
      "metadata": {
        "id": "MMMDoleSWWya"
      },
      "source": [
        "#### Step 2. 인코딩\n",
        "\n",
        "단어사전 로딩하기"
      ]
    },
    {
      "cell_type": "code",
      "metadata": {
        "id": "tvTK1w2_IgvP",
        "outputId": "a5469288-6196-46c9-a211-247c575617d0",
        "colab": {
          "base_uri": "https://localhost:8080/",
          "height": 35
        }
      },
      "source": [
        "\"\"\" 지난 실슬 때 만들었던 단어 사전 로딩 \"\"\"\n",
        "## 저장한 파일 로딩\n",
        "import numpy as np\n",
        "with open(\"/content/gdrive/My Drive/NLP/vecs.tsv\") as f:\n",
        "  vecs = [v.strip() for v in f.readlines()]\n",
        "final_embeddings = [v.split(\"\\t\") for v in vecs]\n",
        "final_embeddings = np.array(final_embeddings, dtype=\"float32\")\n",
        "with open(\"/content/gdrive/My Drive/NLP/meta.tsv\") as f:\n",
        "  vocab_list = [v.strip() for v in f.readlines()]\n",
        "\n",
        "print(len(vocab_list))"
      ],
      "execution_count": 9,
      "outputs": [
        {
          "output_type": "stream",
          "text": [
            "70002\n"
          ],
          "name": "stdout"
        }
      ]
    },
    {
      "cell_type": "markdown",
      "metadata": {
        "id": "a454GylYWjBE"
      },
      "source": [
        "현재 Train Data에서 OOV로 떨어지는 토큰 확인하고 사전에 추가하기"
      ]
    },
    {
      "cell_type": "code",
      "metadata": {
        "id": "Cp1HAssKL4J0"
      },
      "source": [
        "tot_tokens = 0\n",
        "oov_counter = collections.Counter()\n",
        "Tokenized_train = []\n",
        "for dat in train:\n",
        "  sent = dat[1]\n",
        "  tokenized_sent = tokenize(sent)\n",
        "  tot_tokens += len(tokenized_sent)\n",
        "  for word in tokenized_sent:\n",
        "    if word not in vocab_list:\n",
        "      oov_counter[word] += 1\n",
        "  Tokenized_train.append([dat[0], tokenized_sent, dat[2]])"
      ],
      "execution_count": 10,
      "outputs": []
    },
    {
      "cell_type": "code",
      "metadata": {
        "id": "1zsUCESKL4Ty",
        "outputId": "c5ae26a9-fa83-4ef4-bca3-ace9445e376b",
        "colab": {
          "base_uri": "https://localhost:8080/",
          "height": 53
        }
      },
      "source": [
        "print(\"# OOV Tokens:\", len(oov_counter))\n",
        "print(\"{}/{} ({:.2f}%) are [UNK] in train tokens\".format(sum(oov_counter.values()) , tot_tokens , 100*sum(oov_counter.values())/tot_tokens))"
      ],
      "execution_count": 11,
      "outputs": [
        {
          "output_type": "stream",
          "text": [
            "# OOV Tokens: 471\n",
            "838/74665 (1.12%) are [UNK] in train tokens\n"
          ],
          "name": "stdout"
        }
      ]
    },
    {
      "cell_type": "code",
      "metadata": {
        "id": "JSST_SbNL4pg",
        "outputId": "1aeb5576-c9b7-4ead-ec2a-f1d14df0c7de",
        "colab": {
          "base_uri": "https://localhost:8080/",
          "height": 107
        }
      },
      "source": [
        "### 새로 나온 데이터 살펴보기\n",
        "most_common = oov_counter.most_common(len(oov_counter))\n",
        "print(most_common[:10])\n",
        "print(most_common[-10:])\n",
        "\n",
        "### Train 데이터에서 새로 발견한 토큰을 기존 단어 사전에 추가\n",
        "new_vocab_list = vocab_list.copy()\n",
        "new_vocab_list.extend([v[0] for v in most_common])\n",
        "print(\"\\n# New Vocabs = {}\".format(len(new_vocab_list)))\n",
        "\n",
        "##TEMP\n",
        "print(new_vocab_list[:30])"
      ],
      "execution_count": 12,
      "outputs": [
        {
          "output_type": "stream",
          "text": [
            "[('걔', 37), ('더라구', 20), ('어떡하지', 17), ('여치', 13), ('대요', 13), ('두근거리', 13), ('뒤척이', 12), ('갑갑', 12), ('아파서', 10), ('얼른', 8)]\n",
            "[('버럭', 1), ('아차', 1), ('싱숭생숭하네요…', 1), ('대견', 1), ('돌덩이', 1), ('쭈꾸미를', 1), ('혹시나', 1), ('헷갈려요.', 1), ('근육통', 1), ('볼링공', 1)]\n",
            "\n",
            "# New Vocabs = 70473\n",
            "['[PAD]', '[UNK]', '하', '이', '.', '의', '는', '을', '다', 'ㄴ', '에', ',', '았', '은', '를', '었', '고', '되', '아', '에서', '가', '으로', '있', '들', '로', ')', '어', '(', '년', '과']\n"
          ],
          "name": "stdout"
        }
      ]
    },
    {
      "cell_type": "code",
      "metadata": {
        "id": "ZAQurKLtL4u-"
      },
      "source": [
        "text_encoder = TextEncoder(new_vocab_list)"
      ],
      "execution_count": 13,
      "outputs": []
    },
    {
      "cell_type": "markdown",
      "metadata": {
        "id": "xQa72ZONWwfh"
      },
      "source": [
        "모델 인풋 만들기"
      ]
    },
    {
      "cell_type": "code",
      "metadata": {
        "id": "hiasSI05Wvy4",
        "outputId": "2ad75162-fdcb-443e-c579-f5b6554db0f1",
        "colab": {
          "base_uri": "https://localhost:8080/",
          "height": 1000
        }
      },
      "source": [
        "MAX_LEN = 50\n",
        "train_ids, train_labels, label_map = create_cls_feature(Tokenized_train, text_encoder, max_seq_len=MAX_LEN)\n",
        "label_map"
      ],
      "execution_count": 14,
      "outputs": [
        {
          "output_type": "stream",
          "text": [
            "** 4651 examples processed\n"
          ],
          "name": "stdout"
        },
        {
          "output_type": "execute_result",
          "data": {
            "text/plain": [
              "{'감정/감정조절이상': 29,\n",
              " '감정/걱정': 13,\n",
              " '감정/고독감': 127,\n",
              " '감정/곤혹감': 172,\n",
              " '감정/공포': 104,\n",
              " '감정/공허감': 56,\n",
              " '감정/과민반응': 147,\n",
              " '감정/괴로움': 90,\n",
              " '감정/기분저하': 101,\n",
              " '감정/기시감': 149,\n",
              " '감정/긴장': 117,\n",
              " '감정/눈물': 40,\n",
              " '감정/답답': 54,\n",
              " '감정/당황': 71,\n",
              " '감정/두려움': 60,\n",
              " '감정/멍함': 153,\n",
              " '감정/모호함': 110,\n",
              " '감정/무력감': 45,\n",
              " '감정/무미건조': 138,\n",
              " '감정/무서움': 59,\n",
              " '감정/미안함': 150,\n",
              " '감정/미움': 140,\n",
              " '감정/배신감': 78,\n",
              " '감정/부정적사고': 39,\n",
              " '감정/분노': 1,\n",
              " '감정/불만': 139,\n",
              " '감정/불신': 100,\n",
              " '감정/불안감': 3,\n",
              " '감정/불쾌감': 75,\n",
              " '감정/불편감': 31,\n",
              " '감정/비관적': 156,\n",
              " '감정/살인욕구': 99,\n",
              " '감정/생각': 144,\n",
              " '감정/서운함': 88,\n",
              " '감정/속상함': 62,\n",
              " '감정/슬픔': 143,\n",
              " '감정/신경쓰임': 80,\n",
              " '감정/심란': 53,\n",
              " '감정/억울함': 77,\n",
              " '감정/예민함': 109,\n",
              " '감정/외로움': 11,\n",
              " '감정/우울감': 7,\n",
              " '감정/의기소침': 119,\n",
              " '감정/의욕상실': 102,\n",
              " '감정/자괴감': 66,\n",
              " '감정/자살충동': 10,\n",
              " '감정/자신감저하': 92,\n",
              " '감정/자존감저하': 25,\n",
              " '감정/절망감': 85,\n",
              " '감정/좌절': 43,\n",
              " '감정/죄책감': 154,\n",
              " '감정/즐거움': 72,\n",
              " '감정/짜증': 21,\n",
              " '감정/창피함': 170,\n",
              " '감정/초조함': 174,\n",
              " '감정/충격': 94,\n",
              " '감정/통제력상실': 63,\n",
              " '감정/허무함': 151,\n",
              " '감정/화': 93,\n",
              " '감정/후회': 130,\n",
              " '감정/힘듦': 55,\n",
              " '내원이유/상담': 132,\n",
              " '내원이유/의사소견': 161,\n",
              " '내원이유/치료': 89,\n",
              " '배경/가족': 35,\n",
              " '배경/건강문제': 5,\n",
              " '배경/결혼': 18,\n",
              " '배경/경제적문제': 32,\n",
              " '배경/공부': 133,\n",
              " '배경/군대': 103,\n",
              " '배경/귀국': 82,\n",
              " '배경/남자친구': 73,\n",
              " '배경/남편': 57,\n",
              " '배경/대인관계': 8,\n",
              " '배경/대학': 69,\n",
              " '배경/문제': 81,\n",
              " '배경/부모': 22,\n",
              " '배경/사고': 46,\n",
              " '배경/사업': 28,\n",
              " '배경/생활': 64,\n",
              " '배경/성격': 26,\n",
              " '배경/시댁': 41,\n",
              " '배경/아르바이트': 131,\n",
              " '배경/애완동물': 83,\n",
              " '배경/어린시절': 9,\n",
              " '배경/여자친구': 36,\n",
              " '배경/연애': 98,\n",
              " '배경/유학': 168,\n",
              " '배경/육아': 129,\n",
              " '배경/음주': 68,\n",
              " '배경/이사': 97,\n",
              " '배경/이혼': 116,\n",
              " '배경/임신': 114,\n",
              " '배경/자각': 106,\n",
              " '배경/자녀': 44,\n",
              " '배경/전연인': 30,\n",
              " '배경/종교': 65,\n",
              " '배경/직장': 47,\n",
              " '배경/진로': 175,\n",
              " '배경/취업': 6,\n",
              " '배경/친구': 34,\n",
              " '배경/타인': 84,\n",
              " '배경/학교': 20,\n",
              " '배경/학업': 14,\n",
              " '부가설명': 52,\n",
              " '상태/양호': 107,\n",
              " '상태/증상감소': 169,\n",
              " '상태/증상지속': 19,\n",
              " '원인/없음': 173,\n",
              " '일반대화': 17,\n",
              " '자가치료/심리조절': 70,\n",
              " '자가치료/운동': 157,\n",
              " '자가치료/충분한휴식': 158,\n",
              " '증상/가슴답답': 163,\n",
              " '증상/가슴떨림': 148,\n",
              " '증상/가슴통증': 128,\n",
              " '증상/건강염려': 137,\n",
              " '증상/공격적성향': 124,\n",
              " '증상/공황발작': 76,\n",
              " '증상/과대망상': 105,\n",
              " '증상/과수면': 111,\n",
              " '증상/기억력저하': 48,\n",
              " '증상/기억상실': 27,\n",
              " '증상/기절': 2,\n",
              " '증상/기절예기': 142,\n",
              " '증상/대인기피': 112,\n",
              " '증상/대화기피': 87,\n",
              " '증상/두근거림': 4,\n",
              " '증상/두통': 23,\n",
              " '증상/떨림': 167,\n",
              " '증상/만성피로': 145,\n",
              " '증상/메스꺼움': 155,\n",
              " '증상/무기력': 15,\n",
              " '증상/반복사고': 58,\n",
              " '증상/반복행동': 42,\n",
              " '증상/발작': 159,\n",
              " '증상/불면': 0,\n",
              " '증상/생리불순': 74,\n",
              " '증상/성격변화': 164,\n",
              " '증상/성욕상승': 126,\n",
              " '증상/소화불량': 165,\n",
              " '증상/속쓰림': 171,\n",
              " '증상/시력저하': 135,\n",
              " '증상/식욕저하': 16,\n",
              " '증상/신체이상': 136,\n",
              " '증상/악몽': 123,\n",
              " '증상/알코올의존': 141,\n",
              " '증상/어지러움': 38,\n",
              " '증상/은둔': 49,\n",
              " '증상/이명': 51,\n",
              " '증상/이인감': 86,\n",
              " '증상/인지기능저하': 160,\n",
              " '증상/자살시도': 12,\n",
              " '증상/자해': 96,\n",
              " '증상/저림현상': 162,\n",
              " '증상/죽음공포': 118,\n",
              " '증상/집중력저하': 95,\n",
              " '증상/체력저하': 121,\n",
              " '증상/체중감소': 115,\n",
              " '증상/체중증가': 152,\n",
              " '증상/컨디션저조': 125,\n",
              " '증상/통증': 122,\n",
              " '증상/편두통': 166,\n",
              " '증상/폭식': 108,\n",
              " '증상/피로': 61,\n",
              " '증상/피해망상': 24,\n",
              " '증상/호흡곤란': 79,\n",
              " '증상/환각': 67,\n",
              " '증상/환청': 50,\n",
              " '증상/힘빠짐': 113,\n",
              " '치료이력/검사': 37,\n",
              " '치료이력/병원내원': 33,\n",
              " '치료이력/응급실': 91,\n",
              " '현재상태/증상감소': 146,\n",
              " '현재상태/증상악화': 134,\n",
              " '현재상태/증상지속': 120}"
            ]
          },
          "metadata": {
            "tags": []
          },
          "execution_count": 14
        }
      ]
    },
    {
      "cell_type": "markdown",
      "metadata": {
        "id": "Qk8-3AbEXFgz"
      },
      "source": [
        "Train 데이터는 train / validation으로 나눠서 학습에 활용"
      ]
    },
    {
      "cell_type": "code",
      "metadata": {
        "id": "3v34_CTPL4yl",
        "outputId": "22a297f5-e2c1-45bb-e4a8-581cfbcba3f0",
        "colab": {
          "base_uri": "https://localhost:8080/",
          "height": 35
        }
      },
      "source": [
        "from sklearn.model_selection import train_test_split\n",
        "train_ids, val_ids, train_labels, val_labels = train_test_split(train_ids, train_labels , test_size=0.10, random_state=42, stratify=train_labels)\n",
        "\n",
        "print(\"# Train={} # Val={}\".format(len(train_ids), len(val_ids)))"
      ],
      "execution_count": 15,
      "outputs": [
        {
          "output_type": "stream",
          "text": [
            "# Train=4185 # Val=466\n"
          ],
          "name": "stdout"
        }
      ]
    },
    {
      "cell_type": "markdown",
      "metadata": {
        "id": "z6_ErJiYXJNJ"
      },
      "source": [
        "#### Step 3. 모델 만들기"
      ]
    },
    {
      "cell_type": "code",
      "metadata": {
        "id": "9COYSePRegiN",
        "outputId": "98c1819e-8a2d-4329-8e74-67d7d0e6cf65",
        "colab": {
          "base_uri": "https://localhost:8080/",
          "height": 35
        }
      },
      "source": [
        "## CBOW로 사전학습했던 vector 사용\n",
        "print(final_embeddings.shape)"
      ],
      "execution_count": 16,
      "outputs": [
        {
          "output_type": "stream",
          "text": [
            "(70002, 128)\n"
          ],
          "name": "stdout"
        }
      ]
    },
    {
      "cell_type": "markdown",
      "metadata": {
        "id": "aUfiIaMb9UEl"
      },
      "source": [
        "##### 3-1) 모델 구조 만들기"
      ]
    },
    {
      "cell_type": "markdown",
      "metadata": {
        "id": "U1cDGKg384kR"
      },
      "source": [
        "1. Multi-Layer LSTM"
      ]
    },
    {
      "cell_type": "code",
      "metadata": {
        "id": "NeHsGAla84CE"
      },
      "source": [
        "from tensorflow.keras.layers import Embedding, Bidirectional, LSTM, GRU, Dropout, Dense\n",
        "\n",
        "vocab_size = text_encoder.vocab_size # 단어사전 개수\n",
        "embedding_dim = final_embeddings.shape[1] # 임베딩 차원\n",
        "rnn_hidden_dim = 100 # RNN hidden_size\n",
        "dense_hidden_dim = 200\n",
        "final_dim = len(label_map) #176\n",
        "\n",
        "model1 = tf.keras.Sequential([\n",
        "    Embedding(vocab_size, embedding_dim, mask_zero=True),\n",
        "    Bidirectional(GRU(rnn_hidden_dim, return_sequences=False)),\n",
        "    Dropout(0.5),\n",
        "    Dense(dense_hidden_dim, activation=\"relu\"),\n",
        "    Dropout(0.5),\n",
        "    Dense(final_dim, activation='softmax')\n",
        "]) ## CODE"
      ],
      "execution_count": 17,
      "outputs": []
    },
    {
      "cell_type": "code",
      "metadata": {
        "id": "-JC1vKqkeglZ",
        "outputId": "be906298-d624-4caa-dde3-6b29367af26e",
        "colab": {
          "base_uri": "https://localhost:8080/",
          "height": 251
        }
      },
      "source": [
        "## CBOW Weight Assign\n",
        "import random\n",
        "org_vocab_size = final_embeddings.shape[0]\n",
        "\n",
        "rand_initial = np.random.uniform(-1,1,size=[vocab_size-org_vocab_size,embedding_dim])\n",
        "initial_weight = np.append(final_embeddings, rand_initial, axis = 0)\n",
        "initial_weight.shape\n",
        "\n",
        "model1.weights[0].assign(initial_weight)\n",
        "model1.get_weights()[0]"
      ],
      "execution_count": 18,
      "outputs": [
        {
          "output_type": "execute_result",
          "data": {
            "text/plain": [
              "array([[-1.28351338e-02,  3.81695963e-02,  1.28244273e-02, ...,\n",
              "        -4.17494550e-02, -6.71934336e-04, -2.51525883e-02],\n",
              "       [-4.32882756e-02, -2.28408545e-01, -3.32357734e-01, ...,\n",
              "        -6.22151256e-01, -2.18298435e-01,  5.55368602e-01],\n",
              "       [ 1.45662999e+00, -6.75910652e-01,  2.81228483e-01, ...,\n",
              "         5.91976941e-01, -2.66387731e-01, -5.20118475e-01],\n",
              "       ...,\n",
              "       [ 1.46310121e-01, -8.74729216e-01,  8.57107818e-01, ...,\n",
              "        -9.05239642e-01, -4.79493171e-01,  1.89331565e-02],\n",
              "       [-8.74566138e-01, -6.85813725e-01,  1.10719785e-01, ...,\n",
              "        -2.47535020e-01,  7.41969883e-01, -4.31587458e-01],\n",
              "       [-3.01219851e-01,  5.45428991e-01,  1.40715614e-02, ...,\n",
              "         5.38201392e-01,  8.70580018e-01, -9.68216300e-01]], dtype=float32)"
            ]
          },
          "metadata": {
            "tags": []
          },
          "execution_count": 18
        }
      ]
    },
    {
      "cell_type": "code",
      "metadata": {
        "id": "D-QlZrzYeg7U",
        "outputId": "539ec709-7cc3-4362-ca90-44dfa95aed50",
        "colab": {
          "base_uri": "https://localhost:8080/",
          "height": 377
        }
      },
      "source": [
        "model1.summary()"
      ],
      "execution_count": 19,
      "outputs": [
        {
          "output_type": "stream",
          "text": [
            "Model: \"sequential\"\n",
            "_________________________________________________________________\n",
            "Layer (type)                 Output Shape              Param #   \n",
            "=================================================================\n",
            "embedding (Embedding)        (None, None, 128)         9020544   \n",
            "_________________________________________________________________\n",
            "bidirectional (Bidirectional (None, 200)               138000    \n",
            "_________________________________________________________________\n",
            "dropout (Dropout)            (None, 200)               0         \n",
            "_________________________________________________________________\n",
            "dense (Dense)                (None, 200)               40200     \n",
            "_________________________________________________________________\n",
            "dropout_1 (Dropout)          (None, 200)               0         \n",
            "_________________________________________________________________\n",
            "dense_1 (Dense)              (None, 176)               35376     \n",
            "=================================================================\n",
            "Total params: 9,234,120\n",
            "Trainable params: 9,234,120\n",
            "Non-trainable params: 0\n",
            "_________________________________________________________________\n"
          ],
          "name": "stdout"
        }
      ]
    },
    {
      "cell_type": "markdown",
      "metadata": {
        "id": "wbB2k_wc9NzQ"
      },
      "source": [
        "2. CNN"
      ]
    },
    {
      "cell_type": "code",
      "metadata": {
        "id": "4uljydzAeg4k"
      },
      "source": [
        "from tensorflow.keras import Sequential\n",
        "from tensorflow.keras.layers import Embedding, Conv1D, GlobalMaxPooling1D, Dense\n",
        "\n",
        "vocab_size = text_encoder.vocab_size # 단어사전 개수\n",
        "embedding_dim = final_embeddings.shape[1] # 임베딩 차원\n",
        "cnn_filters = [2,3,4,5]\n",
        "num_feature_map = 32\n",
        "\n",
        "## character embedding 적용\n",
        "input_ = tf.keras.layers.Input(shape=(None,))\n",
        "x =  Embedding(vocab_size, embedding_dim, mask_zero = True)(input_)\n",
        "\n",
        "## apply CNN filters\n",
        "result_cnns = []\n",
        "for i, kernel in enumerate(cnn_filters):\n",
        "  temp = Conv1D(filters = num_feature_map, \n",
        "                    kernel_size = kernel, activation='relu')(x)\n",
        "  temp = GlobalMaxPooling1D()(temp)\n",
        "  result_cnns.append(temp)\n",
        "\n",
        "## concatenate to feature map\n",
        "x = tf.keras.layers.concatenate(result_cnns, axis=-1)\n",
        "\n",
        "## 긍정/ 부정 분류하는 FCN 연결하기\n",
        "x = Dropout(0.5)(x)\n",
        "labels = Dense(final_dim, activation=\"softmax\")(x)\n",
        "\n",
        "model2 = tf.keras.Model(inputs=input_, outputs = labels)"
      ],
      "execution_count": 20,
      "outputs": []
    },
    {
      "cell_type": "code",
      "metadata": {
        "id": "kZbRoz1Leg1p",
        "outputId": "5584aa8a-f26b-4c33-f865-71ad2a7e758e",
        "colab": {
          "base_uri": "https://localhost:8080/",
          "height": 251
        }
      },
      "source": [
        "## CBOW Weight Assign\n",
        "model2.weights[0].assign(initial_weight)\n",
        "model2.get_weights()[0]"
      ],
      "execution_count": 21,
      "outputs": [
        {
          "output_type": "execute_result",
          "data": {
            "text/plain": [
              "array([[-1.28351338e-02,  3.81695963e-02,  1.28244273e-02, ...,\n",
              "        -4.17494550e-02, -6.71934336e-04, -2.51525883e-02],\n",
              "       [-4.32882756e-02, -2.28408545e-01, -3.32357734e-01, ...,\n",
              "        -6.22151256e-01, -2.18298435e-01,  5.55368602e-01],\n",
              "       [ 1.45662999e+00, -6.75910652e-01,  2.81228483e-01, ...,\n",
              "         5.91976941e-01, -2.66387731e-01, -5.20118475e-01],\n",
              "       ...,\n",
              "       [ 1.46310121e-01, -8.74729216e-01,  8.57107818e-01, ...,\n",
              "        -9.05239642e-01, -4.79493171e-01,  1.89331565e-02],\n",
              "       [-8.74566138e-01, -6.85813725e-01,  1.10719785e-01, ...,\n",
              "        -2.47535020e-01,  7.41969883e-01, -4.31587458e-01],\n",
              "       [-3.01219851e-01,  5.45428991e-01,  1.40715614e-02, ...,\n",
              "         5.38201392e-01,  8.70580018e-01, -9.68216300e-01]], dtype=float32)"
            ]
          },
          "metadata": {
            "tags": []
          },
          "execution_count": 21
        }
      ]
    },
    {
      "cell_type": "code",
      "metadata": {
        "id": "OCo4Y4bVegy-",
        "outputId": "851005a7-1753-4256-9fd6-59309a41cd52",
        "colab": {
          "base_uri": "https://localhost:8080/",
          "height": 469
        }
      },
      "source": [
        "tf.keras.utils.plot_model(\n",
        "    model2, to_file='model.png', show_shapes=True)"
      ],
      "execution_count": 22,
      "outputs": [
        {
          "output_type": "execute_result",
          "data": {
            "image/png": "[encoded data removed]",
            "text/plain": [
              "<IPython.core.display.Image object>"
            ]
          },
          "metadata": {
            "tags": []
          },
          "execution_count": 22
        }
      ]
    },
    {
      "cell_type": "markdown",
      "metadata": {
        "id": "83FQdnzQ9fUT"
      },
      "source": [
        "##### 3-2) 모델 컴파일"
      ]
    },
    {
      "cell_type": "code",
      "metadata": {
        "id": "BD2uzwLVegwa"
      },
      "source": [
        "model1.compile(loss='sparse_categorical_crossentropy', optimizer='adam', metrics=['accuracy'])\n",
        "model2.compile(loss='sparse_categorical_crossentropy', optimizer='adam', metrics=['accuracy'])"
      ],
      "execution_count": 23,
      "outputs": []
    },
    {
      "cell_type": "markdown",
      "metadata": {
        "id": "qNP2rVK79jHl"
      },
      "source": [
        "##### 3-3) 모델 학습"
      ]
    },
    {
      "cell_type": "code",
      "metadata": {
        "id": "0zFNo0IregvU",
        "outputId": "6a303544-0141-45ed-8b59-94698c216175",
        "colab": {
          "base_uri": "https://localhost:8080/",
          "height": 629
        }
      },
      "source": [
        "num_epochs = 50\n",
        "callback = tf.keras.callbacks.EarlyStopping( monitor='val_loss', patience=2)\n",
        "history1 = model1.fit(train_ids, train_labels, epochs=num_epochs, \n",
        "                    validation_data=(val_ids, val_labels), verbose=1, batch_size = 100,\n",
        "                    callbacks = [callback])"
      ],
      "execution_count": 24,
      "outputs": [
        {
          "output_type": "stream",
          "text": [
            "Epoch 1/50\n",
            "42/42 [==============================] - 7s 173ms/step - loss: 4.9845 - accuracy: 0.0332 - val_loss: 4.7413 - val_accuracy: 0.0601\n",
            "Epoch 2/50\n",
            "42/42 [==============================] - 3s 60ms/step - loss: 4.7269 - accuracy: 0.0609 - val_loss: 4.6606 - val_accuracy: 0.0794\n",
            "Epoch 3/50\n",
            "42/42 [==============================] - 3s 60ms/step - loss: 4.5928 - accuracy: 0.0836 - val_loss: 4.5473 - val_accuracy: 0.1030\n",
            "Epoch 4/50\n",
            "42/42 [==============================] - 3s 60ms/step - loss: 4.4239 - accuracy: 0.1154 - val_loss: 4.4287 - val_accuracy: 0.1137\n",
            "Epoch 5/50\n",
            "42/42 [==============================] - 3s 71ms/step - loss: 4.2329 - accuracy: 0.1422 - val_loss: 4.2964 - val_accuracy: 0.1481\n",
            "Epoch 6/50\n",
            "42/42 [==============================] - 3s 61ms/step - loss: 4.0616 - accuracy: 0.1601 - val_loss: 4.1807 - val_accuracy: 0.1567\n",
            "Epoch 7/50\n",
            "42/42 [==============================] - 3s 60ms/step - loss: 3.8737 - accuracy: 0.1902 - val_loss: 4.0433 - val_accuracy: 0.1760\n",
            "Epoch 8/50\n",
            "42/42 [==============================] - 3s 60ms/step - loss: 3.6867 - accuracy: 0.2158 - val_loss: 3.9396 - val_accuracy: 0.1996\n",
            "Epoch 9/50\n",
            "42/42 [==============================] - 3s 60ms/step - loss: 3.4572 - accuracy: 0.2394 - val_loss: 3.8017 - val_accuracy: 0.2318\n",
            "Epoch 10/50\n",
            "42/42 [==============================] - 3s 60ms/step - loss: 3.2272 - accuracy: 0.2738 - val_loss: 3.6828 - val_accuracy: 0.2554\n",
            "Epoch 11/50\n",
            "42/42 [==============================] - 3s 60ms/step - loss: 3.0210 - accuracy: 0.3001 - val_loss: 3.5914 - val_accuracy: 0.2897\n",
            "Epoch 12/50\n",
            "42/42 [==============================] - 3s 60ms/step - loss: 2.7736 - accuracy: 0.3577 - val_loss: 3.5318 - val_accuracy: 0.2833\n",
            "Epoch 13/50\n",
            "42/42 [==============================] - 2s 59ms/step - loss: 2.5792 - accuracy: 0.3859 - val_loss: 3.4645 - val_accuracy: 0.2961\n",
            "Epoch 14/50\n",
            "42/42 [==============================] - 2s 59ms/step - loss: 2.3654 - accuracy: 0.4186 - val_loss: 3.3705 - val_accuracy: 0.3326\n",
            "Epoch 15/50\n",
            "42/42 [==============================] - 3s 60ms/step - loss: 2.1577 - accuracy: 0.4619 - val_loss: 3.3405 - val_accuracy: 0.3326\n",
            "Epoch 16/50\n",
            "42/42 [==============================] - 3s 60ms/step - loss: 1.9803 - accuracy: 0.5042 - val_loss: 3.4033 - val_accuracy: 0.3455\n",
            "Epoch 17/50\n",
            "42/42 [==============================] - 3s 60ms/step - loss: 1.8363 - accuracy: 0.5286 - val_loss: 3.3477 - val_accuracy: 0.3670\n"
          ],
          "name": "stdout"
        }
      ]
    },
    {
      "cell_type": "code",
      "metadata": {
        "id": "LHSqFdbOegsp",
        "outputId": "f6afb72a-8299-43d7-bc04-c627799a23bf",
        "colab": {
          "base_uri": "https://localhost:8080/",
          "height": 1000
        }
      },
      "source": [
        "num_epochs = 50\n",
        "callback2 = tf.keras.callbacks.EarlyStopping( monitor='val_loss', patience=2)\n",
        "history2 = model2.fit(train_ids, train_labels, epochs=num_epochs, \n",
        "                    validation_data=(val_ids, val_labels), verbose=1, batch_size = 100, callbacks = [callback])"
      ],
      "execution_count": 25,
      "outputs": [
        {
          "output_type": "stream",
          "text": [
            "Epoch 1/50\n",
            "42/42 [==============================] - 3s 67ms/step - loss: 5.2883 - accuracy: 0.0265 - val_loss: 4.7064 - val_accuracy: 0.0622\n",
            "Epoch 2/50\n",
            "42/42 [==============================] - 2s 57ms/step - loss: 4.7630 - accuracy: 0.0530 - val_loss: 4.6453 - val_accuracy: 0.0751\n",
            "Epoch 3/50\n",
            "42/42 [==============================] - 2s 58ms/step - loss: 4.6056 - accuracy: 0.0786 - val_loss: 4.5830 - val_accuracy: 0.0944\n",
            "Epoch 4/50\n",
            "42/42 [==============================] - 2s 58ms/step - loss: 4.4585 - accuracy: 0.1054 - val_loss: 4.5206 - val_accuracy: 0.1180\n",
            "Epoch 5/50\n",
            "42/42 [==============================] - 2s 57ms/step - loss: 4.3283 - accuracy: 0.1219 - val_loss: 4.4488 - val_accuracy: 0.1223\n",
            "Epoch 6/50\n",
            "42/42 [==============================] - 2s 56ms/step - loss: 4.1872 - accuracy: 0.1491 - val_loss: 4.3705 - val_accuracy: 0.1288\n",
            "Epoch 7/50\n",
            "42/42 [==============================] - 2s 55ms/step - loss: 4.0515 - accuracy: 0.1735 - val_loss: 4.2842 - val_accuracy: 0.1567\n",
            "Epoch 8/50\n",
            "42/42 [==============================] - 2s 56ms/step - loss: 3.9219 - accuracy: 0.2000 - val_loss: 4.1982 - val_accuracy: 0.1631\n",
            "Epoch 9/50\n",
            "42/42 [==============================] - 2s 56ms/step - loss: 3.7543 - accuracy: 0.2251 - val_loss: 4.0998 - val_accuracy: 0.1867\n",
            "Epoch 10/50\n",
            "42/42 [==============================] - 2s 56ms/step - loss: 3.6268 - accuracy: 0.2397 - val_loss: 4.0205 - val_accuracy: 0.1931\n",
            "Epoch 11/50\n",
            "42/42 [==============================] - 2s 55ms/step - loss: 3.4828 - accuracy: 0.2683 - val_loss: 3.9384 - val_accuracy: 0.2103\n",
            "Epoch 12/50\n",
            "42/42 [==============================] - 2s 55ms/step - loss: 3.3326 - accuracy: 0.3049 - val_loss: 3.8504 - val_accuracy: 0.2253\n",
            "Epoch 13/50\n",
            "42/42 [==============================] - 2s 55ms/step - loss: 3.2160 - accuracy: 0.3161 - val_loss: 3.7740 - val_accuracy: 0.2339\n",
            "Epoch 14/50\n",
            "42/42 [==============================] - 2s 55ms/step - loss: 3.0645 - accuracy: 0.3393 - val_loss: 3.7006 - val_accuracy: 0.2639\n",
            "Epoch 15/50\n",
            "42/42 [==============================] - 2s 55ms/step - loss: 2.9690 - accuracy: 0.3599 - val_loss: 3.6394 - val_accuracy: 0.2704\n",
            "Epoch 16/50\n",
            "42/42 [==============================] - 2s 54ms/step - loss: 2.8378 - accuracy: 0.3804 - val_loss: 3.5805 - val_accuracy: 0.2876\n",
            "Epoch 17/50\n",
            "42/42 [==============================] - 2s 55ms/step - loss: 2.7438 - accuracy: 0.3995 - val_loss: 3.5150 - val_accuracy: 0.2961\n",
            "Epoch 18/50\n",
            "42/42 [==============================] - 2s 55ms/step - loss: 2.6017 - accuracy: 0.4346 - val_loss: 3.4564 - val_accuracy: 0.3155\n",
            "Epoch 19/50\n",
            "42/42 [==============================] - 2s 55ms/step - loss: 2.4748 - accuracy: 0.4597 - val_loss: 3.3919 - val_accuracy: 0.3348\n",
            "Epoch 20/50\n",
            "42/42 [==============================] - 2s 55ms/step - loss: 2.3513 - accuracy: 0.4755 - val_loss: 3.3526 - val_accuracy: 0.3369\n",
            "Epoch 21/50\n",
            "42/42 [==============================] - 2s 55ms/step - loss: 2.2543 - accuracy: 0.4994 - val_loss: 3.2990 - val_accuracy: 0.3433\n",
            "Epoch 22/50\n",
            "42/42 [==============================] - 2s 54ms/step - loss: 2.1431 - accuracy: 0.5290 - val_loss: 3.2611 - val_accuracy: 0.3584\n",
            "Epoch 23/50\n",
            "42/42 [==============================] - 2s 55ms/step - loss: 2.0291 - accuracy: 0.5563 - val_loss: 3.2051 - val_accuracy: 0.3584\n",
            "Epoch 24/50\n",
            "42/42 [==============================] - 2s 54ms/step - loss: 1.9369 - accuracy: 0.5654 - val_loss: 3.1814 - val_accuracy: 0.3670\n",
            "Epoch 25/50\n",
            "42/42 [==============================] - 2s 54ms/step - loss: 1.8606 - accuracy: 0.5849 - val_loss: 3.1374 - val_accuracy: 0.3755\n",
            "Epoch 26/50\n",
            "42/42 [==============================] - 2s 55ms/step - loss: 1.7588 - accuracy: 0.5959 - val_loss: 3.1097 - val_accuracy: 0.3712\n",
            "Epoch 27/50\n",
            "42/42 [==============================] - 2s 55ms/step - loss: 1.6947 - accuracy: 0.6158 - val_loss: 3.0926 - val_accuracy: 0.3820\n",
            "Epoch 28/50\n",
            "42/42 [==============================] - 2s 54ms/step - loss: 1.6045 - accuracy: 0.6358 - val_loss: 3.0565 - val_accuracy: 0.3970\n",
            "Epoch 29/50\n",
            "42/42 [==============================] - 2s 55ms/step - loss: 1.5009 - accuracy: 0.6743 - val_loss: 3.0257 - val_accuracy: 0.3948\n",
            "Epoch 30/50\n",
            "42/42 [==============================] - 2s 55ms/step - loss: 1.4278 - accuracy: 0.6793 - val_loss: 3.0255 - val_accuracy: 0.3841\n",
            "Epoch 31/50\n",
            "42/42 [==============================] - 2s 54ms/step - loss: 1.3694 - accuracy: 0.6937 - val_loss: 2.9998 - val_accuracy: 0.4013\n",
            "Epoch 32/50\n",
            "42/42 [==============================] - 2s 55ms/step - loss: 1.2971 - accuracy: 0.7059 - val_loss: 2.9861 - val_accuracy: 0.3948\n",
            "Epoch 33/50\n",
            "42/42 [==============================] - 2s 55ms/step - loss: 1.2564 - accuracy: 0.7080 - val_loss: 2.9769 - val_accuracy: 0.3948\n",
            "Epoch 34/50\n",
            "42/42 [==============================] - 2s 54ms/step - loss: 1.1720 - accuracy: 0.7355 - val_loss: 2.9618 - val_accuracy: 0.4056\n",
            "Epoch 35/50\n",
            "42/42 [==============================] - 2s 55ms/step - loss: 1.1117 - accuracy: 0.7477 - val_loss: 2.9529 - val_accuracy: 0.4120\n",
            "Epoch 36/50\n",
            "42/42 [==============================] - 2s 54ms/step - loss: 1.0416 - accuracy: 0.7639 - val_loss: 2.9589 - val_accuracy: 0.3970\n",
            "Epoch 37/50\n",
            "42/42 [==============================] - 2s 54ms/step - loss: 1.0285 - accuracy: 0.7668 - val_loss: 2.9473 - val_accuracy: 0.4163\n",
            "Epoch 38/50\n",
            "42/42 [==============================] - 2s 55ms/step - loss: 0.9642 - accuracy: 0.7816 - val_loss: 2.9438 - val_accuracy: 0.4227\n",
            "Epoch 39/50\n",
            "42/42 [==============================] - 2s 55ms/step - loss: 0.9172 - accuracy: 0.7928 - val_loss: 2.9273 - val_accuracy: 0.4227\n",
            "Epoch 40/50\n",
            "42/42 [==============================] - 2s 55ms/step - loss: 0.8686 - accuracy: 0.8033 - val_loss: 2.9211 - val_accuracy: 0.4163\n",
            "Epoch 41/50\n",
            "42/42 [==============================] - 2s 55ms/step - loss: 0.8818 - accuracy: 0.8005 - val_loss: 2.9199 - val_accuracy: 0.4292\n",
            "Epoch 42/50\n",
            "42/42 [==============================] - 2s 54ms/step - loss: 0.8030 - accuracy: 0.8213 - val_loss: 2.9214 - val_accuracy: 0.4270\n",
            "Epoch 43/50\n",
            "42/42 [==============================] - 2s 54ms/step - loss: 0.7704 - accuracy: 0.8315 - val_loss: 2.9164 - val_accuracy: 0.4270\n",
            "Epoch 44/50\n",
            "42/42 [==============================] - 2s 55ms/step - loss: 0.7301 - accuracy: 0.8327 - val_loss: 2.9092 - val_accuracy: 0.4270\n",
            "Epoch 45/50\n",
            "42/42 [==============================] - 2s 55ms/step - loss: 0.6931 - accuracy: 0.8483 - val_loss: 2.9099 - val_accuracy: 0.4227\n",
            "Epoch 46/50\n",
            "42/42 [==============================] - 2s 55ms/step - loss: 0.6691 - accuracy: 0.8507 - val_loss: 2.9092 - val_accuracy: 0.4378\n",
            "Epoch 47/50\n",
            "42/42 [==============================] - 2s 55ms/step - loss: 0.6585 - accuracy: 0.8550 - val_loss: 2.9333 - val_accuracy: 0.4399\n",
            "Epoch 48/50\n",
            "42/42 [==============================] - 2s 55ms/step - loss: 0.6324 - accuracy: 0.8562 - val_loss: 2.9441 - val_accuracy: 0.4206\n"
          ],
          "name": "stdout"
        }
      ]
    },
    {
      "cell_type": "markdown",
      "metadata": {
        "id": "zXYZ-nbVegGb"
      },
      "source": [
        "## #3. 테스트 데이터에서의 성능 평가하기"
      ]
    },
    {
      "cell_type": "code",
      "metadata": {
        "id": "G_2aptz9L-Jk",
        "outputId": "17558d7b-40a5-451a-9cdd-b56cafe5e8d1",
        "colab": {
          "base_uri": "https://localhost:8080/",
          "height": 35
        }
      },
      "source": [
        "filename = \"/content/gdrive/My Drive/NLP/Wellness_data_test.json\"\n",
        "\n",
        "with open(filename) as f:\n",
        "  test = json.loads(f.read())\n",
        "print(\"# of Test =\", len(test))"
      ],
      "execution_count": 26,
      "outputs": [
        {
          "output_type": "stream",
          "text": [
            "# of Test = 400\n"
          ],
          "name": "stdout"
        }
      ]
    },
    {
      "cell_type": "markdown",
      "metadata": {
        "id": "pVSUY6geOa3a"
      },
      "source": [
        "<font color=\"red\"> test 데이터에 대해 학습 데이터 전처리에 사용한 tokenizer과 text_encoder를 사용해 test_ids와 test_labels를 만드세요"
      ]
    },
    {
      "cell_type": "code",
      "metadata": {
        "id": "0sqCZdCuOaKc",
        "outputId": "13931960-d7f9-4869-83d4-4d8dbc873ebb",
        "colab": {
          "base_uri": "https://localhost:8080/",
          "height": 91
        }
      },
      "source": [
        "## 예시 코드\n",
        "MAX_LEN = 50\n",
        "Tokenized_text = []\n",
        "for dat in test:\n",
        "  Tokenized_text.append([dat[0], tokenize(dat[1]), dat[2]])\n",
        "\n",
        "test_ids, test_labels, _ = create_cls_feature(Tokenized_text, text_encoder, max_seq_len=MAX_LEN, label_map = label_map)"
      ],
      "execution_count": 27,
      "outputs": [
        {
          "output_type": "stream",
          "text": [
            "** Start creating features using label map\n",
            "{'증상/불면': 0, '감정/분노': 1, '증상/기절': 2, '감정/불안감': 3, '증상/두근거림': 4, '배경/건강문제': 5, '배경/취업': 6, '감정/우울감': 7, '배경/대인관계': 8, '배경/어린시절': 9, '감정/자살충동': 10, '감정/외로움': 11, '증상/자살시도': 12, '감정/걱정': 13, '배경/학업': 14, '증상/무기력': 15, '증상/식욕저하': 16, '일반대화': 17, '배경/결혼': 18, '상태/증상지속': 19, '배경/학교': 20, '감정/짜증': 21, '배경/부모': 22, '증상/두통': 23, '증상/피해망상': 24, '감정/자존감저하': 25, '배경/성격': 26, '증상/기억상실': 27, '배경/사업': 28, '감정/감정조절이상': 29, '배경/전연인': 30, '감정/불편감': 31, '배경/경제적문제': 32, '치료이력/병원내원': 33, '배경/친구': 34, '배경/가족': 35, '배경/여자친구': 36, '치료이력/검사': 37, '증상/어지러움': 38, '감정/부정적사고': 39, '감정/눈물': 40, '배경/시댁': 41, '증상/반복행동': 42, '감정/좌절': 43, '배경/자녀': 44, '감정/무력감': 45, '배경/사고': 46, '배경/직장': 47, '증상/기억력저하': 48, '증상/은둔': 49, '증상/환청': 50, '증상/이명': 51, '부가설명': 52, '감정/심란': 53, '감정/답답': 54, '감정/힘듦': 55, '감정/공허감': 56, '배경/남편': 57, '증상/반복사고': 58, '감정/무서움': 59, '감정/두려움': 60, '증상/피로': 61, '감정/속상함': 62, '감정/통제력상실': 63, '배경/생활': 64, '배경/종교': 65, '감정/자괴감': 66, '증상/환각': 67, '배경/음주': 68, '배경/대학': 69, '자가치료/심리조절': 70, '감정/당황': 71, '감정/즐거움': 72, '배경/남자친구': 73, '증상/생리불순': 74, '감정/불쾌감': 75, '증상/공황발작': 76, '감정/억울함': 77, '감정/배신감': 78, '증상/호흡곤란': 79, '감정/신경쓰임': 80, '배경/문제': 81, '배경/귀국': 82, '배경/애완동물': 83, '배경/타인': 84, '감정/절망감': 85, '증상/이인감': 86, '증상/대화기피': 87, '감정/서운함': 88, '내원이유/치료': 89, '감정/괴로움': 90, '치료이력/응급실': 91, '감정/자신감저하': 92, '감정/화': 93, '감정/충격': 94, '증상/집중력저하': 95, '증상/자해': 96, '배경/이사': 97, '배경/연애': 98, '감정/살인욕구': 99, '감정/불신': 100, '감정/기분저하': 101, '감정/의욕상실': 102, '배경/군대': 103, '감정/공포': 104, '증상/과대망상': 105, '배경/자각': 106, '상태/양호': 107, '증상/폭식': 108, '감정/예민함': 109, '감정/모호함': 110, '증상/과수면': 111, '증상/대인기피': 112, '증상/힘빠짐': 113, '배경/임신': 114, '증상/체중감소': 115, '배경/이혼': 116, '감정/긴장': 117, '증상/죽음공포': 118, '감정/의기소침': 119, '현재상태/증상지속': 120, '증상/체력저하': 121, '증상/통증': 122, '증상/악몽': 123, '증상/공격적성향': 124, '증상/컨디션저조': 125, '증상/성욕상승': 126, '감정/고독감': 127, '증상/가슴통증': 128, '배경/육아': 129, '감정/후회': 130, '배경/아르바이트': 131, '내원이유/상담': 132, '배경/공부': 133, '현재상태/증상악화': 134, '증상/시력저하': 135, '증상/신체이상': 136, '증상/건강염려': 137, '감정/무미건조': 138, '감정/불만': 139, '감정/미움': 140, '증상/알코올의존': 141, '증상/기절예기': 142, '감정/슬픔': 143, '감정/생각': 144, '증상/만성피로': 145, '현재상태/증상감소': 146, '감정/과민반응': 147, '증상/가슴떨림': 148, '감정/기시감': 149, '감정/미안함': 150, '감정/허무함': 151, '증상/체중증가': 152, '감정/멍함': 153, '감정/죄책감': 154, '증상/메스꺼움': 155, '감정/비관적': 156, '자가치료/운동': 157, '자가치료/충분한휴식': 158, '증상/발작': 159, '증상/인지기능저하': 160, '내원이유/의사소견': 161, '증상/저림현상': 162, '증상/가슴답답': 163, '증상/성격변화': 164, '증상/소화불량': 165, '증상/편두통': 166, '증상/떨림': 167, '배경/유학': 168, '상태/증상감소': 169, '감정/창피함': 170, '증상/속쓰림': 171, '감정/곤혹감': 172, '원인/없음': 173, '감정/초조함': 174, '배경/진로': 175}\n",
            "** 400 examples processed\n"
          ],
          "name": "stdout"
        }
      ]
    },
    {
      "cell_type": "markdown",
      "metadata": {
        "id": "vpTDWieuOsJ7"
      },
      "source": [
        "<font color=\"red\"> test_ids를 인풋으로 받아 predictions를 생성하는 make_prediction 코드입니다.   \n",
        "필요한 경우, 수정한 후 아래의 코드를 실행해보세요!"
      ]
    },
    {
      "cell_type": "code",
      "metadata": {
        "id": "1PndVl7OV2I2"
      },
      "source": [
        "def make_prediction(test_ids):\n",
        "  model_result1 = model1.predict(test_ids)\n",
        "  model_result2 = model2.predict(test_ids)\n",
        "\n",
        "  ## 앙상블\n",
        "  scores = (model_result1 + model_result2) / 2 \n",
        "  predictions = np.argmax(scores, axis=1)\n",
        "  return scores , predictions"
      ],
      "execution_count": 28,
      "outputs": []
    },
    {
      "cell_type": "code",
      "metadata": {
        "id": "tE6iarB97cYv"
      },
      "source": [
        "def SCORE(predictions, ground_truth):\n",
        "  print(\"TEST SET ACCURACY: {:.2f}\".format(sum(predictions == ground_truth) / len(predictions)))\n",
        "  print(\"-\"*80)\n",
        "  label_reverse = {v:k for k, v in label_map.items()}\n",
        "  for i in range(len(predictions)):\n",
        "    if predictions[i] != ground_truth[i]:\n",
        "      print(\"🥺: {}\".format(test[i][1]))\n",
        "      print(\"-> 👩‍⚕️: {} 🤖: {}\".format( label_reverse[ground_truth[i]], label_reverse[predictions[i]]), \"\\n\")\n",
        "      "
      ],
      "execution_count": 29,
      "outputs": []
    },
    {
      "cell_type": "code",
      "metadata": {
        "id": "WkxTmA_3_fYe",
        "outputId": "059e498a-df5a-4cff-d14b-e1234508def2",
        "colab": {
          "base_uri": "https://localhost:8080/",
          "height": 1000
        }
      },
      "source": [
        "scores, predictions = make_prediction(test_ids)\n",
        "\n",
        "SCORE(predictions, test_labels)"
      ],
      "execution_count": 30,
      "outputs": [
        {
          "output_type": "stream",
          "text": [
            "TEST SET ACCURACY: 0.42\n",
            "--------------------------------------------------------------------------------\n",
            "🥺: 저는 이제 망했어요…\n",
            "-> 👩‍⚕️: 감정/좌절 🤖: 감정/충격 \n",
            "\n",
            "🥺: 스테로이드를 먹으니까 불면이 더 심해진 것 같아.\n",
            "-> 👩‍⚕️: 증상/불면 🤖: 배경/건강문제 \n",
            "\n",
            "🥺: 맛있는 거 먹으면 괜찮아졌는데, 요즘은 아니에요.\n",
            "-> 👩‍⚕️: 증상/식욕저하 🤖: 증상/불면 \n",
            "\n",
            "🥺: 이상하게 사고도 자꾸 생기는 것 같고…\n",
            "-> 👩‍⚕️: 배경/사고 🤖: 증상/환청 \n",
            "\n",
            "🥺: 나도 근속을 좀 해보고 싶다.\n",
            "-> 👩‍⚕️: 배경/직장 🤖: 증상/피해망상 \n",
            "\n",
            "🥺: 2년정도 지나니까 빈털터리가 되있었어요.\n",
            "-> 👩‍⚕️: 배경/경제적문제 🤖: 배경/사고 \n",
            "\n",
            "🥺: 근데 의사가 그 외에 또 뭐 없는지 자세하게 말해달라고 하는 거야.\n",
            "-> 👩‍⚕️: 치료이력/병원내원 🤖: 증상/불면 \n",
            "\n",
            "🥺: 안심이 안 된다…\n",
            "-> 👩‍⚕️: 감정/불안감 🤖: 자가치료/심리조절 \n",
            "\n",
            "🥺: 가만히 있어도 떨리고… 심장 뛰는 소리가 막 들려요.\n",
            "-> 👩‍⚕️: 증상/가슴떨림 🤖: 증상/두근거림 \n",
            "\n",
            "🥺: 혼자서 할 수 있는 일도 없고, 내 자신이 너무 한심해…\n",
            "-> 👩‍⚕️: 감정/자괴감 🤖: 감정/부정적사고 \n",
            "\n",
            "🥺: 진짜 너무 마려워서 급하게 뛰어 들어갔는데 사람이 있는 거야.\n",
            "-> 👩‍⚕️: 배경/문제 🤖: 증상/두근거림 \n",
            "\n",
            "🥺: 시댁에서 저에게 바라는것두 너무 많구.\n",
            "-> 👩‍⚕️: 배경/시댁 🤖: 배경/음주 \n",
            "\n",
            "🥺: 두 분이서 같이 장사를 하셨었거든요.\n",
            "-> 👩‍⚕️: 배경/부모 🤖: 배경/경제적문제 \n",
            "\n",
            "🥺: 뭘 하든 완벽하게 해야 한다는 주의긴 하지만 그런 줄은 몰랐어요.\n",
            "-> 👩‍⚕️: 배경/성격 🤖: 배경/남편 \n",
            "\n",
            "🥺: 밤에는 사람이 적으니까… 그나마 다닐 만한 것 같아.\n",
            "-> 👩‍⚕️: 증상/대인기피 🤖: 배경/생활 \n",
            "\n",
            "🥺: 최근에 이직을 했어요.\n",
            "-> 👩‍⚕️: 배경/직장 🤖: 배경/생활 \n",
            "\n",
            "🥺: 내가 몸이 말을 안 들어서 운동도 관뒀는데 관둔 후에도 몸이 말썽이니까…\n",
            "-> 👩‍⚕️: 배경/건강문제 🤖: 배경/생활 \n",
            "\n",
            "🥺: 지난 번에는 집 오는 길을 까먹어서 인터넷에 검색해서 왔어요.\n",
            "-> 👩‍⚕️: 증상/기억력저하 🤖: 배경/생활 \n",
            "\n",
            "🥺: 아빠가 그립진 않지만 이 상황이 날 너무 힘들게 해.\n",
            "-> 👩‍⚕️: 감정/힘듦 🤖: 배경/부모 \n",
            "\n",
            "🥺: 처음엔 분위기가 좋았는데, 고모님이 입을 열면서 점점 엉망진창으로 변했어요.\n",
            "-> 👩‍⚕️: 배경/가족 🤖: 배경/생활 \n",
            "\n",
            "🥺: 어릴 때부터 옷을 입으면 갑갑했어.\n",
            "-> 👩‍⚕️: 배경/문제 🤖: 증상/호흡곤란 \n",
            "\n",
            "🥺: 시간이 지나면 다시 화장실에 갔다 와야 마음이 놓여요.\n",
            "-> 👩‍⚕️: 배경/문제 🤖: 증상/불면 \n",
            "\n",
            "🥺: 대학 졸업하고 3년 째 취업 준비 중이야.\n",
            "-> 👩‍⚕️: 배경/취업 🤖: 배경/직장 \n",
            "\n",
            "🥺: 처음부터 잘해주든가…\n",
            "-> 👩‍⚕️: 감정/화 🤖: 감정/힘듦 \n",
            "\n",
            "🥺: 원래 마른 편이었는데..요즘 폭식을 심하게 해요.\n",
            "-> 👩‍⚕️: 증상/폭식 🤖: 배경/생활 \n",
            "\n",
            "🥺: 무조건 굶어서 뺀 건 아니고 운동도 하고 식이도 했지.\n",
            "-> 👩‍⚕️: 배경/건강문제 🤖: 배경/생활 \n",
            "\n",
            "🥺: 내가 열 번 스무 번 생각해봤는데 아무래도 내 이야기가 맞는 거 같아.\n",
            "-> 👩‍⚕️: 증상/과대망상 🤖: 증상/피해망상 \n",
            "\n",
            "🥺: 그거 보고 나니까 내가 여태 뭘 한 건가 싶고 그냥 다 허무했어요.\n",
            "-> 👩‍⚕️: 감정/허무함 🤖: 증상/무기력 \n",
            "\n",
            "🥺: 잠드는 것도 너무 힘들어서… 매일 새벽까지 뜬 눈으로 지새워요.\n",
            "-> 👩‍⚕️: 증상/불면 🤖: 감정/힘듦 \n",
            "\n",
            "🥺: 요즘 계속 머리가 멍한 거 같아.\n",
            "-> 👩‍⚕️: 감정/멍함 🤖: 증상/두통 \n",
            "\n",
            "🥺: 지난 주 일요일에 담배를 사러 나왔다가.\n",
            "-> 👩‍⚕️: 배경/생활 🤖: 증상/피해망상 \n",
            "\n",
            "🥺: 혹시 산후풍인가? 아니면 찬 공기에 바람 맞아서 혈관이 잘못된 건가?\n",
            "-> 👩‍⚕️: 증상/건강염려 🤖: 감정/걱정 \n",
            "\n",
            "🥺: 본전만 찾고 사업장을 다 접어야 했어요.\n",
            "-> 👩‍⚕️: 배경/사업 🤖: 배경/생활 \n",
            "\n",
            "🥺: 사이가 계속 좋지는 않았어요. 그냥 여느 부부처럼 싸우고 화해하고…\n",
            "-> 👩‍⚕️: 배경/남편 🤖: 배경/부모 \n",
            "\n",
            "🥺: 하루종일 딸만 생각하고 있어.\n",
            "-> 👩‍⚕️: 감정/걱정 🤖: 배경/문제 \n",
            "\n",
            "🥺: 친구들이랑도 관계를 이런 상태로 계속 지속해야 하나 싶고.\n",
            "-> 👩‍⚕️: 배경/친구 🤖: 배경/생활 \n",
            "\n",
            "🥺: 아무래도 돈 문제가 제일 컸죠. 제 등록금이랑 생활비 그런 거…\n",
            "-> 👩‍⚕️: 배경/경제적문제 🤖: 감정/걱정 \n",
            "\n",
            "🥺: 계속 시도때도 없이 눈물이 주르륵 흐르고.\n",
            "-> 👩‍⚕️: 감정/눈물 🤖: 감정/공포 \n",
            "\n",
            "🥺: 노력하면 무조건 다 되는 줄 알았는데, 아무리 노력해도 제자리인 것 같아요.\n",
            "-> 👩‍⚕️: 감정/힘듦 🤖: 감정/우울감 \n",
            "\n",
            "🥺: 그렇게 몇 번 당하고 나니까 학교 가기가 너무 무서운 거예요.\n",
            "-> 👩‍⚕️: 감정/무서움 🤖: 배경/생활 \n",
            "\n",
            "🥺: 두 분이 아직 이혼 절차는 밟지 않았는데… 곧 할 거 같기도 해.\n",
            "-> 👩‍⚕️: 배경/부모 🤖: 배경/직장 \n",
            "\n",
            "🥺: 공부도 재미있고 학교 활동도 재미있었어요.\n",
            "-> 👩‍⚕️: 감정/즐거움 🤖: 배경/생활 \n",
            "\n",
            "🥺: 한국 들어오고 되는 일이 하나도 없어!\n",
            "-> 👩‍⚕️: 감정/분노 🤖: 증상/무기력 \n",
            "\n",
            "🥺: 잠도 안 오고 불안하고…\n",
            "-> 👩‍⚕️: 증상/불면 🤖: 감정/불안감 \n",
            "\n",
            "🥺: 이런 꼴을 보다 보니 없던 병도 생기는것 같아.\n",
            "-> 👩‍⚕️: 감정/불만 🤖: 배경/남자친구 \n",
            "\n",
            "🥺: 영화 OST 듣는 거 정말 좋아했는데, 요즘은 그거 찾아 듣기가 너무 귀찮은 거예요.\n",
            "-> 👩‍⚕️: 증상/무기력 🤖: 증상/피해망상 \n",
            "\n",
            "🥺: 일단 PD님이 알아서 봐주시겠다고 하셔서 그 분한테 일을 맡겨놨어요.\n",
            "-> 👩‍⚕️: 배경/직장 🤖: 배경/부모 \n",
            "\n",
            "🥺: 이런 게 몇 번 있다 보니까 언제 죽을지 몰라서 무섭더라구요.\n",
            "-> 👩‍⚕️: 증상/죽음공포 🤖: 감정/자살충동 \n",
            "\n",
            "🥺: 틈틈히 알바도 하면서 준비했지.\n",
            "-> 👩‍⚕️: 배경/아르바이트 🤖: 배경/대학 \n",
            "\n",
            "🥺: 계속 이러다간 큰일 날 것 같아서 치료 받고 싶어서 왔어요.\n",
            "-> 👩‍⚕️: 내원이유/치료 🤖: 내원이유/상담 \n",
            "\n",
            "🥺: 예전보다 화내는 게 과격해진 거 같아.\n",
            "-> 👩‍⚕️: 감정/감정조절이상 🤖: 배경/성격 \n",
            "\n",
            "🥺: 그래서 지방으로 내려갔지.\n",
            "-> 👩‍⚕️: 배경/이사 🤖: 배경/대학 \n",
            "\n",
            "🥺: 돌아버리겠어.\n",
            "-> 👩‍⚕️: 감정/괴로움 🤖: 감정/답답 \n",
            "\n",
            "🥺: 학교도 몇 번이나 빠진 것 같아.\n",
            "-> 👩‍⚕️: 배경/학교 🤖: 배경/생활 \n",
            "\n",
            "🥺: 그러면 안 되니까 막 피했죠. 안 된다, 안 된다 계속 생각하면서.\n",
            "-> 👩‍⚕️: 증상/반복사고 🤖: 자가치료/심리조절 \n",
            "\n",
            "🥺: 명문대를 나왔어요. 머리가 안 좋은데 사교육발이었죠.\n",
            "-> 👩‍⚕️: 배경/대학 🤖: 치료이력/병원내원 \n",
            "\n",
            "🥺: 생리도 몇 달 째 안 나와요.\n",
            "-> 👩‍⚕️: 증상/생리불순 🤖: 배경/남편 \n",
            "\n",
            "🥺: 가서 검사를 했는데 아무 이상이 없대.\n",
            "-> 👩‍⚕️: 치료이력/검사 🤖: 치료이력/병원내원 \n",
            "\n",
            "🥺: 무시하려고 하는데… 계속 웃긴 소리를 지껄이니까 무시하기도 힘들어요.\n",
            "-> 👩‍⚕️: 증상/환청 🤖: 감정/힘듦 \n",
            "\n",
            "🥺: 이번에도 그렇게 하루 이틀 지나면 기분이 나아질 거라고 생각했는데…\n",
            "-> 👩‍⚕️: 감정/우울감 🤖: 감정/불안감 \n",
            "\n",
            "🥺: 역시 일을 안 하는 게 맞는 걸까?\n",
            "-> 👩‍⚕️: 배경/직장 🤖: 감정/부정적사고 \n",
            "\n",
            "🥺: 더 이상 내 감정을 내가 컨트롤 못 하겠어.\n",
            "-> 👩‍⚕️: 감정/감정조절이상 🤖: 감정/불안감 \n",
            "\n",
            "🥺: 방법이 있을까요?\n",
            "-> 👩‍⚕️: 일반대화 🤖: 감정/걱정 \n",
            "\n",
            "🥺: 분명 내가 계속 바라던 일이었는데도 기분이 안 좋네.\n",
            "-> 👩‍⚕️: 감정/기분저하 🤖: 부가설명 \n",
            "\n",
            "🥺: 아마 계속 그럴 것 같아요. 딱히 혼자가 싫은 것도 아니고.\n",
            "-> 👩‍⚕️: 배경/생활 🤖: 배경/성격 \n",
            "\n",
            "🥺: 스물한 살 때 회사 워크샵으로 용평을 갔었거든요.\n",
            "-> 👩‍⚕️: 배경/어린시절 🤖: 배경/직장 \n",
            "\n",
            "🥺: 전문대 졸업하고, 호주로 유학을 갔어요.\n",
            "-> 👩‍⚕️: 배경/유학 🤖: 배경/취업 \n",
            "\n",
            "🥺: 시댁 사정도 안 좋고… 어디 손 벌릴 곳도 없어.\n",
            "-> 👩‍⚕️: 배경/경제적문제 🤖: 증상/무기력 \n",
            "\n",
            "🥺: 그때 뭔가 속은 기분이 들었어요. \n",
            "-> 👩‍⚕️: 감정/불신 🤖: 감정/배신감 \n",
            "\n",
            "🥺: 근데 엄청 비싼 산후조리병원에 들어간 거예요.\n",
            "-> 👩‍⚕️: 배경/시댁 🤖: 치료이력/병원내원 \n",
            "\n",
            "🥺: 계속 이러니까 사람 있나 확인하는 게 버릇 됐다니까.\n",
            "-> 👩‍⚕️: 상태/증상지속 🤖: 증상/반복행동 \n",
            "\n",
            "🥺: 만나고 나서 진짜 딱 너무 잘 맞는다 싶어서 결혼하고 싶더라구요.\n",
            "-> 👩‍⚕️: 배경/여자친구 🤖: 배경/결혼 \n",
            "\n",
            "🥺: 선생님은 수술 잘됐다고 안심하라고 하는데 밤만 되면 나도 병이 재발하는 게 아닌가 싶고…\n",
            "-> 👩‍⚕️: 감정/걱정 🤖: 감정/우울감 \n",
            "\n",
            "🥺: 그 전에 병원을 다니면서 치료를 받긴 했는데 자세한 건 기억이 안 나요.\n",
            "-> 👩‍⚕️: 증상/기억상실 🤖: 배경/생활 \n",
            "\n",
            "🥺: 다행이지 뭐.\n",
            "-> 👩‍⚕️: 감정/모호함 🤖: 감정/부정적사고 \n",
            "\n",
            "🥺: 아무렇지 않게 있다가 갑자기 이러니까… 너무 쪽 팔려.\n",
            "-> 👩‍⚕️: 감정/창피함 🤖: 감정/괴로움 \n",
            "\n",
            "🥺: 급식으로 나온 게 잘못돼서 거의 전교생이 다 난리였어.\n",
            "-> 👩‍⚕️: 배경/학교 🤖: 배경/여자친구 \n",
            "\n",
            "🥺: 내가 미쳤지. \n",
            "-> 👩‍⚕️: 감정/후회 🤖: 감정/힘듦 \n",
            "\n",
            "🥺: 지금 상태가 너무 안 좋아서 학교 안 나가고 있어요. \n",
            "-> 👩‍⚕️: 현재상태/증상악화 🤖: 배경/학교 \n",
            "\n",
            "🥺: 걔 앞에만 서면 되게 작아 보이고, 별 거 아닌 것 같고…\n",
            "-> 👩‍⚕️: 감정/자존감저하 🤖: 증상/은둔 \n",
            "\n",
            "🥺: 책만 읽으면 다른 생각이 들고…\n",
            "-> 👩‍⚕️: 증상/집중력저하 🤖: 증상/불면 \n",
            "\n",
            "🥺: 근데도 술을 끊지는 못하겠어요.\n",
            "-> 👩‍⚕️: 배경/음주 🤖: 증상/알코올의존 \n",
            "\n",
            "🥺: 세상에 저 혼자 있는 거 같아요. \n",
            "-> 👩‍⚕️: 감정/고독감 🤖: 감정/부정적사고 \n",
            "\n",
            "🥺: 어제 직원 두 명이 그만둔다고 사직서 냈는데, 나 때문인가 싶기도 하고…\n",
            "-> 👩‍⚕️: 감정/신경쓰임 🤖: 배경/생활 \n",
            "\n",
            "🥺: 그런데 왜 자꾸 공황발작이 생기는 걸까요?\n",
            "-> 👩‍⚕️: 증상/공황발작 🤖: 증상/불면 \n",
            "\n",
            "🥺: 돈 버는 건 힘들어도 쓰는 건 한순간이더라구.\n",
            "-> 👩‍⚕️: 배경/경제적문제 🤖: 감정/힘듦 \n",
            "\n",
            "🥺: 나도 그래.\n",
            "-> 👩‍⚕️: 일반대화 🤖: 증상/식욕저하 \n",
            "\n",
            "🥺: 남편이 4형제 중에 둘째인데, 시어머니가 남편을 별로 안 좋아하는 것 같아요.\n",
            "-> 👩‍⚕️: 배경/가족 🤖: 배경/남편 \n",
            "\n",
            "🥺: 내가 이 일 하려고 그렇게 취업 준비를 했나 싶어서 후회 되고…\n",
            "-> 👩‍⚕️: 감정/후회 🤖: 배경/직장 \n",
            "\n",
            "🥺: 필요 없는 사람들은 말이야.\n",
            "-> 👩‍⚕️: 감정/부정적사고 🤖: 배경/대인관계 \n",
            "\n",
            "🥺: 불면이 나이지질 않아요.\n",
            "-> 👩‍⚕️: 증상/불면 🤖: 배경/성격 \n",
            "\n",
            "🥺: 가면 고생 할 것 같은데 안 가자니 뭔가 심란할 것 같고…\n",
            "-> 👩‍⚕️: 감정/심란 🤖: 감정/부정적사고 \n",
            "\n",
            "🥺: 그건 내 탓이 아니잖아요?\n",
            "-> 👩‍⚕️: 감정/억울함 🤖: 감정/걱정 \n",
            "\n",
            "🥺: 더 이상 살면서 뭘 하고 싶은 것도 없거든요.\n",
            "-> 👩‍⚕️: 감정/의욕상실 🤖: 증상/무기력 \n",
            "\n",
            "🥺: 동네친구들도 가까워서 자주 놀러오고.\n",
            "-> 👩‍⚕️: 배경/친구 🤖: 배경/대인관계 \n",
            "\n",
            "🥺: 근데 거기에 자기야 오빠야 이러는 대화 내역이 있는 거예요.\n",
            "-> 👩‍⚕️: 배경/남편 🤖: 배경/시댁 \n",
            "\n",
            "🥺: 신기하게 나이를 먹어도 연애감정이 생기는 거에요.\n",
            "-> 👩‍⚕️: 배경/연애 🤖: 증상/폭식 \n",
            "\n",
            "🥺: 나는 완벽하게 딱 맞아떨어지는 걸 좋아해.\n",
            "-> 👩‍⚕️: 배경/성격 🤖: 증상/기억력저하 \n",
            "\n",
            "🥺: 나한테 왜 그러지?\n",
            "-> 👩‍⚕️: 감정/속상함 🤖: 감정/걱정 \n",
            "\n",
            "🥺: 나 따위는 별 거 아닌 것 같고 내가 너무 작게 느껴져.\n",
            "-> 👩‍⚕️: 감정/자존감저하 🤖: 증상/이인감 \n",
            "\n",
            "🥺: 아예 슬라이드 하나를 날려 먹은 건 당연하고 완전 당황해서…\n",
            "-> 👩‍⚕️: 감정/당황 🤖: 증상/폭식 \n",
            "\n",
            "🥺: 그렇게 말하는 인간들이 날 행복하게 해주지 않으니까 신경 안 쓰기로 했어.\n",
            "-> 👩‍⚕️: 감정/생각 🤖: 배경/성격 \n",
            "\n",
            "🥺: 아직도 나는 진정이 안 돼.\n",
            "-> 👩‍⚕️: 감정/심란 🤖: 감정/감정조절이상 \n",
            "\n",
            "🥺: 왜 나는 나를 컨트롤하지 못할까.\n",
            "-> 👩‍⚕️: 부가설명 🤖: 감정/의기소침 \n",
            "\n",
            "🥺: 하기 싫은데 반복행동을 멈출 수가 없어. \n",
            "-> 👩‍⚕️: 증상/반복행동 🤖: 감정/통제력상실 \n",
            "\n",
            "🥺: 저는 정말 맹세코 바람 안 피웠거든요…\n",
            "-> 👩‍⚕️: 배경/연애 🤖: 배경/음주 \n",
            "\n",
            "🥺: 저 혼자 할 수 있을 것 같아요. 잘 다스리고 있으니까요.\n",
            "-> 👩‍⚕️: 자가치료/심리조절 🤖: 증상/대인기피 \n",
            "\n",
            "🥺: 많이 먹는 것도 아닌데 위에서 소화를 못 시키는 거 같아.\n",
            "-> 👩‍⚕️: 증상/소화불량 🤖: 증상/어지러움 \n",
            "\n",
            "🥺: 생각처럼 안 되면 초조해지고.\n",
            "-> 👩‍⚕️: 감정/초조함 🤖: 감정/불안감 \n",
            "\n",
            "🥺: 그 친구를 부러워했어요. \n",
            "-> 👩‍⚕️: 배경/남자친구 🤖: 배경/연애 \n",
            "\n",
            "🥺: 큰딸 낳으면서 육아를 병행하기가 힘들었거든요.\n",
            "-> 👩‍⚕️: 배경/육아 🤖: 증상/피해망상 \n",
            "\n",
            "🥺: 나보다 못 했던 사람들 다 붙었는데… 내가 운이 너무 안 좋은 거 같다는 생각도 들어.\n",
            "-> 👩‍⚕️: 감정/억울함 🤖: 감정/걱정 \n",
            "\n",
            "🥺: 근데 초심과 다르게 공부를 하면 할수록 풀어지더라구.\n",
            "-> 👩‍⚕️: 배경/학업 🤖: 배경/사업 \n",
            "\n",
            "🥺: 그래도 내가 모르는 일이었으니까 할 수 없다고 스스로를 다독였어.\n",
            "-> 👩‍⚕️: 감정/심란 🤖: 배경/직장 \n",
            "\n",
            "🥺: 다치고 아픈건 우리 아들인데 상황이 불리해졌어요.\n",
            "-> 👩‍⚕️: 배경/자녀 🤖: 증상/불면 \n",
            "\n",
            "🥺: 요즘 일하기도 싫고 살 맛 안 나.\n",
            "-> 👩‍⚕️: 감정/의욕상실 🤖: 증상/무기력 \n",
            "\n",
            "🥺: 조금만 안 좋은 일이 생겨도 다 누가 나를 모함해서 그런 것 같고…\n",
            "-> 👩‍⚕️: 증상/피해망상 🤖: 증상/불면 \n",
            "\n",
            "🥺: 친구랑 놀다가 집에 왔는데 아무 소리도 안 나고 이상한 냄새가 났어요.\n",
            "-> 👩‍⚕️: 배경/어린시절 🤖: 배경/부모 \n",
            "\n",
            "🥺: 배가 고프지 않고 피곤하지도 않아요.\n",
            "-> 👩‍⚕️: 상태/양호 🤖: 증상/피로 \n",
            "\n",
            "🥺: 근데 그때 무리를 한 건지 가만히 있어도 가슴이 두근두근해.\n",
            "-> 👩‍⚕️: 증상/두근거림 🤖: 증상/불면 \n",
            "\n",
            "🥺: 이런 걸로 이혼하긴 그런데…그래도 요즘은 정말 꼴도 보기 싫네요.\n",
            "-> 👩‍⚕️: 감정/미움 🤖: 배경/생활 \n",
            "\n",
            "🥺: 영화에서나 일어나는 불행이 하필 나한테 온거야. \n",
            "-> 👩‍⚕️: 감정/부정적사고 🤖: 배경/대인관계 \n",
            "\n",
            "🥺: 금방 있었던 일도 아득하게 멀게 느껴져. 피부에 딱 안 와 닿는다고 해야 될까?\n",
            "-> 👩‍⚕️: 증상/기억력저하 🤖: 증상/불면 \n",
            "\n",
            "🥺: 결혼 얘기 오가다가 뭔가 맞지 않았고, 더 진행되기 전에 헤어지기로 했네요.\n",
            "-> 👩‍⚕️: 배경/여자친구 🤖: 배경/결혼 \n",
            "\n",
            "🥺: 미친 인간이 어제 또 술을 진탕이 되도록 마신 거야.\n",
            "-> 👩‍⚕️: 배경/남편 🤖: 배경/음주 \n",
            "\n",
            "🥺: 근데 원인이 뭔지 모르겠어. 평소에 물 마실 만큼 마시는데…\n",
            "-> 👩‍⚕️: 배경/생활 🤖: 배경/문제 \n",
            "\n",
            "🥺: 그냥 늘어져있는 게 좋아.\n",
            "-> 👩‍⚕️: 증상/무기력 🤖: 감정/부정적사고 \n",
            "\n",
            "🥺: 가끔은 그런 생각이 들어. 진짜 아무 것도 못 하겠다는 생각.\n",
            "-> 👩‍⚕️: 감정/무력감 🤖: 감정/부정적사고 \n",
            "\n",
            "🥺: 가슴이 구석구석 아파요.\n",
            "-> 👩‍⚕️: 증상/가슴통증 🤖: 증상/두근거림 \n",
            "\n",
            "🥺: 뭘 먹어도 느끼해.\n",
            "-> 👩‍⚕️: 증상/메스꺼움 🤖: 증상/피로 \n",
            "\n",
            "🥺: 이러다 말겠지, 했는데… 전혀 나아지질 않아요.\n",
            "-> 👩‍⚕️: 현재상태/증상지속 🤖: 자가치료/심리조절 \n",
            "\n",
            "🥺: 남편이 출장 가고 집에 나밖에 없는데 시어머니가 자꾸 찾아와.\n",
            "-> 👩‍⚕️: 배경/시댁 🤖: 배경/남편 \n",
            "\n",
            "🥺: 놀이동산에 자이로드롭을 타고서부터 컨디션이 계속 안 좋았어. 장기가 중력을 심하게 받아서 그런가…\n",
            "-> 👩‍⚕️: 증상/컨디션저조 🤖: 감정/속상함 \n",
            "\n",
            "🥺: 방마다 카메라 달려있고, 집에서 하는 얘기 다 도청되고 있어서 조심해야 해요. \n",
            "-> 👩‍⚕️: 증상/피해망상 🤖: 증상/반복행동 \n",
            "\n",
            "🥺: 막 하루 전 일이 한 달 전 일처럼 엄청 아득하고 흐릿하게 느껴지고…\n",
            "-> 👩‍⚕️: 증상/기억력저하 🤖: 배경/생활 \n",
            "\n",
            "🥺: 머리가 나쁜 편이야.\n",
            "-> 👩‍⚕️: 배경/학업 🤖: 증상/두통 \n",
            "\n",
            "🥺: 걔랑도 얼마 못 갔어. \n",
            "-> 👩‍⚕️: 배경/남자친구 🤖: 배경/부모 \n",
            "\n",
            "🥺: 저도 안 그러고 싶거든요? 근데 그게 마음대로 되지 않아요.\n",
            "-> 👩‍⚕️: 감정/통제력상실 🤖: 감정/부정적사고 \n",
            "\n",
            "🥺: 가끔 땅이 흔들리는 거 같거든요.\n",
            "-> 👩‍⚕️: 증상/어지러움 🤖: 감정/걱정 \n",
            "\n",
            "🥺: 왜 이것밖에 안 될까 자책하고.\n",
            "-> 👩‍⚕️: 감정/자괴감 🤖: 감정/우울감 \n",
            "\n",
            "🥺: 처음 사귄 남친은 저보다 8살 많았어요. 관심사가 전혀 달라서 말이 안 통했어요.\n",
            "-> 👩‍⚕️: 배경/전연인 🤖: 배경/남자친구 \n",
            "\n",
            "🥺: 계속 고개를 아래 위로 휘저어. \n",
            "-> 👩‍⚕️: 증상/반복행동 🤖: 증상/호흡곤란 \n",
            "\n",
            "🥺: 하루종일 일에 매여서 일 생각만 하고, 별 것 아닌 건데 스트레스 받고...즐겁지가 않아.\n",
            "-> 👩‍⚕️: 감정/힘듦 🤖: 배경/직장 \n",
            "\n",
            "🥺: 점점 성욕구가 주체가 안 되는 기분이예요.\n",
            "-> 👩‍⚕️: 증상/성욕상승 🤖: 감정/감정조절이상 \n",
            "\n",
            "🥺: 화낼 사람은 누가 봐도 나 아니야?\n",
            "-> 👩‍⚕️: 감정/화 🤖: 감정/걱정 \n",
            "\n",
            "🥺: 옆에서 누가 말도 거는 것 같고… 분명 사람이 없는데.\n",
            "-> 👩‍⚕️: 증상/환청 🤖: 감정/부정적사고 \n",
            "\n",
            "🥺: 얼마 전에 교통사고를 목격했어.\n",
            "-> 👩‍⚕️: 증상/식욕저하 🤖: 배경/사고 \n",
            "\n",
            "🥺: 다리가 다 풀려서, 집까지 거의 기어갔어요.\n",
            "-> 👩‍⚕️: 증상/힘빠짐 🤖: 배경/생활 \n",
            "\n",
            "🥺: 전체 회식 때 술을 거의 들이붓고서는 그 상태로 택시를 탔던 거 같아.\n",
            "-> 👩‍⚕️: 배경/문제 🤖: 배경/음주 \n",
            "\n",
            "🥺: 새벽까지 두통 때문에 뒤척이다가 해가 뜨면 지쳐서 잠들어.\n",
            "-> 👩‍⚕️: 증상/두통 🤖: 증상/불면 \n",
            "\n",
            "🥺: 어제도 오늘도 직장에 있는데 계속 그 생각뿐이었어요. 집중이 안 돼요.\n",
            "-> 👩‍⚕️: 증상/집중력저하 🤖: 배경/문제 \n",
            "\n",
            "🥺: 일부러 밀어 내지 않는 이상 걔가 어떻게 나가?\n",
            "-> 👩‍⚕️: 배경/애완동물 🤖: 감정/생각 \n",
            "\n",
            "🥺: 살면서 누구한테 미움 받아본 적이 없는 거 같아.\n",
            "-> 👩‍⚕️: 배경/대인관계 🤖: 감정/절망감 \n",
            "\n",
            "🥺: 죽겠어요, 정말.\n",
            "-> 👩‍⚕️: 감정/힘듦 🤖: 감정/자살충동 \n",
            "\n",
            "🥺: 나도 살림에 보탬이 될까 싶어서 떡볶이 가게를 차렸는데…그마저도 망하고...\n",
            "-> 👩‍⚕️: 배경/사업 🤖: 증상/피해망상 \n",
            "\n",
            "🥺: 스스로가 나무 토막 같아요.\n",
            "-> 👩‍⚕️: 증상/무기력 🤖: 증상/두통 \n",
            "\n",
            "🥺: 주변에 있는 것들이 다 예민하게 다가왔어요.\n",
            "-> 👩‍⚕️: 감정/예민함 🤖: 배경/성격 \n",
            "\n",
            "🥺: 남들보다 뒤처진다는 생각이 점점 들어. \n",
            "-> 👩‍⚕️: 감정/자신감저하 🤖: 감정/부정적사고 \n",
            "\n",
            "🥺: 부인과 헤어진 지는 좀 됐어요.\n",
            "-> 👩‍⚕️: 배경/이혼 🤖: 배경/연애 \n",
            "\n",
            "🥺: 누가 제 머리 위에 맨홀 뚜껑을 올리고 꾹 누르는 느낌이에요.\n",
            "-> 👩‍⚕️: 증상/편두통 🤖: 증상/두통 \n",
            "\n",
            "🥺: 너무 외로워요.\n",
            "-> 👩‍⚕️: 감정/외로움 🤖: 감정/힘듦 \n",
            "\n",
            "🥺: 아직까지는 별 문제 없어요. 근데 부모님이 저희를 안 보려고 하세요.\n",
            "-> 👩‍⚕️: 배경/가족 🤖: 배경/부모 \n",
            "\n",
            "🥺: 퇴근하면 힘이 하나도 안 남아 있어서 샤워도 안 하고 그냥 소파에 늘어져 있어요.\n",
            "-> 👩‍⚕️: 증상/피로 🤖: 증상/은둔 \n",
            "\n",
            "🥺: 힘을 내보자, 힘내서 못 할 게 뭐가 있나 싶어서 마음 좀 다잡으려고 했는데…\n",
            "-> 👩‍⚕️: 자가치료/심리조절 🤖: 증상/불면 \n",
            "\n",
            "🥺: 거실 소파에 가만히 앉아서 창 밖을 보고 있는데… 문득 그렇더라고.\n",
            "-> 👩‍⚕️: 배경/생활 🤖: 감정/힘듦 \n",
            "\n",
            "🥺: 지금 생각하면 그냥 애 하나로 끝냈어야 했는데, 나도 참 바보지…. 덜컥 둘째 갖고….\n",
            "-> 👩‍⚕️: 배경/임신 🤖: 배경/남편 \n",
            "\n",
            "🥺: 그런데 대학교에 딱 입학하고 나니까… 시험 끝나고 긴장이 풀려서 그런가? \n",
            "-> 👩‍⚕️: 배경/대학 🤖: 감정/긴장 \n",
            "\n",
            "🥺: 그때 생각하면 진절머리가 나.\n",
            "-> 👩‍⚕️: 감정/불쾌감 🤖: 배경/부모 \n",
            "\n",
            "🥺: 근데 그 때 사무실에 저밖에 없었거든요. 아무도 없는데 들렸어요.\n",
            "-> 👩‍⚕️: 증상/환청 🤖: 배경/직장 \n",
            "\n",
            "🥺: 얼마 전에 수학여행을 제주도로 갔다 왔거든?\n",
            "-> 👩‍⚕️: 배경/학교 🤖: 배경/생활 \n",
            "\n",
            "🥺: 나라고 뭐..자기한테 불만이 없겠어?\n",
            "-> 👩‍⚕️: 감정/불만 🤖: 감정/생각 \n",
            "\n",
            "🥺: 힘든 일 있어도 딱히 남한테 기대거나 말하고 그러지 않아.\n",
            "-> 👩‍⚕️: 배경/성격 🤖: 감정/부정적사고 \n",
            "\n",
            "🥺: 아내라는 기분보다 비서가 된 기분.\n",
            "-> 👩‍⚕️: 감정/서운함 🤖: 배경/연애 \n",
            "\n",
            "🥺: 점점 집에만 있게 되고… 낮잠도 엄청 많이 자거든요. 그러다 보니까 또 더 피곤해지고… 악순환이에요.\n",
            "-> 👩‍⚕️: 증상/만성피로 🤖: 배경/생활 \n",
            "\n",
            "🥺: 사고난 이후로 차 탈 때 조수석에는 안 타게 되더라.\n",
            "-> 👩‍⚕️: 감정/두려움 🤖: 배경/음주 \n",
            "\n",
            "🥺: 아무와도 이야기하고 싶지 않아.\n",
            "-> 👩‍⚕️: 증상/대화기피 🤖: 감정/자살충동 \n",
            "\n",
            "🥺: 그래서 지난 번엔 앉은 자리에서 큰 거 다섯 통을 먹었어.\n",
            "-> 👩‍⚕️: 증상/폭식 🤖: 배경/생활 \n",
            "\n",
            "🥺: 우리집 먹고 살리려면 일을 해야되는데 취직하기가 어려웠어요.\n",
            "-> 👩‍⚕️: 배경/취업 🤖: 배경/직장 \n",
            "\n",
            "🥺: 저쪽은 취업을 했는데, 나는 계속 백수니까 주눅드는 것도 있고.\n",
            "-> 👩‍⚕️: 감정/의기소침 🤖: 배경/직장 \n",
            "\n",
            "🥺: 뭔가 나한테 안 좋게 하면, 그냥 넘어가도 될 걸 크게 만드는 편이야. \n",
            "-> 👩‍⚕️: 배경/성격 🤖: 감정/부정적사고 \n",
            "\n",
            "🥺: 일을 심하게 해서 아픈건가 라는 생각도 들었어.\n",
            "-> 👩‍⚕️: 증상/통증 🤖: 감정/힘듦 \n",
            "\n",
            "🥺: 언제쯤 괜찮아질까요…\n",
            "-> 👩‍⚕️: 감정/괴로움 🤖: 감정/불안감 \n",
            "\n",
            "🥺: 생각해보니까 뭐 그럴 수도 있을 것 같아서… 그래서 일단 와봤어.\n",
            "-> 👩‍⚕️: 내원이유/의사소견 🤖: 감정/부정적사고 \n",
            "\n",
            "🥺: 내 안에 다른 내가 있는 느낌?\n",
            "-> 👩‍⚕️: 증상/이인감 🤖: 감정/부정적사고 \n",
            "\n",
            "🥺: 지난주에는 더 이상은 못 참겠다, 안 되겠다 생각이 들었어요.\n",
            "-> 👩‍⚕️: 감정/답답 🤖: 감정/걱정 \n",
            "\n",
            "🥺: 근데 점점 갈수록 오빠가 저한테 집착이 심한 거예요.\n",
            "-> 👩‍⚕️: 배경/남자친구 🤖: 배경/친구 \n",
            "\n",
            "🥺: 확실히 예전보다 잠을 많이 자는 것 같아요. 휴일엔 하루종일 잠만 잘 때도 많아요.\n",
            "-> 👩‍⚕️: 증상/과수면 🤖: 증상/불면 \n",
            "\n",
            "🥺: 다른 사람들이 자길 해칠 거라고 생각했었거든. \n",
            "-> 👩‍⚕️: 증상/피해망상 🤖: 감정/충격 \n",
            "\n",
            "🥺: 직장생활은 별로 문제될게 없어. 나름대로 성공한 삶인 것 같아.\n",
            "-> 👩‍⚕️: 배경/직장 🤖: 배경/생활 \n",
            "\n",
            "🥺: 2년 동안 행복한 기분을 느껴본 적이 없어.\n",
            "-> 👩‍⚕️: 감정/우울감 🤖: 증상/불면 \n",
            "\n",
            "🥺: 내가 왜 이렇게 늦게 들어오냐고 한마디 하면 완전 나를 철없는 사람 취급하는 거야.\n",
            "-> 👩‍⚕️: 배경/타인 🤖: 증상/피해망상 \n",
            "\n",
            "🥺: 공부 다 하고 책상을 보면 머리카락이 수두룩하게 쌓여있어.\n",
            "-> 👩‍⚕️: 배경/문제 🤖: 증상/불면 \n",
            "\n",
            "🥺: 일을 할 수 없을 정도로 아플 때도 많아요.\n",
            "-> 👩‍⚕️: 증상/통증 🤖: 배경/문제 \n",
            "\n",
            "🥺: 한곳에서 합격했다고 연락이 와서 단번에 다니겠다고 소리질렀지.\n",
            "-> 👩‍⚕️: 배경/취업 🤖: 배경/직장 \n",
            "\n",
            "🥺: 특별히 힘든 일이나 그런 것도 없는데 왜 그런지 모르겠어요.\n",
            "-> 👩‍⚕️: 배경/생활 🤖: 감정/부정적사고 \n",
            "\n",
            "🥺: 나는 중환자실을 가겠다고 했어.\n",
            "-> 👩‍⚕️: 배경/직장 🤖: 배경/생활 \n",
            "\n",
            "🥺: 항상 그런 식이야, 항상… \n",
            "-> 👩‍⚕️: 감정/짜증 🤖: 감정/걱정 \n",
            "\n",
            "🥺: 혼자 이리뛰고 저리뛰는 것도 지쳤어.\n",
            "-> 👩‍⚕️: 감정/힘듦 🤖: 증상/두근거림 \n",
            "\n",
            "🥺: 그래도 어지간하면 다니려고 했는데… 결국 터질게 터졌어. \n",
            "-> 👩‍⚕️: 배경/사고 🤖: 배경/생활 \n",
            "\n",
            "🥺: 아직도 항암이 4번이나 더 남았어…\n",
            "-> 👩‍⚕️: 배경/건강문제 🤖: 배경/음주 \n",
            "\n",
            "🥺: 집에 먹을 게 떨어진 게 아닌 이상 안 나가고 있어.\n",
            "-> 👩‍⚕️: 증상/은둔 🤖: 증상/식욕저하 \n",
            "\n",
            "🥺: 가끔 환시가 보이기도 해요.\n",
            "-> 👩‍⚕️: 증상/환각 🤖: 증상/호흡곤란 \n",
            "\n",
            "🥺: 저는 공부는 별로였어요. 그냥 어릴 때부터 현모양처가 꿈이었으니까.\n",
            "-> 👩‍⚕️: 배경/공부 🤖: 배경/부모 \n",
            "\n",
            "🥺: 그랬더니 둘 다 기다렸다는 듯이 나 때문에 못 하고 있는 거래.\n",
            "-> 👩‍⚕️: 배경/부모 🤖: 배경/생활 \n",
            "\n",
            "🥺: 머릿속에서 그 이미지를 지우고 싶은데 자꾸만 생각나서요…\n",
            "-> 👩‍⚕️: 증상/반복사고 🤖: 증상/피해망상 \n",
            "\n",
            "🥺: 제 마음은 언제쯤 편해질 수 있을까요?\n",
            "-> 👩‍⚕️: 감정/불편감 🤖: 감정/걱정 \n",
            "\n",
            "🥺: 원래 살이 잘 찌는 체질인데 맨날 굶고 운동하고 그렇게 뺀 거야.\n",
            "-> 👩‍⚕️: 배경/건강문제 🤖: 배경/부모 \n",
            "\n",
            "🥺: 그러고 나서 기억이 없었어요. 일어나보니 반나절은 지나있었죠…\n",
            "-> 👩‍⚕️: 증상/기절 🤖: 배경/문제 \n",
            "\n",
            "🥺: 뭐든지 잘하고 싶고 욕심도 많은데 계속 부정적인 생각만 드는 것 같아요.\n",
            "-> 👩‍⚕️: 감정/부정적사고 🤖: 배경/성격 \n",
            "\n",
            "🥺: 그걸 반복했더니 1년 사이에 10키로가 넘게 찌더라.\n",
            "-> 👩‍⚕️: 증상/체중증가 🤖: 증상/체중감소 \n",
            "\n",
            "🥺: 귀국하고 회사 다니면서 다이어트를 했어요. \n",
            "-> 👩‍⚕️: 배경/건강문제 🤖: 배경/직장 \n",
            "\n",
            "🥺: 21살에 일찍 시집갔어.\n",
            "-> 👩‍⚕️: 배경/결혼 🤖: 증상/호흡곤란 \n",
            "\n",
            "🥺: 예능 프로를 봐도 하나도 안 웃기던데요. \n",
            "-> 👩‍⚕️: 감정/무미건조 🤖: 증상/피해망상 \n",
            "\n",
            "🥺: 식당 가도 주문도 제대로 못하고, 처음 보는 사람이랑 같이 있는게 죽기보다 싫거든. \n",
            "-> 👩‍⚕️: 배경/성격 🤖: 배경/연애 \n",
            "\n",
            "🥺: 처음엔 모기인가 싶었는데 아니었어. 그냥 그 소리가 들리는 거야.\n",
            "-> 👩‍⚕️: 증상/이명 🤖: 증상/환청 \n",
            "\n",
            "🥺: 너무 서운하잖아요. 여태 제가 모셨다니까요.\n",
            "-> 👩‍⚕️: 감정/서운함 🤖: 감정/감정조절이상 \n",
            "\n",
            "🥺: 무기력하고 의욕도 안 생겨요.\n",
            "-> 👩‍⚕️: 증상/무기력 🤖: 감정/의욕상실 \n",
            "\n",
            "🥺: 정신적으로 엄청 아픈 거면 어떡하지? 그럼 더 힘들 것 같아.\n",
            "-> 👩‍⚕️: 감정/힘듦 🤖: 감정/걱정 \n",
            "\n",
            "🥺: 그래도 사는데 지장은 없었어요.\n",
            "-> 👩‍⚕️: 부가설명 🤖: 증상/식욕저하 \n",
            "\n",
            "🥺: 저 죽어봤자 어차피 아무도 모를 걸요.\n",
            "-> 👩‍⚕️: 감정/외로움 🤖: 감정/자살충동 \n",
            "\n",
            "🥺: 점점 눈 마주치기도 힘들어지더라.\n",
            "-> 👩‍⚕️: 증상/대인기피 🤖: 감정/힘듦 \n",
            "\n",
            "🥺: 하루는 정말 죽어버리려고 목을 맬 준비를 했었어요.\n",
            "-> 👩‍⚕️: 증상/자살시도 🤖: 감정/자살충동 \n",
            "\n",
            "🥺: 세상에 인간보다 더한 악은 없어.\n",
            "-> 👩‍⚕️: 감정/비관적 🤖: 감정/분노 \n",
            "\n",
            "🥺: 안 좋은 일은 한꺼번에 덮치는 것 같아요.\n",
            "-> 👩‍⚕️: 감정/생각 🤖: 감정/힘듦 \n",
            "\n",
            "🥺: 뭐 아예 안 가는 것도 아니고 그냥 조금 늦는 것 뿐이잖아?\n",
            "-> 👩‍⚕️: 배경/생활 🤖: 감정/힘듦 \n",
            "\n",
            "🥺: 좋은 애였는데, 그땐 왜 그랬는지… 그렇게 잘해주지도 못했어.\n",
            "-> 👩‍⚕️: 감정/후회 🤖: 감정/힘듦 \n",
            "\n",
            "🥺: 저렇게 착하게 보여도 뒤에선 나한테 악플 달고 있는 거 아닐까.\n",
            "-> 👩‍⚕️: 증상/피해망상 🤖: 배경/친구 \n",
            "\n",
            "🥺: 뭔가 내 몸에 이상이 생긴 건가 싶었어요. 병원에 가야 하나…\n",
            "-> 👩‍⚕️: 감정/걱정 🤖: 배경/문제 \n",
            "\n",
            "🥺: 근데 저는 의사 그런 거에 관심 없어요. 되고 싶지 않아요.\n",
            "-> 👩‍⚕️: 배경/진로 🤖: 증상/식욕저하 \n",
            "\n",
            "🥺: 모두가 나를 속이고 있는 것 같아요. 트루먼 쇼의 주인공이 된 기분이야.\n",
            "-> 👩‍⚕️: 증상/피해망상 🤖: 배경/남자친구 \n",
            "\n"
          ],
          "name": "stdout"
        }
      ]
    },
    {
      "cell_type": "markdown",
      "metadata": {
        "id": "13AeKZe8JdIn"
      },
      "source": [
        "## #4. Inference 실행하기\n",
        "\n",
        "완성된 NLU 모델을 사용해 입력 문장에 대해 답변을 리턴하는 ROBOT_DOCTOR 함수를 직접 실행해보세요!"
      ]
    },
    {
      "cell_type": "code",
      "metadata": {
        "id": "b6KVVLC4AQ_P"
      },
      "source": [
        "filename = \"/content/gdrive/My Drive/NLP/Wellness_response.json\"\n",
        "with open(filename) as f:\n",
        "  RESPONSE = json.loads(f.read())"
      ],
      "execution_count": 31,
      "outputs": []
    },
    {
      "cell_type": "code",
      "metadata": {
        "id": "SxopYLQtIkw1"
      },
      "source": [
        "import random\n",
        "def ROBOT_DOCTOR(sentence, label_map=label_map):\n",
        "  reverse_label = {v:k for k, v in label_map.items()}\n",
        "  # 1. tokenizer로 문장 파싱\n",
        "  parsed_sent = tokenize(sentence)\n",
        "  input_id1 = []\n",
        "\n",
        "  # 2. vocab_dict를 이용해 인덱스로 변환\n",
        "  input_id1 = text_encoder.convert_tokens_to_ids(parsed_sent)\n",
        "  \n",
        "  # 단일 문장 추론이기 때문에 패딩할 필요가 없음\n",
        "  input_id = np.array([input_id1])\n",
        "  score, prediction = make_prediction(input_id)\n",
        "  prediction = np.argmax(score[0])\n",
        "  pred_label = reverse_label[prediction]\n",
        "  \n",
        "\n",
        "  print(\"🥺:\", sentence)\n",
        "  print(\" -> 추론한 의도: {} ({:.2f}%)\\n\".format(pred_label , 100*score[0][prediction]))\n",
        "  print(\"💚{}\".format(random.choice(RESPONSE[pred_label])))  "
      ],
      "execution_count": 32,
      "outputs": []
    },
    {
      "cell_type": "code",
      "metadata": {
        "id": "KYvgLjKl-Bsl",
        "outputId": "4d505685-3853-4283-d8d9-5d378946cd8e",
        "colab": {
          "base_uri": "https://localhost:8080/",
          "height": 89
        }
      },
      "source": [
        "ROBOT_DOCTOR(\"요즘 일이 너무 힘들오...\")"
      ],
      "execution_count": 33,
      "outputs": [
        {
          "output_type": "stream",
          "text": [
            "🥺: 요즘 일이 너무 힘들오...\n",
            " -> 추론한 의도: 감정/힘듦 (98.86%)\n",
            "\n",
            "💚정말 힘들고 스트레스 받으시겠어요. 따뜻한 물에 샤워를 추천해드릴게요.\n"
          ],
          "name": "stdout"
        }
      ]
    },
    {
      "cell_type": "code",
      "metadata": {
        "id": "Vio873rlDfFm",
        "outputId": "a0e1de94-a60d-4a77-8175-3937627d1f7a",
        "colab": {
          "base_uri": "https://localhost:8080/",
          "height": 127
        }
      },
      "source": [
        "ROBOT_DOCTOR(\"사람 상대하는 것도 귀찮고 집에만 있고 싶다\")"
      ],
      "execution_count": 34,
      "outputs": [
        {
          "output_type": "stream",
          "text": [
            "WARNING:tensorflow:5 out of the last 17 calls to <function Model.make_predict_function.<locals>.predict_function at 0x7f8f2276b1e0> triggered tf.function retracing. Tracing is expensive and the excessive number of tracings could be due to (1) creating @tf.function repeatedly in a loop, (2) passing tensors with different shapes, (3) passing Python objects instead of tensors. For (1), please define your @tf.function outside of the loop. For (2), @tf.function has experimental_relax_shapes=True option that relaxes argument shapes that can avoid unnecessary retracing. For (3), please refer to https://www.tensorflow.org/tutorials/customization/performance#python_or_tensor_args and https://www.tensorflow.org/api_docs/python/tf/function for  more details.\n",
            "🥺: 사람 상대하는 것도 귀찮고 집에만 있고 싶다\n",
            " -> 추론한 의도: 증상/무기력 (38.36%)\n",
            "\n",
            "💚가까운 곳부터 나가보면 어떨까요? 현관, 집 앞 슈퍼 그리고 먼 곳까지 차근차근히요!\n"
          ],
          "name": "stdout"
        }
      ]
    },
    {
      "cell_type": "code",
      "metadata": {
        "id": "CV0PSXoNO59p",
        "outputId": "24f58b96-c4a2-4ee3-a060-5e5fe7658516",
        "colab": {
          "base_uri": "https://localhost:8080/",
          "height": 89
        }
      },
      "source": [
        "ROBOT_DOCTOR(\"날 닮아서 그런지 딸래미가 공부를 너무 안해요\")"
      ],
      "execution_count": 35,
      "outputs": [
        {
          "output_type": "stream",
          "text": [
            "🥺: 날 닮아서 그런지 딸래미가 공부를 너무 안해요\n",
            " -> 추론한 의도: 배경/시댁 (24.59%)\n",
            "\n",
            "💚마음이 풀릴 때까지 들어드릴게요.\n"
          ],
          "name": "stdout"
        }
      ]
    },
    {
      "cell_type": "code",
      "metadata": {
        "id": "3cYf8CGwQj9O"
      },
      "source": [
        ""
      ],
      "execution_count": 35,
      "outputs": []
    }
  ]
}