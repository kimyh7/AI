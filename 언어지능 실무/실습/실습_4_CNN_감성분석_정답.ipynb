{
  "nbformat": 4,
  "nbformat_minor": 0,
  "metadata": {
    "colab": {
      "name": "실습_1_CNN_감성분석_정답.ipynb",
      "provenance": [],
      "collapsed_sections": [],
      "machine_shape": "hm"
    },
    "kernelspec": {
      "name": "python3",
      "display_name": "Python 3"
    },
    "accelerator": "GPU"
  },
  "cells": [
    {
      "cell_type": "markdown",
      "metadata": {
        "id": "RQuwLrfneJGq"
      },
      "source": [
        "# 실습 1. CNN을 이용한 😀감정분석😑 모델 학습하기\n",
        "\n",
        "<b>학습 목표:    \n",
        "- CNN을 사용한 자연어 분석 모델을 이해한다\n",
        "- TF keras를 이용해 모델을 구축하고 학습 및 추론을 할 수 있다.\n",
        "</b>\n",
        "\n",
        "이번 시간에는 학습한 아키텍처를 직접 코드로 구현해보겠습니다.   \n",
        "1일차 과정에서는 RNN 아키텍처를 활용해 감성분석 모델을 만들었습니다.   \n",
        "오늘은 CNN을 사용해 같은 태스크를 진행해볼건데요,   \n",
        "형태소분석을 하는 대신 글자(character) 단위로 문장을 토크나이즈하여 분석해보겠습니다. \n",
        "\n",
        "\n",
        "\n",
        "\n"
      ]
    },
    {
      "cell_type": "markdown",
      "metadata": {
        "id": "XI5VEKjCVzQz"
      },
      "source": [
        "# #0. 실습 준비하기\n",
        "구글 드라이브를 마운트하고 1일차에서 다운받았던 데이터셋을 불러오겠습니다. "
      ]
    },
    {
      "cell_type": "code",
      "metadata": {
        "id": "innKzlXP4Rd9",
        "outputId": "8c09556b-ec09-4198-ea16-9beba202f858",
        "colab": {
          "base_uri": "https://localhost:8080/",
          "height": 35
        }
      },
      "source": [
        "from google.colab import drive\n",
        "drive.mount('/content/gdrive')"
      ],
      "execution_count": null,
      "outputs": [
        {
          "output_type": "stream",
          "text": [
            "Mounted at /content/gdrive\n"
          ],
          "name": "stdout"
        }
      ]
    },
    {
      "cell_type": "code",
      "metadata": {
        "id": "D5Cnajwnc73B"
      },
      "source": [
        "!cp \"/content/gdrive/My Drive/NLP/utils.py\" \"/content\"\n",
        "\n",
        "import numpy as np\n",
        "import tensorflow as tf\n",
        "\n",
        "import json\n",
        "with open(\"/content/gdrive/My Drive/NLP/Sentiment_train.json\") as f:\n",
        "  train = json.loads(f.read())\n",
        "with open(\"/content/gdrive/My Drive/NLP/Sentiment_val.json\") as f:\n",
        "  val = json.loads(f.read())\n",
        "with open(\"/content/gdrive/My Drive/NLP/Sentiment_test.json\") as f:\n",
        "  test = json.loads(f.read())"
      ],
      "execution_count": null,
      "outputs": []
    },
    {
      "cell_type": "code",
      "metadata": {
        "id": "T7-K8wDgPMKt",
        "outputId": "20ef650f-b30a-4cd8-b5ad-adeda5fc0bc3",
        "colab": {
          "base_uri": "https://localhost:8080/",
          "height": 35
        }
      },
      "source": [
        "print(len(train), len(val), len(test))"
      ],
      "execution_count": null,
      "outputs": [
        {
          "output_type": "stream",
          "text": [
            "50000 10000 10000\n"
          ],
          "name": "stdout"
        }
      ]
    },
    {
      "cell_type": "markdown",
      "metadata": {
        "id": "GHdvwAFpEcpS"
      },
      "source": [
        "# #1. 토크나이징\n",
        "\n",
        "<img src = \"https://github.com/seungyounglim/temporary/blob/master/fig_step1.PNG?raw=true\">"
      ]
    },
    {
      "cell_type": "markdown",
      "metadata": {
        "id": "HiAtd18qhb9t"
      },
      "source": [
        "이번 시간에는 <u>글자(character)</u> 단위의 자연어처리 모델을 만들어보겠습니다.   \n",
        "형태소 분석기 대신, 들어온 인풋을 글자 단위로 쪼개서 리던하는 tokenize 함수를 정의하겠습니다."
      ]
    },
    {
      "cell_type": "code",
      "metadata": {
        "id": "BJ8uFroJgKwi"
      },
      "source": [
        "def tokenize(sent):\n",
        "  white_space_removed = ' '.join(sent.split()) # 공백이 여러 개일 경우 하나로 변경\n",
        "  return [s for s in white_space_removed]"
      ],
      "execution_count": null,
      "outputs": []
    },
    {
      "cell_type": "code",
      "metadata": {
        "id": "8JgGDfu8nkj0",
        "outputId": "6308dd8a-5c3c-4a50-f159-56197861e4d4",
        "colab": {
          "base_uri": "https://localhost:8080/",
          "height": 55
        }
      },
      "source": [
        "print(tokenize(\"이번     시간에는  문자 단위의 딥러닝 모델을 학습해 보겠어요\"))"
      ],
      "execution_count": null,
      "outputs": [
        {
          "output_type": "stream",
          "text": [
            "['이', '번', ' ', '시', '간', '에', '는', ' ', '문', '자', ' ', '단', '위', '의', ' ', '딥', '러', '닝', ' ', '모', '델', '을', ' ', '학', '습', '해', ' ', '보', '겠', '어', '요']\n"
          ],
          "name": "stdout"
        }
      ]
    },
    {
      "cell_type": "markdown",
      "metadata": {
        "id": "CK1JEphdYwyU"
      },
      "source": [
        "# #2. 단어 사전 생성 & 인코딩\n",
        "<img src = \"https://github.com/seungyounglim/temporary/blob/master/fig_step2.PNG?raw=true\">   \n"
      ]
    },
    {
      "cell_type": "markdown",
      "metadata": {
        "id": "Y-cDT132ciHp"
      },
      "source": [
        "### Step 1. 단어사전 만들기\n",
        "- 문자 단위로 단어사전 만들기   \n",
        "\n",
        "\n",
        "<font color = \"red\">[MISSION] train 데이터에 있는 문장들을 tokenizer로 파싱하고, 단어 사전을 만들어보세요</font>\n",
        "\n",
        "\n",
        "HINT:\n",
        "- collections.Counter() 기능을 이용해 어떤 문자들이 등장했는지 트래킹\n",
        "- 단어사전 리스트의 0번째는 [PAD], 1번째는 [UNK] 넣기"
      ]
    },
    {
      "cell_type": "code",
      "metadata": {
        "id": "IisJ8WUwZUV7",
        "outputId": "ea4271cf-0e52-46c6-cdfc-36648e8e5e5c",
        "colab": {
          "base_uri": "https://localhost:8080/",
          "height": 53
        }
      },
      "source": [
        "import collections\n",
        "from tqdm import tqdm\n",
        "tot_tokens = 0\n",
        "char_counter = collections.Counter()\n",
        " \n",
        "# 1. train 데이터의 각각의 문장을 토크나이즈하기\n",
        "# 2. 문장에 있는 각각의 토큰을 char_counter를 이용해 개수 세기\n",
        " \n",
        "\"\"\" Your Code Here \"\"\"\n",
        "for dat in tqdm(train):\n",
        "  sent = dat[1]\n",
        "  tokenized_sent = tokenize(sent)\n",
        "  for char in tokenized_sent:\n",
        "      char_counter[char] += 1\n",
        "\"\"\"-----------------\"\"\""
      ],
      "execution_count": null,
      "outputs": [
        {
          "output_type": "stream",
          "text": [
            "100%|██████████| 50000/50000 [00:00<00:00, 69856.21it/s]\n"
          ],
          "name": "stderr"
        },
        {
          "output_type": "execute_result",
          "data": {
            "application/vnd.google.colaboratory.intrinsic+json": {
              "type": "string"
            },
            "text/plain": [
              "'-----------------'"
            ]
          },
          "metadata": {
            "tags": []
          },
          "execution_count": 7
        }
      ]
    },
    {
      "cell_type": "code",
      "metadata": {
        "id": "iBSfTFCtt9-Z",
        "outputId": "e39daede-4ab4-4350-e4da-5bf1d55a104b",
        "colab": {
          "base_uri": "https://localhost:8080/",
          "height": 215
        }
      },
      "source": [
        "print(\"# of tokens:\", len(char_counter))\n",
        "chars = char_counter.most_common(len(char_counter))\n",
        "chars[:10]"
      ],
      "execution_count": null,
      "outputs": [
        {
          "output_type": "stream",
          "text": [
            "# of tokens: 2341\n"
          ],
          "name": "stdout"
        },
        {
          "output_type": "execute_result",
          "data": {
            "text/plain": [
              "[(' ', 328812),\n",
              " ('.', 80769),\n",
              " ('이', 45704),\n",
              " ('다', 36744),\n",
              " ('는', 30089),\n",
              " ('고', 23561),\n",
              " ('지', 22225),\n",
              " ('화', 21596),\n",
              " ('영', 21276),\n",
              " ('하', 19165)]"
            ]
          },
          "metadata": {
            "tags": []
          },
          "execution_count": 8
        }
      ]
    },
    {
      "cell_type": "code",
      "metadata": {
        "id": "xSdRpNRLafFu",
        "outputId": "1a02a488-d291-475f-ddc3-d45065b1da6f",
        "colab": {
          "base_uri": "https://localhost:8080/",
          "height": 35
        }
      },
      "source": [
        "## vocab_list 라는 이름으로 \"[PAD]\"와 \"[UNK]\"를 포함하여\n",
        "## 학습 데이터에 있는 글자 단위의 토큰을 모두 포함한 단어사전 리스트를 만드세요.\n",
        " \n",
        "\"\"\" Your Code Here \"\"\"\n",
        " \n",
        "vocab_list = [\"[PAD]\", \"[UNK]\"]\n",
        "vocab_list.extend([c[0] for c in chars])\n",
        " \n",
        "\"\"\"-----------------\"\"\"\n",
        " \n",
        "print(\"# Vocabs = {}\".format(len(vocab_list)))"
      ],
      "execution_count": null,
      "outputs": [
        {
          "output_type": "stream",
          "text": [
            "# Vocabs = 2343\n"
          ],
          "name": "stdout"
        }
      ]
    },
    {
      "cell_type": "markdown",
      "metadata": {
        "id": "wAEQ4fj67WVk"
      },
      "source": [
        "이제 위에서 정의한 tokenize 함수를 사용해 train, val, test에 있는 인풋을 토크나이즈하고   \n",
        "그 결과를 각각 Tokenized_train, Tokenized_val, Tokenized_test 리스트에 저장하겠습니다."
      ]
    },
    {
      "cell_type": "code",
      "metadata": {
        "id": "L_ho2wnI7BPd"
      },
      "source": [
        "## Train, Val, Test 데이터에 대해 tokenize진행하기\n",
        "Tokenized_train, Tokenized_val, Tokenized_test = [], [], []\n",
        "\n",
        "for dat in train:\n",
        "  Tokenized_train.append([dat[0], tokenize(dat[1]), dat[2]])\n",
        "for dat in val:\n",
        "  Tokenized_val.append([dat[0], tokenize(dat[1]), dat[2]])\n",
        "for dat in test:\n",
        "  Tokenized_test.append([dat[0], tokenize(dat[1]), dat[2]])"
      ],
      "execution_count": null,
      "outputs": []
    },
    {
      "cell_type": "markdown",
      "metadata": {
        "id": "Oagwd1tvZ_xs"
      },
      "source": [
        "### Step 2. TextEncoder 정의하기"
      ]
    },
    {
      "cell_type": "code",
      "metadata": {
        "id": "JaZkpgi9Eh5a"
      },
      "source": [
        "from utils import TextEncoder\n",
        "text_encoder = TextEncoder(vocab_list)"
      ],
      "execution_count": null,
      "outputs": []
    },
    {
      "cell_type": "code",
      "metadata": {
        "id": "q1odlXGscJ1P",
        "outputId": "15135f26-f3c7-4989-ff4a-a064ff475526",
        "colab": {
          "base_uri": "https://localhost:8080/",
          "height": 53
        }
      },
      "source": [
        "## TEST\n",
        "sentence = \"글자 단위 CNN 모델 만들기\"\n",
        "tokenized_sent = tokenize(sentence)\n",
        "tokenized_id = text_encoder.convert_tokens_to_ids(tokenized_sent)\n",
        "reverse_token = text_encoder.convert_ids_to_tokens(tokenized_id)\n",
        "print(tokenized_id)\n",
        "print(reverse_token)"
      ],
      "execution_count": null,
      "outputs": [
        {
          "output_type": "stream",
          "text": [
            "[347, 60, 2, 190, 197, 2, 469, 833, 833, 2, 104, 1007, 2, 22, 34, 17]\n",
            "['글', '자', ' ', '단', '위', ' ', 'C', 'N', 'N', ' ', '모', '델', ' ', '만', '들', '기']\n"
          ],
          "name": "stdout"
        }
      ]
    },
    {
      "cell_type": "markdown",
      "metadata": {
        "id": "0FWOotFGaEKi"
      },
      "source": [
        "### Step 3. 모델 인풋 만들기\n",
        "이번에는 감성분석 태스크 수행을 위한 모델 인풋을 준비해야겠지요?   \n",
        "RNN 실습에서 했던 것과 마찬가지로 \n",
        "1. 인풋 자연어 토큰을 정수 인덱스로 변환(@text_encoder.convert_tokens_to_ids)\n",
        "2. 정답 라벨을 정수 인덱스로 변환 -> 라벨 매핑 사전 필요\n",
        "3. 배치 처리를 위해 패딩 & numpy array로 변환   \n",
        "을 수행하면 됩니다.\n",
        "\n",
        "우리는 이 기능을 수행할 수 있는 create_cls_feature 함수를 정의했었기 때문에 이를 그대로 활용하겠습니다.    \n",
        "다만, 글자 단위의 분석인만큼 길이가 길어질 수 있다는 점을 감안해여 max_seq_len을 150으로 설정하겠습니다.\n"
      ]
    },
    {
      "cell_type": "code",
      "metadata": {
        "id": "bejX1mKUvFUl",
        "outputId": "cf64e646-e672-448c-f079-cb6c6004936e",
        "colab": {
          "base_uri": "https://localhost:8080/",
          "height": 179
        }
      },
      "source": [
        "MAX_LEN = 150\n",
        "\n",
        "from utils import create_cls_feature\n",
        "# TRAIN\n",
        "train_ids, train_labels, label_map = create_cls_feature(Tokenized_train, text_encoder, max_seq_len=MAX_LEN, label_map = None)\n",
        "# VAL\n",
        "val_ids, val_labels, _ = create_cls_feature(Tokenized_val, text_encoder, max_seq_len=MAX_LEN, label_map = label_map)\n",
        "# TEST\n",
        "test_ids, test_labels, _ = create_cls_feature(Tokenized_test, text_encoder, max_seq_len=MAX_LEN, label_map = label_map)"
      ],
      "execution_count": null,
      "outputs": [
        {
          "output_type": "stream",
          "text": [
            "Sentence with length = 0... continue ['5942978', [], '부정']\n",
            "** 49999 examples processed\n",
            "** Start creating features using label map\n",
            "{'긍정': 0, '부정': 1}\n",
            "Sentence with length = 0... continue ['2172111', [], '긍정']\n",
            "** 9999 examples processed\n",
            "** Start creating features using label map\n",
            "{'긍정': 0, '부정': 1}\n",
            "** 10000 examples processed\n"
          ],
          "name": "stdout"
        }
      ]
    },
    {
      "cell_type": "markdown",
      "metadata": {
        "id": "LhcHsul1IHxj"
      },
      "source": [
        "# #3. 모델 만들기\n",
        "<img src = \"https://github.com/seungyounglim/temporary/blob/master/fig_step3+4.PNG?raw=true\">"
      ]
    },
    {
      "cell_type": "markdown",
      "metadata": {
        "id": "39iPCdwGTjzk"
      },
      "source": [
        "<font color=\"red\">MISSION :   \n",
        "Model Summary(plot)를 보고 직접 모델을 만들어 보세요.   \n",
        "</font>\n",
        "- Embedding_dim = 32\n",
        "- cnn_filters = [3, 4, 5, 6]\n",
        "- num_feature_map = 64   \n",
        "------------------------------------------ \n",
        "HINT\n",
        "- tensor들 concatenate 하기: tf.keras.layers.concatenate\n",
        "- 1일차 강의중 0-2 언어지능 실무 과정을 위한 준비운동에서 2. tf.keras.Model 사용하기 부분을 참고하세요 :)"
      ]
    },
    {
      "cell_type": "code",
      "metadata": {
        "id": "mZ7JZpmsEyqC",
        "outputId": "226c08c3-b82a-410d-870a-0feb2ee20b5c",
        "colab": {
          "base_uri": "https://localhost:8080/",
          "height": 240
        }
      },
      "source": [
        "# Char_CNN = tf.keras.Model(inputs=input_, outputs = labels)\n",
        "# tf.keras.utils.plot_model(\n",
        "#     Char_CNN, to_file='model.png', show_shapes=True)"
      ],
      "execution_count": null,
      "outputs": [
        {
          "output_type": "execute_result",
          "data": {
            "image/png": "[encoded data removed]",
            "text/plain": [
              "<IPython.core.display.Image object>"
            ]
          },
          "metadata": {
            "tags": []
          },
          "execution_count": 20
        }
      ]
    },
    {
      "cell_type": "code",
      "metadata": {
        "id": "0U6l2t4vyRS2",
        "outputId": "539e5541-d74e-4cf4-8f58-e451b2ae9045",
        "colab": {
          "base_uri": "https://localhost:8080/",
          "height": 305
        }
      },
      "source": [
        "import tensorflow as tf\n",
        "from tensorflow.keras import layers\n",
        "from tensorflow.keras import Sequential\n",
        "from tensorflow.keras.layers import Input, Embedding, Conv1D, GlobalMaxPooling1D, Dense\n",
        " \n",
        "tf.keras.backend.clear_session()\n",
        " \n",
        "vocab_size = text_encoder.vocab_size # 단어사전 개수\n",
        "embedding_dim = 32 # 임베딩 차원\n",
        "cnn_filters = [3,4,5,6]\n",
        "num_feature_map = 64\n",
        " \n",
        " \n",
        " \n",
        "\"\"\" Character embedding 적용 \"\"\"\n",
        "## [★CODE 1★] Input Layer 정의하기 (Hint: tf.keras.layers.Input)\n",
        "input_ = tf.keras.layers.Input(shape=(None,))\n",
        " \n",
        "## [★CODE 2★] Input Layer에 Embedding Layer 연결하기\n",
        "x =  Embedding(vocab_size, embedding_dim, mask_zero = True)(input_)\n",
        "print(\"shape after embedding:\", x.shape, \"\\n\")\n",
        " \n",
        "\"\"\" CNN filter 적용하기 \"\"\"\n",
        "## [★CODE 3★] 임베딩된 벡터에 CNN 필터 [3,4,5,6]을 각각 적용하고 MaxPooling을 적용하기\n",
        "result_cnns = []\n",
        "for i, kernel in enumerate(cnn_filters):\n",
        "  print(\"Apply CNN filter {}\".format(kernel))\n",
        "  temp = Conv1D(filters = num_feature_map,\n",
        "                    kernel_size = kernel, activation='relu')(x)\n",
        "  print(\".. shape after Convolution:\", temp.shape)\n",
        "  temp = GlobalMaxPooling1D()(temp)\n",
        "  print(\".. shape after Max Pooling:\", temp.shape)\n",
        "  result_cnns.append(temp)\n",
        " \n",
        "## [★CODE 4★] 만들어진 feature map들을 concatenate하기\n",
        "## Quiz)) 이 결과나오는 차원 수는? -> 4(필터종류) x 64(필터개수) = 256차원\n",
        "x = tf.keras.layers.concatenate(result_cnns, axis=-1)\n",
        "print(\"\\nshape after concat   :\", x.shape)\n",
        " \n",
        "\"\"\" 긍정/부정 분류하는 FCN 연결하기 \"\"\"\n",
        "## [★CODE 5★] Dense layer를 이용해 긍정/부정 카테고리에 해당하는 점수 만들기\n",
        "labels = Dense(2, activation=\"softmax\")(x)"
      ],
      "execution_count": null,
      "outputs": [
        {
          "output_type": "stream",
          "text": [
            "shape after embedding: (None, None, 32) \n",
            "\n",
            "Apply CNN filter 3\n",
            ".. shape after Convolution: (None, None, 64)\n",
            ".. shape after Max Pooling: (None, 64)\n",
            "Apply CNN filter 4\n",
            ".. shape after Convolution: (None, None, 64)\n",
            ".. shape after Max Pooling: (None, 64)\n",
            "Apply CNN filter 5\n",
            ".. shape after Convolution: (None, None, 64)\n",
            ".. shape after Max Pooling: (None, 64)\n",
            "Apply CNN filter 6\n",
            ".. shape after Convolution: (None, None, 64)\n",
            ".. shape after Max Pooling: (None, 64)\n",
            "\n",
            "shape after concat   : (None, 256)\n"
          ],
          "name": "stdout"
        }
      ]
    },
    {
      "cell_type": "markdown",
      "metadata": {
        "id": "ThjdBCk2hNXe"
      },
      "source": [
        "\n",
        "모델 구조를 선언한 후    \n",
        "tf.keras.utils.plot_model( model , to_file='model.png', show_shapes=True)    \n",
        "함수를 이용해 예시로 주어진 모델과 구조가 같은지 확인해보세요.\n",
        "\n",
        "<font color=\"red\">MISSION :   \n",
        "tf.keras.Model을 사용해서 input layer부터 final output까지 연결하기   \n",
        "</font>  "
      ]
    },
    {
      "cell_type": "code",
      "metadata": {
        "id": "nhJzK0rxhlNm"
      },
      "source": [
        "\"\"\" Your Code Here \"\"\"\n",
        "Char_CNN = tf.keras.Model(inputs=input_, outputs = labels)\n",
        "tf.keras.utils.plot_model( model , to_file='model.png', show_shapes=True)\n"
      ],
      "execution_count": null,
      "outputs": []
    },
    {
      "cell_type": "markdown",
      "metadata": {
        "id": "7GXrD_dTdTa_"
      },
      "source": [
        "# #4. 모델 훈련하기"
      ]
    },
    {
      "cell_type": "markdown",
      "metadata": {
        "id": "IPp_wZ2ddaMG"
      },
      "source": [
        "#### 4-1) <b>model.compile()</b>을 통해 loss, optimizer 지정\n",
        "<font color=\"red\">MISSION : 적절한 loss와 optimizer를 지정하고, metric으로 \"accuracy\"를 측정하도록 모델을 컴파일하세요\n",
        "</font>"
      ]
    },
    {
      "cell_type": "code",
      "metadata": {
        "id": "pZjs9g-Rhtf9"
      },
      "source": [
        "\"\"\" Your Code Here \"\"\"\n",
        "Char_CNN.compile(loss='sparse_categorical_crossentropy', optimizer='adam', metrics=['accuracy'])"
      ],
      "execution_count": null,
      "outputs": []
    },
    {
      "cell_type": "markdown",
      "metadata": {
        "id": "9wQWmz8Xdi89"
      },
      "source": [
        "#### 4-2) model.fit()을 통해 모델 훈련\n",
        "\n",
        "<font color=\"red\">MISSION : EarlyStopping Callback을 정의하고, 모델을 학습시켜보세요. 학습 로그는 history라는 이름으로 저장하세요.</font>\n",
        "- epochs = 5\n",
        "- batch_size = 100\n"
      ]
    },
    {
      "cell_type": "code",
      "metadata": {
        "id": "R6jyqi5cdjJB",
        "outputId": "c11c9dcc-9d21-41b8-fdd6-ae5feb4d1b09",
        "colab": {
          "base_uri": "https://localhost:8080/",
          "height": 197
        }
      },
      "source": [
        "## [★CODE 1★] Early Stopping Callback 정의하기\n",
        "callback = tf.keras.callbacks.EarlyStopping( monitor='val_loss', patience=1)\n",
        " \n",
        "## [★CODE 2★] 모델 학습하기\n",
        "num_epochs = 5\n",
        "history = Char_CNN.fit(train_ids, train_labels,\n",
        "                       epochs=num_epochs, batch_size=100,\n",
        "                    validation_data=(val_ids, val_labels), callbacks=[callback])"
      ],
      "execution_count": null,
      "outputs": [
        {
          "output_type": "stream",
          "text": [
            "Epoch 1/5\n",
            "500/500 [==============================] - 4s 9ms/step - loss: 0.4806 - accuracy: 0.7662 - val_loss: 0.4094 - val_accuracy: 0.8144\n",
            "Epoch 2/5\n",
            "500/500 [==============================] - 3s 6ms/step - loss: 0.3734 - accuracy: 0.8357 - val_loss: 0.3831 - val_accuracy: 0.8286\n",
            "Epoch 3/5\n",
            "500/500 [==============================] - 3s 6ms/step - loss: 0.3287 - accuracy: 0.8599 - val_loss: 0.3726 - val_accuracy: 0.8333\n",
            "Epoch 4/5\n",
            "500/500 [==============================] - 3s 6ms/step - loss: 0.2911 - accuracy: 0.8802 - val_loss: 0.3677 - val_accuracy: 0.8383\n",
            "Epoch 5/5\n",
            "500/500 [==============================] - 3s 6ms/step - loss: 0.2577 - accuracy: 0.8969 - val_loss: 0.3721 - val_accuracy: 0.8414\n"
          ],
          "name": "stdout"
        }
      ]
    },
    {
      "cell_type": "markdown",
      "metadata": {
        "id": "BeUbG50UnxDo"
      },
      "source": [
        "👉 CNN을 사용한 모델은 한 epoch가 4초만에 휘리릭 학습되는 것을 볼 수 있습니다!    \n",
        "👉 Character 임베딩을 했기 때문에 파라미터 개수가 적을 뿐만 아니라 CNN이 아주 빠른 모델이기 때문입니다.   \n",
        "👉 Validation 정확도 역시 약 83~84%로, RNN 계열의 모델보다도 높게 나왔습니다. \n"
      ]
    },
    {
      "cell_type": "markdown",
      "metadata": {
        "id": "42MnPFs9O3Fr"
      },
      "source": [
        "#### 4-3) 훈련 결과 진단하기"
      ]
    },
    {
      "cell_type": "code",
      "metadata": {
        "id": "rtaGxpJa4SmM",
        "outputId": "13d13d52-e986-4a2c-fb07-d549e0bddf33",
        "colab": {
          "base_uri": "https://localhost:8080/",
          "height": 541
        }
      },
      "source": [
        "import matplotlib.pyplot as plt\n",
        "\n",
        "def plot_graphs(history, string):\n",
        "  plt.plot(history.history[string])\n",
        "  plt.plot(history.history['val_'+string])\n",
        "  plt.xlabel(\"Epochs\")\n",
        "  plt.ylabel(string)\n",
        "  plt.legend([string, 'val_'+string])\n",
        "  plt.show()\n",
        "  \n",
        "plot_graphs(history, \"accuracy\")\n",
        "plot_graphs(history, \"loss\")"
      ],
      "execution_count": null,
      "outputs": [
        {
          "output_type": "display_data",
          "data": {
            "image/png": "[encoded data removed]",
            "text/plain": [
              "<Figure size 432x288 with 1 Axes>"
            ]
          },
          "metadata": {
            "tags": [],
            "needs_background": "light"
          }
        },
        {
          "output_type": "display_data",
          "data": {
            "image/png": "[encoded data removed]",
            "text/plain": [
              "<Figure size 432x288 with 1 Axes>"
            ]
          },
          "metadata": {
            "tags": [],
            "needs_background": "light"
          }
        }
      ]
    },
    {
      "cell_type": "markdown",
      "metadata": {
        "id": "Di98HV70jUo1"
      },
      "source": [
        "<font color=\"red\">MISSION : Model.evaluate 함수를 통해 테스트 데이터에서의 정확도를 평가해보세요</font>"
      ]
    },
    {
      "cell_type": "code",
      "metadata": {
        "id": "5avxIB0GVQpD",
        "outputId": "5c369b59-7e9d-41ac-a8fd-635df311da83",
        "colab": {
          "base_uri": "https://localhost:8080/",
          "height": 53
        }
      },
      "source": [
        "\"\"\" Your Code Here \"\"\"\n",
        "\t\n",
        "Char_CNN.evaluate(test_ids, test_labels)"
      ],
      "execution_count": null,
      "outputs": [
        {
          "output_type": "stream",
          "text": [
            "313/313 [==============================] - 1s 2ms/step - loss: 0.3787 - accuracy: 0.8391\n"
          ],
          "name": "stdout"
        },
        {
          "output_type": "execute_result",
          "data": {
            "text/plain": [
              "[0.3786810636520386, 0.8391000032424927]"
            ]
          },
          "metadata": {
            "tags": []
          },
          "execution_count": 29
        }
      ]
    },
    {
      "cell_type": "markdown",
      "metadata": {
        "id": "13AeKZe8JdIn"
      },
      "source": [
        "# #5. Inference 실행하기"
      ]
    },
    {
      "cell_type": "code",
      "metadata": {
        "id": "SxopYLQtIkw1"
      },
      "source": [
        "\"\"\" 훈련된 모델로 다시 예측해보기 \"\"\"\n",
        "\n",
        "def inference(mymodel, sentence, cnn_filters):\n",
        "  # 1. tokenizer로 문장 파싱\n",
        "  parsed_sent = tokenize(sentence)\n",
        "\n",
        "  # 2. vocab_dict를 이용해 인덱스로 변환\n",
        "  input_id = text_encoder.convert_tokens_to_ids(parsed_sent)\n",
        "\n",
        "  input_id = [input_id]\n",
        "  score = mymodel.predict(input_id) \n",
        "\n",
        "  print(\"** INPUT:\", sentence)\n",
        "  print(\"   -> 긍정: {:.2f} / 부정: {:.2f}\".format(score[0][0],score[0][1]))"
      ],
      "execution_count": null,
      "outputs": []
    },
    {
      "cell_type": "code",
      "metadata": {
        "id": "eElHkLjN8v4R",
        "outputId": "8322dc55-53a3-40db-9910-7a1fe8c0246e",
        "colab": {
          "base_uri": "https://localhost:8080/",
          "height": 53
        }
      },
      "source": [
        "## Char_CNN은 제가 만든 모델 이름입니다.\n",
        "## 여러분께서 만드신 모델 이름으로 바꿔서 추론을 진행해보세요!\n",
        "\n",
        "inference(Char_CNN, \"오프닝은 진짜 거지같다 생각했는데 끝으로 갈수록 손에 땀을 쥐며 봤네요\", cnn_filters)"
      ],
      "execution_count": null,
      "outputs": [
        {
          "output_type": "stream",
          "text": [
            "** INPUT: 오프닝은 진짜 거지같다 생각했는데 끝으로 갈수록 손에 땀을 쥐며 봤네요\n",
            "   -> 긍정: 0.86 / 부정: 0.14\n"
          ],
          "name": "stdout"
        }
      ]
    },
    {
      "cell_type": "code",
      "metadata": {
        "id": "dt6QeyHR8zTA",
        "outputId": "af1f357e-8f88-4c19-d978-dfe551bb0a83",
        "colab": {
          "base_uri": "https://localhost:8080/",
          "height": 430
        }
      },
      "source": [
        "inference(Char_CNN, \"ㅋ...\", cnn_filters)"
      ],
      "execution_count": null,
      "outputs": [
        {
          "output_type": "error",
          "ename": "InvalidArgumentError",
          "evalue": "ignored",
          "traceback": [
            "\u001b[0;31m---------------------------------------------------------------------------\u001b[0m",
            "\u001b[0;31mInvalidArgumentError\u001b[0m                      Traceback (most recent call last)",
            "\u001b[0;32m<ipython-input-35-5e33b0bea8cb>\u001b[0m in \u001b[0;36m<module>\u001b[0;34m()\u001b[0m\n\u001b[0;32m----> 1\u001b[0;31m \u001b[0minference\u001b[0m\u001b[0;34m(\u001b[0m\u001b[0mChar_CNN\u001b[0m\u001b[0;34m,\u001b[0m \u001b[0;34m\"....\"\u001b[0m\u001b[0;34m,\u001b[0m \u001b[0mcnn_filters\u001b[0m\u001b[0;34m)\u001b[0m\u001b[0;34m\u001b[0m\u001b[0;34m\u001b[0m\u001b[0m\n\u001b[0m",
            "\u001b[0;32m<ipython-input-33-5620276e1c58>\u001b[0m in \u001b[0;36minference\u001b[0;34m(mymodel, sentence, cnn_filters)\u001b[0m\n\u001b[1;32m      9\u001b[0m \u001b[0;34m\u001b[0m\u001b[0m\n\u001b[1;32m     10\u001b[0m   \u001b[0minput_id\u001b[0m \u001b[0;34m=\u001b[0m \u001b[0;34m[\u001b[0m\u001b[0minput_id\u001b[0m\u001b[0;34m]\u001b[0m\u001b[0;34m\u001b[0m\u001b[0;34m\u001b[0m\u001b[0m\n\u001b[0;32m---> 11\u001b[0;31m   \u001b[0mscore\u001b[0m \u001b[0;34m=\u001b[0m \u001b[0mmymodel\u001b[0m\u001b[0;34m.\u001b[0m\u001b[0mpredict\u001b[0m\u001b[0;34m(\u001b[0m\u001b[0minput_id\u001b[0m\u001b[0;34m)\u001b[0m\u001b[0;34m\u001b[0m\u001b[0;34m\u001b[0m\u001b[0m\n\u001b[0m\u001b[1;32m     12\u001b[0m \u001b[0;34m\u001b[0m\u001b[0m\n\u001b[1;32m     13\u001b[0m   \u001b[0mprint\u001b[0m\u001b[0;34m(\u001b[0m\u001b[0;34m\"** INPUT:\"\u001b[0m\u001b[0;34m,\u001b[0m \u001b[0msentence\u001b[0m\u001b[0;34m)\u001b[0m\u001b[0;34m\u001b[0m\u001b[0;34m\u001b[0m\u001b[0m\n",
            "\u001b[0;32m/usr/local/lib/python3.6/dist-packages/tensorflow/python/keras/engine/training.py\u001b[0m in \u001b[0;36m_method_wrapper\u001b[0;34m(self, *args, **kwargs)\u001b[0m\n\u001b[1;32m    128\u001b[0m       raise ValueError('{} is not supported in multi-worker mode.'.format(\n\u001b[1;32m    129\u001b[0m           method.__name__))\n\u001b[0;32m--> 130\u001b[0;31m     \u001b[0;32mreturn\u001b[0m \u001b[0mmethod\u001b[0m\u001b[0;34m(\u001b[0m\u001b[0mself\u001b[0m\u001b[0;34m,\u001b[0m \u001b[0;34m*\u001b[0m\u001b[0margs\u001b[0m\u001b[0;34m,\u001b[0m \u001b[0;34m**\u001b[0m\u001b[0mkwargs\u001b[0m\u001b[0;34m)\u001b[0m\u001b[0;34m\u001b[0m\u001b[0;34m\u001b[0m\u001b[0m\n\u001b[0m\u001b[1;32m    131\u001b[0m \u001b[0;34m\u001b[0m\u001b[0m\n\u001b[1;32m    132\u001b[0m   return tf_decorator.make_decorator(\n",
            "\u001b[0;32m/usr/local/lib/python3.6/dist-packages/tensorflow/python/keras/engine/training.py\u001b[0m in \u001b[0;36mpredict\u001b[0;34m(self, x, batch_size, verbose, steps, callbacks, max_queue_size, workers, use_multiprocessing)\u001b[0m\n\u001b[1;32m   1597\u001b[0m           \u001b[0;32mfor\u001b[0m \u001b[0mstep\u001b[0m \u001b[0;32min\u001b[0m \u001b[0mdata_handler\u001b[0m\u001b[0;34m.\u001b[0m\u001b[0msteps\u001b[0m\u001b[0;34m(\u001b[0m\u001b[0;34m)\u001b[0m\u001b[0;34m:\u001b[0m\u001b[0;34m\u001b[0m\u001b[0;34m\u001b[0m\u001b[0m\n\u001b[1;32m   1598\u001b[0m             \u001b[0mcallbacks\u001b[0m\u001b[0;34m.\u001b[0m\u001b[0mon_predict_batch_begin\u001b[0m\u001b[0;34m(\u001b[0m\u001b[0mstep\u001b[0m\u001b[0;34m)\u001b[0m\u001b[0;34m\u001b[0m\u001b[0;34m\u001b[0m\u001b[0m\n\u001b[0;32m-> 1599\u001b[0;31m             \u001b[0mtmp_batch_outputs\u001b[0m \u001b[0;34m=\u001b[0m \u001b[0mpredict_function\u001b[0m\u001b[0;34m(\u001b[0m\u001b[0miterator\u001b[0m\u001b[0;34m)\u001b[0m\u001b[0;34m\u001b[0m\u001b[0;34m\u001b[0m\u001b[0m\n\u001b[0m\u001b[1;32m   1600\u001b[0m             \u001b[0;32mif\u001b[0m \u001b[0mdata_handler\u001b[0m\u001b[0;34m.\u001b[0m\u001b[0mshould_sync\u001b[0m\u001b[0;34m:\u001b[0m\u001b[0;34m\u001b[0m\u001b[0;34m\u001b[0m\u001b[0m\n\u001b[1;32m   1601\u001b[0m               \u001b[0mcontext\u001b[0m\u001b[0;34m.\u001b[0m\u001b[0masync_wait\u001b[0m\u001b[0;34m(\u001b[0m\u001b[0;34m)\u001b[0m\u001b[0;34m\u001b[0m\u001b[0;34m\u001b[0m\u001b[0m\n",
            "\u001b[0;32m/usr/local/lib/python3.6/dist-packages/tensorflow/python/eager/def_function.py\u001b[0m in \u001b[0;36m__call__\u001b[0;34m(self, *args, **kwds)\u001b[0m\n\u001b[1;32m    778\u001b[0m       \u001b[0;32melse\u001b[0m\u001b[0;34m:\u001b[0m\u001b[0;34m\u001b[0m\u001b[0;34m\u001b[0m\u001b[0m\n\u001b[1;32m    779\u001b[0m         \u001b[0mcompiler\u001b[0m \u001b[0;34m=\u001b[0m \u001b[0;34m\"nonXla\"\u001b[0m\u001b[0;34m\u001b[0m\u001b[0;34m\u001b[0m\u001b[0m\n\u001b[0;32m--> 780\u001b[0;31m         \u001b[0mresult\u001b[0m \u001b[0;34m=\u001b[0m \u001b[0mself\u001b[0m\u001b[0;34m.\u001b[0m\u001b[0m_call\u001b[0m\u001b[0;34m(\u001b[0m\u001b[0;34m*\u001b[0m\u001b[0margs\u001b[0m\u001b[0;34m,\u001b[0m \u001b[0;34m**\u001b[0m\u001b[0mkwds\u001b[0m\u001b[0;34m)\u001b[0m\u001b[0;34m\u001b[0m\u001b[0;34m\u001b[0m\u001b[0m\n\u001b[0m\u001b[1;32m    781\u001b[0m \u001b[0;34m\u001b[0m\u001b[0m\n\u001b[1;32m    782\u001b[0m       \u001b[0mnew_tracing_count\u001b[0m \u001b[0;34m=\u001b[0m \u001b[0mself\u001b[0m\u001b[0;34m.\u001b[0m\u001b[0m_get_tracing_count\u001b[0m\u001b[0;34m(\u001b[0m\u001b[0;34m)\u001b[0m\u001b[0;34m\u001b[0m\u001b[0;34m\u001b[0m\u001b[0m\n",
            "\u001b[0;32m/usr/local/lib/python3.6/dist-packages/tensorflow/python/eager/def_function.py\u001b[0m in \u001b[0;36m_call\u001b[0;34m(self, *args, **kwds)\u001b[0m\n\u001b[1;32m    812\u001b[0m       \u001b[0;31m# In this case we have not created variables on the first call. So we can\u001b[0m\u001b[0;34m\u001b[0m\u001b[0;34m\u001b[0m\u001b[0;34m\u001b[0m\u001b[0m\n\u001b[1;32m    813\u001b[0m       \u001b[0;31m# run the first trace but we should fail if variables are created.\u001b[0m\u001b[0;34m\u001b[0m\u001b[0;34m\u001b[0m\u001b[0;34m\u001b[0m\u001b[0m\n\u001b[0;32m--> 814\u001b[0;31m       \u001b[0mresults\u001b[0m \u001b[0;34m=\u001b[0m \u001b[0mself\u001b[0m\u001b[0;34m.\u001b[0m\u001b[0m_stateful_fn\u001b[0m\u001b[0;34m(\u001b[0m\u001b[0;34m*\u001b[0m\u001b[0margs\u001b[0m\u001b[0;34m,\u001b[0m \u001b[0;34m**\u001b[0m\u001b[0mkwds\u001b[0m\u001b[0;34m)\u001b[0m\u001b[0;34m\u001b[0m\u001b[0;34m\u001b[0m\u001b[0m\n\u001b[0m\u001b[1;32m    815\u001b[0m       \u001b[0;32mif\u001b[0m \u001b[0mself\u001b[0m\u001b[0;34m.\u001b[0m\u001b[0m_created_variables\u001b[0m\u001b[0;34m:\u001b[0m\u001b[0;34m\u001b[0m\u001b[0;34m\u001b[0m\u001b[0m\n\u001b[1;32m    816\u001b[0m         raise ValueError(\"Creating variables on a non-first call to a function\"\n",
            "\u001b[0;32m/usr/local/lib/python3.6/dist-packages/tensorflow/python/eager/function.py\u001b[0m in \u001b[0;36m__call__\u001b[0;34m(self, *args, **kwargs)\u001b[0m\n\u001b[1;32m   2827\u001b[0m     \u001b[0;32mwith\u001b[0m \u001b[0mself\u001b[0m\u001b[0;34m.\u001b[0m\u001b[0m_lock\u001b[0m\u001b[0;34m:\u001b[0m\u001b[0;34m\u001b[0m\u001b[0;34m\u001b[0m\u001b[0m\n\u001b[1;32m   2828\u001b[0m       \u001b[0mgraph_function\u001b[0m\u001b[0;34m,\u001b[0m \u001b[0margs\u001b[0m\u001b[0;34m,\u001b[0m \u001b[0mkwargs\u001b[0m \u001b[0;34m=\u001b[0m \u001b[0mself\u001b[0m\u001b[0;34m.\u001b[0m\u001b[0m_maybe_define_function\u001b[0m\u001b[0;34m(\u001b[0m\u001b[0margs\u001b[0m\u001b[0;34m,\u001b[0m \u001b[0mkwargs\u001b[0m\u001b[0;34m)\u001b[0m\u001b[0;34m\u001b[0m\u001b[0;34m\u001b[0m\u001b[0m\n\u001b[0;32m-> 2829\u001b[0;31m     \u001b[0;32mreturn\u001b[0m \u001b[0mgraph_function\u001b[0m\u001b[0;34m.\u001b[0m\u001b[0m_filtered_call\u001b[0m\u001b[0;34m(\u001b[0m\u001b[0margs\u001b[0m\u001b[0;34m,\u001b[0m \u001b[0mkwargs\u001b[0m\u001b[0;34m)\u001b[0m  \u001b[0;31m# pylint: disable=protected-access\u001b[0m\u001b[0;34m\u001b[0m\u001b[0;34m\u001b[0m\u001b[0m\n\u001b[0m\u001b[1;32m   2830\u001b[0m \u001b[0;34m\u001b[0m\u001b[0m\n\u001b[1;32m   2831\u001b[0m   \u001b[0;34m@\u001b[0m\u001b[0mproperty\u001b[0m\u001b[0;34m\u001b[0m\u001b[0;34m\u001b[0m\u001b[0m\n",
            "\u001b[0;32m/usr/local/lib/python3.6/dist-packages/tensorflow/python/eager/function.py\u001b[0m in \u001b[0;36m_filtered_call\u001b[0;34m(self, args, kwargs, cancellation_manager)\u001b[0m\n\u001b[1;32m   1846\u001b[0m                            resource_variable_ops.BaseResourceVariable))],\n\u001b[1;32m   1847\u001b[0m         \u001b[0mcaptured_inputs\u001b[0m\u001b[0;34m=\u001b[0m\u001b[0mself\u001b[0m\u001b[0;34m.\u001b[0m\u001b[0mcaptured_inputs\u001b[0m\u001b[0;34m,\u001b[0m\u001b[0;34m\u001b[0m\u001b[0;34m\u001b[0m\u001b[0m\n\u001b[0;32m-> 1848\u001b[0;31m         cancellation_manager=cancellation_manager)\n\u001b[0m\u001b[1;32m   1849\u001b[0m \u001b[0;34m\u001b[0m\u001b[0m\n\u001b[1;32m   1850\u001b[0m   \u001b[0;32mdef\u001b[0m \u001b[0m_call_flat\u001b[0m\u001b[0;34m(\u001b[0m\u001b[0mself\u001b[0m\u001b[0;34m,\u001b[0m \u001b[0margs\u001b[0m\u001b[0;34m,\u001b[0m \u001b[0mcaptured_inputs\u001b[0m\u001b[0;34m,\u001b[0m \u001b[0mcancellation_manager\u001b[0m\u001b[0;34m=\u001b[0m\u001b[0;32mNone\u001b[0m\u001b[0;34m)\u001b[0m\u001b[0;34m:\u001b[0m\u001b[0;34m\u001b[0m\u001b[0;34m\u001b[0m\u001b[0m\n",
            "\u001b[0;32m/usr/local/lib/python3.6/dist-packages/tensorflow/python/eager/function.py\u001b[0m in \u001b[0;36m_call_flat\u001b[0;34m(self, args, captured_inputs, cancellation_manager)\u001b[0m\n\u001b[1;32m   1922\u001b[0m       \u001b[0;31m# No tape is watching; skip to running the function.\u001b[0m\u001b[0;34m\u001b[0m\u001b[0;34m\u001b[0m\u001b[0;34m\u001b[0m\u001b[0m\n\u001b[1;32m   1923\u001b[0m       return self._build_call_outputs(self._inference_function.call(\n\u001b[0;32m-> 1924\u001b[0;31m           ctx, args, cancellation_manager=cancellation_manager))\n\u001b[0m\u001b[1;32m   1925\u001b[0m     forward_backward = self._select_forward_and_backward_functions(\n\u001b[1;32m   1926\u001b[0m         \u001b[0margs\u001b[0m\u001b[0;34m,\u001b[0m\u001b[0;34m\u001b[0m\u001b[0;34m\u001b[0m\u001b[0m\n",
            "\u001b[0;32m/usr/local/lib/python3.6/dist-packages/tensorflow/python/eager/function.py\u001b[0m in \u001b[0;36mcall\u001b[0;34m(self, ctx, args, cancellation_manager)\u001b[0m\n\u001b[1;32m    548\u001b[0m               \u001b[0minputs\u001b[0m\u001b[0;34m=\u001b[0m\u001b[0margs\u001b[0m\u001b[0;34m,\u001b[0m\u001b[0;34m\u001b[0m\u001b[0;34m\u001b[0m\u001b[0m\n\u001b[1;32m    549\u001b[0m               \u001b[0mattrs\u001b[0m\u001b[0;34m=\u001b[0m\u001b[0mattrs\u001b[0m\u001b[0;34m,\u001b[0m\u001b[0;34m\u001b[0m\u001b[0;34m\u001b[0m\u001b[0m\n\u001b[0;32m--> 550\u001b[0;31m               ctx=ctx)\n\u001b[0m\u001b[1;32m    551\u001b[0m         \u001b[0;32melse\u001b[0m\u001b[0;34m:\u001b[0m\u001b[0;34m\u001b[0m\u001b[0;34m\u001b[0m\u001b[0m\n\u001b[1;32m    552\u001b[0m           outputs = execute.execute_with_cancellation(\n",
            "\u001b[0;32m/usr/local/lib/python3.6/dist-packages/tensorflow/python/eager/execute.py\u001b[0m in \u001b[0;36mquick_execute\u001b[0;34m(op_name, num_outputs, inputs, attrs, ctx, name)\u001b[0m\n\u001b[1;32m     58\u001b[0m     \u001b[0mctx\u001b[0m\u001b[0;34m.\u001b[0m\u001b[0mensure_initialized\u001b[0m\u001b[0;34m(\u001b[0m\u001b[0;34m)\u001b[0m\u001b[0;34m\u001b[0m\u001b[0;34m\u001b[0m\u001b[0m\n\u001b[1;32m     59\u001b[0m     tensors = pywrap_tfe.TFE_Py_Execute(ctx._handle, device_name, op_name,\n\u001b[0;32m---> 60\u001b[0;31m                                         inputs, attrs, num_outputs)\n\u001b[0m\u001b[1;32m     61\u001b[0m   \u001b[0;32mexcept\u001b[0m \u001b[0mcore\u001b[0m\u001b[0;34m.\u001b[0m\u001b[0m_NotOkStatusException\u001b[0m \u001b[0;32mas\u001b[0m \u001b[0me\u001b[0m\u001b[0;34m:\u001b[0m\u001b[0;34m\u001b[0m\u001b[0;34m\u001b[0m\u001b[0m\n\u001b[1;32m     62\u001b[0m     \u001b[0;32mif\u001b[0m \u001b[0mname\u001b[0m \u001b[0;32mis\u001b[0m \u001b[0;32mnot\u001b[0m \u001b[0;32mNone\u001b[0m\u001b[0;34m:\u001b[0m\u001b[0;34m\u001b[0m\u001b[0;34m\u001b[0m\u001b[0m\n",
            "\u001b[0;31mInvalidArgumentError\u001b[0m:  Computed output size would be negative: -1 [input_size: 4, effective_filter_size: 6, stride: 1]\n\t [[node functional_1/conv1d_3/conv1d (defined at <ipython-input-33-5620276e1c58>:11) ]] [Op:__inference_predict_function_9025]\n\nFunction call stack:\npredict_function\n"
          ]
        }
      ]
    },
    {
      "cell_type": "markdown",
      "metadata": {
        "id": "gb5q66cSjoqa"
      },
      "source": [
        "👉 \"ㅋ...\"라는 문장에 대해서는 inference 코드에서 에러 메시지가 출력되었습니다.    \n",
        "👉 에러 로그를 보면, Computed output size would be negative: -1 [input_size: 4, effective_filter_size: 6, stride: 1] 라고 나오는데요   \n",
        "\n",
        "👉 우리 모델은 CNN filter로 [3,4,5,6]에 해당하는 커널 사이즈를 사용하고 있습니다.   \n",
        "그런데, 입력된 문장은 길이가 4개밖에 되지 않습니다.   \n",
        "이로 인해 Convolution과 MaxPooling을 하는 과정에서 차원 계산 에러가 발생하는 것입니다.  \n",
        "\n",
        "👉 이러한 에러를 방지하기 위해    \n",
        "\"필터로 사용한 커널 크기의 최대 값보다는 문장 길이가 길어지도록 패딩하는 코드를 추가하여 inference 함수를 다시 정의하겠습니다. "
      ]
    },
    {
      "cell_type": "code",
      "metadata": {
        "id": "0iEvtdFw8ucq"
      },
      "source": [
        "\"\"\" 훈련된 모델로 다시 예측해보기 \"\"\"\n",
        "\n",
        "def inference(mymodel, sentence, cnn_filters):\n",
        "  # 1. tokenizer로 문장 파싱\n",
        "  parsed_sent = tokenize(sentence)\n",
        "\n",
        "  # 2. vocab_dict를 이용해 인덱스로 변환\n",
        "  input_id = text_encoder.convert_tokens_to_ids(parsed_sent)\n",
        "\n",
        "  # 3. 최대 필터 크기보다는 길게 만들기\n",
        "  MIN_SEQ_LEN = max(cnn_filters)\n",
        "  while len(input_id) < MIN_SEQ_LEN:\n",
        "    input_id.append(0)\n",
        "  input_id = [input_id]\n",
        "  score = mymodel.predict(input_id) \n",
        "\n",
        "  print(\"** INPUT:\", sentence)\n",
        "  print(\"   -> 긍정: {:.2f} / 부정: {:.2f}\".format(score[0][0],score[0][1]))"
      ],
      "execution_count": null,
      "outputs": []
    },
    {
      "cell_type": "code",
      "metadata": {
        "id": "4O6RSPfu82sK",
        "outputId": "7094e8b9-9ddd-481e-b1f5-fc531b22528b",
        "colab": {
          "base_uri": "https://localhost:8080/",
          "height": 53
        }
      },
      "source": [
        "inference(Char_CNN, \"ㅋ...\", cnn_filters)"
      ],
      "execution_count": null,
      "outputs": [
        {
          "output_type": "stream",
          "text": [
            "** INPUT: ㅋ...\n",
            "   -> 긍정: 0.27 / 부정: 0.73\n"
          ],
          "name": "stdout"
        }
      ]
    }
  ]
}